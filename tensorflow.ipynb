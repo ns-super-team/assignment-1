{
 "cells": [
  {
   "cell_type": "code",
   "execution_count": 73,
   "metadata": {},
   "outputs": [],
   "source": [
    "import tensorflow as tf\n",
    "import pandas as pd\n",
    "import numpy as np\n",
    "import wandb"
   ]
  },
  {
   "attachments": {},
   "cell_type": "markdown",
   "metadata": {},
   "source": [
    "# Tensorflow"
   ]
  },
  {
   "attachments": {},
   "cell_type": "markdown",
   "metadata": {},
   "source": [
    "#### Config"
   ]
  },
  {
   "cell_type": "code",
   "execution_count": 74,
   "metadata": {},
   "outputs": [],
   "source": [
    "\n",
    "config = {\n",
    "    \"learning_rate\": 1e-2,\n",
    "    \"epochs\": 50,\n",
    "    \"batch_size\": 64,\n",
    "    \"optimizer\": \"Adam\",\n",
    "    \"dropout_rate\": 0.3\n",
    "}"
   ]
  },
  {
   "attachments": {},
   "cell_type": "markdown",
   "metadata": {},
   "source": [
    "### WandB connection"
   ]
  },
  {
   "cell_type": "code",
   "execution_count": null,
   "metadata": {},
   "outputs": [],
   "source": [
    "\n",
    "wandb.login()\n",
    "wandb.init(project=\"assignment-1\", name=\"tensorflow-32-16\", reinit=True, config=config)"
   ]
  },
  {
   "attachments": {},
   "cell_type": "markdown",
   "metadata": {},
   "source": [
    "### Loading the data"
   ]
  },
  {
   "cell_type": "code",
   "execution_count": 76,
   "metadata": {},
   "outputs": [
    {
     "name": "stdout",
     "output_type": "stream",
     "text": [
      "[2.         1.         0.33240056 1.         1.         0.58483976]\n",
      "[1.]\n",
      "\n",
      "[ 3.          0.         -0.67140484  0.          0.         -0.81169564]\n",
      "[0.]\n"
     ]
    }
   ],
   "source": [
    "x_train = pd.read_csv('data/train/data.csv').to_numpy(dtype='float32')\n",
    "y_train = pd.read_csv('data/train/labels.csv').to_numpy(dtype='float32')\n",
    "\n",
    "x_val = pd.read_csv('data/val/data.csv').to_numpy(dtype='float32')\n",
    "y_val = pd.read_csv('data/val/labels.csv').to_numpy(dtype='float32')\n",
    "\n",
    "print(x_train[0])\n",
    "print(y_train[0])\n",
    "print()\n",
    "print(x_val[0])\n",
    "print(y_val[0])"
   ]
  },
  {
   "attachments": {},
   "cell_type": "markdown",
   "metadata": {},
   "source": [
    "### Building a model"
   ]
  },
  {
   "cell_type": "code",
   "execution_count": 77,
   "metadata": {},
   "outputs": [],
   "source": [
    "model = tf.keras.Sequential([\n",
    "    tf.keras.layers.InputLayer(input_shape=(6,)),\n",
    "    tf.keras.layers.Dense(32, activation='relu'),\n",
    "    tf.keras.layers.Dropout(rate=config['dropout_rate']),\n",
    "    tf.keras.layers.Dense(16, activation='relu'),\n",
    "    tf.keras.layers.Dense(1, activation='sigmoid'),    \n",
    "])"
   ]
  },
  {
   "cell_type": "code",
   "execution_count": 78,
   "metadata": {},
   "outputs": [
    {
     "name": "stdout",
     "output_type": "stream",
     "text": [
      "Model: \"sequential_6\"\n",
      "_________________________________________________________________\n",
      " Layer (type)                Output Shape              Param #   \n",
      "=================================================================\n",
      " dense_18 (Dense)            (None, 32)                224       \n",
      "                                                                 \n",
      " dropout_4 (Dropout)         (None, 32)                0         \n",
      "                                                                 \n",
      " dense_19 (Dense)            (None, 16)                528       \n",
      "                                                                 \n",
      " dropout_5 (Dropout)         (None, 16)                0         \n",
      "                                                                 \n",
      " dense_20 (Dense)            (None, 8)                 136       \n",
      "                                                                 \n",
      " dense_21 (Dense)            (None, 1)                 9         \n",
      "                                                                 \n",
      "=================================================================\n",
      "Total params: 897\n",
      "Trainable params: 897\n",
      "Non-trainable params: 0\n",
      "_________________________________________________________________\n"
     ]
    }
   ],
   "source": [
    "model.summary()"
   ]
  },
  {
   "cell_type": "code",
   "execution_count": 79,
   "metadata": {},
   "outputs": [],
   "source": [
    "if config['optimizer'] == 'SGD':\n",
    "    optimizer = tf.keras.optimizers.SGD(learning_rate=config['learning_rate'])\n",
    "elif config['optimizer'] == 'Adam':\n",
    "    optimizer = tf.keras.optimizers.Adam(learning_rate=config['learning_rate'], beta_1=0.9, beta_2=0.99)\n",
    "\n",
    "model.compile(\n",
    "    optimizer=optimizer,\n",
    "    loss='binary_crossentropy',\n",
    "    metrics=['accuracy']\n",
    ")"
   ]
  },
  {
   "cell_type": "code",
   "execution_count": 80,
   "metadata": {},
   "outputs": [],
   "source": [
    "def lr_scheduler(epoch, lr):\n",
    "    if epoch < 10:\n",
    "        return lr\n",
    "    else:\n",
    "        #return 1 / (1 + config['decay_rate'] * epoch) * config['learning_rate']\\n\",\n",
    "        return lr * 0.82\n",
    "\n",
    "scheduler_callback = tf.keras.callbacks.LearningRateScheduler(lr_scheduler)"
   ]
  },
  {
   "attachments": {},
   "cell_type": "markdown",
   "metadata": {},
   "source": [
    "### Training the model"
   ]
  },
  {
   "cell_type": "code",
   "execution_count": 81,
   "metadata": {},
   "outputs": [
    {
     "name": "stdout",
     "output_type": "stream",
     "text": [
      "Epoch 1/50\n",
      " 1/10 [==>...........................] - ETA: 11s - loss: 0.7446 - accuracy: 0.4062WARNING:tensorflow:Callback method `on_train_batch_end` is slow compared to the batch time (batch time: 0.0026s vs `on_train_batch_end` time: 0.0030s). Check your callbacks.\n",
      "INFO:tensorflow:Assets written to: c:\\Users\\filip\\Desktop\\NS\\assignment-1\\wandb\\run-20230330_141912-hna4uem0\\files\\model-best\\assets\n"
     ]
    },
    {
     "name": "stderr",
     "output_type": "stream",
     "text": [
      "\u001b[34m\u001b[1mwandb\u001b[0m: Adding directory to artifact (c:\\Users\\filip\\Desktop\\NS\\assignment-1\\wandb\\run-20230330_141912-hna4uem0\\files\\model-best)... Done. 0.0s\n"
     ]
    },
    {
     "name": "stdout",
     "output_type": "stream",
     "text": [
      "10/10 [==============================] - 5s 376ms/step - loss: 0.6721 - accuracy: 0.5948 - val_loss: 0.6137 - val_accuracy: 0.6604 - lr: 0.0100\n",
      "Epoch 2/50\n",
      " 1/10 [==>...........................] - ETA: 0s - loss: 0.6555 - accuracy: 0.6719INFO:tensorflow:Assets written to: c:\\Users\\filip\\Desktop\\NS\\assignment-1\\wandb\\run-20230330_141912-hna4uem0\\files\\model-best\\assets\n"
     ]
    },
    {
     "name": "stderr",
     "output_type": "stream",
     "text": [
      "\u001b[34m\u001b[1mwandb\u001b[0m: Adding directory to artifact (c:\\Users\\filip\\Desktop\\NS\\assignment-1\\wandb\\run-20230330_141912-hna4uem0\\files\\model-best)... Done. 0.0s\n"
     ]
    },
    {
     "name": "stdout",
     "output_type": "stream",
     "text": [
      "10/10 [==============================] - 3s 337ms/step - loss: 0.6106 - accuracy: 0.6759 - val_loss: 0.5551 - val_accuracy: 0.7245 - lr: 0.0100\n",
      "Epoch 3/50\n",
      " 1/10 [==>...........................] - ETA: 0s - loss: 0.6091 - accuracy: 0.6094INFO:tensorflow:Assets written to: c:\\Users\\filip\\Desktop\\NS\\assignment-1\\wandb\\run-20230330_141912-hna4uem0\\files\\model-best\\assets\n"
     ]
    },
    {
     "name": "stderr",
     "output_type": "stream",
     "text": [
      "\u001b[34m\u001b[1mwandb\u001b[0m: Adding directory to artifact (c:\\Users\\filip\\Desktop\\NS\\assignment-1\\wandb\\run-20230330_141912-hna4uem0\\files\\model-best)... Done. 0.0s\n"
     ]
    },
    {
     "name": "stdout",
     "output_type": "stream",
     "text": [
      "10/10 [==============================] - 3s 298ms/step - loss: 0.5418 - accuracy: 0.7293 - val_loss: 0.4862 - val_accuracy: 0.7698 - lr: 0.0100\n",
      "Epoch 4/50\n",
      " 1/10 [==>...........................] - ETA: 0s - loss: 0.4977 - accuracy: 0.7344INFO:tensorflow:Assets written to: c:\\Users\\filip\\Desktop\\NS\\assignment-1\\wandb\\run-20230330_141912-hna4uem0\\files\\model-best\\assets\n"
     ]
    },
    {
     "name": "stderr",
     "output_type": "stream",
     "text": [
      "\u001b[34m\u001b[1mwandb\u001b[0m: Adding directory to artifact (c:\\Users\\filip\\Desktop\\NS\\assignment-1\\wandb\\run-20230330_141912-hna4uem0\\files\\model-best)... Done. 0.0s\n"
     ]
    },
    {
     "name": "stdout",
     "output_type": "stream",
     "text": [
      "10/10 [==============================] - 3s 307ms/step - loss: 0.5003 - accuracy: 0.7553 - val_loss: 0.4810 - val_accuracy: 0.7811 - lr: 0.0100\n",
      "Epoch 5/50\n",
      " 1/10 [==>...........................] - ETA: 0s - loss: 0.3169 - accuracy: 0.8750INFO:tensorflow:Assets written to: c:\\Users\\filip\\Desktop\\NS\\assignment-1\\wandb\\run-20230330_141912-hna4uem0\\files\\model-best\\assets\n"
     ]
    },
    {
     "name": "stderr",
     "output_type": "stream",
     "text": [
      "\u001b[34m\u001b[1mwandb\u001b[0m: Adding directory to artifact (c:\\Users\\filip\\Desktop\\NS\\assignment-1\\wandb\\run-20230330_141912-hna4uem0\\files\\model-best)... Done. 0.0s\n"
     ]
    },
    {
     "name": "stdout",
     "output_type": "stream",
     "text": [
      "10/10 [==============================] - 3s 336ms/step - loss: 0.4831 - accuracy: 0.7844 - val_loss: 0.4500 - val_accuracy: 0.8000 - lr: 0.0100\n",
      "Epoch 6/50\n",
      " 1/10 [==>...........................] - ETA: 0s - loss: 0.5243 - accuracy: 0.7188INFO:tensorflow:Assets written to: c:\\Users\\filip\\Desktop\\NS\\assignment-1\\wandb\\run-20230330_141912-hna4uem0\\files\\model-best\\assets\n"
     ]
    },
    {
     "name": "stderr",
     "output_type": "stream",
     "text": [
      "\u001b[34m\u001b[1mwandb\u001b[0m: Adding directory to artifact (c:\\Users\\filip\\Desktop\\NS\\assignment-1\\wandb\\run-20230330_141912-hna4uem0\\files\\model-best)... Done. 0.0s\n"
     ]
    },
    {
     "name": "stdout",
     "output_type": "stream",
     "text": [
      "10/10 [==============================] - 3s 329ms/step - loss: 0.4386 - accuracy: 0.7958 - val_loss: 0.4424 - val_accuracy: 0.8038 - lr: 0.0100\n",
      "Epoch 7/50\n",
      " 1/10 [==>...........................] - ETA: 0s - loss: 0.4719 - accuracy: 0.7344INFO:tensorflow:Assets written to: c:\\Users\\filip\\Desktop\\NS\\assignment-1\\wandb\\run-20230330_141912-hna4uem0\\files\\model-best\\assets\n"
     ]
    },
    {
     "name": "stderr",
     "output_type": "stream",
     "text": [
      "\u001b[34m\u001b[1mwandb\u001b[0m: Adding directory to artifact (c:\\Users\\filip\\Desktop\\NS\\assignment-1\\wandb\\run-20230330_141912-hna4uem0\\files\\model-best)... Done. 0.0s\n"
     ]
    },
    {
     "name": "stdout",
     "output_type": "stream",
     "text": [
      "10/10 [==============================] - 4s 405ms/step - loss: 0.4708 - accuracy: 0.7958 - val_loss: 0.4374 - val_accuracy: 0.8113 - lr: 0.0100\n",
      "Epoch 8/50\n",
      "10/10 [==============================] - 0s 13ms/step - loss: 0.4535 - accuracy: 0.8055 - val_loss: 0.4452 - val_accuracy: 0.8113 - lr: 0.0100\n",
      "Epoch 9/50\n",
      "10/10 [==============================] - ETA: 0s - loss: 0.4503 - accuracy: 0.7925INFO:tensorflow:Assets written to: c:\\Users\\filip\\Desktop\\NS\\assignment-1\\wandb\\run-20230330_141912-hna4uem0\\files\\model-best\\assets\n"
     ]
    },
    {
     "name": "stderr",
     "output_type": "stream",
     "text": [
      "\u001b[34m\u001b[1mwandb\u001b[0m: Adding directory to artifact (c:\\Users\\filip\\Desktop\\NS\\assignment-1\\wandb\\run-20230330_141912-hna4uem0\\files\\model-best)... Done. 0.0s\n"
     ]
    },
    {
     "name": "stdout",
     "output_type": "stream",
     "text": [
      "10/10 [==============================] - 3s 373ms/step - loss: 0.4503 - accuracy: 0.7925 - val_loss: 0.4353 - val_accuracy: 0.8189 - lr: 0.0100\n",
      "Epoch 10/50\n",
      " 1/10 [==>...........................] - ETA: 0s - loss: 0.3103 - accuracy: 0.8750INFO:tensorflow:Assets written to: c:\\Users\\filip\\Desktop\\NS\\assignment-1\\wandb\\run-20230330_141912-hna4uem0\\files\\model-best\\assets\n"
     ]
    },
    {
     "name": "stderr",
     "output_type": "stream",
     "text": [
      "\u001b[34m\u001b[1mwandb\u001b[0m: Adding directory to artifact (c:\\Users\\filip\\Desktop\\NS\\assignment-1\\wandb\\run-20230330_141912-hna4uem0\\files\\model-best)... Done. 0.0s\n"
     ]
    },
    {
     "name": "stdout",
     "output_type": "stream",
     "text": [
      "10/10 [==============================] - 3s 339ms/step - loss: 0.4235 - accuracy: 0.8201 - val_loss: 0.4310 - val_accuracy: 0.8151 - lr: 0.0100\n",
      "Epoch 11/50\n",
      "10/10 [==============================] - ETA: 0s - loss: 0.4270 - accuracy: 0.8298INFO:tensorflow:Assets written to: c:\\Users\\filip\\Desktop\\NS\\assignment-1\\wandb\\run-20230330_141912-hna4uem0\\files\\model-best\\assets\n"
     ]
    },
    {
     "name": "stderr",
     "output_type": "stream",
     "text": [
      "\u001b[34m\u001b[1mwandb\u001b[0m: Adding directory to artifact (c:\\Users\\filip\\Desktop\\NS\\assignment-1\\wandb\\run-20230330_141912-hna4uem0\\files\\model-best)... Done. 0.0s\n"
     ]
    },
    {
     "name": "stdout",
     "output_type": "stream",
     "text": [
      "10/10 [==============================] - 3s 354ms/step - loss: 0.4270 - accuracy: 0.8298 - val_loss: 0.4244 - val_accuracy: 0.8264 - lr: 0.0082\n",
      "Epoch 12/50\n",
      " 1/10 [==>...........................] - ETA: 0s - loss: 0.5081 - accuracy: 0.7344INFO:tensorflow:Assets written to: c:\\Users\\filip\\Desktop\\NS\\assignment-1\\wandb\\run-20230330_141912-hna4uem0\\files\\model-best\\assets\n"
     ]
    },
    {
     "name": "stderr",
     "output_type": "stream",
     "text": [
      "\u001b[34m\u001b[1mwandb\u001b[0m: Adding directory to artifact (c:\\Users\\filip\\Desktop\\NS\\assignment-1\\wandb\\run-20230330_141912-hna4uem0\\files\\model-best)... Done. 0.0s\n"
     ]
    },
    {
     "name": "stdout",
     "output_type": "stream",
     "text": [
      "10/10 [==============================] - 3s 380ms/step - loss: 0.4305 - accuracy: 0.8169 - val_loss: 0.4236 - val_accuracy: 0.8226 - lr: 0.0067\n",
      "Epoch 13/50\n",
      "10/10 [==============================] - 0s 10ms/step - loss: 0.4418 - accuracy: 0.8120 - val_loss: 0.4250 - val_accuracy: 0.8189 - lr: 0.0055\n",
      "Epoch 14/50\n",
      "10/10 [==============================] - 0s 9ms/step - loss: 0.4228 - accuracy: 0.8250 - val_loss: 0.4264 - val_accuracy: 0.8151 - lr: 0.0045\n",
      "Epoch 15/50\n",
      "10/10 [==============================] - 0s 10ms/step - loss: 0.4286 - accuracy: 0.8266 - val_loss: 0.4245 - val_accuracy: 0.8302 - lr: 0.0037\n",
      "Epoch 16/50\n",
      " 1/10 [==>...........................] - ETA: 0s - loss: 0.4664 - accuracy: 0.8281INFO:tensorflow:Assets written to: c:\\Users\\filip\\Desktop\\NS\\assignment-1\\wandb\\run-20230330_141912-hna4uem0\\files\\model-best\\assets\n"
     ]
    },
    {
     "name": "stderr",
     "output_type": "stream",
     "text": [
      "\u001b[34m\u001b[1mwandb\u001b[0m: Adding directory to artifact (c:\\Users\\filip\\Desktop\\NS\\assignment-1\\wandb\\run-20230330_141912-hna4uem0\\files\\model-best)... Done. 0.0s\n"
     ]
    },
    {
     "name": "stdout",
     "output_type": "stream",
     "text": [
      "10/10 [==============================] - 3s 361ms/step - loss: 0.4188 - accuracy: 0.8476 - val_loss: 0.4230 - val_accuracy: 0.8302 - lr: 0.0030\n",
      "Epoch 17/50\n",
      " 8/10 [=======================>......] - ETA: 0s - loss: 0.4109 - accuracy: 0.8340INFO:tensorflow:Assets written to: c:\\Users\\filip\\Desktop\\NS\\assignment-1\\wandb\\run-20230330_141912-hna4uem0\\files\\model-best\\assets\n"
     ]
    },
    {
     "name": "stderr",
     "output_type": "stream",
     "text": [
      "\u001b[34m\u001b[1mwandb\u001b[0m: Adding directory to artifact (c:\\Users\\filip\\Desktop\\NS\\assignment-1\\wandb\\run-20230330_141912-hna4uem0\\files\\model-best)... Done. 0.0s\n"
     ]
    },
    {
     "name": "stdout",
     "output_type": "stream",
     "text": [
      "10/10 [==============================] - 3s 357ms/step - loss: 0.4198 - accuracy: 0.8282 - val_loss: 0.4230 - val_accuracy: 0.8302 - lr: 0.0025\n",
      "Epoch 18/50\n",
      " 1/10 [==>...........................] - ETA: 0s - loss: 0.3733 - accuracy: 0.8281INFO:tensorflow:Assets written to: c:\\Users\\filip\\Desktop\\NS\\assignment-1\\wandb\\run-20230330_141912-hna4uem0\\files\\model-best\\assets\n"
     ]
    },
    {
     "name": "stderr",
     "output_type": "stream",
     "text": [
      "\u001b[34m\u001b[1mwandb\u001b[0m: Adding directory to artifact (c:\\Users\\filip\\Desktop\\NS\\assignment-1\\wandb\\run-20230330_141912-hna4uem0\\files\\model-best)... Done. 0.0s\n"
     ]
    },
    {
     "name": "stdout",
     "output_type": "stream",
     "text": [
      "10/10 [==============================] - 3s 322ms/step - loss: 0.4280 - accuracy: 0.8266 - val_loss: 0.4223 - val_accuracy: 0.8302 - lr: 0.0020\n",
      "Epoch 19/50\n",
      "10/10 [==============================] - 0s 14ms/step - loss: 0.4235 - accuracy: 0.8169 - val_loss: 0.4230 - val_accuracy: 0.8302 - lr: 0.0017\n",
      "Epoch 20/50\n",
      "10/10 [==============================] - 0s 13ms/step - loss: 0.4276 - accuracy: 0.8201 - val_loss: 0.4223 - val_accuracy: 0.8302 - lr: 0.0014\n",
      "Epoch 21/50\n",
      " 9/10 [==========================>...] - ETA: 0s - loss: 0.4267 - accuracy: 0.8212INFO:tensorflow:Assets written to: c:\\Users\\filip\\Desktop\\NS\\assignment-1\\wandb\\run-20230330_141912-hna4uem0\\files\\model-best\\assets\n"
     ]
    },
    {
     "name": "stderr",
     "output_type": "stream",
     "text": [
      "\u001b[34m\u001b[1mwandb\u001b[0m: Adding directory to artifact (c:\\Users\\filip\\Desktop\\NS\\assignment-1\\wandb\\run-20230330_141912-hna4uem0\\files\\model-best)... Done. 0.0s\n"
     ]
    },
    {
     "name": "stdout",
     "output_type": "stream",
     "text": [
      "10/10 [==============================] - 3s 345ms/step - loss: 0.4312 - accuracy: 0.8185 - val_loss: 0.4216 - val_accuracy: 0.8302 - lr: 0.0011\n",
      "Epoch 22/50\n",
      " 1/10 [==>...........................] - ETA: 0s - loss: 0.4325 - accuracy: 0.8125INFO:tensorflow:Assets written to: c:\\Users\\filip\\Desktop\\NS\\assignment-1\\wandb\\run-20230330_141912-hna4uem0\\files\\model-best\\assets\n"
     ]
    },
    {
     "name": "stderr",
     "output_type": "stream",
     "text": [
      "\u001b[34m\u001b[1mwandb\u001b[0m: Adding directory to artifact (c:\\Users\\filip\\Desktop\\NS\\assignment-1\\wandb\\run-20230330_141912-hna4uem0\\files\\model-best)... Done. 0.0s\n"
     ]
    },
    {
     "name": "stdout",
     "output_type": "stream",
     "text": [
      "10/10 [==============================] - 3s 294ms/step - loss: 0.3954 - accuracy: 0.8298 - val_loss: 0.4214 - val_accuracy: 0.8264 - lr: 9.2420e-04\n",
      "Epoch 23/50\n",
      " 3/10 [========>.....................] - ETA: 0s - loss: 0.4446 - accuracy: 0.8177INFO:tensorflow:Assets written to: c:\\Users\\filip\\Desktop\\NS\\assignment-1\\wandb\\run-20230330_141912-hna4uem0\\files\\model-best\\assets\n"
     ]
    },
    {
     "name": "stderr",
     "output_type": "stream",
     "text": [
      "\u001b[34m\u001b[1mwandb\u001b[0m: Adding directory to artifact (c:\\Users\\filip\\Desktop\\NS\\assignment-1\\wandb\\run-20230330_141912-hna4uem0\\files\\model-best)... Done. 0.0s\n"
     ]
    },
    {
     "name": "stdout",
     "output_type": "stream",
     "text": [
      "10/10 [==============================] - 3s 337ms/step - loss: 0.4177 - accuracy: 0.8298 - val_loss: 0.4207 - val_accuracy: 0.8340 - lr: 7.5784e-04\n",
      "Epoch 24/50\n",
      " 1/10 [==>...........................] - ETA: 0s - loss: 0.4073 - accuracy: 0.7969INFO:tensorflow:Assets written to: c:\\Users\\filip\\Desktop\\NS\\assignment-1\\wandb\\run-20230330_141912-hna4uem0\\files\\model-best\\assets\n"
     ]
    },
    {
     "name": "stderr",
     "output_type": "stream",
     "text": [
      "\u001b[34m\u001b[1mwandb\u001b[0m: Adding directory to artifact (c:\\Users\\filip\\Desktop\\NS\\assignment-1\\wandb\\run-20230330_141912-hna4uem0\\files\\model-best)... Done. 0.0s\n"
     ]
    },
    {
     "name": "stdout",
     "output_type": "stream",
     "text": [
      "10/10 [==============================] - 3s 310ms/step - loss: 0.4159 - accuracy: 0.8233 - val_loss: 0.4200 - val_accuracy: 0.8340 - lr: 6.2143e-04\n",
      "Epoch 25/50\n",
      "10/10 [==============================] - 0s 10ms/step - loss: 0.4071 - accuracy: 0.8282 - val_loss: 0.4201 - val_accuracy: 0.8302 - lr: 5.0957e-04\n",
      "Epoch 26/50\n",
      "10/10 [==============================] - 0s 10ms/step - loss: 0.4147 - accuracy: 0.8201 - val_loss: 0.4202 - val_accuracy: 0.8302 - lr: 4.1785e-04\n",
      "Epoch 27/50\n",
      "10/10 [==============================] - 0s 11ms/step - loss: 0.4085 - accuracy: 0.8363 - val_loss: 0.4204 - val_accuracy: 0.8302 - lr: 3.4264e-04\n",
      "Epoch 28/50\n",
      "10/10 [==============================] - 0s 11ms/step - loss: 0.4076 - accuracy: 0.8201 - val_loss: 0.4205 - val_accuracy: 0.8302 - lr: 2.8096e-04\n",
      "Epoch 29/50\n",
      "10/10 [==============================] - 0s 11ms/step - loss: 0.4234 - accuracy: 0.8120 - val_loss: 0.4205 - val_accuracy: 0.8302 - lr: 2.3039e-04\n",
      "Epoch 30/50\n",
      "10/10 [==============================] - 0s 14ms/step - loss: 0.4102 - accuracy: 0.8314 - val_loss: 0.4203 - val_accuracy: 0.8302 - lr: 1.8892e-04\n",
      "Epoch 31/50\n",
      "10/10 [==============================] - 0s 10ms/step - loss: 0.4070 - accuracy: 0.8233 - val_loss: 0.4203 - val_accuracy: 0.8302 - lr: 1.5491e-04\n",
      "Epoch 32/50\n",
      "10/10 [==============================] - 0s 10ms/step - loss: 0.4225 - accuracy: 0.8266 - val_loss: 0.4201 - val_accuracy: 0.8302 - lr: 1.2703e-04\n",
      "Epoch 33/50\n",
      "10/10 [==============================] - 0s 11ms/step - loss: 0.3983 - accuracy: 0.8233 - val_loss: 0.4202 - val_accuracy: 0.8302 - lr: 1.0416e-04\n",
      "Epoch 34/50\n",
      "10/10 [==============================] - 0s 11ms/step - loss: 0.4127 - accuracy: 0.8088 - val_loss: 0.4201 - val_accuracy: 0.8302 - lr: 8.5415e-05\n",
      "Epoch 35/50\n",
      "10/10 [==============================] - 0s 10ms/step - loss: 0.4106 - accuracy: 0.8298 - val_loss: 0.4201 - val_accuracy: 0.8302 - lr: 7.0040e-05\n",
      "Epoch 36/50\n",
      "10/10 [==============================] - 0s 10ms/step - loss: 0.4128 - accuracy: 0.8347 - val_loss: 0.4201 - val_accuracy: 0.8302 - lr: 5.7433e-05\n",
      "Epoch 37/50\n",
      "10/10 [==============================] - 0s 10ms/step - loss: 0.4278 - accuracy: 0.8201 - val_loss: 0.4201 - val_accuracy: 0.8302 - lr: 4.7095e-05\n",
      "Epoch 38/50\n",
      "10/10 [==============================] - 0s 10ms/step - loss: 0.4078 - accuracy: 0.8460 - val_loss: 0.4201 - val_accuracy: 0.8302 - lr: 3.8618e-05\n",
      "Epoch 39/50\n",
      "10/10 [==============================] - 0s 15ms/step - loss: 0.3919 - accuracy: 0.8412 - val_loss: 0.4201 - val_accuracy: 0.8302 - lr: 3.1667e-05\n",
      "Epoch 40/50\n",
      "10/10 [==============================] - 0s 10ms/step - loss: 0.4152 - accuracy: 0.8136 - val_loss: 0.4201 - val_accuracy: 0.8302 - lr: 2.5967e-05\n",
      "Epoch 41/50\n",
      "10/10 [==============================] - 0s 13ms/step - loss: 0.4060 - accuracy: 0.8314 - val_loss: 0.4201 - val_accuracy: 0.8302 - lr: 2.1293e-05\n",
      "Epoch 42/50\n",
      "10/10 [==============================] - 0s 10ms/step - loss: 0.4007 - accuracy: 0.8331 - val_loss: 0.4201 - val_accuracy: 0.8302 - lr: 1.7460e-05\n",
      "Epoch 43/50\n",
      "10/10 [==============================] - 0s 12ms/step - loss: 0.4097 - accuracy: 0.8395 - val_loss: 0.4201 - val_accuracy: 0.8302 - lr: 1.4317e-05\n",
      "Epoch 44/50\n",
      "10/10 [==============================] - 0s 16ms/step - loss: 0.4040 - accuracy: 0.8250 - val_loss: 0.4201 - val_accuracy: 0.8302 - lr: 1.1740e-05\n",
      "Epoch 45/50\n",
      "10/10 [==============================] - 0s 12ms/step - loss: 0.4056 - accuracy: 0.8331 - val_loss: 0.4201 - val_accuracy: 0.8302 - lr: 9.6269e-06\n",
      "Epoch 46/50\n",
      "10/10 [==============================] - 0s 17ms/step - loss: 0.4155 - accuracy: 0.8201 - val_loss: 0.4201 - val_accuracy: 0.8302 - lr: 7.8940e-06\n",
      "Epoch 47/50\n",
      "10/10 [==============================] - 0s 11ms/step - loss: 0.3992 - accuracy: 0.8185 - val_loss: 0.4201 - val_accuracy: 0.8302 - lr: 6.4731e-06\n",
      "Epoch 48/50\n",
      "10/10 [==============================] - 0s 16ms/step - loss: 0.4076 - accuracy: 0.8331 - val_loss: 0.4201 - val_accuracy: 0.8302 - lr: 5.3079e-06\n",
      "Epoch 49/50\n",
      "10/10 [==============================] - 0s 13ms/step - loss: 0.4225 - accuracy: 0.8266 - val_loss: 0.4201 - val_accuracy: 0.8302 - lr: 4.3525e-06\n",
      "Epoch 50/50\n",
      "10/10 [==============================] - 0s 18ms/step - loss: 0.3950 - accuracy: 0.8266 - val_loss: 0.4201 - val_accuracy: 0.8302 - lr: 3.5691e-06\n"
     ]
    }
   ],
   "source": [
    "history=model.fit(\n",
    "    x_train,\n",
    "    y_train,\n",
    "    epochs=config['epochs'],\n",
    "    validation_data=(x_val, y_val),\n",
    "    batch_size=config['batch_size'],\n",
    "    shuffle=True,\n",
    "    callbacks=[\n",
    "        scheduler_callback,\n",
    "        wandb.keras.WandbCallback()\n",
    "    ]\n",
    ")"
   ]
  },
  {
   "cell_type": "code",
   "execution_count": 82,
   "metadata": {},
   "outputs": [
    {
     "data": {
      "application/vnd.plotly.v1+json": {
       "config": {
        "plotlyServerURL": "https://plot.ly"
       },
       "data": [
        {
         "hovertemplate": "variable=loss<br>index=%{x}<br>value=%{y}<extra></extra>",
         "legendgroup": "loss",
         "line": {
          "color": "#636efa",
          "dash": "solid"
         },
         "marker": {
          "symbol": "circle"
         },
         "mode": "lines",
         "name": "loss",
         "orientation": "v",
         "showlegend": true,
         "type": "scatter",
         "x": [
          0,
          1,
          2,
          3,
          4,
          5,
          6,
          7,
          8,
          9,
          10,
          11,
          12,
          13,
          14,
          15,
          16,
          17,
          18,
          19,
          20,
          21,
          22,
          23,
          24,
          25,
          26,
          27,
          28,
          29,
          30,
          31,
          32,
          33,
          34,
          35,
          36,
          37,
          38,
          39,
          40,
          41,
          42,
          43,
          44,
          45,
          46,
          47,
          48,
          49
         ],
         "xaxis": "x",
         "y": [
          0.6721146702766418,
          0.6106099486351013,
          0.5417710542678833,
          0.5002714991569519,
          0.48307743668556213,
          0.4385938346385956,
          0.4708079695701599,
          0.45350372791290283,
          0.45025932788848877,
          0.42348742485046387,
          0.4270497262477875,
          0.43052318692207336,
          0.44181129336357117,
          0.4227584898471832,
          0.4286403954029083,
          0.4187847673892975,
          0.41980108618736267,
          0.4280422329902649,
          0.423483282327652,
          0.4276377260684967,
          0.4312373697757721,
          0.3953750729560852,
          0.4176746904850006,
          0.4159371852874756,
          0.4071490168571472,
          0.4146914780139923,
          0.4085230529308319,
          0.4076143503189087,
          0.4233645796775818,
          0.4101988971233368,
          0.4070345163345337,
          0.4224821925163269,
          0.39834538102149963,
          0.41272491216659546,
          0.4106048047542572,
          0.4128338694572449,
          0.4278315603733063,
          0.40780866146087646,
          0.3919490575790405,
          0.41523048281669617,
          0.40601420402526855,
          0.400663822889328,
          0.4096655547618866,
          0.403970867395401,
          0.4055711030960083,
          0.41548964381217957,
          0.39923205971717834,
          0.40762391686439514,
          0.4224705696105957,
          0.39503616094589233
         ],
         "yaxis": "y"
        },
        {
         "hovertemplate": "variable=val_loss<br>index=%{x}<br>value=%{y}<extra></extra>",
         "legendgroup": "val_loss",
         "line": {
          "color": "#EF553B",
          "dash": "solid"
         },
         "marker": {
          "symbol": "circle"
         },
         "mode": "lines",
         "name": "val_loss",
         "orientation": "v",
         "showlegend": true,
         "type": "scatter",
         "x": [
          0,
          1,
          2,
          3,
          4,
          5,
          6,
          7,
          8,
          9,
          10,
          11,
          12,
          13,
          14,
          15,
          16,
          17,
          18,
          19,
          20,
          21,
          22,
          23,
          24,
          25,
          26,
          27,
          28,
          29,
          30,
          31,
          32,
          33,
          34,
          35,
          36,
          37,
          38,
          39,
          40,
          41,
          42,
          43,
          44,
          45,
          46,
          47,
          48,
          49
         ],
         "xaxis": "x",
         "y": [
          0.6136690974235535,
          0.5550824999809265,
          0.4861571788787842,
          0.4809912145137787,
          0.4500482976436615,
          0.44237449765205383,
          0.437356173992157,
          0.4451545476913452,
          0.4352644085884094,
          0.43096405267715454,
          0.42440009117126465,
          0.42358526587486267,
          0.4250165522098541,
          0.426405131816864,
          0.424473375082016,
          0.4230308532714844,
          0.42297235131263733,
          0.4223216474056244,
          0.4229653775691986,
          0.42233091592788696,
          0.4216265380382538,
          0.4214068651199341,
          0.42072251439094543,
          0.42002877593040466,
          0.420059472322464,
          0.4202389717102051,
          0.4203953742980957,
          0.42048653960227966,
          0.4204596281051636,
          0.4203271269798279,
          0.4202614724636078,
          0.420143723487854,
          0.42018330097198486,
          0.42014992237091064,
          0.4201054573059082,
          0.4200933575630188,
          0.4200904667377472,
          0.42011207342147827,
          0.42010068893432617,
          0.4201033413410187,
          0.42009881138801575,
          0.4200965166091919,
          0.42010748386383057,
          0.4201144874095917,
          0.4201177954673767,
          0.42011168599128723,
          0.4201096296310425,
          0.42010921239852905,
          0.4201071858406067,
          0.42010825872421265
         ],
         "yaxis": "y"
        }
       ],
       "layout": {
        "legend": {
         "title": {
          "text": "variable"
         },
         "tracegroupgap": 0
        },
        "margin": {
         "t": 60
        },
        "template": {
         "data": {
          "bar": [
           {
            "error_x": {
             "color": "#2a3f5f"
            },
            "error_y": {
             "color": "#2a3f5f"
            },
            "marker": {
             "line": {
              "color": "#E5ECF6",
              "width": 0.5
             },
             "pattern": {
              "fillmode": "overlay",
              "size": 10,
              "solidity": 0.2
             }
            },
            "type": "bar"
           }
          ],
          "barpolar": [
           {
            "marker": {
             "line": {
              "color": "#E5ECF6",
              "width": 0.5
             },
             "pattern": {
              "fillmode": "overlay",
              "size": 10,
              "solidity": 0.2
             }
            },
            "type": "barpolar"
           }
          ],
          "carpet": [
           {
            "aaxis": {
             "endlinecolor": "#2a3f5f",
             "gridcolor": "white",
             "linecolor": "white",
             "minorgridcolor": "white",
             "startlinecolor": "#2a3f5f"
            },
            "baxis": {
             "endlinecolor": "#2a3f5f",
             "gridcolor": "white",
             "linecolor": "white",
             "minorgridcolor": "white",
             "startlinecolor": "#2a3f5f"
            },
            "type": "carpet"
           }
          ],
          "choropleth": [
           {
            "colorbar": {
             "outlinewidth": 0,
             "ticks": ""
            },
            "type": "choropleth"
           }
          ],
          "contour": [
           {
            "colorbar": {
             "outlinewidth": 0,
             "ticks": ""
            },
            "colorscale": [
             [
              0,
              "#0d0887"
             ],
             [
              0.1111111111111111,
              "#46039f"
             ],
             [
              0.2222222222222222,
              "#7201a8"
             ],
             [
              0.3333333333333333,
              "#9c179e"
             ],
             [
              0.4444444444444444,
              "#bd3786"
             ],
             [
              0.5555555555555556,
              "#d8576b"
             ],
             [
              0.6666666666666666,
              "#ed7953"
             ],
             [
              0.7777777777777778,
              "#fb9f3a"
             ],
             [
              0.8888888888888888,
              "#fdca26"
             ],
             [
              1,
              "#f0f921"
             ]
            ],
            "type": "contour"
           }
          ],
          "contourcarpet": [
           {
            "colorbar": {
             "outlinewidth": 0,
             "ticks": ""
            },
            "type": "contourcarpet"
           }
          ],
          "heatmap": [
           {
            "colorbar": {
             "outlinewidth": 0,
             "ticks": ""
            },
            "colorscale": [
             [
              0,
              "#0d0887"
             ],
             [
              0.1111111111111111,
              "#46039f"
             ],
             [
              0.2222222222222222,
              "#7201a8"
             ],
             [
              0.3333333333333333,
              "#9c179e"
             ],
             [
              0.4444444444444444,
              "#bd3786"
             ],
             [
              0.5555555555555556,
              "#d8576b"
             ],
             [
              0.6666666666666666,
              "#ed7953"
             ],
             [
              0.7777777777777778,
              "#fb9f3a"
             ],
             [
              0.8888888888888888,
              "#fdca26"
             ],
             [
              1,
              "#f0f921"
             ]
            ],
            "type": "heatmap"
           }
          ],
          "heatmapgl": [
           {
            "colorbar": {
             "outlinewidth": 0,
             "ticks": ""
            },
            "colorscale": [
             [
              0,
              "#0d0887"
             ],
             [
              0.1111111111111111,
              "#46039f"
             ],
             [
              0.2222222222222222,
              "#7201a8"
             ],
             [
              0.3333333333333333,
              "#9c179e"
             ],
             [
              0.4444444444444444,
              "#bd3786"
             ],
             [
              0.5555555555555556,
              "#d8576b"
             ],
             [
              0.6666666666666666,
              "#ed7953"
             ],
             [
              0.7777777777777778,
              "#fb9f3a"
             ],
             [
              0.8888888888888888,
              "#fdca26"
             ],
             [
              1,
              "#f0f921"
             ]
            ],
            "type": "heatmapgl"
           }
          ],
          "histogram": [
           {
            "marker": {
             "pattern": {
              "fillmode": "overlay",
              "size": 10,
              "solidity": 0.2
             }
            },
            "type": "histogram"
           }
          ],
          "histogram2d": [
           {
            "colorbar": {
             "outlinewidth": 0,
             "ticks": ""
            },
            "colorscale": [
             [
              0,
              "#0d0887"
             ],
             [
              0.1111111111111111,
              "#46039f"
             ],
             [
              0.2222222222222222,
              "#7201a8"
             ],
             [
              0.3333333333333333,
              "#9c179e"
             ],
             [
              0.4444444444444444,
              "#bd3786"
             ],
             [
              0.5555555555555556,
              "#d8576b"
             ],
             [
              0.6666666666666666,
              "#ed7953"
             ],
             [
              0.7777777777777778,
              "#fb9f3a"
             ],
             [
              0.8888888888888888,
              "#fdca26"
             ],
             [
              1,
              "#f0f921"
             ]
            ],
            "type": "histogram2d"
           }
          ],
          "histogram2dcontour": [
           {
            "colorbar": {
             "outlinewidth": 0,
             "ticks": ""
            },
            "colorscale": [
             [
              0,
              "#0d0887"
             ],
             [
              0.1111111111111111,
              "#46039f"
             ],
             [
              0.2222222222222222,
              "#7201a8"
             ],
             [
              0.3333333333333333,
              "#9c179e"
             ],
             [
              0.4444444444444444,
              "#bd3786"
             ],
             [
              0.5555555555555556,
              "#d8576b"
             ],
             [
              0.6666666666666666,
              "#ed7953"
             ],
             [
              0.7777777777777778,
              "#fb9f3a"
             ],
             [
              0.8888888888888888,
              "#fdca26"
             ],
             [
              1,
              "#f0f921"
             ]
            ],
            "type": "histogram2dcontour"
           }
          ],
          "mesh3d": [
           {
            "colorbar": {
             "outlinewidth": 0,
             "ticks": ""
            },
            "type": "mesh3d"
           }
          ],
          "parcoords": [
           {
            "line": {
             "colorbar": {
              "outlinewidth": 0,
              "ticks": ""
             }
            },
            "type": "parcoords"
           }
          ],
          "pie": [
           {
            "automargin": true,
            "type": "pie"
           }
          ],
          "scatter": [
           {
            "fillpattern": {
             "fillmode": "overlay",
             "size": 10,
             "solidity": 0.2
            },
            "type": "scatter"
           }
          ],
          "scatter3d": [
           {
            "line": {
             "colorbar": {
              "outlinewidth": 0,
              "ticks": ""
             }
            },
            "marker": {
             "colorbar": {
              "outlinewidth": 0,
              "ticks": ""
             }
            },
            "type": "scatter3d"
           }
          ],
          "scattercarpet": [
           {
            "marker": {
             "colorbar": {
              "outlinewidth": 0,
              "ticks": ""
             }
            },
            "type": "scattercarpet"
           }
          ],
          "scattergeo": [
           {
            "marker": {
             "colorbar": {
              "outlinewidth": 0,
              "ticks": ""
             }
            },
            "type": "scattergeo"
           }
          ],
          "scattergl": [
           {
            "marker": {
             "colorbar": {
              "outlinewidth": 0,
              "ticks": ""
             }
            },
            "type": "scattergl"
           }
          ],
          "scattermapbox": [
           {
            "marker": {
             "colorbar": {
              "outlinewidth": 0,
              "ticks": ""
             }
            },
            "type": "scattermapbox"
           }
          ],
          "scatterpolar": [
           {
            "marker": {
             "colorbar": {
              "outlinewidth": 0,
              "ticks": ""
             }
            },
            "type": "scatterpolar"
           }
          ],
          "scatterpolargl": [
           {
            "marker": {
             "colorbar": {
              "outlinewidth": 0,
              "ticks": ""
             }
            },
            "type": "scatterpolargl"
           }
          ],
          "scatterternary": [
           {
            "marker": {
             "colorbar": {
              "outlinewidth": 0,
              "ticks": ""
             }
            },
            "type": "scatterternary"
           }
          ],
          "surface": [
           {
            "colorbar": {
             "outlinewidth": 0,
             "ticks": ""
            },
            "colorscale": [
             [
              0,
              "#0d0887"
             ],
             [
              0.1111111111111111,
              "#46039f"
             ],
             [
              0.2222222222222222,
              "#7201a8"
             ],
             [
              0.3333333333333333,
              "#9c179e"
             ],
             [
              0.4444444444444444,
              "#bd3786"
             ],
             [
              0.5555555555555556,
              "#d8576b"
             ],
             [
              0.6666666666666666,
              "#ed7953"
             ],
             [
              0.7777777777777778,
              "#fb9f3a"
             ],
             [
              0.8888888888888888,
              "#fdca26"
             ],
             [
              1,
              "#f0f921"
             ]
            ],
            "type": "surface"
           }
          ],
          "table": [
           {
            "cells": {
             "fill": {
              "color": "#EBF0F8"
             },
             "line": {
              "color": "white"
             }
            },
            "header": {
             "fill": {
              "color": "#C8D4E3"
             },
             "line": {
              "color": "white"
             }
            },
            "type": "table"
           }
          ]
         },
         "layout": {
          "annotationdefaults": {
           "arrowcolor": "#2a3f5f",
           "arrowhead": 0,
           "arrowwidth": 1
          },
          "autotypenumbers": "strict",
          "coloraxis": {
           "colorbar": {
            "outlinewidth": 0,
            "ticks": ""
           }
          },
          "colorscale": {
           "diverging": [
            [
             0,
             "#8e0152"
            ],
            [
             0.1,
             "#c51b7d"
            ],
            [
             0.2,
             "#de77ae"
            ],
            [
             0.3,
             "#f1b6da"
            ],
            [
             0.4,
             "#fde0ef"
            ],
            [
             0.5,
             "#f7f7f7"
            ],
            [
             0.6,
             "#e6f5d0"
            ],
            [
             0.7,
             "#b8e186"
            ],
            [
             0.8,
             "#7fbc41"
            ],
            [
             0.9,
             "#4d9221"
            ],
            [
             1,
             "#276419"
            ]
           ],
           "sequential": [
            [
             0,
             "#0d0887"
            ],
            [
             0.1111111111111111,
             "#46039f"
            ],
            [
             0.2222222222222222,
             "#7201a8"
            ],
            [
             0.3333333333333333,
             "#9c179e"
            ],
            [
             0.4444444444444444,
             "#bd3786"
            ],
            [
             0.5555555555555556,
             "#d8576b"
            ],
            [
             0.6666666666666666,
             "#ed7953"
            ],
            [
             0.7777777777777778,
             "#fb9f3a"
            ],
            [
             0.8888888888888888,
             "#fdca26"
            ],
            [
             1,
             "#f0f921"
            ]
           ],
           "sequentialminus": [
            [
             0,
             "#0d0887"
            ],
            [
             0.1111111111111111,
             "#46039f"
            ],
            [
             0.2222222222222222,
             "#7201a8"
            ],
            [
             0.3333333333333333,
             "#9c179e"
            ],
            [
             0.4444444444444444,
             "#bd3786"
            ],
            [
             0.5555555555555556,
             "#d8576b"
            ],
            [
             0.6666666666666666,
             "#ed7953"
            ],
            [
             0.7777777777777778,
             "#fb9f3a"
            ],
            [
             0.8888888888888888,
             "#fdca26"
            ],
            [
             1,
             "#f0f921"
            ]
           ]
          },
          "colorway": [
           "#636efa",
           "#EF553B",
           "#00cc96",
           "#ab63fa",
           "#FFA15A",
           "#19d3f3",
           "#FF6692",
           "#B6E880",
           "#FF97FF",
           "#FECB52"
          ],
          "font": {
           "color": "#2a3f5f"
          },
          "geo": {
           "bgcolor": "white",
           "lakecolor": "white",
           "landcolor": "#E5ECF6",
           "showlakes": true,
           "showland": true,
           "subunitcolor": "white"
          },
          "hoverlabel": {
           "align": "left"
          },
          "hovermode": "closest",
          "mapbox": {
           "style": "light"
          },
          "paper_bgcolor": "white",
          "plot_bgcolor": "#E5ECF6",
          "polar": {
           "angularaxis": {
            "gridcolor": "white",
            "linecolor": "white",
            "ticks": ""
           },
           "bgcolor": "#E5ECF6",
           "radialaxis": {
            "gridcolor": "white",
            "linecolor": "white",
            "ticks": ""
           }
          },
          "scene": {
           "xaxis": {
            "backgroundcolor": "#E5ECF6",
            "gridcolor": "white",
            "gridwidth": 2,
            "linecolor": "white",
            "showbackground": true,
            "ticks": "",
            "zerolinecolor": "white"
           },
           "yaxis": {
            "backgroundcolor": "#E5ECF6",
            "gridcolor": "white",
            "gridwidth": 2,
            "linecolor": "white",
            "showbackground": true,
            "ticks": "",
            "zerolinecolor": "white"
           },
           "zaxis": {
            "backgroundcolor": "#E5ECF6",
            "gridcolor": "white",
            "gridwidth": 2,
            "linecolor": "white",
            "showbackground": true,
            "ticks": "",
            "zerolinecolor": "white"
           }
          },
          "shapedefaults": {
           "line": {
            "color": "#2a3f5f"
           }
          },
          "ternary": {
           "aaxis": {
            "gridcolor": "white",
            "linecolor": "white",
            "ticks": ""
           },
           "baxis": {
            "gridcolor": "white",
            "linecolor": "white",
            "ticks": ""
           },
           "bgcolor": "#E5ECF6",
           "caxis": {
            "gridcolor": "white",
            "linecolor": "white",
            "ticks": ""
           }
          },
          "title": {
           "x": 0.05
          },
          "xaxis": {
           "automargin": true,
           "gridcolor": "white",
           "linecolor": "white",
           "ticks": "",
           "title": {
            "standoff": 15
           },
           "zerolinecolor": "white",
           "zerolinewidth": 2
          },
          "yaxis": {
           "automargin": true,
           "gridcolor": "white",
           "linecolor": "white",
           "ticks": "",
           "title": {
            "standoff": 15
           },
           "zerolinecolor": "white",
           "zerolinewidth": 2
          }
         }
        },
        "xaxis": {
         "anchor": "y",
         "domain": [
          0,
          1
         ],
         "title": {
          "text": "index"
         }
        },
        "yaxis": {
         "anchor": "x",
         "domain": [
          0,
          1
         ],
         "title": {
          "text": "value"
         }
        }
       }
      }
     },
     "metadata": {},
     "output_type": "display_data"
    }
   ],
   "source": [
    "import plotly.express as px\n",
    "fig = px.line({'loss': history.history['loss'], 'val_loss': history.history['val_loss']})\n",
    "fig.show()"
   ]
  },
  {
   "cell_type": "code",
   "execution_count": 83,
   "metadata": {},
   "outputs": [
    {
     "data": {
      "application/vnd.plotly.v1+json": {
       "config": {
        "plotlyServerURL": "https://plot.ly"
       },
       "data": [
        {
         "hovertemplate": "variable=accuracy<br>index=%{x}<br>value=%{y}<extra></extra>",
         "legendgroup": "accuracy",
         "line": {
          "color": "#636efa",
          "dash": "solid"
         },
         "marker": {
          "symbol": "circle"
         },
         "mode": "lines",
         "name": "accuracy",
         "orientation": "v",
         "showlegend": true,
         "type": "scatter",
         "x": [
          0,
          1,
          2,
          3,
          4,
          5,
          6,
          7,
          8,
          9,
          10,
          11,
          12,
          13,
          14,
          15,
          16,
          17,
          18,
          19,
          20,
          21,
          22,
          23,
          24,
          25,
          26,
          27,
          28,
          29,
          30,
          31,
          32,
          33,
          34,
          35,
          36,
          37,
          38,
          39,
          40,
          41,
          42,
          43,
          44,
          45,
          46,
          47,
          48,
          49
         ],
         "xaxis": "x",
         "y": [
          0.5948135852813721,
          0.6758508682250977,
          0.7293354868888855,
          0.7552674412727356,
          0.784440815448761,
          0.7957860827445984,
          0.7957860827445984,
          0.8055105209350586,
          0.7925445437431335,
          0.8200972676277161,
          0.8298217058181763,
          0.8168557286262512,
          0.8119935393333435,
          0.8249594569206238,
          0.8265802264213562,
          0.8476499319076538,
          0.8282009959220886,
          0.8265802264213562,
          0.8168557286262512,
          0.8200972676277161,
          0.8184764981269836,
          0.8298217058181763,
          0.8298217058181763,
          0.8233387470245361,
          0.8282009959220886,
          0.8200972676277161,
          0.8363047242164612,
          0.8200972676277161,
          0.8119935393333435,
          0.8314424753189087,
          0.8233387470245361,
          0.8265802264213562,
          0.8233387470245361,
          0.8087520003318787,
          0.8298217058181763,
          0.8346839547157288,
          0.8200972676277161,
          0.8460291624069214,
          0.8411669135093689,
          0.8136142492294312,
          0.8314424753189087,
          0.8330631852149963,
          0.8395462036132812,
          0.8249594569206238,
          0.8330631852149963,
          0.8200972676277161,
          0.8184764981269836,
          0.8330631852149963,
          0.8265802264213562,
          0.8265802264213562
         ],
         "yaxis": "y"
        },
        {
         "hovertemplate": "variable=val_accuracy<br>index=%{x}<br>value=%{y}<extra></extra>",
         "legendgroup": "val_accuracy",
         "line": {
          "color": "#EF553B",
          "dash": "solid"
         },
         "marker": {
          "symbol": "circle"
         },
         "mode": "lines",
         "name": "val_accuracy",
         "orientation": "v",
         "showlegend": true,
         "type": "scatter",
         "x": [
          0,
          1,
          2,
          3,
          4,
          5,
          6,
          7,
          8,
          9,
          10,
          11,
          12,
          13,
          14,
          15,
          16,
          17,
          18,
          19,
          20,
          21,
          22,
          23,
          24,
          25,
          26,
          27,
          28,
          29,
          30,
          31,
          32,
          33,
          34,
          35,
          36,
          37,
          38,
          39,
          40,
          41,
          42,
          43,
          44,
          45,
          46,
          47,
          48,
          49
         ],
         "xaxis": "x",
         "y": [
          0.6603773832321167,
          0.7245283126831055,
          0.7698113322257996,
          0.7811321020126343,
          0.800000011920929,
          0.8037735819816589,
          0.8113207817077637,
          0.8113207817077637,
          0.8188679218292236,
          0.8150943517684937,
          0.8264151215553284,
          0.8226414918899536,
          0.8188679218292236,
          0.8150943517684937,
          0.8301886916160583,
          0.8301886916160583,
          0.8301886916160583,
          0.8301886916160583,
          0.8301886916160583,
          0.8301886916160583,
          0.8301886916160583,
          0.8264151215553284,
          0.8339622616767883,
          0.8339622616767883,
          0.8301886916160583,
          0.8301886916160583,
          0.8301886916160583,
          0.8301886916160583,
          0.8301886916160583,
          0.8301886916160583,
          0.8301886916160583,
          0.8301886916160583,
          0.8301886916160583,
          0.8301886916160583,
          0.8301886916160583,
          0.8301886916160583,
          0.8301886916160583,
          0.8301886916160583,
          0.8301886916160583,
          0.8301886916160583,
          0.8301886916160583,
          0.8301886916160583,
          0.8301886916160583,
          0.8301886916160583,
          0.8301886916160583,
          0.8301886916160583,
          0.8301886916160583,
          0.8301886916160583,
          0.8301886916160583,
          0.8301886916160583
         ],
         "yaxis": "y"
        }
       ],
       "layout": {
        "legend": {
         "title": {
          "text": "variable"
         },
         "tracegroupgap": 0
        },
        "margin": {
         "t": 60
        },
        "template": {
         "data": {
          "bar": [
           {
            "error_x": {
             "color": "#2a3f5f"
            },
            "error_y": {
             "color": "#2a3f5f"
            },
            "marker": {
             "line": {
              "color": "#E5ECF6",
              "width": 0.5
             },
             "pattern": {
              "fillmode": "overlay",
              "size": 10,
              "solidity": 0.2
             }
            },
            "type": "bar"
           }
          ],
          "barpolar": [
           {
            "marker": {
             "line": {
              "color": "#E5ECF6",
              "width": 0.5
             },
             "pattern": {
              "fillmode": "overlay",
              "size": 10,
              "solidity": 0.2
             }
            },
            "type": "barpolar"
           }
          ],
          "carpet": [
           {
            "aaxis": {
             "endlinecolor": "#2a3f5f",
             "gridcolor": "white",
             "linecolor": "white",
             "minorgridcolor": "white",
             "startlinecolor": "#2a3f5f"
            },
            "baxis": {
             "endlinecolor": "#2a3f5f",
             "gridcolor": "white",
             "linecolor": "white",
             "minorgridcolor": "white",
             "startlinecolor": "#2a3f5f"
            },
            "type": "carpet"
           }
          ],
          "choropleth": [
           {
            "colorbar": {
             "outlinewidth": 0,
             "ticks": ""
            },
            "type": "choropleth"
           }
          ],
          "contour": [
           {
            "colorbar": {
             "outlinewidth": 0,
             "ticks": ""
            },
            "colorscale": [
             [
              0,
              "#0d0887"
             ],
             [
              0.1111111111111111,
              "#46039f"
             ],
             [
              0.2222222222222222,
              "#7201a8"
             ],
             [
              0.3333333333333333,
              "#9c179e"
             ],
             [
              0.4444444444444444,
              "#bd3786"
             ],
             [
              0.5555555555555556,
              "#d8576b"
             ],
             [
              0.6666666666666666,
              "#ed7953"
             ],
             [
              0.7777777777777778,
              "#fb9f3a"
             ],
             [
              0.8888888888888888,
              "#fdca26"
             ],
             [
              1,
              "#f0f921"
             ]
            ],
            "type": "contour"
           }
          ],
          "contourcarpet": [
           {
            "colorbar": {
             "outlinewidth": 0,
             "ticks": ""
            },
            "type": "contourcarpet"
           }
          ],
          "heatmap": [
           {
            "colorbar": {
             "outlinewidth": 0,
             "ticks": ""
            },
            "colorscale": [
             [
              0,
              "#0d0887"
             ],
             [
              0.1111111111111111,
              "#46039f"
             ],
             [
              0.2222222222222222,
              "#7201a8"
             ],
             [
              0.3333333333333333,
              "#9c179e"
             ],
             [
              0.4444444444444444,
              "#bd3786"
             ],
             [
              0.5555555555555556,
              "#d8576b"
             ],
             [
              0.6666666666666666,
              "#ed7953"
             ],
             [
              0.7777777777777778,
              "#fb9f3a"
             ],
             [
              0.8888888888888888,
              "#fdca26"
             ],
             [
              1,
              "#f0f921"
             ]
            ],
            "type": "heatmap"
           }
          ],
          "heatmapgl": [
           {
            "colorbar": {
             "outlinewidth": 0,
             "ticks": ""
            },
            "colorscale": [
             [
              0,
              "#0d0887"
             ],
             [
              0.1111111111111111,
              "#46039f"
             ],
             [
              0.2222222222222222,
              "#7201a8"
             ],
             [
              0.3333333333333333,
              "#9c179e"
             ],
             [
              0.4444444444444444,
              "#bd3786"
             ],
             [
              0.5555555555555556,
              "#d8576b"
             ],
             [
              0.6666666666666666,
              "#ed7953"
             ],
             [
              0.7777777777777778,
              "#fb9f3a"
             ],
             [
              0.8888888888888888,
              "#fdca26"
             ],
             [
              1,
              "#f0f921"
             ]
            ],
            "type": "heatmapgl"
           }
          ],
          "histogram": [
           {
            "marker": {
             "pattern": {
              "fillmode": "overlay",
              "size": 10,
              "solidity": 0.2
             }
            },
            "type": "histogram"
           }
          ],
          "histogram2d": [
           {
            "colorbar": {
             "outlinewidth": 0,
             "ticks": ""
            },
            "colorscale": [
             [
              0,
              "#0d0887"
             ],
             [
              0.1111111111111111,
              "#46039f"
             ],
             [
              0.2222222222222222,
              "#7201a8"
             ],
             [
              0.3333333333333333,
              "#9c179e"
             ],
             [
              0.4444444444444444,
              "#bd3786"
             ],
             [
              0.5555555555555556,
              "#d8576b"
             ],
             [
              0.6666666666666666,
              "#ed7953"
             ],
             [
              0.7777777777777778,
              "#fb9f3a"
             ],
             [
              0.8888888888888888,
              "#fdca26"
             ],
             [
              1,
              "#f0f921"
             ]
            ],
            "type": "histogram2d"
           }
          ],
          "histogram2dcontour": [
           {
            "colorbar": {
             "outlinewidth": 0,
             "ticks": ""
            },
            "colorscale": [
             [
              0,
              "#0d0887"
             ],
             [
              0.1111111111111111,
              "#46039f"
             ],
             [
              0.2222222222222222,
              "#7201a8"
             ],
             [
              0.3333333333333333,
              "#9c179e"
             ],
             [
              0.4444444444444444,
              "#bd3786"
             ],
             [
              0.5555555555555556,
              "#d8576b"
             ],
             [
              0.6666666666666666,
              "#ed7953"
             ],
             [
              0.7777777777777778,
              "#fb9f3a"
             ],
             [
              0.8888888888888888,
              "#fdca26"
             ],
             [
              1,
              "#f0f921"
             ]
            ],
            "type": "histogram2dcontour"
           }
          ],
          "mesh3d": [
           {
            "colorbar": {
             "outlinewidth": 0,
             "ticks": ""
            },
            "type": "mesh3d"
           }
          ],
          "parcoords": [
           {
            "line": {
             "colorbar": {
              "outlinewidth": 0,
              "ticks": ""
             }
            },
            "type": "parcoords"
           }
          ],
          "pie": [
           {
            "automargin": true,
            "type": "pie"
           }
          ],
          "scatter": [
           {
            "fillpattern": {
             "fillmode": "overlay",
             "size": 10,
             "solidity": 0.2
            },
            "type": "scatter"
           }
          ],
          "scatter3d": [
           {
            "line": {
             "colorbar": {
              "outlinewidth": 0,
              "ticks": ""
             }
            },
            "marker": {
             "colorbar": {
              "outlinewidth": 0,
              "ticks": ""
             }
            },
            "type": "scatter3d"
           }
          ],
          "scattercarpet": [
           {
            "marker": {
             "colorbar": {
              "outlinewidth": 0,
              "ticks": ""
             }
            },
            "type": "scattercarpet"
           }
          ],
          "scattergeo": [
           {
            "marker": {
             "colorbar": {
              "outlinewidth": 0,
              "ticks": ""
             }
            },
            "type": "scattergeo"
           }
          ],
          "scattergl": [
           {
            "marker": {
             "colorbar": {
              "outlinewidth": 0,
              "ticks": ""
             }
            },
            "type": "scattergl"
           }
          ],
          "scattermapbox": [
           {
            "marker": {
             "colorbar": {
              "outlinewidth": 0,
              "ticks": ""
             }
            },
            "type": "scattermapbox"
           }
          ],
          "scatterpolar": [
           {
            "marker": {
             "colorbar": {
              "outlinewidth": 0,
              "ticks": ""
             }
            },
            "type": "scatterpolar"
           }
          ],
          "scatterpolargl": [
           {
            "marker": {
             "colorbar": {
              "outlinewidth": 0,
              "ticks": ""
             }
            },
            "type": "scatterpolargl"
           }
          ],
          "scatterternary": [
           {
            "marker": {
             "colorbar": {
              "outlinewidth": 0,
              "ticks": ""
             }
            },
            "type": "scatterternary"
           }
          ],
          "surface": [
           {
            "colorbar": {
             "outlinewidth": 0,
             "ticks": ""
            },
            "colorscale": [
             [
              0,
              "#0d0887"
             ],
             [
              0.1111111111111111,
              "#46039f"
             ],
             [
              0.2222222222222222,
              "#7201a8"
             ],
             [
              0.3333333333333333,
              "#9c179e"
             ],
             [
              0.4444444444444444,
              "#bd3786"
             ],
             [
              0.5555555555555556,
              "#d8576b"
             ],
             [
              0.6666666666666666,
              "#ed7953"
             ],
             [
              0.7777777777777778,
              "#fb9f3a"
             ],
             [
              0.8888888888888888,
              "#fdca26"
             ],
             [
              1,
              "#f0f921"
             ]
            ],
            "type": "surface"
           }
          ],
          "table": [
           {
            "cells": {
             "fill": {
              "color": "#EBF0F8"
             },
             "line": {
              "color": "white"
             }
            },
            "header": {
             "fill": {
              "color": "#C8D4E3"
             },
             "line": {
              "color": "white"
             }
            },
            "type": "table"
           }
          ]
         },
         "layout": {
          "annotationdefaults": {
           "arrowcolor": "#2a3f5f",
           "arrowhead": 0,
           "arrowwidth": 1
          },
          "autotypenumbers": "strict",
          "coloraxis": {
           "colorbar": {
            "outlinewidth": 0,
            "ticks": ""
           }
          },
          "colorscale": {
           "diverging": [
            [
             0,
             "#8e0152"
            ],
            [
             0.1,
             "#c51b7d"
            ],
            [
             0.2,
             "#de77ae"
            ],
            [
             0.3,
             "#f1b6da"
            ],
            [
             0.4,
             "#fde0ef"
            ],
            [
             0.5,
             "#f7f7f7"
            ],
            [
             0.6,
             "#e6f5d0"
            ],
            [
             0.7,
             "#b8e186"
            ],
            [
             0.8,
             "#7fbc41"
            ],
            [
             0.9,
             "#4d9221"
            ],
            [
             1,
             "#276419"
            ]
           ],
           "sequential": [
            [
             0,
             "#0d0887"
            ],
            [
             0.1111111111111111,
             "#46039f"
            ],
            [
             0.2222222222222222,
             "#7201a8"
            ],
            [
             0.3333333333333333,
             "#9c179e"
            ],
            [
             0.4444444444444444,
             "#bd3786"
            ],
            [
             0.5555555555555556,
             "#d8576b"
            ],
            [
             0.6666666666666666,
             "#ed7953"
            ],
            [
             0.7777777777777778,
             "#fb9f3a"
            ],
            [
             0.8888888888888888,
             "#fdca26"
            ],
            [
             1,
             "#f0f921"
            ]
           ],
           "sequentialminus": [
            [
             0,
             "#0d0887"
            ],
            [
             0.1111111111111111,
             "#46039f"
            ],
            [
             0.2222222222222222,
             "#7201a8"
            ],
            [
             0.3333333333333333,
             "#9c179e"
            ],
            [
             0.4444444444444444,
             "#bd3786"
            ],
            [
             0.5555555555555556,
             "#d8576b"
            ],
            [
             0.6666666666666666,
             "#ed7953"
            ],
            [
             0.7777777777777778,
             "#fb9f3a"
            ],
            [
             0.8888888888888888,
             "#fdca26"
            ],
            [
             1,
             "#f0f921"
            ]
           ]
          },
          "colorway": [
           "#636efa",
           "#EF553B",
           "#00cc96",
           "#ab63fa",
           "#FFA15A",
           "#19d3f3",
           "#FF6692",
           "#B6E880",
           "#FF97FF",
           "#FECB52"
          ],
          "font": {
           "color": "#2a3f5f"
          },
          "geo": {
           "bgcolor": "white",
           "lakecolor": "white",
           "landcolor": "#E5ECF6",
           "showlakes": true,
           "showland": true,
           "subunitcolor": "white"
          },
          "hoverlabel": {
           "align": "left"
          },
          "hovermode": "closest",
          "mapbox": {
           "style": "light"
          },
          "paper_bgcolor": "white",
          "plot_bgcolor": "#E5ECF6",
          "polar": {
           "angularaxis": {
            "gridcolor": "white",
            "linecolor": "white",
            "ticks": ""
           },
           "bgcolor": "#E5ECF6",
           "radialaxis": {
            "gridcolor": "white",
            "linecolor": "white",
            "ticks": ""
           }
          },
          "scene": {
           "xaxis": {
            "backgroundcolor": "#E5ECF6",
            "gridcolor": "white",
            "gridwidth": 2,
            "linecolor": "white",
            "showbackground": true,
            "ticks": "",
            "zerolinecolor": "white"
           },
           "yaxis": {
            "backgroundcolor": "#E5ECF6",
            "gridcolor": "white",
            "gridwidth": 2,
            "linecolor": "white",
            "showbackground": true,
            "ticks": "",
            "zerolinecolor": "white"
           },
           "zaxis": {
            "backgroundcolor": "#E5ECF6",
            "gridcolor": "white",
            "gridwidth": 2,
            "linecolor": "white",
            "showbackground": true,
            "ticks": "",
            "zerolinecolor": "white"
           }
          },
          "shapedefaults": {
           "line": {
            "color": "#2a3f5f"
           }
          },
          "ternary": {
           "aaxis": {
            "gridcolor": "white",
            "linecolor": "white",
            "ticks": ""
           },
           "baxis": {
            "gridcolor": "white",
            "linecolor": "white",
            "ticks": ""
           },
           "bgcolor": "#E5ECF6",
           "caxis": {
            "gridcolor": "white",
            "linecolor": "white",
            "ticks": ""
           }
          },
          "title": {
           "x": 0.05
          },
          "xaxis": {
           "automargin": true,
           "gridcolor": "white",
           "linecolor": "white",
           "ticks": "",
           "title": {
            "standoff": 15
           },
           "zerolinecolor": "white",
           "zerolinewidth": 2
          },
          "yaxis": {
           "automargin": true,
           "gridcolor": "white",
           "linecolor": "white",
           "ticks": "",
           "title": {
            "standoff": 15
           },
           "zerolinecolor": "white",
           "zerolinewidth": 2
          }
         }
        },
        "xaxis": {
         "anchor": "y",
         "domain": [
          0,
          1
         ],
         "title": {
          "text": "index"
         }
        },
        "yaxis": {
         "anchor": "x",
         "domain": [
          0,
          1
         ],
         "title": {
          "text": "value"
         }
        }
       }
      }
     },
     "metadata": {},
     "output_type": "display_data"
    }
   ],
   "source": [
    "import plotly.express as px\n",
    "fig = px.line({'accuracy': history.history['accuracy'], 'val_accuracy': history.history['val_accuracy']})\n",
    "fig.show()"
   ]
  },
  {
   "cell_type": "code",
   "execution_count": 84,
   "metadata": {},
   "outputs": [
    {
     "data": {
      "text/html": [
       "Waiting for W&B process to finish... <strong style=\"color:green\">(success).</strong>"
      ],
      "text/plain": [
       "<IPython.core.display.HTML object>"
      ]
     },
     "metadata": {},
     "output_type": "display_data"
    },
    {
     "data": {
      "text/html": [
       "<style>\n",
       "    table.wandb td:nth-child(1) { padding: 0 10px; text-align: left ; width: auto;} td:nth-child(2) {text-align: left ; width: 100%}\n",
       "    .wandb-row { display: flex; flex-direction: row; flex-wrap: wrap; justify-content: flex-start; width: 100% }\n",
       "    .wandb-col { display: flex; flex-direction: column; flex-basis: 100%; flex: 1; padding: 10px; }\n",
       "    </style>\n",
       "<div class=\"wandb-row\"><div class=\"wandb-col\"><h3>Run history:</h3><br/><table class=\"wandb\"><tr><td>accuracy</td><td>▁▃▅▅▇▇▇▆█▇▇▇█▇▇▇▇██▇▇█▇▇▇▇▇▇█▇█████▇▇▇█▇</td></tr><tr><td>epoch</td><td>▁▁▁▁▂▂▂▂▂▃▃▃▃▃▃▄▄▄▄▄▅▅▅▅▅▅▆▆▆▆▆▆▇▇▇▇▇███</td></tr><tr><td>loss</td><td>█▆▅▄▂▃▃▂▂▂▂▂▂▂▂▂▂▁▂▂▂▁▁▂▁▂▁▂▂▂▁▁▁▁▁▁▂▁▁▁</td></tr><tr><td>lr</td><td>████████▇▆▅▄▃▃▂▂▂▂▂▁▁▁▁▁▁▁▁▁▁▁▁▁▁▁▁▁▁▁▁▁</td></tr><tr><td>val_accuracy</td><td>▁▄▅▆▇▇▇▇██▇▇████████████████████████████</td></tr><tr><td>val_loss</td><td>█▆▃▃▂▂▂▂▁▁▁▁▁▁▁▁▁▁▁▁▁▁▁▁▁▁▁▁▁▁▁▁▁▁▁▁▁▁▁▁</td></tr></table><br/></div><div class=\"wandb-col\"><h3>Run summary:</h3><br/><table class=\"wandb\"><tr><td>accuracy</td><td>0.82658</td></tr><tr><td>best_epoch</td><td>23</td></tr><tr><td>best_val_loss</td><td>0.42003</td></tr><tr><td>epoch</td><td>49</td></tr><tr><td>loss</td><td>0.39504</td></tr><tr><td>lr</td><td>0.0</td></tr><tr><td>val_accuracy</td><td>0.83019</td></tr><tr><td>val_loss</td><td>0.42011</td></tr></table><br/></div></div>"
      ],
      "text/plain": [
       "<IPython.core.display.HTML object>"
      ]
     },
     "metadata": {},
     "output_type": "display_data"
    },
    {
     "data": {
      "text/html": [
       " View run <strong style=\"color:#cdcd00\">tensorflow-32-16-8</strong> at: <a href='https://wandb.ai/ns-super-team/assignment-1/runs/hna4uem0' target=\"_blank\">https://wandb.ai/ns-super-team/assignment-1/runs/hna4uem0</a><br/>Synced 5 W&B file(s), 1 media file(s), 72 artifact file(s) and 1 other file(s)"
      ],
      "text/plain": [
       "<IPython.core.display.HTML object>"
      ]
     },
     "metadata": {},
     "output_type": "display_data"
    },
    {
     "data": {
      "text/html": [
       "Find logs at: <code>.\\wandb\\run-20230330_141912-hna4uem0\\logs</code>"
      ],
      "text/plain": [
       "<IPython.core.display.HTML object>"
      ]
     },
     "metadata": {},
     "output_type": "display_data"
    }
   ],
   "source": [
    "wandb.finish()"
   ]
  }
 ],
 "metadata": {
  "kernelspec": {
   "display_name": "ns-env",
   "language": "python",
   "name": "python3"
  },
  "language_info": {
   "codemirror_mode": {
    "name": "ipython",
    "version": 3
   },
   "file_extension": ".py",
   "mimetype": "text/x-python",
   "name": "python",
   "nbconvert_exporter": "python",
   "pygments_lexer": "ipython3",
   "version": "3.9.16"
  },
  "orig_nbformat": 4
 },
 "nbformat": 4,
 "nbformat_minor": 2
}
