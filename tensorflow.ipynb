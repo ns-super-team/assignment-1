{
 "cells": [
  {
   "cell_type": "code",
   "execution_count": 23,
   "metadata": {},
   "outputs": [],
   "source": [
    "import tensorflow as tf\n",
    "import pandas as pd\n",
    "import numpy as np\n",
    "import wandb"
   ]
  },
  {
   "attachments": {},
   "cell_type": "markdown",
   "metadata": {},
   "source": [
    "# Tensorflow"
   ]
  },
  {
   "attachments": {},
   "cell_type": "markdown",
   "metadata": {},
   "source": [
    "#### Config"
   ]
  },
  {
   "cell_type": "code",
   "execution_count": 24,
   "metadata": {},
   "outputs": [],
   "source": [
    "import configs\n",
    "config = configs.config_1"
   ]
  },
  {
   "attachments": {},
   "cell_type": "markdown",
   "metadata": {},
   "source": [
    "### WandB connection"
   ]
  },
  {
   "cell_type": "code",
   "execution_count": 25,
   "metadata": {},
   "outputs": [],
   "source": [
    "\n",
    "# wandb.login()\n",
    "# wandb.init(project=\"assignment-1\", name=\"tensorflow\", reinit=True)"
   ]
  },
  {
   "attachments": {},
   "cell_type": "markdown",
   "metadata": {},
   "source": [
    "### Loading the data"
   ]
  },
  {
   "cell_type": "code",
   "execution_count": 26,
   "metadata": {},
   "outputs": [
    {
     "name": "stdout",
     "output_type": "stream",
     "text": [
      "[2.         0.33221272 1.         1.         3.5115454 ]\n",
      "[1.]\n",
      "\n",
      "[ 3.        -0.6710254  0.         0.         2.180892 ]\n",
      "[0.]\n"
     ]
    }
   ],
   "source": [
    "x_train = pd.read_csv('data/train/data.csv').to_numpy(dtype='float32')\n",
    "y_train = pd.read_csv('data/train/labels.csv').to_numpy(dtype='float32')\n",
    "\n",
    "x_val = pd.read_csv('data/val/data.csv').to_numpy(dtype='float32')\n",
    "y_val = pd.read_csv('data/val/labels.csv').to_numpy(dtype='float32')\n",
    "\n",
    "print(x_train[0])\n",
    "print(y_train[0])\n",
    "print()\n",
    "print(x_val[0])\n",
    "print(y_val[0])"
   ]
  },
  {
   "attachments": {},
   "cell_type": "markdown",
   "metadata": {},
   "source": [
    "### Building a model"
   ]
  },
  {
   "cell_type": "code",
   "execution_count": 27,
   "metadata": {},
   "outputs": [],
   "source": [
    "model = tf.keras.Sequential([\n",
    "    tf.keras.layers.InputLayer(input_shape=(5,)),\n",
    "    tf.keras.layers.Dense(16, activation='relu'),\n",
    "    tf.keras.layers.Dropout(rate=config['dropout_rate']),\n",
    "    tf.keras.layers.Dense(8, activation='relu'),\n",
    "    tf.keras.layers.Dropout(rate=config['dropout_rate']),\n",
    "    tf.keras.layers.Dense(1, activation='sigmoid'),    \n",
    "])"
   ]
  },
  {
   "cell_type": "code",
   "execution_count": 28,
   "metadata": {},
   "outputs": [
    {
     "name": "stdout",
     "output_type": "stream",
     "text": [
      "Model: \"sequential_2\"\n",
      "_________________________________________________________________\n",
      " Layer (type)                Output Shape              Param #   \n",
      "=================================================================\n",
      " dense_6 (Dense)             (None, 16)                96        \n",
      "                                                                 \n",
      " dropout_4 (Dropout)         (None, 16)                0         \n",
      "                                                                 \n",
      " dense_7 (Dense)             (None, 8)                 136       \n",
      "                                                                 \n",
      " dropout_5 (Dropout)         (None, 8)                 0         \n",
      "                                                                 \n",
      " dense_8 (Dense)             (None, 1)                 9         \n",
      "                                                                 \n",
      "=================================================================\n",
      "Total params: 241\n",
      "Trainable params: 241\n",
      "Non-trainable params: 0\n",
      "_________________________________________________________________\n"
     ]
    }
   ],
   "source": [
    "model.summary()"
   ]
  },
  {
   "cell_type": "code",
   "execution_count": 29,
   "metadata": {},
   "outputs": [],
   "source": [
    "if config['optimizer'] == 'SGD':\n",
    "    optimizer = tf.keras.optimizers.SGD(learning_rate=config['learning_rate'])\n",
    "elif config['optimizer'] == 'Adam':\n",
    "    optimizer = tf.keras.optimizers.Adam(learning_rate=config['learning_rate'])\n",
    "\n",
    "model.compile(\n",
    "    optimizer=optimizer,\n",
    "    loss='binary_crossentropy',\n",
    "    metrics=['accuracy']\n",
    ")"
   ]
  },
  {
   "cell_type": "code",
   "execution_count": 30,
   "metadata": {},
   "outputs": [],
   "source": [
    "def lr_scheduler(epoch, lr):\n",
    "    if epoch < 10:\n",
    "        return lr\n",
    "    else:\n",
    "        #return 1 / (1 + config['decay_rate'] * epoch) * config['learning_rate']\\n\",\n",
    "        return (0.99 ** epoch) * config['learning_rate']\n",
    "\n",
    "scheduler_callback = tf.keras.callbacks.LearningRateScheduler(lr_scheduler)"
   ]
  },
  {
   "attachments": {},
   "cell_type": "markdown",
   "metadata": {},
   "source": [
    "### Training the model"
   ]
  },
  {
   "cell_type": "code",
   "execution_count": 31,
   "metadata": {},
   "outputs": [
    {
     "name": "stdout",
     "output_type": "stream",
     "text": [
      "Epoch 1/100\n",
      "20/20 [==============================] - 1s 18ms/step - loss: 1.0236 - accuracy: 0.3857 - val_loss: 0.7928 - val_accuracy: 0.3774 - lr: 0.0100\n",
      "Epoch 2/100\n",
      "20/20 [==============================] - 0s 5ms/step - loss: 0.7292 - accuracy: 0.4003 - val_loss: 0.7016 - val_accuracy: 0.4000 - lr: 0.0100\n",
      "Epoch 3/100\n",
      "20/20 [==============================] - 0s 5ms/step - loss: 0.6793 - accuracy: 0.6094 - val_loss: 0.6773 - val_accuracy: 0.6415 - lr: 0.0100\n",
      "Epoch 4/100\n",
      "20/20 [==============================] - 0s 5ms/step - loss: 0.6624 - accuracy: 0.6661 - val_loss: 0.6639 - val_accuracy: 0.6340 - lr: 0.0100\n",
      "Epoch 5/100\n",
      "20/20 [==============================] - 0s 5ms/step - loss: 0.6515 - accuracy: 0.6645 - val_loss: 0.6567 - val_accuracy: 0.6264 - lr: 0.0100\n",
      "Epoch 6/100\n",
      "20/20 [==============================] - 0s 5ms/step - loss: 0.6437 - accuracy: 0.6613 - val_loss: 0.6506 - val_accuracy: 0.6302 - lr: 0.0100\n",
      "Epoch 7/100\n",
      "20/20 [==============================] - 0s 5ms/step - loss: 0.6365 - accuracy: 0.6580 - val_loss: 0.6464 - val_accuracy: 0.6491 - lr: 0.0100\n",
      "Epoch 8/100\n",
      "20/20 [==============================] - 0s 5ms/step - loss: 0.6314 - accuracy: 0.6823 - val_loss: 0.6419 - val_accuracy: 0.6528 - lr: 0.0100\n",
      "Epoch 9/100\n",
      "20/20 [==============================] - 0s 5ms/step - loss: 0.6261 - accuracy: 0.6953 - val_loss: 0.6379 - val_accuracy: 0.6453 - lr: 0.0100\n",
      "Epoch 10/100\n",
      "20/20 [==============================] - 0s 5ms/step - loss: 0.6218 - accuracy: 0.6872 - val_loss: 0.6347 - val_accuracy: 0.6642 - lr: 0.0100\n",
      "Epoch 11/100\n",
      "20/20 [==============================] - 0s 5ms/step - loss: 0.6179 - accuracy: 0.7018 - val_loss: 0.6317 - val_accuracy: 0.6717 - lr: 0.0090\n",
      "Epoch 12/100\n",
      "20/20 [==============================] - 0s 5ms/step - loss: 0.6148 - accuracy: 0.7066 - val_loss: 0.6291 - val_accuracy: 0.6566 - lr: 0.0090\n",
      "Epoch 13/100\n",
      "20/20 [==============================] - 0s 6ms/step - loss: 0.6110 - accuracy: 0.7099 - val_loss: 0.6270 - val_accuracy: 0.6604 - lr: 0.0089\n",
      "Epoch 14/100\n",
      "20/20 [==============================] - 0s 5ms/step - loss: 0.6081 - accuracy: 0.7034 - val_loss: 0.6239 - val_accuracy: 0.6755 - lr: 0.0088\n",
      "Epoch 15/100\n",
      "20/20 [==============================] - 0s 5ms/step - loss: 0.6050 - accuracy: 0.7002 - val_loss: 0.6214 - val_accuracy: 0.6755 - lr: 0.0087\n",
      "Epoch 16/100\n",
      "20/20 [==============================] - 0s 5ms/step - loss: 0.6016 - accuracy: 0.7034 - val_loss: 0.6194 - val_accuracy: 0.6755 - lr: 0.0086\n",
      "Epoch 17/100\n",
      "20/20 [==============================] - 0s 7ms/step - loss: 0.5993 - accuracy: 0.7050 - val_loss: 0.6173 - val_accuracy: 0.6868 - lr: 0.0085\n",
      "Epoch 18/100\n",
      "20/20 [==============================] - 0s 5ms/step - loss: 0.5961 - accuracy: 0.7099 - val_loss: 0.6155 - val_accuracy: 0.6943 - lr: 0.0084\n",
      "Epoch 19/100\n",
      "20/20 [==============================] - 0s 5ms/step - loss: 0.5941 - accuracy: 0.7131 - val_loss: 0.6135 - val_accuracy: 0.6943 - lr: 0.0083\n",
      "Epoch 20/100\n",
      "20/20 [==============================] - 0s 6ms/step - loss: 0.5920 - accuracy: 0.7115 - val_loss: 0.6120 - val_accuracy: 0.6906 - lr: 0.0083\n",
      "Epoch 21/100\n",
      "20/20 [==============================] - 0s 6ms/step - loss: 0.5894 - accuracy: 0.7099 - val_loss: 0.6110 - val_accuracy: 0.6943 - lr: 0.0082\n",
      "Epoch 22/100\n",
      "20/20 [==============================] - 0s 5ms/step - loss: 0.5878 - accuracy: 0.7034 - val_loss: 0.6096 - val_accuracy: 0.6943 - lr: 0.0081\n",
      "Epoch 23/100\n",
      "20/20 [==============================] - 0s 6ms/step - loss: 0.5861 - accuracy: 0.7050 - val_loss: 0.6081 - val_accuracy: 0.7019 - lr: 0.0080\n",
      "Epoch 24/100\n",
      "20/20 [==============================] - 0s 5ms/step - loss: 0.5841 - accuracy: 0.7050 - val_loss: 0.6071 - val_accuracy: 0.6981 - lr: 0.0079\n",
      "Epoch 25/100\n",
      "20/20 [==============================] - 0s 5ms/step - loss: 0.5826 - accuracy: 0.7050 - val_loss: 0.6062 - val_accuracy: 0.6981 - lr: 0.0079\n",
      "Epoch 26/100\n",
      "20/20 [==============================] - 0s 5ms/step - loss: 0.5811 - accuracy: 0.7066 - val_loss: 0.6052 - val_accuracy: 0.7019 - lr: 0.0078\n",
      "Epoch 27/100\n",
      "20/20 [==============================] - 0s 5ms/step - loss: 0.5803 - accuracy: 0.7099 - val_loss: 0.6047 - val_accuracy: 0.6981 - lr: 0.0077\n",
      "Epoch 28/100\n",
      "20/20 [==============================] - 0s 5ms/step - loss: 0.5787 - accuracy: 0.7066 - val_loss: 0.6042 - val_accuracy: 0.7019 - lr: 0.0076\n",
      "Epoch 29/100\n",
      "20/20 [==============================] - 0s 6ms/step - loss: 0.5774 - accuracy: 0.7050 - val_loss: 0.6030 - val_accuracy: 0.6981 - lr: 0.0075\n",
      "Epoch 30/100\n",
      "20/20 [==============================] - 0s 5ms/step - loss: 0.5763 - accuracy: 0.7115 - val_loss: 0.6027 - val_accuracy: 0.6981 - lr: 0.0075\n",
      "Epoch 31/100\n",
      "20/20 [==============================] - 0s 6ms/step - loss: 0.5749 - accuracy: 0.7066 - val_loss: 0.6019 - val_accuracy: 0.6981 - lr: 0.0074\n",
      "Epoch 32/100\n",
      "20/20 [==============================] - 0s 6ms/step - loss: 0.5741 - accuracy: 0.7115 - val_loss: 0.6010 - val_accuracy: 0.7057 - lr: 0.0073\n",
      "Epoch 33/100\n",
      "20/20 [==============================] - 0s 5ms/step - loss: 0.5735 - accuracy: 0.7099 - val_loss: 0.6006 - val_accuracy: 0.7019 - lr: 0.0072\n",
      "Epoch 34/100\n",
      "20/20 [==============================] - 0s 5ms/step - loss: 0.5724 - accuracy: 0.7115 - val_loss: 0.6006 - val_accuracy: 0.7019 - lr: 0.0072\n",
      "Epoch 35/100\n",
      "20/20 [==============================] - 0s 5ms/step - loss: 0.5720 - accuracy: 0.7115 - val_loss: 0.6002 - val_accuracy: 0.7019 - lr: 0.0071\n",
      "Epoch 36/100\n",
      "20/20 [==============================] - 0s 6ms/step - loss: 0.5713 - accuracy: 0.7180 - val_loss: 0.5998 - val_accuracy: 0.7019 - lr: 0.0070\n",
      "Epoch 37/100\n",
      "20/20 [==============================] - 0s 5ms/step - loss: 0.5702 - accuracy: 0.7115 - val_loss: 0.6005 - val_accuracy: 0.6981 - lr: 0.0070\n",
      "Epoch 38/100\n",
      "20/20 [==============================] - 0s 5ms/step - loss: 0.5699 - accuracy: 0.7050 - val_loss: 0.5995 - val_accuracy: 0.7019 - lr: 0.0069\n",
      "Epoch 39/100\n",
      "20/20 [==============================] - 0s 6ms/step - loss: 0.5692 - accuracy: 0.7164 - val_loss: 0.5991 - val_accuracy: 0.7057 - lr: 0.0068\n",
      "Epoch 40/100\n",
      "20/20 [==============================] - 0s 5ms/step - loss: 0.5687 - accuracy: 0.7147 - val_loss: 0.5989 - val_accuracy: 0.7057 - lr: 0.0068\n",
      "Epoch 41/100\n",
      "20/20 [==============================] - 0s 5ms/step - loss: 0.5676 - accuracy: 0.7131 - val_loss: 0.5990 - val_accuracy: 0.7019 - lr: 0.0067\n",
      "Epoch 42/100\n",
      "20/20 [==============================] - 0s 6ms/step - loss: 0.5675 - accuracy: 0.7115 - val_loss: 0.5989 - val_accuracy: 0.7019 - lr: 0.0066\n",
      "Epoch 43/100\n",
      "20/20 [==============================] - 0s 5ms/step - loss: 0.5666 - accuracy: 0.7164 - val_loss: 0.5983 - val_accuracy: 0.7019 - lr: 0.0066\n",
      "Epoch 44/100\n",
      "20/20 [==============================] - 0s 6ms/step - loss: 0.5659 - accuracy: 0.7131 - val_loss: 0.5982 - val_accuracy: 0.7019 - lr: 0.0065\n",
      "Epoch 45/100\n",
      "20/20 [==============================] - 0s 6ms/step - loss: 0.5660 - accuracy: 0.7164 - val_loss: 0.5979 - val_accuracy: 0.7019 - lr: 0.0064\n",
      "Epoch 46/100\n",
      "20/20 [==============================] - 0s 7ms/step - loss: 0.5658 - accuracy: 0.7131 - val_loss: 0.5976 - val_accuracy: 0.7019 - lr: 0.0064\n",
      "Epoch 47/100\n",
      "20/20 [==============================] - 0s 7ms/step - loss: 0.5646 - accuracy: 0.7180 - val_loss: 0.5983 - val_accuracy: 0.7019 - lr: 0.0063\n",
      "Epoch 48/100\n",
      "20/20 [==============================] - 0s 7ms/step - loss: 0.5644 - accuracy: 0.7147 - val_loss: 0.5986 - val_accuracy: 0.7019 - lr: 0.0062\n",
      "Epoch 49/100\n",
      "20/20 [==============================] - 0s 7ms/step - loss: 0.5640 - accuracy: 0.7147 - val_loss: 0.5988 - val_accuracy: 0.7019 - lr: 0.0062\n",
      "Epoch 50/100\n",
      "20/20 [==============================] - 0s 7ms/step - loss: 0.5637 - accuracy: 0.7131 - val_loss: 0.5978 - val_accuracy: 0.7019 - lr: 0.0061\n",
      "Epoch 51/100\n",
      "20/20 [==============================] - 0s 7ms/step - loss: 0.5635 - accuracy: 0.7115 - val_loss: 0.5985 - val_accuracy: 0.7019 - lr: 0.0061\n",
      "Epoch 52/100\n",
      "20/20 [==============================] - 0s 7ms/step - loss: 0.5629 - accuracy: 0.7131 - val_loss: 0.5980 - val_accuracy: 0.7057 - lr: 0.0060\n",
      "Epoch 53/100\n",
      "20/20 [==============================] - 0s 7ms/step - loss: 0.5632 - accuracy: 0.7115 - val_loss: 0.5978 - val_accuracy: 0.6981 - lr: 0.0059\n",
      "Epoch 54/100\n",
      "20/20 [==============================] - 0s 7ms/step - loss: 0.5624 - accuracy: 0.7131 - val_loss: 0.5982 - val_accuracy: 0.7057 - lr: 0.0059\n",
      "Epoch 55/100\n",
      "20/20 [==============================] - 0s 7ms/step - loss: 0.5623 - accuracy: 0.7066 - val_loss: 0.5976 - val_accuracy: 0.6981 - lr: 0.0058\n",
      "Epoch 56/100\n",
      "20/20 [==============================] - 0s 7ms/step - loss: 0.5616 - accuracy: 0.7196 - val_loss: 0.5979 - val_accuracy: 0.7019 - lr: 0.0058\n",
      "Epoch 57/100\n",
      "20/20 [==============================] - 0s 7ms/step - loss: 0.5623 - accuracy: 0.7147 - val_loss: 0.5983 - val_accuracy: 0.7019 - lr: 0.0057\n",
      "Epoch 58/100\n",
      "20/20 [==============================] - 0s 7ms/step - loss: 0.5613 - accuracy: 0.7131 - val_loss: 0.5972 - val_accuracy: 0.6981 - lr: 0.0056\n",
      "Epoch 59/100\n",
      "20/20 [==============================] - 0s 7ms/step - loss: 0.5614 - accuracy: 0.7083 - val_loss: 0.5974 - val_accuracy: 0.6943 - lr: 0.0056\n",
      "Epoch 60/100\n",
      "20/20 [==============================] - 0s 7ms/step - loss: 0.5610 - accuracy: 0.7180 - val_loss: 0.5979 - val_accuracy: 0.7019 - lr: 0.0055\n",
      "Epoch 61/100\n",
      "20/20 [==============================] - 0s 7ms/step - loss: 0.5613 - accuracy: 0.7164 - val_loss: 0.5978 - val_accuracy: 0.6943 - lr: 0.0055\n",
      "Epoch 62/100\n",
      "20/20 [==============================] - 0s 7ms/step - loss: 0.5606 - accuracy: 0.7115 - val_loss: 0.5981 - val_accuracy: 0.7019 - lr: 0.0054\n",
      "Epoch 63/100\n",
      "20/20 [==============================] - 0s 7ms/step - loss: 0.5604 - accuracy: 0.7147 - val_loss: 0.5977 - val_accuracy: 0.6943 - lr: 0.0054\n",
      "Epoch 64/100\n",
      "20/20 [==============================] - 0s 7ms/step - loss: 0.5607 - accuracy: 0.7131 - val_loss: 0.5980 - val_accuracy: 0.6981 - lr: 0.0053\n",
      "Epoch 65/100\n",
      "20/20 [==============================] - 0s 7ms/step - loss: 0.5603 - accuracy: 0.7147 - val_loss: 0.5977 - val_accuracy: 0.6943 - lr: 0.0053\n",
      "Epoch 66/100\n",
      "20/20 [==============================] - 0s 7ms/step - loss: 0.5601 - accuracy: 0.7180 - val_loss: 0.5977 - val_accuracy: 0.6943 - lr: 0.0052\n",
      "Epoch 67/100\n",
      "20/20 [==============================] - 0s 7ms/step - loss: 0.5597 - accuracy: 0.7099 - val_loss: 0.5970 - val_accuracy: 0.6943 - lr: 0.0052\n",
      "Epoch 68/100\n",
      "20/20 [==============================] - 0s 7ms/step - loss: 0.5598 - accuracy: 0.7147 - val_loss: 0.5970 - val_accuracy: 0.6943 - lr: 0.0051\n",
      "Epoch 69/100\n",
      "20/20 [==============================] - 0s 7ms/step - loss: 0.5596 - accuracy: 0.7131 - val_loss: 0.5971 - val_accuracy: 0.6943 - lr: 0.0050\n",
      "Epoch 70/100\n",
      "20/20 [==============================] - 0s 7ms/step - loss: 0.5597 - accuracy: 0.7164 - val_loss: 0.5968 - val_accuracy: 0.6943 - lr: 0.0050\n",
      "Epoch 71/100\n",
      "20/20 [==============================] - 0s 9ms/step - loss: 0.5595 - accuracy: 0.7115 - val_loss: 0.5968 - val_accuracy: 0.6906 - lr: 0.0049\n",
      "Epoch 72/100\n",
      "20/20 [==============================] - 0s 7ms/step - loss: 0.5598 - accuracy: 0.7164 - val_loss: 0.5974 - val_accuracy: 0.6943 - lr: 0.0049\n",
      "Epoch 73/100\n",
      "20/20 [==============================] - 0s 7ms/step - loss: 0.5591 - accuracy: 0.7147 - val_loss: 0.5974 - val_accuracy: 0.6943 - lr: 0.0048\n",
      "Epoch 74/100\n",
      "20/20 [==============================] - 0s 7ms/step - loss: 0.5594 - accuracy: 0.7131 - val_loss: 0.5991 - val_accuracy: 0.7019 - lr: 0.0048\n",
      "Epoch 75/100\n",
      "20/20 [==============================] - 0s 7ms/step - loss: 0.5589 - accuracy: 0.7180 - val_loss: 0.5970 - val_accuracy: 0.6906 - lr: 0.0048\n",
      "Epoch 76/100\n",
      "20/20 [==============================] - 0s 7ms/step - loss: 0.5586 - accuracy: 0.7164 - val_loss: 0.5969 - val_accuracy: 0.6906 - lr: 0.0047\n",
      "Epoch 77/100\n",
      "20/20 [==============================] - 0s 7ms/step - loss: 0.5591 - accuracy: 0.7147 - val_loss: 0.5975 - val_accuracy: 0.6943 - lr: 0.0047\n",
      "Epoch 78/100\n",
      "20/20 [==============================] - 0s 7ms/step - loss: 0.5585 - accuracy: 0.7115 - val_loss: 0.5976 - val_accuracy: 0.6943 - lr: 0.0046\n",
      "Epoch 79/100\n",
      "20/20 [==============================] - 0s 7ms/step - loss: 0.5588 - accuracy: 0.7131 - val_loss: 0.5987 - val_accuracy: 0.6981 - lr: 0.0046\n",
      "Epoch 80/100\n",
      "20/20 [==============================] - 0s 7ms/step - loss: 0.5588 - accuracy: 0.7115 - val_loss: 0.5991 - val_accuracy: 0.6981 - lr: 0.0045\n",
      "Epoch 81/100\n",
      "20/20 [==============================] - 0s 7ms/step - loss: 0.5584 - accuracy: 0.7180 - val_loss: 0.5974 - val_accuracy: 0.6906 - lr: 0.0045\n",
      "Epoch 82/100\n",
      "20/20 [==============================] - 0s 7ms/step - loss: 0.5583 - accuracy: 0.7115 - val_loss: 0.5975 - val_accuracy: 0.6906 - lr: 0.0044\n",
      "Epoch 83/100\n",
      "20/20 [==============================] - 0s 7ms/step - loss: 0.5584 - accuracy: 0.7147 - val_loss: 0.5971 - val_accuracy: 0.6906 - lr: 0.0044\n",
      "Epoch 84/100\n",
      "20/20 [==============================] - 0s 7ms/step - loss: 0.5583 - accuracy: 0.7147 - val_loss: 0.5969 - val_accuracy: 0.6868 - lr: 0.0043\n",
      "Epoch 85/100\n",
      "20/20 [==============================] - 0s 7ms/step - loss: 0.5581 - accuracy: 0.7147 - val_loss: 0.5971 - val_accuracy: 0.6868 - lr: 0.0043\n",
      "Epoch 86/100\n",
      "20/20 [==============================] - 0s 7ms/step - loss: 0.5579 - accuracy: 0.7099 - val_loss: 0.5970 - val_accuracy: 0.6868 - lr: 0.0043\n",
      "Epoch 87/100\n",
      "20/20 [==============================] - 0s 7ms/step - loss: 0.5580 - accuracy: 0.7115 - val_loss: 0.5970 - val_accuracy: 0.6868 - lr: 0.0042\n",
      "Epoch 88/100\n",
      "20/20 [==============================] - 0s 7ms/step - loss: 0.5575 - accuracy: 0.7099 - val_loss: 0.5971 - val_accuracy: 0.6868 - lr: 0.0042\n",
      "Epoch 89/100\n",
      "20/20 [==============================] - 0s 7ms/step - loss: 0.5576 - accuracy: 0.7147 - val_loss: 0.5976 - val_accuracy: 0.6906 - lr: 0.0041\n",
      "Epoch 90/100\n",
      "20/20 [==============================] - 0s 7ms/step - loss: 0.5574 - accuracy: 0.7099 - val_loss: 0.5975 - val_accuracy: 0.6906 - lr: 0.0041\n",
      "Epoch 91/100\n",
      "20/20 [==============================] - 0s 7ms/step - loss: 0.5576 - accuracy: 0.7099 - val_loss: 0.5968 - val_accuracy: 0.6868 - lr: 0.0040\n",
      "Epoch 92/100\n",
      "20/20 [==============================] - 0s 7ms/step - loss: 0.5574 - accuracy: 0.7196 - val_loss: 0.5970 - val_accuracy: 0.6868 - lr: 0.0040\n",
      "Epoch 93/100\n",
      "20/20 [==============================] - 0s 7ms/step - loss: 0.5572 - accuracy: 0.7099 - val_loss: 0.5968 - val_accuracy: 0.6868 - lr: 0.0040\n",
      "Epoch 94/100\n",
      "20/20 [==============================] - 0s 7ms/step - loss: 0.5572 - accuracy: 0.7115 - val_loss: 0.5969 - val_accuracy: 0.6868 - lr: 0.0039\n",
      "Epoch 95/100\n",
      "20/20 [==============================] - 0s 7ms/step - loss: 0.5572 - accuracy: 0.7115 - val_loss: 0.5975 - val_accuracy: 0.6906 - lr: 0.0039\n",
      "Epoch 96/100\n",
      "20/20 [==============================] - 0s 7ms/step - loss: 0.5572 - accuracy: 0.7099 - val_loss: 0.5980 - val_accuracy: 0.6943 - lr: 0.0038\n",
      "Epoch 97/100\n",
      "20/20 [==============================] - 0s 7ms/step - loss: 0.5571 - accuracy: 0.7115 - val_loss: 0.5982 - val_accuracy: 0.6943 - lr: 0.0038\n",
      "Epoch 98/100\n",
      "20/20 [==============================] - 0s 7ms/step - loss: 0.5571 - accuracy: 0.7099 - val_loss: 0.5979 - val_accuracy: 0.6943 - lr: 0.0038\n",
      "Epoch 99/100\n",
      "20/20 [==============================] - 0s 7ms/step - loss: 0.5568 - accuracy: 0.7099 - val_loss: 0.5979 - val_accuracy: 0.6943 - lr: 0.0037\n",
      "Epoch 100/100\n",
      "20/20 [==============================] - 0s 7ms/step - loss: 0.5569 - accuracy: 0.7099 - val_loss: 0.5971 - val_accuracy: 0.6868 - lr: 0.0037\n"
     ]
    }
   ],
   "source": [
    "history=model.fit(\n",
    "    x_train,\n",
    "    y_train,\n",
    "    epochs=config['epochs'],\n",
    "    validation_data=(x_val, y_val),\n",
    "    batch_size=config['batch_size'],\n",
    "    shuffle=True,\n",
    "    callbacks=[\n",
    "        scheduler_callback,\n",
    "        #wandb.keras.WandbCallback()\n",
    "    ]\n",
    ")"
   ]
  },
  {
   "cell_type": "code",
   "execution_count": 32,
   "metadata": {},
   "outputs": [
    {
     "data": {
      "application/vnd.plotly.v1+json": {
       "config": {
        "plotlyServerURL": "https://plot.ly"
       },
       "data": [
        {
         "hovertemplate": "variable=loss<br>index=%{x}<br>value=%{y}<extra></extra>",
         "legendgroup": "loss",
         "line": {
          "color": "#636efa",
          "dash": "solid"
         },
         "marker": {
          "symbol": "circle"
         },
         "mode": "lines",
         "name": "loss",
         "orientation": "v",
         "showlegend": true,
         "type": "scatter",
         "x": [
          0,
          1,
          2,
          3,
          4,
          5,
          6,
          7,
          8,
          9,
          10,
          11,
          12,
          13,
          14,
          15,
          16,
          17,
          18,
          19,
          20,
          21,
          22,
          23,
          24,
          25,
          26,
          27,
          28,
          29,
          30,
          31,
          32,
          33,
          34,
          35,
          36,
          37,
          38,
          39,
          40,
          41,
          42,
          43,
          44,
          45,
          46,
          47,
          48,
          49,
          50,
          51,
          52,
          53,
          54,
          55,
          56,
          57,
          58,
          59,
          60,
          61,
          62,
          63,
          64,
          65,
          66,
          67,
          68,
          69,
          70,
          71,
          72,
          73,
          74,
          75,
          76,
          77,
          78,
          79,
          80,
          81,
          82,
          83,
          84,
          85,
          86,
          87,
          88,
          89,
          90,
          91,
          92,
          93,
          94,
          95,
          96,
          97,
          98,
          99
         ],
         "xaxis": "x",
         "y": [
          1.0236097574234009,
          0.7291604280471802,
          0.6792533993721008,
          0.6624126434326172,
          0.6515467166900635,
          0.6436697244644165,
          0.6365336775779724,
          0.6313938498497009,
          0.6261164546012878,
          0.6218143105506897,
          0.6179167032241821,
          0.6148183345794678,
          0.6110263466835022,
          0.6080800294876099,
          0.6049525737762451,
          0.6016368865966797,
          0.5993194580078125,
          0.5961405038833618,
          0.594085156917572,
          0.591968297958374,
          0.5893979072570801,
          0.5878352522850037,
          0.5860884785652161,
          0.5840620398521423,
          0.5826379656791687,
          0.5810995101928711,
          0.5802831053733826,
          0.5786772966384888,
          0.5774441957473755,
          0.5762649178504944,
          0.574873149394989,
          0.5740949511528015,
          0.5735313892364502,
          0.5723534226417542,
          0.5719598531723022,
          0.5712959170341492,
          0.5701820850372314,
          0.5699267983436584,
          0.569162905216217,
          0.5686575174331665,
          0.5675936341285706,
          0.5674680471420288,
          0.566597044467926,
          0.5659017562866211,
          0.5659927725791931,
          0.5658243894577026,
          0.5646218657493591,
          0.5644187927246094,
          0.5639795064926147,
          0.5637481808662415,
          0.5635229349136353,
          0.5629008412361145,
          0.5632026195526123,
          0.562439501285553,
          0.5623427629470825,
          0.5616366267204285,
          0.5622597932815552,
          0.5613068342208862,
          0.5613749623298645,
          0.5610215067863464,
          0.5612853765487671,
          0.560607373714447,
          0.560434103012085,
          0.5606584548950195,
          0.5602651238441467,
          0.5601243376731873,
          0.5597366094589233,
          0.5598158836364746,
          0.559612512588501,
          0.5597389936447144,
          0.5594632029533386,
          0.5598307847976685,
          0.559074342250824,
          0.5593648552894592,
          0.558893084526062,
          0.5586111545562744,
          0.5591278076171875,
          0.5585188269615173,
          0.5588322877883911,
          0.5588050484657288,
          0.5583961009979248,
          0.5582619309425354,
          0.5584139823913574,
          0.5583404302597046,
          0.5580759644508362,
          0.5578759908676147,
          0.5579597353935242,
          0.5575389266014099,
          0.5576127171516418,
          0.5574348568916321,
          0.5575586557388306,
          0.557378888130188,
          0.5571627020835876,
          0.5572183728218079,
          0.5571651458740234,
          0.557159423828125,
          0.5570693016052246,
          0.5570838451385498,
          0.5567849278450012,
          0.5569134950637817
         ],
         "yaxis": "y"
        },
        {
         "hovertemplate": "variable=val_loss<br>index=%{x}<br>value=%{y}<extra></extra>",
         "legendgroup": "val_loss",
         "line": {
          "color": "#EF553B",
          "dash": "solid"
         },
         "marker": {
          "symbol": "circle"
         },
         "mode": "lines",
         "name": "val_loss",
         "orientation": "v",
         "showlegend": true,
         "type": "scatter",
         "x": [
          0,
          1,
          2,
          3,
          4,
          5,
          6,
          7,
          8,
          9,
          10,
          11,
          12,
          13,
          14,
          15,
          16,
          17,
          18,
          19,
          20,
          21,
          22,
          23,
          24,
          25,
          26,
          27,
          28,
          29,
          30,
          31,
          32,
          33,
          34,
          35,
          36,
          37,
          38,
          39,
          40,
          41,
          42,
          43,
          44,
          45,
          46,
          47,
          48,
          49,
          50,
          51,
          52,
          53,
          54,
          55,
          56,
          57,
          58,
          59,
          60,
          61,
          62,
          63,
          64,
          65,
          66,
          67,
          68,
          69,
          70,
          71,
          72,
          73,
          74,
          75,
          76,
          77,
          78,
          79,
          80,
          81,
          82,
          83,
          84,
          85,
          86,
          87,
          88,
          89,
          90,
          91,
          92,
          93,
          94,
          95,
          96,
          97,
          98,
          99
         ],
         "xaxis": "x",
         "y": [
          0.7927930951118469,
          0.701592743396759,
          0.6773014068603516,
          0.6639112830162048,
          0.6567122936248779,
          0.6505876183509827,
          0.646361768245697,
          0.6418603658676147,
          0.6378733515739441,
          0.6346819400787354,
          0.6317461729049683,
          0.6290615797042847,
          0.6269540786743164,
          0.6239463090896606,
          0.6214432716369629,
          0.6194378137588501,
          0.6173083186149597,
          0.6155329346656799,
          0.6135212779045105,
          0.611971914768219,
          0.6109848618507385,
          0.6095614433288574,
          0.6081463694572449,
          0.60709547996521,
          0.6061602830886841,
          0.6051835417747498,
          0.6047328114509583,
          0.6042012572288513,
          0.6030186414718628,
          0.6026783585548401,
          0.6019080877304077,
          0.6010446548461914,
          0.6006321310997009,
          0.6006436347961426,
          0.6001663208007812,
          0.5998261570930481,
          0.6005057096481323,
          0.599520206451416,
          0.5991023778915405,
          0.5989327430725098,
          0.5989830493927002,
          0.5988948941230774,
          0.5982704162597656,
          0.5981914401054382,
          0.5979344844818115,
          0.5976252555847168,
          0.5983280539512634,
          0.5986106991767883,
          0.5988033413887024,
          0.5977949500083923,
          0.598548173904419,
          0.5979874134063721,
          0.5977684259414673,
          0.5981650352478027,
          0.5976220369338989,
          0.5979205369949341,
          0.5982804894447327,
          0.5971824526786804,
          0.597445547580719,
          0.5978795886039734,
          0.5978060960769653,
          0.5980887413024902,
          0.5977097153663635,
          0.5979557633399963,
          0.5976539850234985,
          0.5976681113243103,
          0.5970231890678406,
          0.5969728827476501,
          0.5971280932426453,
          0.5967792868614197,
          0.596772313117981,
          0.597375750541687,
          0.5974348783493042,
          0.5991042256355286,
          0.5970355868339539,
          0.5968772768974304,
          0.5974951386451721,
          0.5975971221923828,
          0.5987067818641663,
          0.5991317629814148,
          0.5974338054656982,
          0.597527801990509,
          0.5971261858940125,
          0.5968515276908875,
          0.597062885761261,
          0.5970296859741211,
          0.5969560146331787,
          0.5970719456672668,
          0.5976293683052063,
          0.5974751710891724,
          0.5968161821365356,
          0.5970218777656555,
          0.5967676043510437,
          0.5968800187110901,
          0.5974885821342468,
          0.5979852676391602,
          0.5981987714767456,
          0.5979020595550537,
          0.5979121327400208,
          0.5970933437347412
         ],
         "yaxis": "y"
        }
       ],
       "layout": {
        "legend": {
         "title": {
          "text": "variable"
         },
         "tracegroupgap": 0
        },
        "margin": {
         "t": 60
        },
        "template": {
         "data": {
          "bar": [
           {
            "error_x": {
             "color": "#2a3f5f"
            },
            "error_y": {
             "color": "#2a3f5f"
            },
            "marker": {
             "line": {
              "color": "#E5ECF6",
              "width": 0.5
             },
             "pattern": {
              "fillmode": "overlay",
              "size": 10,
              "solidity": 0.2
             }
            },
            "type": "bar"
           }
          ],
          "barpolar": [
           {
            "marker": {
             "line": {
              "color": "#E5ECF6",
              "width": 0.5
             },
             "pattern": {
              "fillmode": "overlay",
              "size": 10,
              "solidity": 0.2
             }
            },
            "type": "barpolar"
           }
          ],
          "carpet": [
           {
            "aaxis": {
             "endlinecolor": "#2a3f5f",
             "gridcolor": "white",
             "linecolor": "white",
             "minorgridcolor": "white",
             "startlinecolor": "#2a3f5f"
            },
            "baxis": {
             "endlinecolor": "#2a3f5f",
             "gridcolor": "white",
             "linecolor": "white",
             "minorgridcolor": "white",
             "startlinecolor": "#2a3f5f"
            },
            "type": "carpet"
           }
          ],
          "choropleth": [
           {
            "colorbar": {
             "outlinewidth": 0,
             "ticks": ""
            },
            "type": "choropleth"
           }
          ],
          "contour": [
           {
            "colorbar": {
             "outlinewidth": 0,
             "ticks": ""
            },
            "colorscale": [
             [
              0,
              "#0d0887"
             ],
             [
              0.1111111111111111,
              "#46039f"
             ],
             [
              0.2222222222222222,
              "#7201a8"
             ],
             [
              0.3333333333333333,
              "#9c179e"
             ],
             [
              0.4444444444444444,
              "#bd3786"
             ],
             [
              0.5555555555555556,
              "#d8576b"
             ],
             [
              0.6666666666666666,
              "#ed7953"
             ],
             [
              0.7777777777777778,
              "#fb9f3a"
             ],
             [
              0.8888888888888888,
              "#fdca26"
             ],
             [
              1,
              "#f0f921"
             ]
            ],
            "type": "contour"
           }
          ],
          "contourcarpet": [
           {
            "colorbar": {
             "outlinewidth": 0,
             "ticks": ""
            },
            "type": "contourcarpet"
           }
          ],
          "heatmap": [
           {
            "colorbar": {
             "outlinewidth": 0,
             "ticks": ""
            },
            "colorscale": [
             [
              0,
              "#0d0887"
             ],
             [
              0.1111111111111111,
              "#46039f"
             ],
             [
              0.2222222222222222,
              "#7201a8"
             ],
             [
              0.3333333333333333,
              "#9c179e"
             ],
             [
              0.4444444444444444,
              "#bd3786"
             ],
             [
              0.5555555555555556,
              "#d8576b"
             ],
             [
              0.6666666666666666,
              "#ed7953"
             ],
             [
              0.7777777777777778,
              "#fb9f3a"
             ],
             [
              0.8888888888888888,
              "#fdca26"
             ],
             [
              1,
              "#f0f921"
             ]
            ],
            "type": "heatmap"
           }
          ],
          "heatmapgl": [
           {
            "colorbar": {
             "outlinewidth": 0,
             "ticks": ""
            },
            "colorscale": [
             [
              0,
              "#0d0887"
             ],
             [
              0.1111111111111111,
              "#46039f"
             ],
             [
              0.2222222222222222,
              "#7201a8"
             ],
             [
              0.3333333333333333,
              "#9c179e"
             ],
             [
              0.4444444444444444,
              "#bd3786"
             ],
             [
              0.5555555555555556,
              "#d8576b"
             ],
             [
              0.6666666666666666,
              "#ed7953"
             ],
             [
              0.7777777777777778,
              "#fb9f3a"
             ],
             [
              0.8888888888888888,
              "#fdca26"
             ],
             [
              1,
              "#f0f921"
             ]
            ],
            "type": "heatmapgl"
           }
          ],
          "histogram": [
           {
            "marker": {
             "pattern": {
              "fillmode": "overlay",
              "size": 10,
              "solidity": 0.2
             }
            },
            "type": "histogram"
           }
          ],
          "histogram2d": [
           {
            "colorbar": {
             "outlinewidth": 0,
             "ticks": ""
            },
            "colorscale": [
             [
              0,
              "#0d0887"
             ],
             [
              0.1111111111111111,
              "#46039f"
             ],
             [
              0.2222222222222222,
              "#7201a8"
             ],
             [
              0.3333333333333333,
              "#9c179e"
             ],
             [
              0.4444444444444444,
              "#bd3786"
             ],
             [
              0.5555555555555556,
              "#d8576b"
             ],
             [
              0.6666666666666666,
              "#ed7953"
             ],
             [
              0.7777777777777778,
              "#fb9f3a"
             ],
             [
              0.8888888888888888,
              "#fdca26"
             ],
             [
              1,
              "#f0f921"
             ]
            ],
            "type": "histogram2d"
           }
          ],
          "histogram2dcontour": [
           {
            "colorbar": {
             "outlinewidth": 0,
             "ticks": ""
            },
            "colorscale": [
             [
              0,
              "#0d0887"
             ],
             [
              0.1111111111111111,
              "#46039f"
             ],
             [
              0.2222222222222222,
              "#7201a8"
             ],
             [
              0.3333333333333333,
              "#9c179e"
             ],
             [
              0.4444444444444444,
              "#bd3786"
             ],
             [
              0.5555555555555556,
              "#d8576b"
             ],
             [
              0.6666666666666666,
              "#ed7953"
             ],
             [
              0.7777777777777778,
              "#fb9f3a"
             ],
             [
              0.8888888888888888,
              "#fdca26"
             ],
             [
              1,
              "#f0f921"
             ]
            ],
            "type": "histogram2dcontour"
           }
          ],
          "mesh3d": [
           {
            "colorbar": {
             "outlinewidth": 0,
             "ticks": ""
            },
            "type": "mesh3d"
           }
          ],
          "parcoords": [
           {
            "line": {
             "colorbar": {
              "outlinewidth": 0,
              "ticks": ""
             }
            },
            "type": "parcoords"
           }
          ],
          "pie": [
           {
            "automargin": true,
            "type": "pie"
           }
          ],
          "scatter": [
           {
            "fillpattern": {
             "fillmode": "overlay",
             "size": 10,
             "solidity": 0.2
            },
            "type": "scatter"
           }
          ],
          "scatter3d": [
           {
            "line": {
             "colorbar": {
              "outlinewidth": 0,
              "ticks": ""
             }
            },
            "marker": {
             "colorbar": {
              "outlinewidth": 0,
              "ticks": ""
             }
            },
            "type": "scatter3d"
           }
          ],
          "scattercarpet": [
           {
            "marker": {
             "colorbar": {
              "outlinewidth": 0,
              "ticks": ""
             }
            },
            "type": "scattercarpet"
           }
          ],
          "scattergeo": [
           {
            "marker": {
             "colorbar": {
              "outlinewidth": 0,
              "ticks": ""
             }
            },
            "type": "scattergeo"
           }
          ],
          "scattergl": [
           {
            "marker": {
             "colorbar": {
              "outlinewidth": 0,
              "ticks": ""
             }
            },
            "type": "scattergl"
           }
          ],
          "scattermapbox": [
           {
            "marker": {
             "colorbar": {
              "outlinewidth": 0,
              "ticks": ""
             }
            },
            "type": "scattermapbox"
           }
          ],
          "scatterpolar": [
           {
            "marker": {
             "colorbar": {
              "outlinewidth": 0,
              "ticks": ""
             }
            },
            "type": "scatterpolar"
           }
          ],
          "scatterpolargl": [
           {
            "marker": {
             "colorbar": {
              "outlinewidth": 0,
              "ticks": ""
             }
            },
            "type": "scatterpolargl"
           }
          ],
          "scatterternary": [
           {
            "marker": {
             "colorbar": {
              "outlinewidth": 0,
              "ticks": ""
             }
            },
            "type": "scatterternary"
           }
          ],
          "surface": [
           {
            "colorbar": {
             "outlinewidth": 0,
             "ticks": ""
            },
            "colorscale": [
             [
              0,
              "#0d0887"
             ],
             [
              0.1111111111111111,
              "#46039f"
             ],
             [
              0.2222222222222222,
              "#7201a8"
             ],
             [
              0.3333333333333333,
              "#9c179e"
             ],
             [
              0.4444444444444444,
              "#bd3786"
             ],
             [
              0.5555555555555556,
              "#d8576b"
             ],
             [
              0.6666666666666666,
              "#ed7953"
             ],
             [
              0.7777777777777778,
              "#fb9f3a"
             ],
             [
              0.8888888888888888,
              "#fdca26"
             ],
             [
              1,
              "#f0f921"
             ]
            ],
            "type": "surface"
           }
          ],
          "table": [
           {
            "cells": {
             "fill": {
              "color": "#EBF0F8"
             },
             "line": {
              "color": "white"
             }
            },
            "header": {
             "fill": {
              "color": "#C8D4E3"
             },
             "line": {
              "color": "white"
             }
            },
            "type": "table"
           }
          ]
         },
         "layout": {
          "annotationdefaults": {
           "arrowcolor": "#2a3f5f",
           "arrowhead": 0,
           "arrowwidth": 1
          },
          "autotypenumbers": "strict",
          "coloraxis": {
           "colorbar": {
            "outlinewidth": 0,
            "ticks": ""
           }
          },
          "colorscale": {
           "diverging": [
            [
             0,
             "#8e0152"
            ],
            [
             0.1,
             "#c51b7d"
            ],
            [
             0.2,
             "#de77ae"
            ],
            [
             0.3,
             "#f1b6da"
            ],
            [
             0.4,
             "#fde0ef"
            ],
            [
             0.5,
             "#f7f7f7"
            ],
            [
             0.6,
             "#e6f5d0"
            ],
            [
             0.7,
             "#b8e186"
            ],
            [
             0.8,
             "#7fbc41"
            ],
            [
             0.9,
             "#4d9221"
            ],
            [
             1,
             "#276419"
            ]
           ],
           "sequential": [
            [
             0,
             "#0d0887"
            ],
            [
             0.1111111111111111,
             "#46039f"
            ],
            [
             0.2222222222222222,
             "#7201a8"
            ],
            [
             0.3333333333333333,
             "#9c179e"
            ],
            [
             0.4444444444444444,
             "#bd3786"
            ],
            [
             0.5555555555555556,
             "#d8576b"
            ],
            [
             0.6666666666666666,
             "#ed7953"
            ],
            [
             0.7777777777777778,
             "#fb9f3a"
            ],
            [
             0.8888888888888888,
             "#fdca26"
            ],
            [
             1,
             "#f0f921"
            ]
           ],
           "sequentialminus": [
            [
             0,
             "#0d0887"
            ],
            [
             0.1111111111111111,
             "#46039f"
            ],
            [
             0.2222222222222222,
             "#7201a8"
            ],
            [
             0.3333333333333333,
             "#9c179e"
            ],
            [
             0.4444444444444444,
             "#bd3786"
            ],
            [
             0.5555555555555556,
             "#d8576b"
            ],
            [
             0.6666666666666666,
             "#ed7953"
            ],
            [
             0.7777777777777778,
             "#fb9f3a"
            ],
            [
             0.8888888888888888,
             "#fdca26"
            ],
            [
             1,
             "#f0f921"
            ]
           ]
          },
          "colorway": [
           "#636efa",
           "#EF553B",
           "#00cc96",
           "#ab63fa",
           "#FFA15A",
           "#19d3f3",
           "#FF6692",
           "#B6E880",
           "#FF97FF",
           "#FECB52"
          ],
          "font": {
           "color": "#2a3f5f"
          },
          "geo": {
           "bgcolor": "white",
           "lakecolor": "white",
           "landcolor": "#E5ECF6",
           "showlakes": true,
           "showland": true,
           "subunitcolor": "white"
          },
          "hoverlabel": {
           "align": "left"
          },
          "hovermode": "closest",
          "mapbox": {
           "style": "light"
          },
          "paper_bgcolor": "white",
          "plot_bgcolor": "#E5ECF6",
          "polar": {
           "angularaxis": {
            "gridcolor": "white",
            "linecolor": "white",
            "ticks": ""
           },
           "bgcolor": "#E5ECF6",
           "radialaxis": {
            "gridcolor": "white",
            "linecolor": "white",
            "ticks": ""
           }
          },
          "scene": {
           "xaxis": {
            "backgroundcolor": "#E5ECF6",
            "gridcolor": "white",
            "gridwidth": 2,
            "linecolor": "white",
            "showbackground": true,
            "ticks": "",
            "zerolinecolor": "white"
           },
           "yaxis": {
            "backgroundcolor": "#E5ECF6",
            "gridcolor": "white",
            "gridwidth": 2,
            "linecolor": "white",
            "showbackground": true,
            "ticks": "",
            "zerolinecolor": "white"
           },
           "zaxis": {
            "backgroundcolor": "#E5ECF6",
            "gridcolor": "white",
            "gridwidth": 2,
            "linecolor": "white",
            "showbackground": true,
            "ticks": "",
            "zerolinecolor": "white"
           }
          },
          "shapedefaults": {
           "line": {
            "color": "#2a3f5f"
           }
          },
          "ternary": {
           "aaxis": {
            "gridcolor": "white",
            "linecolor": "white",
            "ticks": ""
           },
           "baxis": {
            "gridcolor": "white",
            "linecolor": "white",
            "ticks": ""
           },
           "bgcolor": "#E5ECF6",
           "caxis": {
            "gridcolor": "white",
            "linecolor": "white",
            "ticks": ""
           }
          },
          "title": {
           "x": 0.05
          },
          "xaxis": {
           "automargin": true,
           "gridcolor": "white",
           "linecolor": "white",
           "ticks": "",
           "title": {
            "standoff": 15
           },
           "zerolinecolor": "white",
           "zerolinewidth": 2
          },
          "yaxis": {
           "automargin": true,
           "gridcolor": "white",
           "linecolor": "white",
           "ticks": "",
           "title": {
            "standoff": 15
           },
           "zerolinecolor": "white",
           "zerolinewidth": 2
          }
         }
        },
        "xaxis": {
         "anchor": "y",
         "domain": [
          0,
          1
         ],
         "title": {
          "text": "index"
         }
        },
        "yaxis": {
         "anchor": "x",
         "domain": [
          0,
          1
         ],
         "title": {
          "text": "value"
         }
        }
       }
      }
     },
     "metadata": {},
     "output_type": "display_data"
    }
   ],
   "source": [
    "import plotly.express as px\n",
    "fig = px.line({'loss': history.history['loss'], 'val_loss': history.history['val_loss']})\n",
    "fig.show()"
   ]
  },
  {
   "cell_type": "code",
   "execution_count": 33,
   "metadata": {},
   "outputs": [
    {
     "data": {
      "application/vnd.plotly.v1+json": {
       "config": {
        "plotlyServerURL": "https://plot.ly"
       },
       "data": [
        {
         "hovertemplate": "variable=loss<br>index=%{x}<br>value=%{y}<extra></extra>",
         "legendgroup": "loss",
         "line": {
          "color": "#636efa",
          "dash": "solid"
         },
         "marker": {
          "symbol": "circle"
         },
         "mode": "lines",
         "name": "loss",
         "orientation": "v",
         "showlegend": true,
         "type": "scatter",
         "x": [
          0,
          1,
          2,
          3,
          4,
          5,
          6,
          7,
          8,
          9,
          10,
          11,
          12,
          13,
          14,
          15,
          16,
          17,
          18,
          19,
          20,
          21,
          22,
          23,
          24,
          25,
          26,
          27,
          28,
          29,
          30,
          31,
          32,
          33,
          34,
          35,
          36,
          37,
          38,
          39,
          40,
          41,
          42,
          43,
          44,
          45,
          46,
          47,
          48,
          49,
          50,
          51,
          52,
          53,
          54,
          55,
          56,
          57,
          58,
          59,
          60,
          61,
          62,
          63,
          64,
          65,
          66,
          67,
          68,
          69,
          70,
          71,
          72,
          73,
          74,
          75,
          76,
          77,
          78,
          79,
          80,
          81,
          82,
          83,
          84,
          85,
          86,
          87,
          88,
          89,
          90,
          91,
          92,
          93,
          94,
          95,
          96,
          97,
          98,
          99
         ],
         "xaxis": "x",
         "y": [
          0.38573744893074036,
          0.40032413601875305,
          0.6094003319740295,
          0.6661264300346375,
          0.664505660533905,
          0.661264181137085,
          0.6580227017402649,
          0.6823338866233826,
          0.6952998638153076,
          0.6871961355209351,
          0.7017828226089478,
          0.7066450715065002,
          0.7098865509033203,
          0.7034035921096802,
          0.7001620531082153,
          0.7034035921096802,
          0.7050243020057678,
          0.7098865509033203,
          0.7131280303001404,
          0.7115073204040527,
          0.7098865509033203,
          0.7034035921096802,
          0.7050243020057678,
          0.7050243020057678,
          0.7050243020057678,
          0.7066450715065002,
          0.7098865509033203,
          0.7066450715065002,
          0.7050243020057678,
          0.7115073204040527,
          0.7066450715065002,
          0.7115073204040527,
          0.7098865509033203,
          0.7115073204040527,
          0.7115073204040527,
          0.7179902791976929,
          0.7115073204040527,
          0.7050243020057678,
          0.7163695096969604,
          0.7147487998008728,
          0.7131280303001404,
          0.7115073204040527,
          0.7163695096969604,
          0.7131280303001404,
          0.7163695096969604,
          0.7131280303001404,
          0.7179902791976929,
          0.7147487998008728,
          0.7147487998008728,
          0.7131280303001404,
          0.7115073204040527,
          0.7131280303001404,
          0.7115073204040527,
          0.7131280303001404,
          0.7066450715065002,
          0.7196110486984253,
          0.7147487998008728,
          0.7131280303001404,
          0.7082657814025879,
          0.7179902791976929,
          0.7163695096969604,
          0.7115073204040527,
          0.7147487998008728,
          0.7131280303001404,
          0.7147487998008728,
          0.7179902791976929,
          0.7098865509033203,
          0.7147487998008728,
          0.7131280303001404,
          0.7163695096969604,
          0.7115073204040527,
          0.7163695096969604,
          0.7147487998008728,
          0.7131280303001404,
          0.7179902791976929,
          0.7163695096969604,
          0.7147487998008728,
          0.7115073204040527,
          0.7131280303001404,
          0.7115073204040527,
          0.7179902791976929,
          0.7115073204040527,
          0.7147487998008728,
          0.7147487998008728,
          0.7147487998008728,
          0.7098865509033203,
          0.7115073204040527,
          0.7098865509033203,
          0.7147487998008728,
          0.7098865509033203,
          0.7098865509033203,
          0.7196110486984253,
          0.7098865509033203,
          0.7115073204040527,
          0.7115073204040527,
          0.7098865509033203,
          0.7115073204040527,
          0.7098865509033203,
          0.7098865509033203,
          0.7098865509033203
         ],
         "yaxis": "y"
        },
        {
         "hovertemplate": "variable=val_loss<br>index=%{x}<br>value=%{y}<extra></extra>",
         "legendgroup": "val_loss",
         "line": {
          "color": "#EF553B",
          "dash": "solid"
         },
         "marker": {
          "symbol": "circle"
         },
         "mode": "lines",
         "name": "val_loss",
         "orientation": "v",
         "showlegend": true,
         "type": "scatter",
         "x": [
          0,
          1,
          2,
          3,
          4,
          5,
          6,
          7,
          8,
          9,
          10,
          11,
          12,
          13,
          14,
          15,
          16,
          17,
          18,
          19,
          20,
          21,
          22,
          23,
          24,
          25,
          26,
          27,
          28,
          29,
          30,
          31,
          32,
          33,
          34,
          35,
          36,
          37,
          38,
          39,
          40,
          41,
          42,
          43,
          44,
          45,
          46,
          47,
          48,
          49,
          50,
          51,
          52,
          53,
          54,
          55,
          56,
          57,
          58,
          59,
          60,
          61,
          62,
          63,
          64,
          65,
          66,
          67,
          68,
          69,
          70,
          71,
          72,
          73,
          74,
          75,
          76,
          77,
          78,
          79,
          80,
          81,
          82,
          83,
          84,
          85,
          86,
          87,
          88,
          89,
          90,
          91,
          92,
          93,
          94,
          95,
          96,
          97,
          98,
          99
         ],
         "xaxis": "x",
         "y": [
          0.37735849618911743,
          0.4000000059604645,
          0.6415094137191772,
          0.6339622735977173,
          0.6264150738716125,
          0.6301887035369873,
          0.649056613445282,
          0.652830183506012,
          0.645283043384552,
          0.6641509532928467,
          0.6716980934143066,
          0.6566037535667419,
          0.6603773832321167,
          0.6754717230796814,
          0.6754717230796814,
          0.6754717230796814,
          0.6867924332618713,
          0.6943396329879761,
          0.6943396329879761,
          0.6905660629272461,
          0.6943396329879761,
          0.6943396329879761,
          0.701886773109436,
          0.698113203048706,
          0.698113203048706,
          0.701886773109436,
          0.698113203048706,
          0.701886773109436,
          0.698113203048706,
          0.698113203048706,
          0.698113203048706,
          0.7056604027748108,
          0.701886773109436,
          0.701886773109436,
          0.701886773109436,
          0.701886773109436,
          0.698113203048706,
          0.701886773109436,
          0.7056604027748108,
          0.7056604027748108,
          0.701886773109436,
          0.701886773109436,
          0.701886773109436,
          0.701886773109436,
          0.701886773109436,
          0.701886773109436,
          0.701886773109436,
          0.701886773109436,
          0.701886773109436,
          0.701886773109436,
          0.701886773109436,
          0.7056604027748108,
          0.698113203048706,
          0.7056604027748108,
          0.698113203048706,
          0.701886773109436,
          0.701886773109436,
          0.698113203048706,
          0.6943396329879761,
          0.701886773109436,
          0.6943396329879761,
          0.701886773109436,
          0.6943396329879761,
          0.698113203048706,
          0.6943396329879761,
          0.6943396329879761,
          0.6943396329879761,
          0.6943396329879761,
          0.6943396329879761,
          0.6943396329879761,
          0.6905660629272461,
          0.6943396329879761,
          0.6943396329879761,
          0.701886773109436,
          0.6905660629272461,
          0.6905660629272461,
          0.6943396329879761,
          0.6943396329879761,
          0.698113203048706,
          0.698113203048706,
          0.6905660629272461,
          0.6905660629272461,
          0.6905660629272461,
          0.6867924332618713,
          0.6867924332618713,
          0.6867924332618713,
          0.6867924332618713,
          0.6867924332618713,
          0.6905660629272461,
          0.6905660629272461,
          0.6867924332618713,
          0.6867924332618713,
          0.6867924332618713,
          0.6867924332618713,
          0.6905660629272461,
          0.6943396329879761,
          0.6943396329879761,
          0.6943396329879761,
          0.6943396329879761,
          0.6867924332618713
         ],
         "yaxis": "y"
        }
       ],
       "layout": {
        "legend": {
         "title": {
          "text": "variable"
         },
         "tracegroupgap": 0
        },
        "margin": {
         "t": 60
        },
        "template": {
         "data": {
          "bar": [
           {
            "error_x": {
             "color": "#2a3f5f"
            },
            "error_y": {
             "color": "#2a3f5f"
            },
            "marker": {
             "line": {
              "color": "#E5ECF6",
              "width": 0.5
             },
             "pattern": {
              "fillmode": "overlay",
              "size": 10,
              "solidity": 0.2
             }
            },
            "type": "bar"
           }
          ],
          "barpolar": [
           {
            "marker": {
             "line": {
              "color": "#E5ECF6",
              "width": 0.5
             },
             "pattern": {
              "fillmode": "overlay",
              "size": 10,
              "solidity": 0.2
             }
            },
            "type": "barpolar"
           }
          ],
          "carpet": [
           {
            "aaxis": {
             "endlinecolor": "#2a3f5f",
             "gridcolor": "white",
             "linecolor": "white",
             "minorgridcolor": "white",
             "startlinecolor": "#2a3f5f"
            },
            "baxis": {
             "endlinecolor": "#2a3f5f",
             "gridcolor": "white",
             "linecolor": "white",
             "minorgridcolor": "white",
             "startlinecolor": "#2a3f5f"
            },
            "type": "carpet"
           }
          ],
          "choropleth": [
           {
            "colorbar": {
             "outlinewidth": 0,
             "ticks": ""
            },
            "type": "choropleth"
           }
          ],
          "contour": [
           {
            "colorbar": {
             "outlinewidth": 0,
             "ticks": ""
            },
            "colorscale": [
             [
              0,
              "#0d0887"
             ],
             [
              0.1111111111111111,
              "#46039f"
             ],
             [
              0.2222222222222222,
              "#7201a8"
             ],
             [
              0.3333333333333333,
              "#9c179e"
             ],
             [
              0.4444444444444444,
              "#bd3786"
             ],
             [
              0.5555555555555556,
              "#d8576b"
             ],
             [
              0.6666666666666666,
              "#ed7953"
             ],
             [
              0.7777777777777778,
              "#fb9f3a"
             ],
             [
              0.8888888888888888,
              "#fdca26"
             ],
             [
              1,
              "#f0f921"
             ]
            ],
            "type": "contour"
           }
          ],
          "contourcarpet": [
           {
            "colorbar": {
             "outlinewidth": 0,
             "ticks": ""
            },
            "type": "contourcarpet"
           }
          ],
          "heatmap": [
           {
            "colorbar": {
             "outlinewidth": 0,
             "ticks": ""
            },
            "colorscale": [
             [
              0,
              "#0d0887"
             ],
             [
              0.1111111111111111,
              "#46039f"
             ],
             [
              0.2222222222222222,
              "#7201a8"
             ],
             [
              0.3333333333333333,
              "#9c179e"
             ],
             [
              0.4444444444444444,
              "#bd3786"
             ],
             [
              0.5555555555555556,
              "#d8576b"
             ],
             [
              0.6666666666666666,
              "#ed7953"
             ],
             [
              0.7777777777777778,
              "#fb9f3a"
             ],
             [
              0.8888888888888888,
              "#fdca26"
             ],
             [
              1,
              "#f0f921"
             ]
            ],
            "type": "heatmap"
           }
          ],
          "heatmapgl": [
           {
            "colorbar": {
             "outlinewidth": 0,
             "ticks": ""
            },
            "colorscale": [
             [
              0,
              "#0d0887"
             ],
             [
              0.1111111111111111,
              "#46039f"
             ],
             [
              0.2222222222222222,
              "#7201a8"
             ],
             [
              0.3333333333333333,
              "#9c179e"
             ],
             [
              0.4444444444444444,
              "#bd3786"
             ],
             [
              0.5555555555555556,
              "#d8576b"
             ],
             [
              0.6666666666666666,
              "#ed7953"
             ],
             [
              0.7777777777777778,
              "#fb9f3a"
             ],
             [
              0.8888888888888888,
              "#fdca26"
             ],
             [
              1,
              "#f0f921"
             ]
            ],
            "type": "heatmapgl"
           }
          ],
          "histogram": [
           {
            "marker": {
             "pattern": {
              "fillmode": "overlay",
              "size": 10,
              "solidity": 0.2
             }
            },
            "type": "histogram"
           }
          ],
          "histogram2d": [
           {
            "colorbar": {
             "outlinewidth": 0,
             "ticks": ""
            },
            "colorscale": [
             [
              0,
              "#0d0887"
             ],
             [
              0.1111111111111111,
              "#46039f"
             ],
             [
              0.2222222222222222,
              "#7201a8"
             ],
             [
              0.3333333333333333,
              "#9c179e"
             ],
             [
              0.4444444444444444,
              "#bd3786"
             ],
             [
              0.5555555555555556,
              "#d8576b"
             ],
             [
              0.6666666666666666,
              "#ed7953"
             ],
             [
              0.7777777777777778,
              "#fb9f3a"
             ],
             [
              0.8888888888888888,
              "#fdca26"
             ],
             [
              1,
              "#f0f921"
             ]
            ],
            "type": "histogram2d"
           }
          ],
          "histogram2dcontour": [
           {
            "colorbar": {
             "outlinewidth": 0,
             "ticks": ""
            },
            "colorscale": [
             [
              0,
              "#0d0887"
             ],
             [
              0.1111111111111111,
              "#46039f"
             ],
             [
              0.2222222222222222,
              "#7201a8"
             ],
             [
              0.3333333333333333,
              "#9c179e"
             ],
             [
              0.4444444444444444,
              "#bd3786"
             ],
             [
              0.5555555555555556,
              "#d8576b"
             ],
             [
              0.6666666666666666,
              "#ed7953"
             ],
             [
              0.7777777777777778,
              "#fb9f3a"
             ],
             [
              0.8888888888888888,
              "#fdca26"
             ],
             [
              1,
              "#f0f921"
             ]
            ],
            "type": "histogram2dcontour"
           }
          ],
          "mesh3d": [
           {
            "colorbar": {
             "outlinewidth": 0,
             "ticks": ""
            },
            "type": "mesh3d"
           }
          ],
          "parcoords": [
           {
            "line": {
             "colorbar": {
              "outlinewidth": 0,
              "ticks": ""
             }
            },
            "type": "parcoords"
           }
          ],
          "pie": [
           {
            "automargin": true,
            "type": "pie"
           }
          ],
          "scatter": [
           {
            "fillpattern": {
             "fillmode": "overlay",
             "size": 10,
             "solidity": 0.2
            },
            "type": "scatter"
           }
          ],
          "scatter3d": [
           {
            "line": {
             "colorbar": {
              "outlinewidth": 0,
              "ticks": ""
             }
            },
            "marker": {
             "colorbar": {
              "outlinewidth": 0,
              "ticks": ""
             }
            },
            "type": "scatter3d"
           }
          ],
          "scattercarpet": [
           {
            "marker": {
             "colorbar": {
              "outlinewidth": 0,
              "ticks": ""
             }
            },
            "type": "scattercarpet"
           }
          ],
          "scattergeo": [
           {
            "marker": {
             "colorbar": {
              "outlinewidth": 0,
              "ticks": ""
             }
            },
            "type": "scattergeo"
           }
          ],
          "scattergl": [
           {
            "marker": {
             "colorbar": {
              "outlinewidth": 0,
              "ticks": ""
             }
            },
            "type": "scattergl"
           }
          ],
          "scattermapbox": [
           {
            "marker": {
             "colorbar": {
              "outlinewidth": 0,
              "ticks": ""
             }
            },
            "type": "scattermapbox"
           }
          ],
          "scatterpolar": [
           {
            "marker": {
             "colorbar": {
              "outlinewidth": 0,
              "ticks": ""
             }
            },
            "type": "scatterpolar"
           }
          ],
          "scatterpolargl": [
           {
            "marker": {
             "colorbar": {
              "outlinewidth": 0,
              "ticks": ""
             }
            },
            "type": "scatterpolargl"
           }
          ],
          "scatterternary": [
           {
            "marker": {
             "colorbar": {
              "outlinewidth": 0,
              "ticks": ""
             }
            },
            "type": "scatterternary"
           }
          ],
          "surface": [
           {
            "colorbar": {
             "outlinewidth": 0,
             "ticks": ""
            },
            "colorscale": [
             [
              0,
              "#0d0887"
             ],
             [
              0.1111111111111111,
              "#46039f"
             ],
             [
              0.2222222222222222,
              "#7201a8"
             ],
             [
              0.3333333333333333,
              "#9c179e"
             ],
             [
              0.4444444444444444,
              "#bd3786"
             ],
             [
              0.5555555555555556,
              "#d8576b"
             ],
             [
              0.6666666666666666,
              "#ed7953"
             ],
             [
              0.7777777777777778,
              "#fb9f3a"
             ],
             [
              0.8888888888888888,
              "#fdca26"
             ],
             [
              1,
              "#f0f921"
             ]
            ],
            "type": "surface"
           }
          ],
          "table": [
           {
            "cells": {
             "fill": {
              "color": "#EBF0F8"
             },
             "line": {
              "color": "white"
             }
            },
            "header": {
             "fill": {
              "color": "#C8D4E3"
             },
             "line": {
              "color": "white"
             }
            },
            "type": "table"
           }
          ]
         },
         "layout": {
          "annotationdefaults": {
           "arrowcolor": "#2a3f5f",
           "arrowhead": 0,
           "arrowwidth": 1
          },
          "autotypenumbers": "strict",
          "coloraxis": {
           "colorbar": {
            "outlinewidth": 0,
            "ticks": ""
           }
          },
          "colorscale": {
           "diverging": [
            [
             0,
             "#8e0152"
            ],
            [
             0.1,
             "#c51b7d"
            ],
            [
             0.2,
             "#de77ae"
            ],
            [
             0.3,
             "#f1b6da"
            ],
            [
             0.4,
             "#fde0ef"
            ],
            [
             0.5,
             "#f7f7f7"
            ],
            [
             0.6,
             "#e6f5d0"
            ],
            [
             0.7,
             "#b8e186"
            ],
            [
             0.8,
             "#7fbc41"
            ],
            [
             0.9,
             "#4d9221"
            ],
            [
             1,
             "#276419"
            ]
           ],
           "sequential": [
            [
             0,
             "#0d0887"
            ],
            [
             0.1111111111111111,
             "#46039f"
            ],
            [
             0.2222222222222222,
             "#7201a8"
            ],
            [
             0.3333333333333333,
             "#9c179e"
            ],
            [
             0.4444444444444444,
             "#bd3786"
            ],
            [
             0.5555555555555556,
             "#d8576b"
            ],
            [
             0.6666666666666666,
             "#ed7953"
            ],
            [
             0.7777777777777778,
             "#fb9f3a"
            ],
            [
             0.8888888888888888,
             "#fdca26"
            ],
            [
             1,
             "#f0f921"
            ]
           ],
           "sequentialminus": [
            [
             0,
             "#0d0887"
            ],
            [
             0.1111111111111111,
             "#46039f"
            ],
            [
             0.2222222222222222,
             "#7201a8"
            ],
            [
             0.3333333333333333,
             "#9c179e"
            ],
            [
             0.4444444444444444,
             "#bd3786"
            ],
            [
             0.5555555555555556,
             "#d8576b"
            ],
            [
             0.6666666666666666,
             "#ed7953"
            ],
            [
             0.7777777777777778,
             "#fb9f3a"
            ],
            [
             0.8888888888888888,
             "#fdca26"
            ],
            [
             1,
             "#f0f921"
            ]
           ]
          },
          "colorway": [
           "#636efa",
           "#EF553B",
           "#00cc96",
           "#ab63fa",
           "#FFA15A",
           "#19d3f3",
           "#FF6692",
           "#B6E880",
           "#FF97FF",
           "#FECB52"
          ],
          "font": {
           "color": "#2a3f5f"
          },
          "geo": {
           "bgcolor": "white",
           "lakecolor": "white",
           "landcolor": "#E5ECF6",
           "showlakes": true,
           "showland": true,
           "subunitcolor": "white"
          },
          "hoverlabel": {
           "align": "left"
          },
          "hovermode": "closest",
          "mapbox": {
           "style": "light"
          },
          "paper_bgcolor": "white",
          "plot_bgcolor": "#E5ECF6",
          "polar": {
           "angularaxis": {
            "gridcolor": "white",
            "linecolor": "white",
            "ticks": ""
           },
           "bgcolor": "#E5ECF6",
           "radialaxis": {
            "gridcolor": "white",
            "linecolor": "white",
            "ticks": ""
           }
          },
          "scene": {
           "xaxis": {
            "backgroundcolor": "#E5ECF6",
            "gridcolor": "white",
            "gridwidth": 2,
            "linecolor": "white",
            "showbackground": true,
            "ticks": "",
            "zerolinecolor": "white"
           },
           "yaxis": {
            "backgroundcolor": "#E5ECF6",
            "gridcolor": "white",
            "gridwidth": 2,
            "linecolor": "white",
            "showbackground": true,
            "ticks": "",
            "zerolinecolor": "white"
           },
           "zaxis": {
            "backgroundcolor": "#E5ECF6",
            "gridcolor": "white",
            "gridwidth": 2,
            "linecolor": "white",
            "showbackground": true,
            "ticks": "",
            "zerolinecolor": "white"
           }
          },
          "shapedefaults": {
           "line": {
            "color": "#2a3f5f"
           }
          },
          "ternary": {
           "aaxis": {
            "gridcolor": "white",
            "linecolor": "white",
            "ticks": ""
           },
           "baxis": {
            "gridcolor": "white",
            "linecolor": "white",
            "ticks": ""
           },
           "bgcolor": "#E5ECF6",
           "caxis": {
            "gridcolor": "white",
            "linecolor": "white",
            "ticks": ""
           }
          },
          "title": {
           "x": 0.05
          },
          "xaxis": {
           "automargin": true,
           "gridcolor": "white",
           "linecolor": "white",
           "ticks": "",
           "title": {
            "standoff": 15
           },
           "zerolinecolor": "white",
           "zerolinewidth": 2
          },
          "yaxis": {
           "automargin": true,
           "gridcolor": "white",
           "linecolor": "white",
           "ticks": "",
           "title": {
            "standoff": 15
           },
           "zerolinecolor": "white",
           "zerolinewidth": 2
          }
         }
        },
        "xaxis": {
         "anchor": "y",
         "domain": [
          0,
          1
         ],
         "title": {
          "text": "index"
         }
        },
        "yaxis": {
         "anchor": "x",
         "domain": [
          0,
          1
         ],
         "title": {
          "text": "value"
         }
        }
       }
      }
     },
     "metadata": {},
     "output_type": "display_data"
    }
   ],
   "source": [
    "import plotly.express as px\n",
    "fig = px.line({'loss': history.history['accuracy'], 'val_loss': history.history['val_accuracy']})\n",
    "fig.show()"
   ]
  }
 ],
 "metadata": {
  "kernelspec": {
   "display_name": "ns-env",
   "language": "python",
   "name": "python3"
  },
  "language_info": {
   "codemirror_mode": {
    "name": "ipython",
    "version": 3
   },
   "file_extension": ".py",
   "mimetype": "text/x-python",
   "name": "python",
   "nbconvert_exporter": "python",
   "pygments_lexer": "ipython3",
   "version": "3.9.16"
  },
  "orig_nbformat": 4
 },
 "nbformat": 4,
 "nbformat_minor": 2
}
