{
 "cells": [
  {
   "cell_type": "code",
   "execution_count": 136,
   "metadata": {},
   "outputs": [],
   "source": [
    "import tensorflow as tf\n",
    "import pandas as pd\n",
    "import numpy as np\n",
    "import wandb"
   ]
  },
  {
   "attachments": {},
   "cell_type": "markdown",
   "metadata": {},
   "source": [
    "# Tensorflow"
   ]
  },
  {
   "attachments": {},
   "cell_type": "markdown",
   "metadata": {},
   "source": [
    "#### Config"
   ]
  },
  {
   "cell_type": "code",
   "execution_count": 137,
   "metadata": {},
   "outputs": [],
   "source": [
    "\n",
    "config = {\n",
    "    \"learning_rate\": 1e-3,\n",
    "    \"epochs\": 100,\n",
    "    \"batch_size\": 64,\n",
    "    \"optimizer\": \"Adam\",\n",
    "    \"dropout_rate\": 0.4\n",
    "}"
   ]
  },
  {
   "attachments": {},
   "cell_type": "markdown",
   "metadata": {},
   "source": [
    "### WandB connection"
   ]
  },
  {
   "cell_type": "code",
   "execution_count": 138,
   "metadata": {},
   "outputs": [
    {
     "data": {
      "text/html": [
       "Tracking run with wandb version 0.14.0"
      ],
      "text/plain": [
       "<IPython.core.display.HTML object>"
      ]
     },
     "metadata": {},
     "output_type": "display_data"
    },
    {
     "data": {
      "text/html": [
       "Run data is saved locally in <code>c:\\Users\\filip\\Desktop\\NS\\assignment-1\\wandb\\run-20230325_185905-j7y32lxy</code>"
      ],
      "text/plain": [
       "<IPython.core.display.HTML object>"
      ]
     },
     "metadata": {},
     "output_type": "display_data"
    },
    {
     "data": {
      "text/html": [
       "Syncing run <strong><a href='https://wandb.ai/ns-super-team/assignment-1/runs/j7y32lxy' target=\"_blank\">tensorflow-64-d-32-1</a></strong> to <a href='https://wandb.ai/ns-super-team/assignment-1' target=\"_blank\">Weights & Biases</a> (<a href='https://wandb.me/run' target=\"_blank\">docs</a>)<br/>"
      ],
      "text/plain": [
       "<IPython.core.display.HTML object>"
      ]
     },
     "metadata": {},
     "output_type": "display_data"
    },
    {
     "data": {
      "text/html": [
       " View project at <a href='https://wandb.ai/ns-super-team/assignment-1' target=\"_blank\">https://wandb.ai/ns-super-team/assignment-1</a>"
      ],
      "text/plain": [
       "<IPython.core.display.HTML object>"
      ]
     },
     "metadata": {},
     "output_type": "display_data"
    },
    {
     "data": {
      "text/html": [
       " View run at <a href='https://wandb.ai/ns-super-team/assignment-1/runs/j7y32lxy' target=\"_blank\">https://wandb.ai/ns-super-team/assignment-1/runs/j7y32lxy</a>"
      ],
      "text/plain": [
       "<IPython.core.display.HTML object>"
      ]
     },
     "metadata": {},
     "output_type": "display_data"
    },
    {
     "data": {
      "text/html": [
       "<button onClick=\"this.nextSibling.style.display='block';this.style.display='none';\">Display W&B run</button><iframe src='https://wandb.ai/ns-super-team/assignment-1/runs/j7y32lxy?jupyter=true' style='border:none;width:100%;height:420px;display:none;'></iframe>"
      ],
      "text/plain": [
       "<wandb.sdk.wandb_run.Run at 0x18596476b20>"
      ]
     },
     "execution_count": 138,
     "metadata": {},
     "output_type": "execute_result"
    }
   ],
   "source": [
    "\n",
    "wandb.login()\n",
    "wandb.init(project=\"assignment-1\", name=\"tensorflow-64-d-32-1\", reinit=True, config=config)"
   ]
  },
  {
   "attachments": {},
   "cell_type": "markdown",
   "metadata": {},
   "source": [
    "### Loading the data"
   ]
  },
  {
   "cell_type": "code",
   "execution_count": 139,
   "metadata": {},
   "outputs": [
    {
     "name": "stdout",
     "output_type": "stream",
     "text": [
      "[2.         1.         0.33221272 1.         1.         3.5115454 ]\n",
      "[1.]\n",
      "\n",
      "[ 3.         0.        -0.6710254  0.         0.         2.180892 ]\n",
      "[0.]\n"
     ]
    }
   ],
   "source": [
    "x_train = pd.read_csv('data/train/data.csv').to_numpy(dtype='float32')\n",
    "y_train = pd.read_csv('data/train/labels.csv').to_numpy(dtype='float32')\n",
    "\n",
    "x_val = pd.read_csv('data/val/data.csv').to_numpy(dtype='float32')\n",
    "y_val = pd.read_csv('data/val/labels.csv').to_numpy(dtype='float32')\n",
    "\n",
    "print(x_train[0])\n",
    "print(y_train[0])\n",
    "print()\n",
    "print(x_val[0])\n",
    "print(y_val[0])"
   ]
  },
  {
   "attachments": {},
   "cell_type": "markdown",
   "metadata": {},
   "source": [
    "### Building a model"
   ]
  },
  {
   "cell_type": "code",
   "execution_count": 140,
   "metadata": {},
   "outputs": [],
   "source": [
    "model = tf.keras.Sequential([\n",
    "    tf.keras.layers.InputLayer(input_shape=(6,)),\n",
    "    tf.keras.layers.Dense(64, activation='relu'),\n",
    "    tf.keras.layers.Dropout(rate=config['dropout_rate']),\n",
    "    tf.keras.layers.Dense(32, activation='relu'),\n",
    "    tf.keras.layers.Dense(1, activation='sigmoid'),    \n",
    "])"
   ]
  },
  {
   "cell_type": "code",
   "execution_count": 141,
   "metadata": {},
   "outputs": [
    {
     "name": "stdout",
     "output_type": "stream",
     "text": [
      "Model: \"sequential_12\"\n",
      "_________________________________________________________________\n",
      " Layer (type)                Output Shape              Param #   \n",
      "=================================================================\n",
      " dense_33 (Dense)            (None, 64)                448       \n",
      "                                                                 \n",
      " dropout_10 (Dropout)        (None, 64)                0         \n",
      "                                                                 \n",
      " dense_34 (Dense)            (None, 32)                2080      \n",
      "                                                                 \n",
      " dense_35 (Dense)            (None, 1)                 33        \n",
      "                                                                 \n",
      "=================================================================\n",
      "Total params: 2,561\n",
      "Trainable params: 2,561\n",
      "Non-trainable params: 0\n",
      "_________________________________________________________________\n"
     ]
    }
   ],
   "source": [
    "model.summary()"
   ]
  },
  {
   "cell_type": "code",
   "execution_count": 142,
   "metadata": {},
   "outputs": [],
   "source": [
    "if config['optimizer'] == 'SGD':\n",
    "    optimizer = tf.keras.optimizers.SGD(learning_rate=config['learning_rate'])\n",
    "elif config['optimizer'] == 'Adam':\n",
    "    optimizer = tf.keras.optimizers.Adam(learning_rate=config['learning_rate'])\n",
    "\n",
    "model.compile(\n",
    "    optimizer=optimizer,\n",
    "    loss='binary_crossentropy',\n",
    "    metrics=['accuracy']\n",
    ")"
   ]
  },
  {
   "cell_type": "code",
   "execution_count": 143,
   "metadata": {},
   "outputs": [],
   "source": [
    "def lr_scheduler(epoch, lr):\n",
    "    if epoch < 10:\n",
    "        return lr\n",
    "    else:\n",
    "        #return 1 / (1 + config['decay_rate'] * epoch) * config['learning_rate']\\n\",\n",
    "        return (0.99 ** epoch) * config['learning_rate']\n",
    "\n",
    "scheduler_callback = tf.keras.callbacks.LearningRateScheduler(lr_scheduler)"
   ]
  },
  {
   "attachments": {},
   "cell_type": "markdown",
   "metadata": {},
   "source": [
    "### Training the model"
   ]
  },
  {
   "cell_type": "code",
   "execution_count": 144,
   "metadata": {},
   "outputs": [
    {
     "name": "stdout",
     "output_type": "stream",
     "text": [
      "Epoch 1/100\n",
      " 8/10 [=======================>......] - ETA: 0s - loss: 0.6747 - accuracy: 0.5879 INFO:tensorflow:Assets written to: c:\\Users\\filip\\Desktop\\NS\\assignment-1\\wandb\\run-20230325_185905-j7y32lxy\\files\\model-best\\assets\n"
     ]
    },
    {
     "name": "stderr",
     "output_type": "stream",
     "text": [
      "\u001b[34m\u001b[1mwandb\u001b[0m: Adding directory to artifact (c:\\Users\\filip\\Desktop\\NS\\assignment-1\\wandb\\run-20230325_185905-j7y32lxy\\files\\model-best)... Done. 0.0s\n"
     ]
    },
    {
     "name": "stdout",
     "output_type": "stream",
     "text": [
      "10/10 [==============================] - 4s 356ms/step - loss: 0.6802 - accuracy: 0.5770 - val_loss: 0.6316 - val_accuracy: 0.6340 - lr: 0.0010\n",
      "Epoch 2/100\n",
      " 1/10 [==>...........................] - ETA: 0s - loss: 0.6658 - accuracy: 0.5938INFO:tensorflow:Assets written to: c:\\Users\\filip\\Desktop\\NS\\assignment-1\\wandb\\run-20230325_185905-j7y32lxy\\files\\model-best\\assets\n"
     ]
    },
    {
     "name": "stderr",
     "output_type": "stream",
     "text": [
      "\u001b[34m\u001b[1mwandb\u001b[0m: Adding directory to artifact (c:\\Users\\filip\\Desktop\\NS\\assignment-1\\wandb\\run-20230325_185905-j7y32lxy\\files\\model-best)... Done. 0.0s\n"
     ]
    },
    {
     "name": "stdout",
     "output_type": "stream",
     "text": [
      "10/10 [==============================] - 3s 320ms/step - loss: 0.6542 - accuracy: 0.6402 - val_loss: 0.6180 - val_accuracy: 0.6302 - lr: 0.0010\n",
      "Epoch 3/100\n",
      " 1/10 [==>...........................] - ETA: 0s - loss: 0.5994 - accuracy: 0.7188INFO:tensorflow:Assets written to: c:\\Users\\filip\\Desktop\\NS\\assignment-1\\wandb\\run-20230325_185905-j7y32lxy\\files\\model-best\\assets\n"
     ]
    },
    {
     "name": "stderr",
     "output_type": "stream",
     "text": [
      "\u001b[34m\u001b[1mwandb\u001b[0m: Adding directory to artifact (c:\\Users\\filip\\Desktop\\NS\\assignment-1\\wandb\\run-20230325_185905-j7y32lxy\\files\\model-best)... Done. 0.0s\n"
     ]
    },
    {
     "name": "stdout",
     "output_type": "stream",
     "text": [
      "10/10 [==============================] - 2s 270ms/step - loss: 0.6247 - accuracy: 0.6418 - val_loss: 0.6057 - val_accuracy: 0.6792 - lr: 0.0010\n",
      "Epoch 4/100\n",
      " 1/10 [==>...........................] - ETA: 0s - loss: 0.6567 - accuracy: 0.5938INFO:tensorflow:Assets written to: c:\\Users\\filip\\Desktop\\NS\\assignment-1\\wandb\\run-20230325_185905-j7y32lxy\\files\\model-best\\assets\n"
     ]
    },
    {
     "name": "stderr",
     "output_type": "stream",
     "text": [
      "\u001b[34m\u001b[1mwandb\u001b[0m: Adding directory to artifact (c:\\Users\\filip\\Desktop\\NS\\assignment-1\\wandb\\run-20230325_185905-j7y32lxy\\files\\model-best)... Done. 0.0s\n"
     ]
    },
    {
     "name": "stdout",
     "output_type": "stream",
     "text": [
      "10/10 [==============================] - 3s 314ms/step - loss: 0.6074 - accuracy: 0.6759 - val_loss: 0.5945 - val_accuracy: 0.6906 - lr: 0.0010\n",
      "Epoch 5/100\n",
      " 1/10 [==>...........................] - ETA: 0s - loss: 0.5984 - accuracy: 0.7188INFO:tensorflow:Assets written to: c:\\Users\\filip\\Desktop\\NS\\assignment-1\\wandb\\run-20230325_185905-j7y32lxy\\files\\model-best\\assets\n"
     ]
    },
    {
     "name": "stderr",
     "output_type": "stream",
     "text": [
      "\u001b[34m\u001b[1mwandb\u001b[0m: Adding directory to artifact (c:\\Users\\filip\\Desktop\\NS\\assignment-1\\wandb\\run-20230325_185905-j7y32lxy\\files\\model-best)... Done. 0.0s\n"
     ]
    },
    {
     "name": "stdout",
     "output_type": "stream",
     "text": [
      "10/10 [==============================] - 2s 240ms/step - loss: 0.6115 - accuracy: 0.6807 - val_loss: 0.5812 - val_accuracy: 0.7132 - lr: 0.0010\n",
      "Epoch 6/100\n",
      " 1/10 [==>...........................] - ETA: 0s - loss: 0.6084 - accuracy: 0.7188INFO:tensorflow:Assets written to: c:\\Users\\filip\\Desktop\\NS\\assignment-1\\wandb\\run-20230325_185905-j7y32lxy\\files\\model-best\\assets\n"
     ]
    },
    {
     "name": "stderr",
     "output_type": "stream",
     "text": [
      "\u001b[34m\u001b[1mwandb\u001b[0m: Adding directory to artifact (c:\\Users\\filip\\Desktop\\NS\\assignment-1\\wandb\\run-20230325_185905-j7y32lxy\\files\\model-best)... Done. 0.0s\n"
     ]
    },
    {
     "name": "stdout",
     "output_type": "stream",
     "text": [
      "10/10 [==============================] - 3s 352ms/step - loss: 0.5828 - accuracy: 0.7180 - val_loss: 0.5705 - val_accuracy: 0.7208 - lr: 0.0010\n",
      "Epoch 7/100\n",
      "10/10 [==============================] - ETA: 0s - loss: 0.5819 - accuracy: 0.6840INFO:tensorflow:Assets written to: c:\\Users\\filip\\Desktop\\NS\\assignment-1\\wandb\\run-20230325_185905-j7y32lxy\\files\\model-best\\assets\n"
     ]
    },
    {
     "name": "stderr",
     "output_type": "stream",
     "text": [
      "\u001b[34m\u001b[1mwandb\u001b[0m: Adding directory to artifact (c:\\Users\\filip\\Desktop\\NS\\assignment-1\\wandb\\run-20230325_185905-j7y32lxy\\files\\model-best)... Done. 0.0s\n"
     ]
    },
    {
     "name": "stdout",
     "output_type": "stream",
     "text": [
      "10/10 [==============================] - 3s 294ms/step - loss: 0.5819 - accuracy: 0.6840 - val_loss: 0.5581 - val_accuracy: 0.7396 - lr: 0.0010\n",
      "Epoch 8/100\n",
      " 9/10 [==========================>...] - ETA: 0s - loss: 0.5740 - accuracy: 0.7257INFO:tensorflow:Assets written to: c:\\Users\\filip\\Desktop\\NS\\assignment-1\\wandb\\run-20230325_185905-j7y32lxy\\files\\model-best\\assets\n"
     ]
    },
    {
     "name": "stderr",
     "output_type": "stream",
     "text": [
      "\u001b[34m\u001b[1mwandb\u001b[0m: Adding directory to artifact (c:\\Users\\filip\\Desktop\\NS\\assignment-1\\wandb\\run-20230325_185905-j7y32lxy\\files\\model-best)... Done. 0.0s\n"
     ]
    },
    {
     "name": "stdout",
     "output_type": "stream",
     "text": [
      "10/10 [==============================] - 3s 335ms/step - loss: 0.5677 - accuracy: 0.7310 - val_loss: 0.5459 - val_accuracy: 0.7283 - lr: 0.0010\n",
      "Epoch 9/100\n",
      " 1/10 [==>...........................] - ETA: 0s - loss: 0.5652 - accuracy: 0.7188INFO:tensorflow:Assets written to: c:\\Users\\filip\\Desktop\\NS\\assignment-1\\wandb\\run-20230325_185905-j7y32lxy\\files\\model-best\\assets\n"
     ]
    },
    {
     "name": "stderr",
     "output_type": "stream",
     "text": [
      "\u001b[34m\u001b[1mwandb\u001b[0m: Adding directory to artifact (c:\\Users\\filip\\Desktop\\NS\\assignment-1\\wandb\\run-20230325_185905-j7y32lxy\\files\\model-best)... Done. 0.0s\n"
     ]
    },
    {
     "name": "stdout",
     "output_type": "stream",
     "text": [
      "10/10 [==============================] - 2s 262ms/step - loss: 0.5575 - accuracy: 0.7326 - val_loss: 0.5331 - val_accuracy: 0.7472 - lr: 0.0010\n",
      "Epoch 10/100\n",
      " 1/10 [==>...........................] - ETA: 0s - loss: 0.5906 - accuracy: 0.7031INFO:tensorflow:Assets written to: c:\\Users\\filip\\Desktop\\NS\\assignment-1\\wandb\\run-20230325_185905-j7y32lxy\\files\\model-best\\assets\n"
     ]
    },
    {
     "name": "stderr",
     "output_type": "stream",
     "text": [
      "\u001b[34m\u001b[1mwandb\u001b[0m: Adding directory to artifact (c:\\Users\\filip\\Desktop\\NS\\assignment-1\\wandb\\run-20230325_185905-j7y32lxy\\files\\model-best)... Done. 0.0s\n"
     ]
    },
    {
     "name": "stdout",
     "output_type": "stream",
     "text": [
      "10/10 [==============================] - 3s 294ms/step - loss: 0.5467 - accuracy: 0.7326 - val_loss: 0.5225 - val_accuracy: 0.7472 - lr: 0.0010\n",
      "Epoch 11/100\n",
      " 9/10 [==========================>...] - ETA: 0s - loss: 0.5297 - accuracy: 0.7396INFO:tensorflow:Assets written to: c:\\Users\\filip\\Desktop\\NS\\assignment-1\\wandb\\run-20230325_185905-j7y32lxy\\files\\model-best\\assets\n"
     ]
    },
    {
     "name": "stderr",
     "output_type": "stream",
     "text": [
      "\u001b[34m\u001b[1mwandb\u001b[0m: Adding directory to artifact (c:\\Users\\filip\\Desktop\\NS\\assignment-1\\wandb\\run-20230325_185905-j7y32lxy\\files\\model-best)... Done. 0.0s\n"
     ]
    },
    {
     "name": "stdout",
     "output_type": "stream",
     "text": [
      "10/10 [==============================] - 3s 282ms/step - loss: 0.5303 - accuracy: 0.7374 - val_loss: 0.5115 - val_accuracy: 0.7547 - lr: 9.0438e-04\n",
      "Epoch 12/100\n",
      " 1/10 [==>...........................] - ETA: 0s - loss: 0.5406 - accuracy: 0.7969INFO:tensorflow:Assets written to: c:\\Users\\filip\\Desktop\\NS\\assignment-1\\wandb\\run-20230325_185905-j7y32lxy\\files\\model-best\\assets\n"
     ]
    },
    {
     "name": "stderr",
     "output_type": "stream",
     "text": [
      "\u001b[34m\u001b[1mwandb\u001b[0m: Adding directory to artifact (c:\\Users\\filip\\Desktop\\NS\\assignment-1\\wandb\\run-20230325_185905-j7y32lxy\\files\\model-best)... Done. 0.0s\n"
     ]
    },
    {
     "name": "stdout",
     "output_type": "stream",
     "text": [
      "10/10 [==============================] - 3s 304ms/step - loss: 0.5365 - accuracy: 0.7391 - val_loss: 0.5019 - val_accuracy: 0.7698 - lr: 8.9534e-04\n",
      "Epoch 13/100\n",
      " 1/10 [==>...........................] - ETA: 0s - loss: 0.5166 - accuracy: 0.7812INFO:tensorflow:Assets written to: c:\\Users\\filip\\Desktop\\NS\\assignment-1\\wandb\\run-20230325_185905-j7y32lxy\\files\\model-best\\assets\n"
     ]
    },
    {
     "name": "stderr",
     "output_type": "stream",
     "text": [
      "\u001b[34m\u001b[1mwandb\u001b[0m: Adding directory to artifact (c:\\Users\\filip\\Desktop\\NS\\assignment-1\\wandb\\run-20230325_185905-j7y32lxy\\files\\model-best)... Done. 0.0s\n"
     ]
    },
    {
     "name": "stdout",
     "output_type": "stream",
     "text": [
      "10/10 [==============================] - 2s 254ms/step - loss: 0.5130 - accuracy: 0.7682 - val_loss: 0.4923 - val_accuracy: 0.7849 - lr: 8.8638e-04\n",
      "Epoch 14/100\n",
      " 1/10 [==>...........................] - ETA: 0s - loss: 0.6585 - accuracy: 0.6250INFO:tensorflow:Assets written to: c:\\Users\\filip\\Desktop\\NS\\assignment-1\\wandb\\run-20230325_185905-j7y32lxy\\files\\model-best\\assets\n"
     ]
    },
    {
     "name": "stderr",
     "output_type": "stream",
     "text": [
      "\u001b[34m\u001b[1mwandb\u001b[0m: Adding directory to artifact (c:\\Users\\filip\\Desktop\\NS\\assignment-1\\wandb\\run-20230325_185905-j7y32lxy\\files\\model-best)... Done. 0.0s\n"
     ]
    },
    {
     "name": "stdout",
     "output_type": "stream",
     "text": [
      "10/10 [==============================] - 3s 359ms/step - loss: 0.5116 - accuracy: 0.7715 - val_loss: 0.4859 - val_accuracy: 0.7887 - lr: 8.7752e-04\n",
      "Epoch 15/100\n",
      " 1/10 [==>...........................] - ETA: 0s - loss: 0.6602 - accuracy: 0.7188INFO:tensorflow:Assets written to: c:\\Users\\filip\\Desktop\\NS\\assignment-1\\wandb\\run-20230325_185905-j7y32lxy\\files\\model-best\\assets\n"
     ]
    },
    {
     "name": "stderr",
     "output_type": "stream",
     "text": [
      "\u001b[34m\u001b[1mwandb\u001b[0m: Adding directory to artifact (c:\\Users\\filip\\Desktop\\NS\\assignment-1\\wandb\\run-20230325_185905-j7y32lxy\\files\\model-best)... Done. 0.0s\n"
     ]
    },
    {
     "name": "stdout",
     "output_type": "stream",
     "text": [
      "10/10 [==============================] - 2s 232ms/step - loss: 0.4955 - accuracy: 0.7731 - val_loss: 0.4772 - val_accuracy: 0.7925 - lr: 8.6875e-04\n",
      "Epoch 16/100\n",
      " 1/10 [==>...........................] - ETA: 0s - loss: 0.4919 - accuracy: 0.7812INFO:tensorflow:Assets written to: c:\\Users\\filip\\Desktop\\NS\\assignment-1\\wandb\\run-20230325_185905-j7y32lxy\\files\\model-best\\assets\n"
     ]
    },
    {
     "name": "stderr",
     "output_type": "stream",
     "text": [
      "\u001b[34m\u001b[1mwandb\u001b[0m: Adding directory to artifact (c:\\Users\\filip\\Desktop\\NS\\assignment-1\\wandb\\run-20230325_185905-j7y32lxy\\files\\model-best)... Done. 0.0s\n"
     ]
    },
    {
     "name": "stdout",
     "output_type": "stream",
     "text": [
      "10/10 [==============================] - 2s 270ms/step - loss: 0.4870 - accuracy: 0.7699 - val_loss: 0.4671 - val_accuracy: 0.7887 - lr: 8.6006e-04\n",
      "Epoch 17/100\n",
      " 1/10 [==>...........................] - ETA: 0s - loss: 0.4160 - accuracy: 0.8906INFO:tensorflow:Assets written to: c:\\Users\\filip\\Desktop\\NS\\assignment-1\\wandb\\run-20230325_185905-j7y32lxy\\files\\model-best\\assets\n"
     ]
    },
    {
     "name": "stderr",
     "output_type": "stream",
     "text": [
      "\u001b[34m\u001b[1mwandb\u001b[0m: Adding directory to artifact (c:\\Users\\filip\\Desktop\\NS\\assignment-1\\wandb\\run-20230325_185905-j7y32lxy\\files\\model-best)... Done. 0.0s\n"
     ]
    },
    {
     "name": "stdout",
     "output_type": "stream",
     "text": [
      "10/10 [==============================] - 2s 232ms/step - loss: 0.4935 - accuracy: 0.7731 - val_loss: 0.4617 - val_accuracy: 0.8000 - lr: 8.5146e-04\n",
      "Epoch 18/100\n",
      " 1/10 [==>...........................] - ETA: 0s - loss: 0.4379 - accuracy: 0.7344INFO:tensorflow:Assets written to: c:\\Users\\filip\\Desktop\\NS\\assignment-1\\wandb\\run-20230325_185905-j7y32lxy\\files\\model-best\\assets\n"
     ]
    },
    {
     "name": "stderr",
     "output_type": "stream",
     "text": [
      "\u001b[34m\u001b[1mwandb\u001b[0m: Adding directory to artifact (c:\\Users\\filip\\Desktop\\NS\\assignment-1\\wandb\\run-20230325_185905-j7y32lxy\\files\\model-best)... Done. 0.0s\n"
     ]
    },
    {
     "name": "stdout",
     "output_type": "stream",
     "text": [
      "10/10 [==============================] - 2s 271ms/step - loss: 0.4951 - accuracy: 0.7618 - val_loss: 0.4584 - val_accuracy: 0.8038 - lr: 8.4294e-04\n",
      "Epoch 19/100\n",
      " 1/10 [==>...........................] - ETA: 0s - loss: 0.4019 - accuracy: 0.8281INFO:tensorflow:Assets written to: c:\\Users\\filip\\Desktop\\NS\\assignment-1\\wandb\\run-20230325_185905-j7y32lxy\\files\\model-best\\assets\n"
     ]
    },
    {
     "name": "stderr",
     "output_type": "stream",
     "text": [
      "\u001b[34m\u001b[1mwandb\u001b[0m: Adding directory to artifact (c:\\Users\\filip\\Desktop\\NS\\assignment-1\\wandb\\run-20230325_185905-j7y32lxy\\files\\model-best)... Done. 0.0s\n"
     ]
    },
    {
     "name": "stdout",
     "output_type": "stream",
     "text": [
      "10/10 [==============================] - 2s 271ms/step - loss: 0.4759 - accuracy: 0.7958 - val_loss: 0.4566 - val_accuracy: 0.8000 - lr: 8.3451e-04\n",
      "Epoch 20/100\n",
      " 1/10 [==>...........................] - ETA: 0s - loss: 0.4766 - accuracy: 0.8594INFO:tensorflow:Assets written to: c:\\Users\\filip\\Desktop\\NS\\assignment-1\\wandb\\run-20230325_185905-j7y32lxy\\files\\model-best\\assets\n"
     ]
    },
    {
     "name": "stderr",
     "output_type": "stream",
     "text": [
      "\u001b[34m\u001b[1mwandb\u001b[0m: Adding directory to artifact (c:\\Users\\filip\\Desktop\\NS\\assignment-1\\wandb\\run-20230325_185905-j7y32lxy\\files\\model-best)... Done. 0.0s\n"
     ]
    },
    {
     "name": "stdout",
     "output_type": "stream",
     "text": [
      "10/10 [==============================] - 3s 289ms/step - loss: 0.4762 - accuracy: 0.7877 - val_loss: 0.4545 - val_accuracy: 0.8038 - lr: 8.2617e-04\n",
      "Epoch 21/100\n",
      " 1/10 [==>...........................] - ETA: 0s - loss: 0.4922 - accuracy: 0.7656INFO:tensorflow:Assets written to: c:\\Users\\filip\\Desktop\\NS\\assignment-1\\wandb\\run-20230325_185905-j7y32lxy\\files\\model-best\\assets\n"
     ]
    },
    {
     "name": "stderr",
     "output_type": "stream",
     "text": [
      "\u001b[34m\u001b[1mwandb\u001b[0m: Adding directory to artifact (c:\\Users\\filip\\Desktop\\NS\\assignment-1\\wandb\\run-20230325_185905-j7y32lxy\\files\\model-best)... Done. 0.0s\n"
     ]
    },
    {
     "name": "stdout",
     "output_type": "stream",
     "text": [
      "10/10 [==============================] - 2s 227ms/step - loss: 0.4646 - accuracy: 0.8006 - val_loss: 0.4507 - val_accuracy: 0.8000 - lr: 8.1791e-04\n",
      "Epoch 22/100\n",
      " 1/10 [==>...........................] - ETA: 0s - loss: 0.5620 - accuracy: 0.7188INFO:tensorflow:Assets written to: c:\\Users\\filip\\Desktop\\NS\\assignment-1\\wandb\\run-20230325_185905-j7y32lxy\\files\\model-best\\assets\n"
     ]
    },
    {
     "name": "stderr",
     "output_type": "stream",
     "text": [
      "\u001b[34m\u001b[1mwandb\u001b[0m: Adding directory to artifact (c:\\Users\\filip\\Desktop\\NS\\assignment-1\\wandb\\run-20230325_185905-j7y32lxy\\files\\model-best)... Done. 0.0s\n"
     ]
    },
    {
     "name": "stdout",
     "output_type": "stream",
     "text": [
      "10/10 [==============================] - 2s 268ms/step - loss: 0.4682 - accuracy: 0.7796 - val_loss: 0.4488 - val_accuracy: 0.8000 - lr: 8.0973e-04\n",
      "Epoch 23/100\n",
      " 1/10 [==>...........................] - ETA: 0s - loss: 0.4125 - accuracy: 0.8125INFO:tensorflow:Assets written to: c:\\Users\\filip\\Desktop\\NS\\assignment-1\\wandb\\run-20230325_185905-j7y32lxy\\files\\model-best\\assets\n"
     ]
    },
    {
     "name": "stderr",
     "output_type": "stream",
     "text": [
      "\u001b[34m\u001b[1mwandb\u001b[0m: Adding directory to artifact (c:\\Users\\filip\\Desktop\\NS\\assignment-1\\wandb\\run-20230325_185905-j7y32lxy\\files\\model-best)... Done. 0.0s\n"
     ]
    },
    {
     "name": "stdout",
     "output_type": "stream",
     "text": [
      "10/10 [==============================] - 2s 240ms/step - loss: 0.4301 - accuracy: 0.8104 - val_loss: 0.4468 - val_accuracy: 0.8151 - lr: 8.0163e-04\n",
      "Epoch 24/100\n",
      " 1/10 [==>...........................] - ETA: 0s - loss: 0.5117 - accuracy: 0.7812INFO:tensorflow:Assets written to: c:\\Users\\filip\\Desktop\\NS\\assignment-1\\wandb\\run-20230325_185905-j7y32lxy\\files\\model-best\\assets\n"
     ]
    },
    {
     "name": "stderr",
     "output_type": "stream",
     "text": [
      "\u001b[34m\u001b[1mwandb\u001b[0m: Adding directory to artifact (c:\\Users\\filip\\Desktop\\NS\\assignment-1\\wandb\\run-20230325_185905-j7y32lxy\\files\\model-best)... Done. 0.1s\n"
     ]
    },
    {
     "name": "stdout",
     "output_type": "stream",
     "text": [
      "10/10 [==============================] - 3s 309ms/step - loss: 0.4640 - accuracy: 0.7828 - val_loss: 0.4443 - val_accuracy: 0.8151 - lr: 7.9361e-04\n",
      "Epoch 25/100\n",
      "10/10 [==============================] - 0s 19ms/step - loss: 0.4399 - accuracy: 0.7925 - val_loss: 0.4446 - val_accuracy: 0.8189 - lr: 7.8568e-04\n",
      "Epoch 26/100\n",
      " 1/10 [==>...........................] - ETA: 0s - loss: 0.3994 - accuracy: 0.8438INFO:tensorflow:Assets written to: c:\\Users\\filip\\Desktop\\NS\\assignment-1\\wandb\\run-20230325_185905-j7y32lxy\\files\\model-best\\assets\n"
     ]
    },
    {
     "name": "stderr",
     "output_type": "stream",
     "text": [
      "\u001b[34m\u001b[1mwandb\u001b[0m: Adding directory to artifact (c:\\Users\\filip\\Desktop\\NS\\assignment-1\\wandb\\run-20230325_185905-j7y32lxy\\files\\model-best)... Done. 0.0s\n"
     ]
    },
    {
     "name": "stdout",
     "output_type": "stream",
     "text": [
      "10/10 [==============================] - 2s 247ms/step - loss: 0.4561 - accuracy: 0.8006 - val_loss: 0.4422 - val_accuracy: 0.8226 - lr: 7.7782e-04\n",
      "Epoch 27/100\n",
      "10/10 [==============================] - 0s 10ms/step - loss: 0.4477 - accuracy: 0.8055 - val_loss: 0.4430 - val_accuracy: 0.8189 - lr: 7.7004e-04\n",
      "Epoch 28/100\n",
      " 1/10 [==>...........................] - ETA: 0s - loss: 0.4598 - accuracy: 0.7344INFO:tensorflow:Assets written to: c:\\Users\\filip\\Desktop\\NS\\assignment-1\\wandb\\run-20230325_185905-j7y32lxy\\files\\model-best\\assets\n"
     ]
    },
    {
     "name": "stderr",
     "output_type": "stream",
     "text": [
      "\u001b[34m\u001b[1mwandb\u001b[0m: Adding directory to artifact (c:\\Users\\filip\\Desktop\\NS\\assignment-1\\wandb\\run-20230325_185905-j7y32lxy\\files\\model-best)... Done. 0.0s\n"
     ]
    },
    {
     "name": "stdout",
     "output_type": "stream",
     "text": [
      "10/10 [==============================] - 2s 231ms/step - loss: 0.4603 - accuracy: 0.7828 - val_loss: 0.4414 - val_accuracy: 0.8189 - lr: 7.6234e-04\n",
      "Epoch 29/100\n",
      " 1/10 [==>...........................] - ETA: 0s - loss: 0.3904 - accuracy: 0.8438INFO:tensorflow:Assets written to: c:\\Users\\filip\\Desktop\\NS\\assignment-1\\wandb\\run-20230325_185905-j7y32lxy\\files\\model-best\\assets\n"
     ]
    },
    {
     "name": "stderr",
     "output_type": "stream",
     "text": [
      "\u001b[34m\u001b[1mwandb\u001b[0m: Adding directory to artifact (c:\\Users\\filip\\Desktop\\NS\\assignment-1\\wandb\\run-20230325_185905-j7y32lxy\\files\\model-best)... Done. 0.0s\n"
     ]
    },
    {
     "name": "stdout",
     "output_type": "stream",
     "text": [
      "10/10 [==============================] - 2s 275ms/step - loss: 0.4532 - accuracy: 0.7828 - val_loss: 0.4399 - val_accuracy: 0.8189 - lr: 7.5472e-04\n",
      "Epoch 30/100\n",
      "10/10 [==============================] - 0s 10ms/step - loss: 0.4369 - accuracy: 0.8006 - val_loss: 0.4404 - val_accuracy: 0.8189 - lr: 7.4717e-04\n",
      "Epoch 31/100\n",
      " 1/10 [==>...........................] - ETA: 0s - loss: 0.4359 - accuracy: 0.7969INFO:tensorflow:Assets written to: c:\\Users\\filip\\Desktop\\NS\\assignment-1\\wandb\\run-20230325_185905-j7y32lxy\\files\\model-best\\assets\n"
     ]
    },
    {
     "name": "stderr",
     "output_type": "stream",
     "text": [
      "\u001b[34m\u001b[1mwandb\u001b[0m: Adding directory to artifact (c:\\Users\\filip\\Desktop\\NS\\assignment-1\\wandb\\run-20230325_185905-j7y32lxy\\files\\model-best)... Done. 0.0s\n"
     ]
    },
    {
     "name": "stdout",
     "output_type": "stream",
     "text": [
      "10/10 [==============================] - 3s 300ms/step - loss: 0.4525 - accuracy: 0.7893 - val_loss: 0.4392 - val_accuracy: 0.8151 - lr: 7.3970e-04\n",
      "Epoch 32/100\n",
      " 1/10 [==>...........................] - ETA: 0s - loss: 0.4938 - accuracy: 0.7188INFO:tensorflow:Assets written to: c:\\Users\\filip\\Desktop\\NS\\assignment-1\\wandb\\run-20230325_185905-j7y32lxy\\files\\model-best\\assets\n"
     ]
    },
    {
     "name": "stderr",
     "output_type": "stream",
     "text": [
      "\u001b[34m\u001b[1mwandb\u001b[0m: Adding directory to artifact (c:\\Users\\filip\\Desktop\\NS\\assignment-1\\wandb\\run-20230325_185905-j7y32lxy\\files\\model-best)... Done. 0.0s\n"
     ]
    },
    {
     "name": "stdout",
     "output_type": "stream",
     "text": [
      "10/10 [==============================] - 2s 271ms/step - loss: 0.4490 - accuracy: 0.7958 - val_loss: 0.4378 - val_accuracy: 0.8226 - lr: 7.3230e-04\n",
      "Epoch 33/100\n",
      " 1/10 [==>...........................] - ETA: 0s - loss: 0.3690 - accuracy: 0.8750INFO:tensorflow:Assets written to: c:\\Users\\filip\\Desktop\\NS\\assignment-1\\wandb\\run-20230325_185905-j7y32lxy\\files\\model-best\\assets\n"
     ]
    },
    {
     "name": "stderr",
     "output_type": "stream",
     "text": [
      "\u001b[34m\u001b[1mwandb\u001b[0m: Adding directory to artifact (c:\\Users\\filip\\Desktop\\NS\\assignment-1\\wandb\\run-20230325_185905-j7y32lxy\\files\\model-best)... Done. 0.0s\n"
     ]
    },
    {
     "name": "stdout",
     "output_type": "stream",
     "text": [
      "10/10 [==============================] - 2s 234ms/step - loss: 0.4585 - accuracy: 0.7812 - val_loss: 0.4370 - val_accuracy: 0.8226 - lr: 7.2498e-04\n",
      "Epoch 34/100\n",
      "10/10 [==============================] - 0s 9ms/step - loss: 0.4342 - accuracy: 0.8136 - val_loss: 0.4374 - val_accuracy: 0.8151 - lr: 7.1773e-04\n",
      "Epoch 35/100\n",
      "10/10 [==============================] - 0s 8ms/step - loss: 0.4359 - accuracy: 0.8120 - val_loss: 0.4372 - val_accuracy: 0.8226 - lr: 7.1055e-04\n",
      "Epoch 36/100\n",
      " 1/10 [==>...........................] - ETA: 0s - loss: 0.4507 - accuracy: 0.7812INFO:tensorflow:Assets written to: c:\\Users\\filip\\Desktop\\NS\\assignment-1\\wandb\\run-20230325_185905-j7y32lxy\\files\\model-best\\assets\n"
     ]
    },
    {
     "name": "stderr",
     "output_type": "stream",
     "text": [
      "\u001b[34m\u001b[1mwandb\u001b[0m: Adding directory to artifact (c:\\Users\\filip\\Desktop\\NS\\assignment-1\\wandb\\run-20230325_185905-j7y32lxy\\files\\model-best)... Done. 0.0s\n"
     ]
    },
    {
     "name": "stdout",
     "output_type": "stream",
     "text": [
      "10/10 [==============================] - 2s 270ms/step - loss: 0.4473 - accuracy: 0.8006 - val_loss: 0.4368 - val_accuracy: 0.8189 - lr: 7.0345e-04\n",
      "Epoch 37/100\n",
      " 1/10 [==>...........................] - ETA: 0s - loss: 0.3800 - accuracy: 0.8438INFO:tensorflow:Assets written to: c:\\Users\\filip\\Desktop\\NS\\assignment-1\\wandb\\run-20230325_185905-j7y32lxy\\files\\model-best\\assets\n"
     ]
    },
    {
     "name": "stderr",
     "output_type": "stream",
     "text": [
      "\u001b[34m\u001b[1mwandb\u001b[0m: Adding directory to artifact (c:\\Users\\filip\\Desktop\\NS\\assignment-1\\wandb\\run-20230325_185905-j7y32lxy\\files\\model-best)... Done. 0.0s\n"
     ]
    },
    {
     "name": "stdout",
     "output_type": "stream",
     "text": [
      "10/10 [==============================] - 2s 231ms/step - loss: 0.4406 - accuracy: 0.8071 - val_loss: 0.4356 - val_accuracy: 0.8226 - lr: 6.9641e-04\n",
      "Epoch 38/100\n",
      " 1/10 [==>...........................] - ETA: 0s - loss: 0.3592 - accuracy: 0.8438INFO:tensorflow:Assets written to: c:\\Users\\filip\\Desktop\\NS\\assignment-1\\wandb\\run-20230325_185905-j7y32lxy\\files\\model-best\\assets\n"
     ]
    },
    {
     "name": "stderr",
     "output_type": "stream",
     "text": [
      "\u001b[34m\u001b[1mwandb\u001b[0m: Adding directory to artifact (c:\\Users\\filip\\Desktop\\NS\\assignment-1\\wandb\\run-20230325_185905-j7y32lxy\\files\\model-best)... Done. 0.0s\n"
     ]
    },
    {
     "name": "stdout",
     "output_type": "stream",
     "text": [
      "10/10 [==============================] - 4s 395ms/step - loss: 0.4589 - accuracy: 0.7844 - val_loss: 0.4344 - val_accuracy: 0.8264 - lr: 6.8945e-04\n",
      "Epoch 39/100\n",
      " 1/10 [==>...........................] - ETA: 0s - loss: 0.3661 - accuracy: 0.8906INFO:tensorflow:Assets written to: c:\\Users\\filip\\Desktop\\NS\\assignment-1\\wandb\\run-20230325_185905-j7y32lxy\\files\\model-best\\assets\n"
     ]
    },
    {
     "name": "stderr",
     "output_type": "stream",
     "text": [
      "\u001b[34m\u001b[1mwandb\u001b[0m: Adding directory to artifact (c:\\Users\\filip\\Desktop\\NS\\assignment-1\\wandb\\run-20230325_185905-j7y32lxy\\files\\model-best)... Done. 0.0s\n"
     ]
    },
    {
     "name": "stdout",
     "output_type": "stream",
     "text": [
      "10/10 [==============================] - 2s 241ms/step - loss: 0.4494 - accuracy: 0.7942 - val_loss: 0.4333 - val_accuracy: 0.8264 - lr: 6.8255e-04\n",
      "Epoch 40/100\n",
      " 1/10 [==>...........................] - ETA: 0s - loss: 0.4946 - accuracy: 0.7656INFO:tensorflow:Assets written to: c:\\Users\\filip\\Desktop\\NS\\assignment-1\\wandb\\run-20230325_185905-j7y32lxy\\files\\model-best\\assets\n"
     ]
    },
    {
     "name": "stderr",
     "output_type": "stream",
     "text": [
      "\u001b[34m\u001b[1mwandb\u001b[0m: Adding directory to artifact (c:\\Users\\filip\\Desktop\\NS\\assignment-1\\wandb\\run-20230325_185905-j7y32lxy\\files\\model-best)... Done. 0.0s\n"
     ]
    },
    {
     "name": "stdout",
     "output_type": "stream",
     "text": [
      "10/10 [==============================] - 3s 318ms/step - loss: 0.4409 - accuracy: 0.8023 - val_loss: 0.4331 - val_accuracy: 0.8264 - lr: 6.7573e-04\n",
      "Epoch 41/100\n",
      "10/10 [==============================] - 0s 18ms/step - loss: 0.4361 - accuracy: 0.8055 - val_loss: 0.4343 - val_accuracy: 0.8226 - lr: 6.6897e-04\n",
      "Epoch 42/100\n",
      "10/10 [==============================] - 0s 9ms/step - loss: 0.4480 - accuracy: 0.7925 - val_loss: 0.4353 - val_accuracy: 0.8264 - lr: 6.6228e-04\n",
      "Epoch 43/100\n",
      "10/10 [==============================] - 0s 9ms/step - loss: 0.4346 - accuracy: 0.7990 - val_loss: 0.4367 - val_accuracy: 0.8226 - lr: 6.5566e-04\n",
      "Epoch 44/100\n",
      "10/10 [==============================] - 0s 9ms/step - loss: 0.4500 - accuracy: 0.7990 - val_loss: 0.4362 - val_accuracy: 0.8189 - lr: 6.4910e-04\n",
      "Epoch 45/100\n",
      "10/10 [==============================] - 0s 9ms/step - loss: 0.4414 - accuracy: 0.8039 - val_loss: 0.4359 - val_accuracy: 0.8226 - lr: 6.4261e-04\n",
      "Epoch 46/100\n",
      "10/10 [==============================] - 0s 9ms/step - loss: 0.4331 - accuracy: 0.8120 - val_loss: 0.4342 - val_accuracy: 0.8264 - lr: 6.3619e-04\n",
      "Epoch 47/100\n",
      "10/10 [==============================] - 0s 13ms/step - loss: 0.4243 - accuracy: 0.8136 - val_loss: 0.4345 - val_accuracy: 0.8226 - lr: 6.2982e-04\n",
      "Epoch 48/100\n",
      "10/10 [==============================] - 0s 20ms/step - loss: 0.4385 - accuracy: 0.8185 - val_loss: 0.4342 - val_accuracy: 0.8264 - lr: 6.2353e-04\n",
      "Epoch 49/100\n",
      "10/10 [==============================] - 0s 9ms/step - loss: 0.4250 - accuracy: 0.8169 - val_loss: 0.4340 - val_accuracy: 0.8264 - lr: 6.1729e-04\n",
      "Epoch 50/100\n",
      "10/10 [==============================] - 0s 8ms/step - loss: 0.4291 - accuracy: 0.8233 - val_loss: 0.4344 - val_accuracy: 0.8226 - lr: 6.1112e-04\n",
      "Epoch 51/100\n",
      "10/10 [==============================] - 0s 9ms/step - loss: 0.4411 - accuracy: 0.8152 - val_loss: 0.4344 - val_accuracy: 0.8226 - lr: 6.0501e-04\n",
      "Epoch 52/100\n",
      "10/10 [==============================] - 0s 9ms/step - loss: 0.4384 - accuracy: 0.8136 - val_loss: 0.4343 - val_accuracy: 0.8226 - lr: 5.9896e-04\n",
      "Epoch 53/100\n",
      "10/10 [==============================] - 0s 9ms/step - loss: 0.4274 - accuracy: 0.7925 - val_loss: 0.4338 - val_accuracy: 0.8264 - lr: 5.9297e-04\n",
      "Epoch 54/100\n",
      "10/10 [==============================] - 0s 9ms/step - loss: 0.4319 - accuracy: 0.8266 - val_loss: 0.4336 - val_accuracy: 0.8264 - lr: 5.8704e-04\n",
      "Epoch 55/100\n",
      "10/10 [==============================] - 0s 9ms/step - loss: 0.4259 - accuracy: 0.8201 - val_loss: 0.4342 - val_accuracy: 0.8226 - lr: 5.8117e-04\n",
      "Epoch 56/100\n",
      "10/10 [==============================] - 0s 9ms/step - loss: 0.4367 - accuracy: 0.7828 - val_loss: 0.4334 - val_accuracy: 0.8226 - lr: 5.7535e-04\n",
      "Epoch 57/100\n",
      "10/10 [==============================] - 0s 12ms/step - loss: 0.4307 - accuracy: 0.8152 - val_loss: 0.4331 - val_accuracy: 0.8264 - lr: 5.6960e-04\n",
      "Epoch 58/100\n",
      "10/10 [==============================] - 0s 14ms/step - loss: 0.4295 - accuracy: 0.8152 - val_loss: 0.4335 - val_accuracy: 0.8226 - lr: 5.6391e-04\n",
      "Epoch 59/100\n",
      "10/10 [==============================] - 0s 19ms/step - loss: 0.4186 - accuracy: 0.8104 - val_loss: 0.4339 - val_accuracy: 0.8189 - lr: 5.5827e-04\n",
      "Epoch 60/100\n",
      "10/10 [==============================] - 0s 9ms/step - loss: 0.4261 - accuracy: 0.8055 - val_loss: 0.4343 - val_accuracy: 0.8226 - lr: 5.5268e-04\n",
      "Epoch 61/100\n",
      "10/10 [==============================] - 0s 9ms/step - loss: 0.4263 - accuracy: 0.8152 - val_loss: 0.4343 - val_accuracy: 0.8264 - lr: 5.4716e-04\n",
      "Epoch 62/100\n",
      "10/10 [==============================] - 0s 9ms/step - loss: 0.4295 - accuracy: 0.8152 - val_loss: 0.4341 - val_accuracy: 0.8264 - lr: 5.4169e-04\n",
      "Epoch 63/100\n",
      "10/10 [==============================] - 0s 9ms/step - loss: 0.4373 - accuracy: 0.8088 - val_loss: 0.4333 - val_accuracy: 0.8264 - lr: 5.3627e-04\n",
      "Epoch 64/100\n",
      " 1/10 [==>...........................] - ETA: 0s - loss: 0.5124 - accuracy: 0.8125INFO:tensorflow:Assets written to: c:\\Users\\filip\\Desktop\\NS\\assignment-1\\wandb\\run-20230325_185905-j7y32lxy\\files\\model-best\\assets\n"
     ]
    },
    {
     "name": "stderr",
     "output_type": "stream",
     "text": [
      "\u001b[34m\u001b[1mwandb\u001b[0m: Adding directory to artifact (c:\\Users\\filip\\Desktop\\NS\\assignment-1\\wandb\\run-20230325_185905-j7y32lxy\\files\\model-best)... Done. 0.0s\n"
     ]
    },
    {
     "name": "stdout",
     "output_type": "stream",
     "text": [
      "10/10 [==============================] - 3s 282ms/step - loss: 0.4283 - accuracy: 0.8314 - val_loss: 0.4322 - val_accuracy: 0.8302 - lr: 5.3091e-04\n",
      "Epoch 65/100\n",
      "10/10 [==============================] - 0s 15ms/step - loss: 0.4308 - accuracy: 0.8006 - val_loss: 0.4322 - val_accuracy: 0.8264 - lr: 5.2560e-04\n",
      "Epoch 66/100\n",
      " 1/10 [==>...........................] - ETA: 0s - loss: 0.3894 - accuracy: 0.8438INFO:tensorflow:Assets written to: c:\\Users\\filip\\Desktop\\NS\\assignment-1\\wandb\\run-20230325_185905-j7y32lxy\\files\\model-best\\assets\n"
     ]
    },
    {
     "name": "stderr",
     "output_type": "stream",
     "text": [
      "\u001b[34m\u001b[1mwandb\u001b[0m: Adding directory to artifact (c:\\Users\\filip\\Desktop\\NS\\assignment-1\\wandb\\run-20230325_185905-j7y32lxy\\files\\model-best)... Done. 0.0s\n"
     ]
    },
    {
     "name": "stdout",
     "output_type": "stream",
     "text": [
      "10/10 [==============================] - 3s 337ms/step - loss: 0.4120 - accuracy: 0.8233 - val_loss: 0.4317 - val_accuracy: 0.8302 - lr: 5.2034e-04\n",
      "Epoch 67/100\n",
      "10/10 [==============================] - 0s 10ms/step - loss: 0.4275 - accuracy: 0.8136 - val_loss: 0.4319 - val_accuracy: 0.8302 - lr: 5.1514e-04\n",
      "Epoch 68/100\n",
      "10/10 [==============================] - 0s 8ms/step - loss: 0.4227 - accuracy: 0.8233 - val_loss: 0.4321 - val_accuracy: 0.8264 - lr: 5.0999e-04\n",
      "Epoch 69/100\n",
      "10/10 [==============================] - 0s 9ms/step - loss: 0.4329 - accuracy: 0.8152 - val_loss: 0.4331 - val_accuracy: 0.8264 - lr: 5.0489e-04\n",
      "Epoch 70/100\n",
      "10/10 [==============================] - 0s 10ms/step - loss: 0.4356 - accuracy: 0.8071 - val_loss: 0.4321 - val_accuracy: 0.8264 - lr: 4.9984e-04\n",
      "Epoch 71/100\n",
      "10/10 [==============================] - 0s 9ms/step - loss: 0.4211 - accuracy: 0.8185 - val_loss: 0.4320 - val_accuracy: 0.8264 - lr: 4.9484e-04\n",
      "Epoch 72/100\n",
      "10/10 [==============================] - 0s 9ms/step - loss: 0.4203 - accuracy: 0.8233 - val_loss: 0.4322 - val_accuracy: 0.8226 - lr: 4.8989e-04\n",
      "Epoch 73/100\n",
      "10/10 [==============================] - 0s 10ms/step - loss: 0.4210 - accuracy: 0.8233 - val_loss: 0.4323 - val_accuracy: 0.8264 - lr: 4.8499e-04\n",
      "Epoch 74/100\n",
      "10/10 [==============================] - 0s 9ms/step - loss: 0.4194 - accuracy: 0.8120 - val_loss: 0.4323 - val_accuracy: 0.8302 - lr: 4.8014e-04\n",
      "Epoch 75/100\n",
      "10/10 [==============================] - 0s 9ms/step - loss: 0.4158 - accuracy: 0.8250 - val_loss: 0.4320 - val_accuracy: 0.8302 - lr: 4.7534e-04\n",
      "Epoch 76/100\n",
      "10/10 [==============================] - 0s 9ms/step - loss: 0.4302 - accuracy: 0.7942 - val_loss: 0.4325 - val_accuracy: 0.8264 - lr: 4.7059e-04\n",
      "Epoch 77/100\n",
      "10/10 [==============================] - 0s 9ms/step - loss: 0.4182 - accuracy: 0.8169 - val_loss: 0.4321 - val_accuracy: 0.8264 - lr: 4.6588e-04\n",
      "Epoch 78/100\n",
      "10/10 [==============================] - 0s 9ms/step - loss: 0.4233 - accuracy: 0.8120 - val_loss: 0.4319 - val_accuracy: 0.8264 - lr: 4.6122e-04\n",
      "Epoch 79/100\n",
      " 1/10 [==>...........................] - ETA: 0s - loss: 0.5085 - accuracy: 0.7812INFO:tensorflow:Assets written to: c:\\Users\\filip\\Desktop\\NS\\assignment-1\\wandb\\run-20230325_185905-j7y32lxy\\files\\model-best\\assets\n"
     ]
    },
    {
     "name": "stderr",
     "output_type": "stream",
     "text": [
      "\u001b[34m\u001b[1mwandb\u001b[0m: Adding directory to artifact (c:\\Users\\filip\\Desktop\\NS\\assignment-1\\wandb\\run-20230325_185905-j7y32lxy\\files\\model-best)... Done. 0.0s\n"
     ]
    },
    {
     "name": "stdout",
     "output_type": "stream",
     "text": [
      "10/10 [==============================] - 2s 244ms/step - loss: 0.4126 - accuracy: 0.8201 - val_loss: 0.4315 - val_accuracy: 0.8302 - lr: 4.5661e-04\n",
      "Epoch 80/100\n",
      " 1/10 [==>...........................] - ETA: 0s - loss: 0.4223 - accuracy: 0.7969INFO:tensorflow:Assets written to: c:\\Users\\filip\\Desktop\\NS\\assignment-1\\wandb\\run-20230325_185905-j7y32lxy\\files\\model-best\\assets\n"
     ]
    },
    {
     "name": "stderr",
     "output_type": "stream",
     "text": [
      "\u001b[34m\u001b[1mwandb\u001b[0m: Adding directory to artifact (c:\\Users\\filip\\Desktop\\NS\\assignment-1\\wandb\\run-20230325_185905-j7y32lxy\\files\\model-best)... Done. 0.0s\n"
     ]
    },
    {
     "name": "stdout",
     "output_type": "stream",
     "text": [
      "10/10 [==============================] - 2s 270ms/step - loss: 0.4306 - accuracy: 0.8039 - val_loss: 0.4314 - val_accuracy: 0.8264 - lr: 4.5204e-04\n",
      "Epoch 81/100\n",
      "10/10 [==============================] - 0s 8ms/step - loss: 0.4223 - accuracy: 0.8136 - val_loss: 0.4321 - val_accuracy: 0.8264 - lr: 4.4752e-04\n",
      "Epoch 82/100\n",
      "10/10 [==============================] - 0s 9ms/step - loss: 0.4168 - accuracy: 0.8039 - val_loss: 0.4324 - val_accuracy: 0.8226 - lr: 4.4305e-04\n",
      "Epoch 83/100\n",
      "10/10 [==============================] - 0s 9ms/step - loss: 0.4296 - accuracy: 0.8185 - val_loss: 0.4325 - val_accuracy: 0.8264 - lr: 4.3862e-04\n",
      "Epoch 84/100\n",
      "10/10 [==============================] - 0s 10ms/step - loss: 0.4110 - accuracy: 0.8282 - val_loss: 0.4323 - val_accuracy: 0.8226 - lr: 4.3423e-04\n",
      "Epoch 85/100\n",
      "10/10 [==============================] - 0s 10ms/step - loss: 0.4201 - accuracy: 0.8250 - val_loss: 0.4324 - val_accuracy: 0.8226 - lr: 4.2989e-04\n",
      "Epoch 86/100\n",
      "10/10 [==============================] - 0s 10ms/step - loss: 0.4311 - accuracy: 0.8120 - val_loss: 0.4321 - val_accuracy: 0.8264 - lr: 4.2559e-04\n",
      "Epoch 87/100\n",
      "10/10 [==============================] - 0s 10ms/step - loss: 0.4035 - accuracy: 0.8314 - val_loss: 0.4321 - val_accuracy: 0.8226 - lr: 4.2133e-04\n",
      "Epoch 88/100\n",
      "10/10 [==============================] - 0s 13ms/step - loss: 0.4174 - accuracy: 0.8217 - val_loss: 0.4324 - val_accuracy: 0.8226 - lr: 4.1712e-04\n",
      "Epoch 89/100\n",
      "10/10 [==============================] - 0s 10ms/step - loss: 0.4087 - accuracy: 0.8250 - val_loss: 0.4319 - val_accuracy: 0.8264 - lr: 4.1295e-04\n",
      "Epoch 90/100\n",
      "10/10 [==============================] - 0s 10ms/step - loss: 0.3983 - accuracy: 0.8347 - val_loss: 0.4318 - val_accuracy: 0.8264 - lr: 4.0882e-04\n",
      "Epoch 91/100\n",
      "10/10 [==============================] - 0s 10ms/step - loss: 0.4110 - accuracy: 0.8169 - val_loss: 0.4327 - val_accuracy: 0.8264 - lr: 4.0473e-04\n",
      "Epoch 92/100\n",
      "10/10 [==============================] - 0s 10ms/step - loss: 0.4252 - accuracy: 0.8104 - val_loss: 0.4325 - val_accuracy: 0.8264 - lr: 4.0068e-04\n",
      "Epoch 93/100\n",
      "10/10 [==============================] - 0s 10ms/step - loss: 0.4188 - accuracy: 0.8152 - val_loss: 0.4322 - val_accuracy: 0.8264 - lr: 3.9668e-04\n",
      "Epoch 94/100\n",
      "10/10 [==============================] - 0s 10ms/step - loss: 0.4348 - accuracy: 0.8169 - val_loss: 0.4320 - val_accuracy: 0.8226 - lr: 3.9271e-04\n",
      "Epoch 95/100\n",
      "10/10 [==============================] - 0s 10ms/step - loss: 0.4176 - accuracy: 0.8201 - val_loss: 0.4319 - val_accuracy: 0.8226 - lr: 3.8878e-04\n",
      "Epoch 96/100\n",
      "10/10 [==============================] - 0s 10ms/step - loss: 0.4307 - accuracy: 0.8120 - val_loss: 0.4323 - val_accuracy: 0.8264 - lr: 3.8490e-04\n",
      "Epoch 97/100\n",
      "10/10 [==============================] - 0s 10ms/step - loss: 0.4266 - accuracy: 0.8071 - val_loss: 0.4322 - val_accuracy: 0.8226 - lr: 3.8105e-04\n",
      "Epoch 98/100\n",
      " 1/10 [==>...........................] - ETA: 0s - loss: 0.3537 - accuracy: 0.8281INFO:tensorflow:Assets written to: c:\\Users\\filip\\Desktop\\NS\\assignment-1\\wandb\\run-20230325_185905-j7y32lxy\\files\\model-best\\assets\n"
     ]
    },
    {
     "name": "stderr",
     "output_type": "stream",
     "text": [
      "\u001b[34m\u001b[1mwandb\u001b[0m: Adding directory to artifact (c:\\Users\\filip\\Desktop\\NS\\assignment-1\\wandb\\run-20230325_185905-j7y32lxy\\files\\model-best)... Done. 0.0s\n"
     ]
    },
    {
     "name": "stdout",
     "output_type": "stream",
     "text": [
      "10/10 [==============================] - 2s 250ms/step - loss: 0.4131 - accuracy: 0.8331 - val_loss: 0.4313 - val_accuracy: 0.8226 - lr: 3.7724e-04\n",
      "Epoch 99/100\n",
      " 1/10 [==>...........................] - ETA: 0s - loss: 0.3700 - accuracy: 0.8750INFO:tensorflow:Assets written to: c:\\Users\\filip\\Desktop\\NS\\assignment-1\\wandb\\run-20230325_185905-j7y32lxy\\files\\model-best\\assets\n"
     ]
    },
    {
     "name": "stderr",
     "output_type": "stream",
     "text": [
      "\u001b[34m\u001b[1mwandb\u001b[0m: Adding directory to artifact (c:\\Users\\filip\\Desktop\\NS\\assignment-1\\wandb\\run-20230325_185905-j7y32lxy\\files\\model-best)... Done. 0.0s\n"
     ]
    },
    {
     "name": "stdout",
     "output_type": "stream",
     "text": [
      "10/10 [==============================] - 2s 266ms/step - loss: 0.4221 - accuracy: 0.8201 - val_loss: 0.4310 - val_accuracy: 0.8264 - lr: 3.7346e-04\n",
      "Epoch 100/100\n",
      " 1/10 [==>...........................] - ETA: 0s - loss: 0.4963 - accuracy: 0.7969INFO:tensorflow:Assets written to: c:\\Users\\filip\\Desktop\\NS\\assignment-1\\wandb\\run-20230325_185905-j7y32lxy\\files\\model-best\\assets\n"
     ]
    },
    {
     "name": "stderr",
     "output_type": "stream",
     "text": [
      "\u001b[34m\u001b[1mwandb\u001b[0m: Adding directory to artifact (c:\\Users\\filip\\Desktop\\NS\\assignment-1\\wandb\\run-20230325_185905-j7y32lxy\\files\\model-best)... Done. 0.0s\n"
     ]
    },
    {
     "name": "stdout",
     "output_type": "stream",
     "text": [
      "10/10 [==============================] - 2s 232ms/step - loss: 0.4286 - accuracy: 0.8266 - val_loss: 0.4308 - val_accuracy: 0.8264 - lr: 3.6973e-04\n"
     ]
    }
   ],
   "source": [
    "history=model.fit(\n",
    "    x_train,\n",
    "    y_train,\n",
    "    epochs=config['epochs'],\n",
    "    validation_data=(x_val, y_val),\n",
    "    batch_size=config['batch_size'],\n",
    "    shuffle=True,\n",
    "    callbacks=[\n",
    "        scheduler_callback,\n",
    "        wandb.keras.WandbCallback()\n",
    "    ]\n",
    ")"
   ]
  },
  {
   "cell_type": "code",
   "execution_count": 145,
   "metadata": {},
   "outputs": [
    {
     "data": {
      "application/vnd.plotly.v1+json": {
       "config": {
        "plotlyServerURL": "https://plot.ly"
       },
       "data": [
        {
         "hovertemplate": "variable=loss<br>index=%{x}<br>value=%{y}<extra></extra>",
         "legendgroup": "loss",
         "line": {
          "color": "#636efa",
          "dash": "solid"
         },
         "marker": {
          "symbol": "circle"
         },
         "mode": "lines",
         "name": "loss",
         "orientation": "v",
         "showlegend": true,
         "type": "scatter",
         "x": [
          0,
          1,
          2,
          3,
          4,
          5,
          6,
          7,
          8,
          9,
          10,
          11,
          12,
          13,
          14,
          15,
          16,
          17,
          18,
          19,
          20,
          21,
          22,
          23,
          24,
          25,
          26,
          27,
          28,
          29,
          30,
          31,
          32,
          33,
          34,
          35,
          36,
          37,
          38,
          39,
          40,
          41,
          42,
          43,
          44,
          45,
          46,
          47,
          48,
          49,
          50,
          51,
          52,
          53,
          54,
          55,
          56,
          57,
          58,
          59,
          60,
          61,
          62,
          63,
          64,
          65,
          66,
          67,
          68,
          69,
          70,
          71,
          72,
          73,
          74,
          75,
          76,
          77,
          78,
          79,
          80,
          81,
          82,
          83,
          84,
          85,
          86,
          87,
          88,
          89,
          90,
          91,
          92,
          93,
          94,
          95,
          96,
          97,
          98,
          99
         ],
         "xaxis": "x",
         "y": [
          0.680171549320221,
          0.6541907787322998,
          0.6246833801269531,
          0.607414186000824,
          0.6115142703056335,
          0.5827984809875488,
          0.5819115042686462,
          0.5676877498626709,
          0.5574833750724792,
          0.546672523021698,
          0.5303112864494324,
          0.5364624261856079,
          0.5130138993263245,
          0.5116498470306396,
          0.49549606442451477,
          0.48699823021888733,
          0.49354150891304016,
          0.4950740933418274,
          0.47594669461250305,
          0.47624868154525757,
          0.4646013379096985,
          0.46815913915634155,
          0.4301038086414337,
          0.46402016282081604,
          0.43994224071502686,
          0.4561326503753662,
          0.4476718008518219,
          0.46029385924339294,
          0.4532250165939331,
          0.43686386942863464,
          0.4524705708026886,
          0.44898486137390137,
          0.4584527611732483,
          0.43417975306510925,
          0.43591299653053284,
          0.4472787380218506,
          0.4405723214149475,
          0.45887190103530884,
          0.44935348629951477,
          0.4408569931983948,
          0.4361341893672943,
          0.4480055272579193,
          0.43461906909942627,
          0.450038880109787,
          0.4414352774620056,
          0.4331369400024414,
          0.4242613613605499,
          0.438469797372818,
          0.42504388093948364,
          0.4291224181652069,
          0.44110676646232605,
          0.4383714199066162,
          0.42741718888282776,
          0.4319494068622589,
          0.42586252093315125,
          0.43673375248908997,
          0.43066391348838806,
          0.4295140504837036,
          0.41863495111465454,
          0.42612704634666443,
          0.4263007938861847,
          0.42946872115135193,
          0.4373024106025696,
          0.42828449606895447,
          0.43079736828804016,
          0.4119556248188019,
          0.42746108770370483,
          0.42269933223724365,
          0.4328894317150116,
          0.43559643626213074,
          0.4210667014122009,
          0.42026275396347046,
          0.4210475981235504,
          0.41938140988349915,
          0.4158397912979126,
          0.4301600158214569,
          0.41815483570098877,
          0.42330402135849,
          0.4125588536262512,
          0.4306190013885498,
          0.4223213493824005,
          0.4167500138282776,
          0.42956840991973877,
          0.4110462963581085,
          0.4201229214668274,
          0.4311051666736603,
          0.4034653604030609,
          0.4174031615257263,
          0.4086821675300598,
          0.39828115701675415,
          0.4110303819179535,
          0.4252234399318695,
          0.41877561807632446,
          0.43480637669563293,
          0.41758888959884644,
          0.43068957328796387,
          0.42662936449050903,
          0.4130631685256958,
          0.4221024811267853,
          0.42864182591438293
         ],
         "yaxis": "y"
        },
        {
         "hovertemplate": "variable=val_loss<br>index=%{x}<br>value=%{y}<extra></extra>",
         "legendgroup": "val_loss",
         "line": {
          "color": "#EF553B",
          "dash": "solid"
         },
         "marker": {
          "symbol": "circle"
         },
         "mode": "lines",
         "name": "val_loss",
         "orientation": "v",
         "showlegend": true,
         "type": "scatter",
         "x": [
          0,
          1,
          2,
          3,
          4,
          5,
          6,
          7,
          8,
          9,
          10,
          11,
          12,
          13,
          14,
          15,
          16,
          17,
          18,
          19,
          20,
          21,
          22,
          23,
          24,
          25,
          26,
          27,
          28,
          29,
          30,
          31,
          32,
          33,
          34,
          35,
          36,
          37,
          38,
          39,
          40,
          41,
          42,
          43,
          44,
          45,
          46,
          47,
          48,
          49,
          50,
          51,
          52,
          53,
          54,
          55,
          56,
          57,
          58,
          59,
          60,
          61,
          62,
          63,
          64,
          65,
          66,
          67,
          68,
          69,
          70,
          71,
          72,
          73,
          74,
          75,
          76,
          77,
          78,
          79,
          80,
          81,
          82,
          83,
          84,
          85,
          86,
          87,
          88,
          89,
          90,
          91,
          92,
          93,
          94,
          95,
          96,
          97,
          98,
          99
         ],
         "xaxis": "x",
         "y": [
          0.6315730214118958,
          0.6180344223976135,
          0.6056627631187439,
          0.5945122838020325,
          0.5811768770217896,
          0.5704728960990906,
          0.5580673217773438,
          0.5459005832672119,
          0.5330573916435242,
          0.5224961042404175,
          0.5114904642105103,
          0.5019049048423767,
          0.4922705292701721,
          0.48592162132263184,
          0.4771837890148163,
          0.46710699796676636,
          0.46174994111061096,
          0.45836925506591797,
          0.45655351877212524,
          0.45448875427246094,
          0.4506833255290985,
          0.4487822651863098,
          0.44679567217826843,
          0.4442813992500305,
          0.4445534646511078,
          0.4421890079975128,
          0.4429788291454315,
          0.4413837790489197,
          0.4399356245994568,
          0.4404166638851166,
          0.4392406642436981,
          0.4378018379211426,
          0.4370238184928894,
          0.4374051094055176,
          0.43717533349990845,
          0.4368233382701874,
          0.43562978506088257,
          0.4343843162059784,
          0.43330201506614685,
          0.43306222558021545,
          0.43428730964660645,
          0.43533459305763245,
          0.4366758465766907,
          0.4361552596092224,
          0.4358828365802765,
          0.4342119097709656,
          0.43447861075401306,
          0.43422311544418335,
          0.4339837431907654,
          0.4344180226325989,
          0.4344284236431122,
          0.4342705011367798,
          0.43382859230041504,
          0.4335934817790985,
          0.4342384338378906,
          0.43343445658683777,
          0.43306684494018555,
          0.433453232049942,
          0.4338865876197815,
          0.4343351423740387,
          0.4343385100364685,
          0.4340706765651703,
          0.4332556426525116,
          0.4321536123752594,
          0.43216750025749207,
          0.4317303001880646,
          0.43186402320861816,
          0.43213626742362976,
          0.4330882430076599,
          0.4321453869342804,
          0.43196165561676025,
          0.4322285056114197,
          0.43228983879089355,
          0.43230095505714417,
          0.43199190497398376,
          0.4325484037399292,
          0.43207842111587524,
          0.43191781640052795,
          0.4314707815647125,
          0.43137863278388977,
          0.4321291744709015,
          0.4323583245277405,
          0.43253815174102783,
          0.4323330223560333,
          0.4324437975883484,
          0.43209803104400635,
          0.4320995509624481,
          0.43238160014152527,
          0.431911438703537,
          0.43184271454811096,
          0.4326510727405548,
          0.4324609041213989,
          0.43222466111183167,
          0.4320499300956726,
          0.4319232106208801,
          0.43227869272232056,
          0.4322436451911926,
          0.4312761425971985,
          0.43096646666526794,
          0.4308116137981415
         ],
         "yaxis": "y"
        }
       ],
       "layout": {
        "legend": {
         "title": {
          "text": "variable"
         },
         "tracegroupgap": 0
        },
        "margin": {
         "t": 60
        },
        "template": {
         "data": {
          "bar": [
           {
            "error_x": {
             "color": "#2a3f5f"
            },
            "error_y": {
             "color": "#2a3f5f"
            },
            "marker": {
             "line": {
              "color": "#E5ECF6",
              "width": 0.5
             },
             "pattern": {
              "fillmode": "overlay",
              "size": 10,
              "solidity": 0.2
             }
            },
            "type": "bar"
           }
          ],
          "barpolar": [
           {
            "marker": {
             "line": {
              "color": "#E5ECF6",
              "width": 0.5
             },
             "pattern": {
              "fillmode": "overlay",
              "size": 10,
              "solidity": 0.2
             }
            },
            "type": "barpolar"
           }
          ],
          "carpet": [
           {
            "aaxis": {
             "endlinecolor": "#2a3f5f",
             "gridcolor": "white",
             "linecolor": "white",
             "minorgridcolor": "white",
             "startlinecolor": "#2a3f5f"
            },
            "baxis": {
             "endlinecolor": "#2a3f5f",
             "gridcolor": "white",
             "linecolor": "white",
             "minorgridcolor": "white",
             "startlinecolor": "#2a3f5f"
            },
            "type": "carpet"
           }
          ],
          "choropleth": [
           {
            "colorbar": {
             "outlinewidth": 0,
             "ticks": ""
            },
            "type": "choropleth"
           }
          ],
          "contour": [
           {
            "colorbar": {
             "outlinewidth": 0,
             "ticks": ""
            },
            "colorscale": [
             [
              0,
              "#0d0887"
             ],
             [
              0.1111111111111111,
              "#46039f"
             ],
             [
              0.2222222222222222,
              "#7201a8"
             ],
             [
              0.3333333333333333,
              "#9c179e"
             ],
             [
              0.4444444444444444,
              "#bd3786"
             ],
             [
              0.5555555555555556,
              "#d8576b"
             ],
             [
              0.6666666666666666,
              "#ed7953"
             ],
             [
              0.7777777777777778,
              "#fb9f3a"
             ],
             [
              0.8888888888888888,
              "#fdca26"
             ],
             [
              1,
              "#f0f921"
             ]
            ],
            "type": "contour"
           }
          ],
          "contourcarpet": [
           {
            "colorbar": {
             "outlinewidth": 0,
             "ticks": ""
            },
            "type": "contourcarpet"
           }
          ],
          "heatmap": [
           {
            "colorbar": {
             "outlinewidth": 0,
             "ticks": ""
            },
            "colorscale": [
             [
              0,
              "#0d0887"
             ],
             [
              0.1111111111111111,
              "#46039f"
             ],
             [
              0.2222222222222222,
              "#7201a8"
             ],
             [
              0.3333333333333333,
              "#9c179e"
             ],
             [
              0.4444444444444444,
              "#bd3786"
             ],
             [
              0.5555555555555556,
              "#d8576b"
             ],
             [
              0.6666666666666666,
              "#ed7953"
             ],
             [
              0.7777777777777778,
              "#fb9f3a"
             ],
             [
              0.8888888888888888,
              "#fdca26"
             ],
             [
              1,
              "#f0f921"
             ]
            ],
            "type": "heatmap"
           }
          ],
          "heatmapgl": [
           {
            "colorbar": {
             "outlinewidth": 0,
             "ticks": ""
            },
            "colorscale": [
             [
              0,
              "#0d0887"
             ],
             [
              0.1111111111111111,
              "#46039f"
             ],
             [
              0.2222222222222222,
              "#7201a8"
             ],
             [
              0.3333333333333333,
              "#9c179e"
             ],
             [
              0.4444444444444444,
              "#bd3786"
             ],
             [
              0.5555555555555556,
              "#d8576b"
             ],
             [
              0.6666666666666666,
              "#ed7953"
             ],
             [
              0.7777777777777778,
              "#fb9f3a"
             ],
             [
              0.8888888888888888,
              "#fdca26"
             ],
             [
              1,
              "#f0f921"
             ]
            ],
            "type": "heatmapgl"
           }
          ],
          "histogram": [
           {
            "marker": {
             "pattern": {
              "fillmode": "overlay",
              "size": 10,
              "solidity": 0.2
             }
            },
            "type": "histogram"
           }
          ],
          "histogram2d": [
           {
            "colorbar": {
             "outlinewidth": 0,
             "ticks": ""
            },
            "colorscale": [
             [
              0,
              "#0d0887"
             ],
             [
              0.1111111111111111,
              "#46039f"
             ],
             [
              0.2222222222222222,
              "#7201a8"
             ],
             [
              0.3333333333333333,
              "#9c179e"
             ],
             [
              0.4444444444444444,
              "#bd3786"
             ],
             [
              0.5555555555555556,
              "#d8576b"
             ],
             [
              0.6666666666666666,
              "#ed7953"
             ],
             [
              0.7777777777777778,
              "#fb9f3a"
             ],
             [
              0.8888888888888888,
              "#fdca26"
             ],
             [
              1,
              "#f0f921"
             ]
            ],
            "type": "histogram2d"
           }
          ],
          "histogram2dcontour": [
           {
            "colorbar": {
             "outlinewidth": 0,
             "ticks": ""
            },
            "colorscale": [
             [
              0,
              "#0d0887"
             ],
             [
              0.1111111111111111,
              "#46039f"
             ],
             [
              0.2222222222222222,
              "#7201a8"
             ],
             [
              0.3333333333333333,
              "#9c179e"
             ],
             [
              0.4444444444444444,
              "#bd3786"
             ],
             [
              0.5555555555555556,
              "#d8576b"
             ],
             [
              0.6666666666666666,
              "#ed7953"
             ],
             [
              0.7777777777777778,
              "#fb9f3a"
             ],
             [
              0.8888888888888888,
              "#fdca26"
             ],
             [
              1,
              "#f0f921"
             ]
            ],
            "type": "histogram2dcontour"
           }
          ],
          "mesh3d": [
           {
            "colorbar": {
             "outlinewidth": 0,
             "ticks": ""
            },
            "type": "mesh3d"
           }
          ],
          "parcoords": [
           {
            "line": {
             "colorbar": {
              "outlinewidth": 0,
              "ticks": ""
             }
            },
            "type": "parcoords"
           }
          ],
          "pie": [
           {
            "automargin": true,
            "type": "pie"
           }
          ],
          "scatter": [
           {
            "fillpattern": {
             "fillmode": "overlay",
             "size": 10,
             "solidity": 0.2
            },
            "type": "scatter"
           }
          ],
          "scatter3d": [
           {
            "line": {
             "colorbar": {
              "outlinewidth": 0,
              "ticks": ""
             }
            },
            "marker": {
             "colorbar": {
              "outlinewidth": 0,
              "ticks": ""
             }
            },
            "type": "scatter3d"
           }
          ],
          "scattercarpet": [
           {
            "marker": {
             "colorbar": {
              "outlinewidth": 0,
              "ticks": ""
             }
            },
            "type": "scattercarpet"
           }
          ],
          "scattergeo": [
           {
            "marker": {
             "colorbar": {
              "outlinewidth": 0,
              "ticks": ""
             }
            },
            "type": "scattergeo"
           }
          ],
          "scattergl": [
           {
            "marker": {
             "colorbar": {
              "outlinewidth": 0,
              "ticks": ""
             }
            },
            "type": "scattergl"
           }
          ],
          "scattermapbox": [
           {
            "marker": {
             "colorbar": {
              "outlinewidth": 0,
              "ticks": ""
             }
            },
            "type": "scattermapbox"
           }
          ],
          "scatterpolar": [
           {
            "marker": {
             "colorbar": {
              "outlinewidth": 0,
              "ticks": ""
             }
            },
            "type": "scatterpolar"
           }
          ],
          "scatterpolargl": [
           {
            "marker": {
             "colorbar": {
              "outlinewidth": 0,
              "ticks": ""
             }
            },
            "type": "scatterpolargl"
           }
          ],
          "scatterternary": [
           {
            "marker": {
             "colorbar": {
              "outlinewidth": 0,
              "ticks": ""
             }
            },
            "type": "scatterternary"
           }
          ],
          "surface": [
           {
            "colorbar": {
             "outlinewidth": 0,
             "ticks": ""
            },
            "colorscale": [
             [
              0,
              "#0d0887"
             ],
             [
              0.1111111111111111,
              "#46039f"
             ],
             [
              0.2222222222222222,
              "#7201a8"
             ],
             [
              0.3333333333333333,
              "#9c179e"
             ],
             [
              0.4444444444444444,
              "#bd3786"
             ],
             [
              0.5555555555555556,
              "#d8576b"
             ],
             [
              0.6666666666666666,
              "#ed7953"
             ],
             [
              0.7777777777777778,
              "#fb9f3a"
             ],
             [
              0.8888888888888888,
              "#fdca26"
             ],
             [
              1,
              "#f0f921"
             ]
            ],
            "type": "surface"
           }
          ],
          "table": [
           {
            "cells": {
             "fill": {
              "color": "#EBF0F8"
             },
             "line": {
              "color": "white"
             }
            },
            "header": {
             "fill": {
              "color": "#C8D4E3"
             },
             "line": {
              "color": "white"
             }
            },
            "type": "table"
           }
          ]
         },
         "layout": {
          "annotationdefaults": {
           "arrowcolor": "#2a3f5f",
           "arrowhead": 0,
           "arrowwidth": 1
          },
          "autotypenumbers": "strict",
          "coloraxis": {
           "colorbar": {
            "outlinewidth": 0,
            "ticks": ""
           }
          },
          "colorscale": {
           "diverging": [
            [
             0,
             "#8e0152"
            ],
            [
             0.1,
             "#c51b7d"
            ],
            [
             0.2,
             "#de77ae"
            ],
            [
             0.3,
             "#f1b6da"
            ],
            [
             0.4,
             "#fde0ef"
            ],
            [
             0.5,
             "#f7f7f7"
            ],
            [
             0.6,
             "#e6f5d0"
            ],
            [
             0.7,
             "#b8e186"
            ],
            [
             0.8,
             "#7fbc41"
            ],
            [
             0.9,
             "#4d9221"
            ],
            [
             1,
             "#276419"
            ]
           ],
           "sequential": [
            [
             0,
             "#0d0887"
            ],
            [
             0.1111111111111111,
             "#46039f"
            ],
            [
             0.2222222222222222,
             "#7201a8"
            ],
            [
             0.3333333333333333,
             "#9c179e"
            ],
            [
             0.4444444444444444,
             "#bd3786"
            ],
            [
             0.5555555555555556,
             "#d8576b"
            ],
            [
             0.6666666666666666,
             "#ed7953"
            ],
            [
             0.7777777777777778,
             "#fb9f3a"
            ],
            [
             0.8888888888888888,
             "#fdca26"
            ],
            [
             1,
             "#f0f921"
            ]
           ],
           "sequentialminus": [
            [
             0,
             "#0d0887"
            ],
            [
             0.1111111111111111,
             "#46039f"
            ],
            [
             0.2222222222222222,
             "#7201a8"
            ],
            [
             0.3333333333333333,
             "#9c179e"
            ],
            [
             0.4444444444444444,
             "#bd3786"
            ],
            [
             0.5555555555555556,
             "#d8576b"
            ],
            [
             0.6666666666666666,
             "#ed7953"
            ],
            [
             0.7777777777777778,
             "#fb9f3a"
            ],
            [
             0.8888888888888888,
             "#fdca26"
            ],
            [
             1,
             "#f0f921"
            ]
           ]
          },
          "colorway": [
           "#636efa",
           "#EF553B",
           "#00cc96",
           "#ab63fa",
           "#FFA15A",
           "#19d3f3",
           "#FF6692",
           "#B6E880",
           "#FF97FF",
           "#FECB52"
          ],
          "font": {
           "color": "#2a3f5f"
          },
          "geo": {
           "bgcolor": "white",
           "lakecolor": "white",
           "landcolor": "#E5ECF6",
           "showlakes": true,
           "showland": true,
           "subunitcolor": "white"
          },
          "hoverlabel": {
           "align": "left"
          },
          "hovermode": "closest",
          "mapbox": {
           "style": "light"
          },
          "paper_bgcolor": "white",
          "plot_bgcolor": "#E5ECF6",
          "polar": {
           "angularaxis": {
            "gridcolor": "white",
            "linecolor": "white",
            "ticks": ""
           },
           "bgcolor": "#E5ECF6",
           "radialaxis": {
            "gridcolor": "white",
            "linecolor": "white",
            "ticks": ""
           }
          },
          "scene": {
           "xaxis": {
            "backgroundcolor": "#E5ECF6",
            "gridcolor": "white",
            "gridwidth": 2,
            "linecolor": "white",
            "showbackground": true,
            "ticks": "",
            "zerolinecolor": "white"
           },
           "yaxis": {
            "backgroundcolor": "#E5ECF6",
            "gridcolor": "white",
            "gridwidth": 2,
            "linecolor": "white",
            "showbackground": true,
            "ticks": "",
            "zerolinecolor": "white"
           },
           "zaxis": {
            "backgroundcolor": "#E5ECF6",
            "gridcolor": "white",
            "gridwidth": 2,
            "linecolor": "white",
            "showbackground": true,
            "ticks": "",
            "zerolinecolor": "white"
           }
          },
          "shapedefaults": {
           "line": {
            "color": "#2a3f5f"
           }
          },
          "ternary": {
           "aaxis": {
            "gridcolor": "white",
            "linecolor": "white",
            "ticks": ""
           },
           "baxis": {
            "gridcolor": "white",
            "linecolor": "white",
            "ticks": ""
           },
           "bgcolor": "#E5ECF6",
           "caxis": {
            "gridcolor": "white",
            "linecolor": "white",
            "ticks": ""
           }
          },
          "title": {
           "x": 0.05
          },
          "xaxis": {
           "automargin": true,
           "gridcolor": "white",
           "linecolor": "white",
           "ticks": "",
           "title": {
            "standoff": 15
           },
           "zerolinecolor": "white",
           "zerolinewidth": 2
          },
          "yaxis": {
           "automargin": true,
           "gridcolor": "white",
           "linecolor": "white",
           "ticks": "",
           "title": {
            "standoff": 15
           },
           "zerolinecolor": "white",
           "zerolinewidth": 2
          }
         }
        },
        "xaxis": {
         "anchor": "y",
         "domain": [
          0,
          1
         ],
         "title": {
          "text": "index"
         }
        },
        "yaxis": {
         "anchor": "x",
         "domain": [
          0,
          1
         ],
         "title": {
          "text": "value"
         }
        }
       }
      }
     },
     "metadata": {},
     "output_type": "display_data"
    }
   ],
   "source": [
    "import plotly.express as px\n",
    "fig = px.line({'loss': history.history['loss'], 'val_loss': history.history['val_loss']})\n",
    "fig.show()"
   ]
  },
  {
   "cell_type": "code",
   "execution_count": 146,
   "metadata": {},
   "outputs": [
    {
     "data": {
      "application/vnd.plotly.v1+json": {
       "config": {
        "plotlyServerURL": "https://plot.ly"
       },
       "data": [
        {
         "hovertemplate": "variable=accuracy<br>index=%{x}<br>value=%{y}<extra></extra>",
         "legendgroup": "accuracy",
         "line": {
          "color": "#636efa",
          "dash": "solid"
         },
         "marker": {
          "symbol": "circle"
         },
         "mode": "lines",
         "name": "accuracy",
         "orientation": "v",
         "showlegend": true,
         "type": "scatter",
         "x": [
          0,
          1,
          2,
          3,
          4,
          5,
          6,
          7,
          8,
          9,
          10,
          11,
          12,
          13,
          14,
          15,
          16,
          17,
          18,
          19,
          20,
          21,
          22,
          23,
          24,
          25,
          26,
          27,
          28,
          29,
          30,
          31,
          32,
          33,
          34,
          35,
          36,
          37,
          38,
          39,
          40,
          41,
          42,
          43,
          44,
          45,
          46,
          47,
          48,
          49,
          50,
          51,
          52,
          53,
          54,
          55,
          56,
          57,
          58,
          59,
          60,
          61,
          62,
          63,
          64,
          65,
          66,
          67,
          68,
          69,
          70,
          71,
          72,
          73,
          74,
          75,
          76,
          77,
          78,
          79,
          80,
          81,
          82,
          83,
          84,
          85,
          86,
          87,
          88,
          89,
          90,
          91,
          92,
          93,
          94,
          95,
          96,
          97,
          98,
          99
         ],
         "xaxis": "x",
         "y": [
          0.5769854187965393,
          0.6401944756507874,
          0.6418152451515198,
          0.6758508682250977,
          0.6807131171226501,
          0.7179902791976929,
          0.6839545965194702,
          0.7309562563896179,
          0.7325769662857056,
          0.7325769662857056,
          0.7374392151832581,
          0.7390599846839905,
          0.7682333588600159,
          0.7714748978614807,
          0.7730956077575684,
          0.7698541283607483,
          0.7730956077575684,
          0.7617504000663757,
          0.7957860827445984,
          0.7876823544502258,
          0.8006482720375061,
          0.7795786261558533,
          0.8103727698326111,
          0.7828201055526733,
          0.7925445437431335,
          0.8006482720375061,
          0.8055105209350586,
          0.7828201055526733,
          0.7828201055526733,
          0.8006482720375061,
          0.7893030643463135,
          0.7957860827445984,
          0.7811993360519409,
          0.8136142492294312,
          0.8119935393333435,
          0.8006482720375061,
          0.807131290435791,
          0.784440815448761,
          0.794165313243866,
          0.8022690415382385,
          0.8055105209350586,
          0.7925445437431335,
          0.7990275621414185,
          0.7990275621414185,
          0.803889811038971,
          0.8119935393333435,
          0.8136142492294312,
          0.8184764981269836,
          0.8168557286262512,
          0.8233387470245361,
          0.8152350187301636,
          0.8136142492294312,
          0.7925445437431335,
          0.8265802264213562,
          0.8200972676277161,
          0.7828201055526733,
          0.8152350187301636,
          0.8152350187301636,
          0.8103727698326111,
          0.8055105209350586,
          0.8152350187301636,
          0.8152350187301636,
          0.8087520003318787,
          0.8314424753189087,
          0.8006482720375061,
          0.8233387470245361,
          0.8136142492294312,
          0.8233387470245361,
          0.8152350187301636,
          0.807131290435791,
          0.8184764981269836,
          0.8233387470245361,
          0.8233387470245361,
          0.8119935393333435,
          0.8249594569206238,
          0.794165313243866,
          0.8168557286262512,
          0.8119935393333435,
          0.8200972676277161,
          0.803889811038971,
          0.8136142492294312,
          0.803889811038971,
          0.8184764981269836,
          0.8282009959220886,
          0.8249594569206238,
          0.8119935393333435,
          0.8314424753189087,
          0.8217179775238037,
          0.8249594569206238,
          0.8346839547157288,
          0.8168557286262512,
          0.8103727698326111,
          0.8152350187301636,
          0.8168557286262512,
          0.8200972676277161,
          0.8119935393333435,
          0.807131290435791,
          0.8330631852149963,
          0.8200972676277161,
          0.8265802264213562
         ],
         "yaxis": "y"
        },
        {
         "hovertemplate": "variable=val_accuracy<br>index=%{x}<br>value=%{y}<extra></extra>",
         "legendgroup": "val_accuracy",
         "line": {
          "color": "#EF553B",
          "dash": "solid"
         },
         "marker": {
          "symbol": "circle"
         },
         "mode": "lines",
         "name": "val_accuracy",
         "orientation": "v",
         "showlegend": true,
         "type": "scatter",
         "x": [
          0,
          1,
          2,
          3,
          4,
          5,
          6,
          7,
          8,
          9,
          10,
          11,
          12,
          13,
          14,
          15,
          16,
          17,
          18,
          19,
          20,
          21,
          22,
          23,
          24,
          25,
          26,
          27,
          28,
          29,
          30,
          31,
          32,
          33,
          34,
          35,
          36,
          37,
          38,
          39,
          40,
          41,
          42,
          43,
          44,
          45,
          46,
          47,
          48,
          49,
          50,
          51,
          52,
          53,
          54,
          55,
          56,
          57,
          58,
          59,
          60,
          61,
          62,
          63,
          64,
          65,
          66,
          67,
          68,
          69,
          70,
          71,
          72,
          73,
          74,
          75,
          76,
          77,
          78,
          79,
          80,
          81,
          82,
          83,
          84,
          85,
          86,
          87,
          88,
          89,
          90,
          91,
          92,
          93,
          94,
          95,
          96,
          97,
          98,
          99
         ],
         "xaxis": "x",
         "y": [
          0.6339622735977173,
          0.6301887035369873,
          0.6792452931404114,
          0.6905660629272461,
          0.7132075428962708,
          0.7207547426223755,
          0.7396226525306702,
          0.7283018827438354,
          0.7471697926521301,
          0.7471697926521301,
          0.7547169923782349,
          0.7698113322257996,
          0.7849056720733643,
          0.7886792421340942,
          0.7924528121948242,
          0.7886792421340942,
          0.800000011920929,
          0.8037735819816589,
          0.800000011920929,
          0.8037735819816589,
          0.800000011920929,
          0.800000011920929,
          0.8150943517684937,
          0.8150943517684937,
          0.8188679218292236,
          0.8226414918899536,
          0.8188679218292236,
          0.8188679218292236,
          0.8188679218292236,
          0.8188679218292236,
          0.8150943517684937,
          0.8226414918899536,
          0.8226414918899536,
          0.8150943517684937,
          0.8226414918899536,
          0.8188679218292236,
          0.8226414918899536,
          0.8264151215553284,
          0.8264151215553284,
          0.8264151215553284,
          0.8226414918899536,
          0.8264151215553284,
          0.8226414918899536,
          0.8188679218292236,
          0.8226414918899536,
          0.8264151215553284,
          0.8226414918899536,
          0.8264151215553284,
          0.8264151215553284,
          0.8226414918899536,
          0.8226414918899536,
          0.8226414918899536,
          0.8264151215553284,
          0.8264151215553284,
          0.8226414918899536,
          0.8226414918899536,
          0.8264151215553284,
          0.8226414918899536,
          0.8188679218292236,
          0.8226414918899536,
          0.8264151215553284,
          0.8264151215553284,
          0.8264151215553284,
          0.8301886916160583,
          0.8264151215553284,
          0.8301886916160583,
          0.8301886916160583,
          0.8264151215553284,
          0.8264151215553284,
          0.8264151215553284,
          0.8264151215553284,
          0.8226414918899536,
          0.8264151215553284,
          0.8301886916160583,
          0.8301886916160583,
          0.8264151215553284,
          0.8264151215553284,
          0.8264151215553284,
          0.8301886916160583,
          0.8264151215553284,
          0.8264151215553284,
          0.8226414918899536,
          0.8264151215553284,
          0.8226414918899536,
          0.8226414918899536,
          0.8264151215553284,
          0.8226414918899536,
          0.8226414918899536,
          0.8264151215553284,
          0.8264151215553284,
          0.8264151215553284,
          0.8264151215553284,
          0.8264151215553284,
          0.8226414918899536,
          0.8226414918899536,
          0.8264151215553284,
          0.8226414918899536,
          0.8226414918899536,
          0.8264151215553284,
          0.8264151215553284
         ],
         "yaxis": "y"
        }
       ],
       "layout": {
        "legend": {
         "title": {
          "text": "variable"
         },
         "tracegroupgap": 0
        },
        "margin": {
         "t": 60
        },
        "template": {
         "data": {
          "bar": [
           {
            "error_x": {
             "color": "#2a3f5f"
            },
            "error_y": {
             "color": "#2a3f5f"
            },
            "marker": {
             "line": {
              "color": "#E5ECF6",
              "width": 0.5
             },
             "pattern": {
              "fillmode": "overlay",
              "size": 10,
              "solidity": 0.2
             }
            },
            "type": "bar"
           }
          ],
          "barpolar": [
           {
            "marker": {
             "line": {
              "color": "#E5ECF6",
              "width": 0.5
             },
             "pattern": {
              "fillmode": "overlay",
              "size": 10,
              "solidity": 0.2
             }
            },
            "type": "barpolar"
           }
          ],
          "carpet": [
           {
            "aaxis": {
             "endlinecolor": "#2a3f5f",
             "gridcolor": "white",
             "linecolor": "white",
             "minorgridcolor": "white",
             "startlinecolor": "#2a3f5f"
            },
            "baxis": {
             "endlinecolor": "#2a3f5f",
             "gridcolor": "white",
             "linecolor": "white",
             "minorgridcolor": "white",
             "startlinecolor": "#2a3f5f"
            },
            "type": "carpet"
           }
          ],
          "choropleth": [
           {
            "colorbar": {
             "outlinewidth": 0,
             "ticks": ""
            },
            "type": "choropleth"
           }
          ],
          "contour": [
           {
            "colorbar": {
             "outlinewidth": 0,
             "ticks": ""
            },
            "colorscale": [
             [
              0,
              "#0d0887"
             ],
             [
              0.1111111111111111,
              "#46039f"
             ],
             [
              0.2222222222222222,
              "#7201a8"
             ],
             [
              0.3333333333333333,
              "#9c179e"
             ],
             [
              0.4444444444444444,
              "#bd3786"
             ],
             [
              0.5555555555555556,
              "#d8576b"
             ],
             [
              0.6666666666666666,
              "#ed7953"
             ],
             [
              0.7777777777777778,
              "#fb9f3a"
             ],
             [
              0.8888888888888888,
              "#fdca26"
             ],
             [
              1,
              "#f0f921"
             ]
            ],
            "type": "contour"
           }
          ],
          "contourcarpet": [
           {
            "colorbar": {
             "outlinewidth": 0,
             "ticks": ""
            },
            "type": "contourcarpet"
           }
          ],
          "heatmap": [
           {
            "colorbar": {
             "outlinewidth": 0,
             "ticks": ""
            },
            "colorscale": [
             [
              0,
              "#0d0887"
             ],
             [
              0.1111111111111111,
              "#46039f"
             ],
             [
              0.2222222222222222,
              "#7201a8"
             ],
             [
              0.3333333333333333,
              "#9c179e"
             ],
             [
              0.4444444444444444,
              "#bd3786"
             ],
             [
              0.5555555555555556,
              "#d8576b"
             ],
             [
              0.6666666666666666,
              "#ed7953"
             ],
             [
              0.7777777777777778,
              "#fb9f3a"
             ],
             [
              0.8888888888888888,
              "#fdca26"
             ],
             [
              1,
              "#f0f921"
             ]
            ],
            "type": "heatmap"
           }
          ],
          "heatmapgl": [
           {
            "colorbar": {
             "outlinewidth": 0,
             "ticks": ""
            },
            "colorscale": [
             [
              0,
              "#0d0887"
             ],
             [
              0.1111111111111111,
              "#46039f"
             ],
             [
              0.2222222222222222,
              "#7201a8"
             ],
             [
              0.3333333333333333,
              "#9c179e"
             ],
             [
              0.4444444444444444,
              "#bd3786"
             ],
             [
              0.5555555555555556,
              "#d8576b"
             ],
             [
              0.6666666666666666,
              "#ed7953"
             ],
             [
              0.7777777777777778,
              "#fb9f3a"
             ],
             [
              0.8888888888888888,
              "#fdca26"
             ],
             [
              1,
              "#f0f921"
             ]
            ],
            "type": "heatmapgl"
           }
          ],
          "histogram": [
           {
            "marker": {
             "pattern": {
              "fillmode": "overlay",
              "size": 10,
              "solidity": 0.2
             }
            },
            "type": "histogram"
           }
          ],
          "histogram2d": [
           {
            "colorbar": {
             "outlinewidth": 0,
             "ticks": ""
            },
            "colorscale": [
             [
              0,
              "#0d0887"
             ],
             [
              0.1111111111111111,
              "#46039f"
             ],
             [
              0.2222222222222222,
              "#7201a8"
             ],
             [
              0.3333333333333333,
              "#9c179e"
             ],
             [
              0.4444444444444444,
              "#bd3786"
             ],
             [
              0.5555555555555556,
              "#d8576b"
             ],
             [
              0.6666666666666666,
              "#ed7953"
             ],
             [
              0.7777777777777778,
              "#fb9f3a"
             ],
             [
              0.8888888888888888,
              "#fdca26"
             ],
             [
              1,
              "#f0f921"
             ]
            ],
            "type": "histogram2d"
           }
          ],
          "histogram2dcontour": [
           {
            "colorbar": {
             "outlinewidth": 0,
             "ticks": ""
            },
            "colorscale": [
             [
              0,
              "#0d0887"
             ],
             [
              0.1111111111111111,
              "#46039f"
             ],
             [
              0.2222222222222222,
              "#7201a8"
             ],
             [
              0.3333333333333333,
              "#9c179e"
             ],
             [
              0.4444444444444444,
              "#bd3786"
             ],
             [
              0.5555555555555556,
              "#d8576b"
             ],
             [
              0.6666666666666666,
              "#ed7953"
             ],
             [
              0.7777777777777778,
              "#fb9f3a"
             ],
             [
              0.8888888888888888,
              "#fdca26"
             ],
             [
              1,
              "#f0f921"
             ]
            ],
            "type": "histogram2dcontour"
           }
          ],
          "mesh3d": [
           {
            "colorbar": {
             "outlinewidth": 0,
             "ticks": ""
            },
            "type": "mesh3d"
           }
          ],
          "parcoords": [
           {
            "line": {
             "colorbar": {
              "outlinewidth": 0,
              "ticks": ""
             }
            },
            "type": "parcoords"
           }
          ],
          "pie": [
           {
            "automargin": true,
            "type": "pie"
           }
          ],
          "scatter": [
           {
            "fillpattern": {
             "fillmode": "overlay",
             "size": 10,
             "solidity": 0.2
            },
            "type": "scatter"
           }
          ],
          "scatter3d": [
           {
            "line": {
             "colorbar": {
              "outlinewidth": 0,
              "ticks": ""
             }
            },
            "marker": {
             "colorbar": {
              "outlinewidth": 0,
              "ticks": ""
             }
            },
            "type": "scatter3d"
           }
          ],
          "scattercarpet": [
           {
            "marker": {
             "colorbar": {
              "outlinewidth": 0,
              "ticks": ""
             }
            },
            "type": "scattercarpet"
           }
          ],
          "scattergeo": [
           {
            "marker": {
             "colorbar": {
              "outlinewidth": 0,
              "ticks": ""
             }
            },
            "type": "scattergeo"
           }
          ],
          "scattergl": [
           {
            "marker": {
             "colorbar": {
              "outlinewidth": 0,
              "ticks": ""
             }
            },
            "type": "scattergl"
           }
          ],
          "scattermapbox": [
           {
            "marker": {
             "colorbar": {
              "outlinewidth": 0,
              "ticks": ""
             }
            },
            "type": "scattermapbox"
           }
          ],
          "scatterpolar": [
           {
            "marker": {
             "colorbar": {
              "outlinewidth": 0,
              "ticks": ""
             }
            },
            "type": "scatterpolar"
           }
          ],
          "scatterpolargl": [
           {
            "marker": {
             "colorbar": {
              "outlinewidth": 0,
              "ticks": ""
             }
            },
            "type": "scatterpolargl"
           }
          ],
          "scatterternary": [
           {
            "marker": {
             "colorbar": {
              "outlinewidth": 0,
              "ticks": ""
             }
            },
            "type": "scatterternary"
           }
          ],
          "surface": [
           {
            "colorbar": {
             "outlinewidth": 0,
             "ticks": ""
            },
            "colorscale": [
             [
              0,
              "#0d0887"
             ],
             [
              0.1111111111111111,
              "#46039f"
             ],
             [
              0.2222222222222222,
              "#7201a8"
             ],
             [
              0.3333333333333333,
              "#9c179e"
             ],
             [
              0.4444444444444444,
              "#bd3786"
             ],
             [
              0.5555555555555556,
              "#d8576b"
             ],
             [
              0.6666666666666666,
              "#ed7953"
             ],
             [
              0.7777777777777778,
              "#fb9f3a"
             ],
             [
              0.8888888888888888,
              "#fdca26"
             ],
             [
              1,
              "#f0f921"
             ]
            ],
            "type": "surface"
           }
          ],
          "table": [
           {
            "cells": {
             "fill": {
              "color": "#EBF0F8"
             },
             "line": {
              "color": "white"
             }
            },
            "header": {
             "fill": {
              "color": "#C8D4E3"
             },
             "line": {
              "color": "white"
             }
            },
            "type": "table"
           }
          ]
         },
         "layout": {
          "annotationdefaults": {
           "arrowcolor": "#2a3f5f",
           "arrowhead": 0,
           "arrowwidth": 1
          },
          "autotypenumbers": "strict",
          "coloraxis": {
           "colorbar": {
            "outlinewidth": 0,
            "ticks": ""
           }
          },
          "colorscale": {
           "diverging": [
            [
             0,
             "#8e0152"
            ],
            [
             0.1,
             "#c51b7d"
            ],
            [
             0.2,
             "#de77ae"
            ],
            [
             0.3,
             "#f1b6da"
            ],
            [
             0.4,
             "#fde0ef"
            ],
            [
             0.5,
             "#f7f7f7"
            ],
            [
             0.6,
             "#e6f5d0"
            ],
            [
             0.7,
             "#b8e186"
            ],
            [
             0.8,
             "#7fbc41"
            ],
            [
             0.9,
             "#4d9221"
            ],
            [
             1,
             "#276419"
            ]
           ],
           "sequential": [
            [
             0,
             "#0d0887"
            ],
            [
             0.1111111111111111,
             "#46039f"
            ],
            [
             0.2222222222222222,
             "#7201a8"
            ],
            [
             0.3333333333333333,
             "#9c179e"
            ],
            [
             0.4444444444444444,
             "#bd3786"
            ],
            [
             0.5555555555555556,
             "#d8576b"
            ],
            [
             0.6666666666666666,
             "#ed7953"
            ],
            [
             0.7777777777777778,
             "#fb9f3a"
            ],
            [
             0.8888888888888888,
             "#fdca26"
            ],
            [
             1,
             "#f0f921"
            ]
           ],
           "sequentialminus": [
            [
             0,
             "#0d0887"
            ],
            [
             0.1111111111111111,
             "#46039f"
            ],
            [
             0.2222222222222222,
             "#7201a8"
            ],
            [
             0.3333333333333333,
             "#9c179e"
            ],
            [
             0.4444444444444444,
             "#bd3786"
            ],
            [
             0.5555555555555556,
             "#d8576b"
            ],
            [
             0.6666666666666666,
             "#ed7953"
            ],
            [
             0.7777777777777778,
             "#fb9f3a"
            ],
            [
             0.8888888888888888,
             "#fdca26"
            ],
            [
             1,
             "#f0f921"
            ]
           ]
          },
          "colorway": [
           "#636efa",
           "#EF553B",
           "#00cc96",
           "#ab63fa",
           "#FFA15A",
           "#19d3f3",
           "#FF6692",
           "#B6E880",
           "#FF97FF",
           "#FECB52"
          ],
          "font": {
           "color": "#2a3f5f"
          },
          "geo": {
           "bgcolor": "white",
           "lakecolor": "white",
           "landcolor": "#E5ECF6",
           "showlakes": true,
           "showland": true,
           "subunitcolor": "white"
          },
          "hoverlabel": {
           "align": "left"
          },
          "hovermode": "closest",
          "mapbox": {
           "style": "light"
          },
          "paper_bgcolor": "white",
          "plot_bgcolor": "#E5ECF6",
          "polar": {
           "angularaxis": {
            "gridcolor": "white",
            "linecolor": "white",
            "ticks": ""
           },
           "bgcolor": "#E5ECF6",
           "radialaxis": {
            "gridcolor": "white",
            "linecolor": "white",
            "ticks": ""
           }
          },
          "scene": {
           "xaxis": {
            "backgroundcolor": "#E5ECF6",
            "gridcolor": "white",
            "gridwidth": 2,
            "linecolor": "white",
            "showbackground": true,
            "ticks": "",
            "zerolinecolor": "white"
           },
           "yaxis": {
            "backgroundcolor": "#E5ECF6",
            "gridcolor": "white",
            "gridwidth": 2,
            "linecolor": "white",
            "showbackground": true,
            "ticks": "",
            "zerolinecolor": "white"
           },
           "zaxis": {
            "backgroundcolor": "#E5ECF6",
            "gridcolor": "white",
            "gridwidth": 2,
            "linecolor": "white",
            "showbackground": true,
            "ticks": "",
            "zerolinecolor": "white"
           }
          },
          "shapedefaults": {
           "line": {
            "color": "#2a3f5f"
           }
          },
          "ternary": {
           "aaxis": {
            "gridcolor": "white",
            "linecolor": "white",
            "ticks": ""
           },
           "baxis": {
            "gridcolor": "white",
            "linecolor": "white",
            "ticks": ""
           },
           "bgcolor": "#E5ECF6",
           "caxis": {
            "gridcolor": "white",
            "linecolor": "white",
            "ticks": ""
           }
          },
          "title": {
           "x": 0.05
          },
          "xaxis": {
           "automargin": true,
           "gridcolor": "white",
           "linecolor": "white",
           "ticks": "",
           "title": {
            "standoff": 15
           },
           "zerolinecolor": "white",
           "zerolinewidth": 2
          },
          "yaxis": {
           "automargin": true,
           "gridcolor": "white",
           "linecolor": "white",
           "ticks": "",
           "title": {
            "standoff": 15
           },
           "zerolinecolor": "white",
           "zerolinewidth": 2
          }
         }
        },
        "xaxis": {
         "anchor": "y",
         "domain": [
          0,
          1
         ],
         "title": {
          "text": "index"
         }
        },
        "yaxis": {
         "anchor": "x",
         "domain": [
          0,
          1
         ],
         "title": {
          "text": "value"
         }
        }
       }
      }
     },
     "metadata": {},
     "output_type": "display_data"
    }
   ],
   "source": [
    "import plotly.express as px\n",
    "fig = px.line({'accuracy': history.history['accuracy'], 'val_accuracy': history.history['val_accuracy']})\n",
    "fig.show()"
   ]
  },
  {
   "cell_type": "code",
   "execution_count": 147,
   "metadata": {},
   "outputs": [
    {
     "data": {
      "text/html": [
       "Waiting for W&B process to finish... <strong style=\"color:green\">(success).</strong>"
      ],
      "text/plain": [
       "<IPython.core.display.HTML object>"
      ]
     },
     "metadata": {},
     "output_type": "display_data"
    },
    {
     "data": {
      "text/html": [
       "<style>\n",
       "    table.wandb td:nth-child(1) { padding: 0 10px; text-align: left ; width: auto;} td:nth-child(2) {text-align: left ; width: 100%}\n",
       "    .wandb-row { display: flex; flex-direction: row; flex-wrap: wrap; justify-content: flex-start; width: 100% }\n",
       "    .wandb-col { display: flex; flex-direction: column; flex-basis: 100%; flex: 1; padding: 10px; }\n",
       "    </style>\n",
       "<div class=\"wandb-row\"><div class=\"wandb-col\"><h3>Run history:</h3><br/><table class=\"wandb\"><tr><td>accuracy</td><td>▁▃▅▅▅▆▆▆▇▇▇▇▇█▇▇▇▇▇███▇▇█████▇██▇███▇█▇█</td></tr><tr><td>epoch</td><td>▁▁▁▁▂▂▂▂▂▃▃▃▃▃▃▄▄▄▄▄▅▅▅▅▅▅▆▆▆▆▆▇▇▇▇▇▇███</td></tr><tr><td>loss</td><td>█▇▆▅▄▄▃▃▃▂▂▂▂▂▂▂▂▂▂▂▂▂▂▁▂▂▂▂▁▁▁▁▁▁▁▁▂▂▂▂</td></tr><tr><td>lr</td><td>████▇▇▆▆▆▆▆▅▅▅▅▄▄▄▄▄▄▃▃▃▃▃▃▃▂▂▂▂▂▂▂▁▁▁▁▁</td></tr><tr><td>val_accuracy</td><td>▁▃▄▄▅▆▇▇▇▇██▇▇██████████████████████████</td></tr><tr><td>val_loss</td><td>█▇▆▅▄▃▂▂▂▂▁▁▁▁▁▁▁▁▁▁▁▁▁▁▁▁▁▁▁▁▁▁▁▁▁▁▁▁▁▁</td></tr></table><br/></div><div class=\"wandb-col\"><h3>Run summary:</h3><br/><table class=\"wandb\"><tr><td>accuracy</td><td>0.82658</td></tr><tr><td>best_epoch</td><td>99</td></tr><tr><td>best_val_loss</td><td>0.43081</td></tr><tr><td>epoch</td><td>99</td></tr><tr><td>loss</td><td>0.42864</td></tr><tr><td>lr</td><td>0.00037</td></tr><tr><td>val_accuracy</td><td>0.82642</td></tr><tr><td>val_loss</td><td>0.43081</td></tr></table><br/></div></div>"
      ],
      "text/plain": [
       "<IPython.core.display.HTML object>"
      ]
     },
     "metadata": {},
     "output_type": "display_data"
    },
    {
     "data": {
      "text/html": [
       " View run <strong style=\"color:#cdcd00\">tensorflow-64-d-32-1</strong> at: <a href='https://wandb.ai/ns-super-team/assignment-1/runs/j7y32lxy' target=\"_blank\">https://wandb.ai/ns-super-team/assignment-1/runs/j7y32lxy</a><br/>Synced 5 W&B file(s), 1 media file(s), 168 artifact file(s) and 1 other file(s)"
      ],
      "text/plain": [
       "<IPython.core.display.HTML object>"
      ]
     },
     "metadata": {},
     "output_type": "display_data"
    },
    {
     "data": {
      "text/html": [
       "Find logs at: <code>.\\wandb\\run-20230325_185905-j7y32lxy\\logs</code>"
      ],
      "text/plain": [
       "<IPython.core.display.HTML object>"
      ]
     },
     "metadata": {},
     "output_type": "display_data"
    }
   ],
   "source": [
    "wandb.finish()"
   ]
  }
 ],
 "metadata": {
  "kernelspec": {
   "display_name": "ns-env",
   "language": "python",
   "name": "python3"
  },
  "language_info": {
   "codemirror_mode": {
    "name": "ipython",
    "version": 3
   },
   "file_extension": ".py",
   "mimetype": "text/x-python",
   "name": "python",
   "nbconvert_exporter": "python",
   "pygments_lexer": "ipython3",
   "version": "3.9.16"
  },
  "orig_nbformat": 4
 },
 "nbformat": 4,
 "nbformat_minor": 2
}
