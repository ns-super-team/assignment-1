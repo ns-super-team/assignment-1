{
 "cells": [
  {
   "cell_type": "code",
   "execution_count": 61,
   "metadata": {},
   "outputs": [],
   "source": [
    "from copy import deepcopy\n",
    "import numpy as np\n",
    "import pandas as pd\n",
    "\n",
    "import seaborn as sns\n",
    "import plotly.figure_factory as ff\n",
    "import plotly.express as px\n",
    "\n",
    "from sklearn.preprocessing import MinMaxScaler, StandardScaler"
   ]
  },
  {
   "cell_type": "code",
   "execution_count": 62,
   "metadata": {},
   "outputs": [],
   "source": [
    "data = pd.read_csv('data/titanic.csv')"
   ]
  },
  {
   "attachments": {},
   "cell_type": "markdown",
   "metadata": {},
   "source": [
    "# Data preprocessing"
   ]
  },
  {
   "cell_type": "code",
   "execution_count": 63,
   "metadata": {},
   "outputs": [
    {
     "data": {
      "text/html": [
       "<div>\n",
       "<style scoped>\n",
       "    .dataframe tbody tr th:only-of-type {\n",
       "        vertical-align: middle;\n",
       "    }\n",
       "\n",
       "    .dataframe tbody tr th {\n",
       "        vertical-align: top;\n",
       "    }\n",
       "\n",
       "    .dataframe thead th {\n",
       "        text-align: right;\n",
       "    }\n",
       "</style>\n",
       "<table border=\"1\" class=\"dataframe\">\n",
       "  <thead>\n",
       "    <tr style=\"text-align: right;\">\n",
       "      <th></th>\n",
       "      <th>Survived</th>\n",
       "      <th>Pclass</th>\n",
       "      <th>Name</th>\n",
       "      <th>Sex</th>\n",
       "      <th>Age</th>\n",
       "      <th>Siblings/Spouses Aboard</th>\n",
       "      <th>Parents/Children Aboard</th>\n",
       "      <th>Fare</th>\n",
       "    </tr>\n",
       "  </thead>\n",
       "  <tbody>\n",
       "    <tr>\n",
       "      <th>0</th>\n",
       "      <td>0</td>\n",
       "      <td>3</td>\n",
       "      <td>Mr. Owen Harris Braund</td>\n",
       "      <td>male</td>\n",
       "      <td>22.0</td>\n",
       "      <td>1</td>\n",
       "      <td>0</td>\n",
       "      <td>7.2500</td>\n",
       "    </tr>\n",
       "    <tr>\n",
       "      <th>1</th>\n",
       "      <td>1</td>\n",
       "      <td>1</td>\n",
       "      <td>Mrs. John Bradley (Florence Briggs Thayer) Cum...</td>\n",
       "      <td>female</td>\n",
       "      <td>38.0</td>\n",
       "      <td>1</td>\n",
       "      <td>0</td>\n",
       "      <td>71.2833</td>\n",
       "    </tr>\n",
       "    <tr>\n",
       "      <th>2</th>\n",
       "      <td>1</td>\n",
       "      <td>3</td>\n",
       "      <td>Miss. Laina Heikkinen</td>\n",
       "      <td>female</td>\n",
       "      <td>26.0</td>\n",
       "      <td>0</td>\n",
       "      <td>0</td>\n",
       "      <td>7.9250</td>\n",
       "    </tr>\n",
       "    <tr>\n",
       "      <th>3</th>\n",
       "      <td>1</td>\n",
       "      <td>1</td>\n",
       "      <td>Mrs. Jacques Heath (Lily May Peel) Futrelle</td>\n",
       "      <td>female</td>\n",
       "      <td>35.0</td>\n",
       "      <td>1</td>\n",
       "      <td>0</td>\n",
       "      <td>53.1000</td>\n",
       "    </tr>\n",
       "    <tr>\n",
       "      <th>4</th>\n",
       "      <td>0</td>\n",
       "      <td>3</td>\n",
       "      <td>Mr. William Henry Allen</td>\n",
       "      <td>male</td>\n",
       "      <td>35.0</td>\n",
       "      <td>0</td>\n",
       "      <td>0</td>\n",
       "      <td>8.0500</td>\n",
       "    </tr>\n",
       "    <tr>\n",
       "      <th>5</th>\n",
       "      <td>0</td>\n",
       "      <td>3</td>\n",
       "      <td>Mr. James Moran</td>\n",
       "      <td>male</td>\n",
       "      <td>27.0</td>\n",
       "      <td>0</td>\n",
       "      <td>0</td>\n",
       "      <td>8.4583</td>\n",
       "    </tr>\n",
       "    <tr>\n",
       "      <th>6</th>\n",
       "      <td>0</td>\n",
       "      <td>1</td>\n",
       "      <td>Mr. Timothy J McCarthy</td>\n",
       "      <td>male</td>\n",
       "      <td>54.0</td>\n",
       "      <td>0</td>\n",
       "      <td>0</td>\n",
       "      <td>51.8625</td>\n",
       "    </tr>\n",
       "    <tr>\n",
       "      <th>7</th>\n",
       "      <td>0</td>\n",
       "      <td>3</td>\n",
       "      <td>Master. Gosta Leonard Palsson</td>\n",
       "      <td>male</td>\n",
       "      <td>2.0</td>\n",
       "      <td>3</td>\n",
       "      <td>1</td>\n",
       "      <td>21.0750</td>\n",
       "    </tr>\n",
       "    <tr>\n",
       "      <th>8</th>\n",
       "      <td>1</td>\n",
       "      <td>3</td>\n",
       "      <td>Mrs. Oscar W (Elisabeth Vilhelmina Berg) Johnson</td>\n",
       "      <td>female</td>\n",
       "      <td>27.0</td>\n",
       "      <td>0</td>\n",
       "      <td>2</td>\n",
       "      <td>11.1333</td>\n",
       "    </tr>\n",
       "    <tr>\n",
       "      <th>9</th>\n",
       "      <td>1</td>\n",
       "      <td>2</td>\n",
       "      <td>Mrs. Nicholas (Adele Achem) Nasser</td>\n",
       "      <td>female</td>\n",
       "      <td>14.0</td>\n",
       "      <td>1</td>\n",
       "      <td>0</td>\n",
       "      <td>30.0708</td>\n",
       "    </tr>\n",
       "  </tbody>\n",
       "</table>\n",
       "</div>"
      ],
      "text/plain": [
       "   Survived  Pclass                                               Name  \\\n",
       "0         0       3                             Mr. Owen Harris Braund   \n",
       "1         1       1  Mrs. John Bradley (Florence Briggs Thayer) Cum...   \n",
       "2         1       3                              Miss. Laina Heikkinen   \n",
       "3         1       1        Mrs. Jacques Heath (Lily May Peel) Futrelle   \n",
       "4         0       3                            Mr. William Henry Allen   \n",
       "5         0       3                                    Mr. James Moran   \n",
       "6         0       1                             Mr. Timothy J McCarthy   \n",
       "7         0       3                      Master. Gosta Leonard Palsson   \n",
       "8         1       3   Mrs. Oscar W (Elisabeth Vilhelmina Berg) Johnson   \n",
       "9         1       2                 Mrs. Nicholas (Adele Achem) Nasser   \n",
       "\n",
       "      Sex   Age  Siblings/Spouses Aboard  Parents/Children Aboard     Fare  \n",
       "0    male  22.0                        1                        0   7.2500  \n",
       "1  female  38.0                        1                        0  71.2833  \n",
       "2  female  26.0                        0                        0   7.9250  \n",
       "3  female  35.0                        1                        0  53.1000  \n",
       "4    male  35.0                        0                        0   8.0500  \n",
       "5    male  27.0                        0                        0   8.4583  \n",
       "6    male  54.0                        0                        0  51.8625  \n",
       "7    male   2.0                        3                        1  21.0750  \n",
       "8  female  27.0                        0                        2  11.1333  \n",
       "9  female  14.0                        1                        0  30.0708  "
      ]
     },
     "execution_count": 63,
     "metadata": {},
     "output_type": "execute_result"
    }
   ],
   "source": [
    "data.head(n=10)"
   ]
  },
  {
   "cell_type": "code",
   "execution_count": 64,
   "metadata": {},
   "outputs": [
    {
     "data": {
      "text/plain": [
       "(887, 8)"
      ]
     },
     "execution_count": 64,
     "metadata": {},
     "output_type": "execute_result"
    }
   ],
   "source": [
    "data.shape"
   ]
  },
  {
   "attachments": {},
   "cell_type": "markdown",
   "metadata": {},
   "source": [
    "check for missing values"
   ]
  },
  {
   "cell_type": "code",
   "execution_count": 65,
   "metadata": {},
   "outputs": [
    {
     "name": "stdout",
     "output_type": "stream",
     "text": [
      "Survived                   0\n",
      "Pclass                     0\n",
      "Name                       0\n",
      "Sex                        0\n",
      "Age                        0\n",
      "Siblings/Spouses Aboard    0\n",
      "Parents/Children Aboard    0\n",
      "Fare                       0\n",
      "dtype: int64\n",
      "\n",
      "Survived                   0\n",
      "Pclass                     0\n",
      "Name                       0\n",
      "Sex                        0\n",
      "Age                        0\n",
      "Siblings/Spouses Aboard    0\n",
      "Parents/Children Aboard    0\n",
      "Fare                       0\n",
      "dtype: int64\n"
     ]
    }
   ],
   "source": [
    "print(data.isna().sum())\n",
    "print()\n",
    "print(data.isnull().sum())"
   ]
  },
  {
   "attachments": {},
   "cell_type": "markdown",
   "metadata": {},
   "source": [
    "remove the `name` column since it is useless to us"
   ]
  },
  {
   "cell_type": "code",
   "execution_count": 66,
   "metadata": {},
   "outputs": [],
   "source": [
    "data = data.drop('Name', axis=1)"
   ]
  },
  {
   "attachments": {},
   "cell_type": "markdown",
   "metadata": {},
   "source": [
    "encode the `sex` column"
   ]
  },
  {
   "cell_type": "code",
   "execution_count": 67,
   "metadata": {},
   "outputs": [
    {
     "data": {
      "text/plain": [
       "array(['male', 'female'], dtype=object)"
      ]
     },
     "execution_count": 67,
     "metadata": {},
     "output_type": "execute_result"
    }
   ],
   "source": [
    "data['Sex'].unique()"
   ]
  },
  {
   "cell_type": "code",
   "execution_count": 68,
   "metadata": {},
   "outputs": [],
   "source": [
    "data['Sex'].replace(['male', 'female'], [0, 1], inplace=True)\n",
    "#data['Sex'].replace(['male', 'female'], ['0', '1'], inplace=True)"
   ]
  },
  {
   "cell_type": "code",
   "execution_count": 69,
   "metadata": {},
   "outputs": [
    {
     "data": {
      "text/html": [
       "<div>\n",
       "<style scoped>\n",
       "    .dataframe tbody tr th:only-of-type {\n",
       "        vertical-align: middle;\n",
       "    }\n",
       "\n",
       "    .dataframe tbody tr th {\n",
       "        vertical-align: top;\n",
       "    }\n",
       "\n",
       "    .dataframe thead th {\n",
       "        text-align: right;\n",
       "    }\n",
       "</style>\n",
       "<table border=\"1\" class=\"dataframe\">\n",
       "  <thead>\n",
       "    <tr style=\"text-align: right;\">\n",
       "      <th></th>\n",
       "      <th>Survived</th>\n",
       "      <th>Pclass</th>\n",
       "      <th>Sex</th>\n",
       "      <th>Age</th>\n",
       "      <th>Siblings/Spouses Aboard</th>\n",
       "      <th>Parents/Children Aboard</th>\n",
       "      <th>Fare</th>\n",
       "    </tr>\n",
       "  </thead>\n",
       "  <tbody>\n",
       "    <tr>\n",
       "      <th>0</th>\n",
       "      <td>0</td>\n",
       "      <td>3</td>\n",
       "      <td>0</td>\n",
       "      <td>22.0</td>\n",
       "      <td>1</td>\n",
       "      <td>0</td>\n",
       "      <td>7.2500</td>\n",
       "    </tr>\n",
       "    <tr>\n",
       "      <th>1</th>\n",
       "      <td>1</td>\n",
       "      <td>1</td>\n",
       "      <td>1</td>\n",
       "      <td>38.0</td>\n",
       "      <td>1</td>\n",
       "      <td>0</td>\n",
       "      <td>71.2833</td>\n",
       "    </tr>\n",
       "    <tr>\n",
       "      <th>2</th>\n",
       "      <td>1</td>\n",
       "      <td>3</td>\n",
       "      <td>1</td>\n",
       "      <td>26.0</td>\n",
       "      <td>0</td>\n",
       "      <td>0</td>\n",
       "      <td>7.9250</td>\n",
       "    </tr>\n",
       "    <tr>\n",
       "      <th>3</th>\n",
       "      <td>1</td>\n",
       "      <td>1</td>\n",
       "      <td>1</td>\n",
       "      <td>35.0</td>\n",
       "      <td>1</td>\n",
       "      <td>0</td>\n",
       "      <td>53.1000</td>\n",
       "    </tr>\n",
       "    <tr>\n",
       "      <th>4</th>\n",
       "      <td>0</td>\n",
       "      <td>3</td>\n",
       "      <td>0</td>\n",
       "      <td>35.0</td>\n",
       "      <td>0</td>\n",
       "      <td>0</td>\n",
       "      <td>8.0500</td>\n",
       "    </tr>\n",
       "  </tbody>\n",
       "</table>\n",
       "</div>"
      ],
      "text/plain": [
       "   Survived  Pclass  Sex   Age  Siblings/Spouses Aboard  \\\n",
       "0         0       3    0  22.0                        1   \n",
       "1         1       1    1  38.0                        1   \n",
       "2         1       3    1  26.0                        0   \n",
       "3         1       1    1  35.0                        1   \n",
       "4         0       3    0  35.0                        0   \n",
       "\n",
       "   Parents/Children Aboard     Fare  \n",
       "0                        0   7.2500  \n",
       "1                        0  71.2833  \n",
       "2                        0   7.9250  \n",
       "3                        0  53.1000  \n",
       "4                        0   8.0500  "
      ]
     },
     "execution_count": 69,
     "metadata": {},
     "output_type": "execute_result"
    }
   ],
   "source": [
    "data.head()"
   ]
  },
  {
   "attachments": {},
   "cell_type": "markdown",
   "metadata": {},
   "source": [
    "check class imbalance"
   ]
  },
  {
   "cell_type": "code",
   "execution_count": 70,
   "metadata": {},
   "outputs": [
    {
     "data": {
      "text/plain": [
       "<AxesSubplot: xlabel='Survived', ylabel='Count'>"
      ]
     },
     "execution_count": 70,
     "metadata": {},
     "output_type": "execute_result"
    },
    {
     "data": {
      "image/png": "[encoded data removed]",
      "text/plain": [
       "<Figure size 640x480 with 1 Axes>"
      ]
     },
     "metadata": {},
     "output_type": "display_data"
    }
   ],
   "source": [
    "sns.histplot(data, x=data['Survived'])"
   ]
  },
  {
   "cell_type": "code",
   "execution_count": 71,
   "metadata": {},
   "outputs": [
    {
     "name": "stdout",
     "output_type": "stream",
     "text": [
      "Survived %: 38.55693348365276\n",
      "Deceased %: 61.44306651634723\n"
     ]
    }
   ],
   "source": [
    "print(f\"Survived %: {(data[data['Survived'] == 1].shape[0] / data.shape[0]) * 100}\")\n",
    "print(f\"Deceased %: {(data[data['Survived'] == 0].shape[0] / data.shape[0]) * 100}\")"
   ]
  },
  {
   "cell_type": "code",
   "execution_count": 72,
   "metadata": {},
   "outputs": [
    {
     "data": {
      "text/plain": [
       "<AxesSubplot: xlabel='Sex', ylabel='Count'>"
      ]
     },
     "execution_count": 72,
     "metadata": {},
     "output_type": "execute_result"
    },
    {
     "data": {
      "image/png": "[encoded data removed]",
      "text/plain": [
       "<Figure size 640x480 with 1 Axes>"
      ]
     },
     "metadata": {},
     "output_type": "display_data"
    }
   ],
   "source": [
    "sns.histplot(data, x=data['Sex'])"
   ]
  },
  {
   "cell_type": "code",
   "execution_count": 73,
   "metadata": {},
   "outputs": [
    {
     "name": "stdout",
     "output_type": "stream",
     "text": [
      "Males %: 64.59977452085683\n",
      "Females %: 35.400225479143174\n"
     ]
    }
   ],
   "source": [
    "print(f\"Males %: {(data[data['Sex'] == 0].shape[0] / data.shape[0]) * 100}\")\n",
    "print(f\"Females %: {(data[data['Sex'] == 1].shape[0] / data.shape[0]) * 100}\")"
   ]
  },
  {
   "attachments": {},
   "cell_type": "markdown",
   "metadata": {},
   "source": [
    "## Data normalization"
   ]
  },
  {
   "cell_type": "code",
   "execution_count": 74,
   "metadata": {},
   "outputs": [
    {
     "data": {
      "text/html": [
       "<div>\n",
       "<style scoped>\n",
       "    .dataframe tbody tr th:only-of-type {\n",
       "        vertical-align: middle;\n",
       "    }\n",
       "\n",
       "    .dataframe tbody tr th {\n",
       "        vertical-align: top;\n",
       "    }\n",
       "\n",
       "    .dataframe thead th {\n",
       "        text-align: right;\n",
       "    }\n",
       "</style>\n",
       "<table border=\"1\" class=\"dataframe\">\n",
       "  <thead>\n",
       "    <tr style=\"text-align: right;\">\n",
       "      <th></th>\n",
       "      <th>Survived</th>\n",
       "      <th>Pclass</th>\n",
       "      <th>Sex</th>\n",
       "      <th>Age</th>\n",
       "      <th>Siblings/Spouses Aboard</th>\n",
       "      <th>Parents/Children Aboard</th>\n",
       "      <th>Fare</th>\n",
       "    </tr>\n",
       "  </thead>\n",
       "  <tbody>\n",
       "    <tr>\n",
       "      <th>count</th>\n",
       "      <td>887.000000</td>\n",
       "      <td>887.000000</td>\n",
       "      <td>887.000000</td>\n",
       "      <td>887.000000</td>\n",
       "      <td>887.000000</td>\n",
       "      <td>887.000000</td>\n",
       "      <td>887.00000</td>\n",
       "    </tr>\n",
       "    <tr>\n",
       "      <th>mean</th>\n",
       "      <td>0.385569</td>\n",
       "      <td>2.305524</td>\n",
       "      <td>0.354002</td>\n",
       "      <td>29.471443</td>\n",
       "      <td>0.525366</td>\n",
       "      <td>0.383315</td>\n",
       "      <td>32.30542</td>\n",
       "    </tr>\n",
       "    <tr>\n",
       "      <th>std</th>\n",
       "      <td>0.487004</td>\n",
       "      <td>0.836662</td>\n",
       "      <td>0.478480</td>\n",
       "      <td>14.121908</td>\n",
       "      <td>1.104669</td>\n",
       "      <td>0.807466</td>\n",
       "      <td>49.78204</td>\n",
       "    </tr>\n",
       "    <tr>\n",
       "      <th>min</th>\n",
       "      <td>0.000000</td>\n",
       "      <td>1.000000</td>\n",
       "      <td>0.000000</td>\n",
       "      <td>0.420000</td>\n",
       "      <td>0.000000</td>\n",
       "      <td>0.000000</td>\n",
       "      <td>0.00000</td>\n",
       "    </tr>\n",
       "    <tr>\n",
       "      <th>25%</th>\n",
       "      <td>0.000000</td>\n",
       "      <td>2.000000</td>\n",
       "      <td>0.000000</td>\n",
       "      <td>20.250000</td>\n",
       "      <td>0.000000</td>\n",
       "      <td>0.000000</td>\n",
       "      <td>7.92500</td>\n",
       "    </tr>\n",
       "    <tr>\n",
       "      <th>50%</th>\n",
       "      <td>0.000000</td>\n",
       "      <td>3.000000</td>\n",
       "      <td>0.000000</td>\n",
       "      <td>28.000000</td>\n",
       "      <td>0.000000</td>\n",
       "      <td>0.000000</td>\n",
       "      <td>14.45420</td>\n",
       "    </tr>\n",
       "    <tr>\n",
       "      <th>75%</th>\n",
       "      <td>1.000000</td>\n",
       "      <td>3.000000</td>\n",
       "      <td>1.000000</td>\n",
       "      <td>38.000000</td>\n",
       "      <td>1.000000</td>\n",
       "      <td>0.000000</td>\n",
       "      <td>31.13750</td>\n",
       "    </tr>\n",
       "    <tr>\n",
       "      <th>max</th>\n",
       "      <td>1.000000</td>\n",
       "      <td>3.000000</td>\n",
       "      <td>1.000000</td>\n",
       "      <td>80.000000</td>\n",
       "      <td>8.000000</td>\n",
       "      <td>6.000000</td>\n",
       "      <td>512.32920</td>\n",
       "    </tr>\n",
       "  </tbody>\n",
       "</table>\n",
       "</div>"
      ],
      "text/plain": [
       "         Survived      Pclass         Sex         Age  \\\n",
       "count  887.000000  887.000000  887.000000  887.000000   \n",
       "mean     0.385569    2.305524    0.354002   29.471443   \n",
       "std      0.487004    0.836662    0.478480   14.121908   \n",
       "min      0.000000    1.000000    0.000000    0.420000   \n",
       "25%      0.000000    2.000000    0.000000   20.250000   \n",
       "50%      0.000000    3.000000    0.000000   28.000000   \n",
       "75%      1.000000    3.000000    1.000000   38.000000   \n",
       "max      1.000000    3.000000    1.000000   80.000000   \n",
       "\n",
       "       Siblings/Spouses Aboard  Parents/Children Aboard       Fare  \n",
       "count               887.000000               887.000000  887.00000  \n",
       "mean                  0.525366                 0.383315   32.30542  \n",
       "std                   1.104669                 0.807466   49.78204  \n",
       "min                   0.000000                 0.000000    0.00000  \n",
       "25%                   0.000000                 0.000000    7.92500  \n",
       "50%                   0.000000                 0.000000   14.45420  \n",
       "75%                   1.000000                 0.000000   31.13750  \n",
       "max                   8.000000                 6.000000  512.32920  "
      ]
     },
     "execution_count": 74,
     "metadata": {},
     "output_type": "execute_result"
    }
   ],
   "source": [
    "data.describe()"
   ]
  },
  {
   "cell_type": "code",
   "execution_count": 75,
   "metadata": {},
   "outputs": [],
   "source": [
    "standard_scale = StandardScaler()"
   ]
  },
  {
   "attachments": {},
   "cell_type": "markdown",
   "metadata": {},
   "source": [
    "### Age"
   ]
  },
  {
   "cell_type": "code",
   "execution_count": 76,
   "metadata": {},
   "outputs": [
    {
     "data": {
      "application/vnd.plotly.v1+json": {
       "config": {
        "plotlyServerURL": "https://plot.ly"
       },
       "data": [
        {
         "alignmentgroup": "True",
         "bingroup": "x",
         "hovertemplate": "Age=%{x}<br>count=%{y}<extra></extra>",
         "legendgroup": "",
         "marker": {
          "color": "#636efa",
          "pattern": {
           "shape": ""
          }
         },
         "name": "",
         "offsetgroup": "",
         "orientation": "v",
         "showlegend": false,
         "type": "histogram",
         "x": [
          22,
          38,
          26,
          35,
          35,
          27,
          54,
          2,
          27,
          14,
          4,
          58,
          20,
          39,
          14,
          55,
          2,
          23,
          31,
          22,
          35,
          34,
          15,
          28,
          8,
          38,
          26,
          19,
          24,
          23,
          40,
          48,
          18,
          66,
          28,
          42,
          18,
          21,
          18,
          14,
          40,
          27,
          3,
          19,
          30,
          20,
          27,
          16,
          18,
          7,
          21,
          49,
          29,
          65,
          46,
          21,
          28.5,
          5,
          11,
          22,
          38,
          45,
          4,
          64,
          7,
          29,
          19,
          17,
          26,
          32,
          16,
          21,
          26,
          32,
          25,
          23,
          28,
          0.83,
          30,
          22,
          29,
          31,
          28,
          17,
          33,
          16,
          20,
          23,
          24,
          29,
          20,
          46,
          26,
          59,
          22,
          71,
          23,
          34,
          34,
          28,
          29,
          21,
          33,
          37,
          28,
          21,
          29,
          38,
          28,
          47,
          14.5,
          22,
          20,
          17,
          21,
          70.5,
          29,
          24,
          2,
          21,
          19,
          32.5,
          32.5,
          54,
          12,
          19,
          24,
          2,
          45,
          33,
          20,
          47,
          29,
          25,
          23,
          19,
          37,
          16,
          24,
          40,
          22,
          24,
          19,
          18,
          19,
          27,
          9,
          36.5,
          42,
          51,
          22,
          55.5,
          40.5,
          27,
          51,
          16,
          30,
          37,
          5,
          44,
          40,
          26,
          17,
          1,
          9,
          48,
          45,
          60,
          28,
          61,
          4,
          1,
          21,
          56,
          18,
          5,
          50,
          30,
          36,
          8,
          39,
          9,
          1,
          4,
          39,
          26,
          45,
          40,
          36,
          32,
          19,
          19,
          3,
          44,
          58,
          28,
          42,
          21,
          24,
          28,
          17,
          34,
          45.5,
          18,
          2,
          32,
          26,
          16,
          40,
          24,
          35,
          22,
          30,
          22,
          31,
          27,
          42,
          32,
          30,
          16,
          27,
          51,
          22,
          38,
          22,
          19,
          20.5,
          18,
          12,
          35,
          29,
          59,
          5,
          24,
          21,
          44,
          8,
          19,
          33,
          19,
          18,
          29,
          22,
          30,
          44,
          25,
          24,
          37,
          54,
          18,
          29,
          62,
          30,
          41,
          29,
          38,
          30,
          35,
          50,
          3,
          52,
          40,
          21,
          36,
          16,
          25,
          58,
          35,
          28,
          25,
          41,
          37,
          33,
          63,
          45,
          21,
          7,
          35,
          65,
          28,
          16,
          19,
          57,
          33,
          30,
          22,
          42,
          22,
          26,
          19,
          36,
          24,
          24,
          30,
          23.5,
          2,
          47,
          50,
          20,
          24,
          19,
          46,
          28,
          0.92,
          42,
          17,
          30,
          30,
          24,
          18,
          26,
          28,
          43,
          26,
          24,
          54,
          31,
          40,
          22,
          27,
          30,
          22,
          20,
          36,
          61,
          36,
          31,
          16,
          28,
          45.5,
          38,
          16,
          42,
          30,
          29,
          41,
          45,
          45,
          2,
          24,
          28,
          25,
          36,
          24,
          40,
          34,
          3,
          42,
          23,
          43,
          15,
          25,
          23,
          28,
          22,
          38,
          22,
          23,
          40,
          29,
          45,
          35,
          27,
          30,
          60,
          35,
          22,
          24,
          25,
          18,
          19,
          22,
          3,
          25,
          22,
          27,
          20,
          19,
          42,
          1,
          32,
          35,
          27,
          18,
          1,
          36,
          19,
          17,
          36,
          21,
          28,
          23,
          24,
          22,
          31,
          46,
          23,
          28,
          39,
          26,
          21,
          28,
          20,
          34,
          51,
          3,
          21,
          3,
          42,
          27,
          33,
          22,
          44,
          32,
          34,
          18,
          30,
          10,
          21,
          29,
          28,
          18,
          54,
          28,
          19,
          28,
          32,
          28,
          33,
          42,
          17,
          50,
          14,
          21,
          24,
          64,
          31,
          45,
          20,
          25,
          28,
          29,
          4,
          13,
          34,
          5,
          52,
          36,
          28,
          30,
          49,
          24,
          29,
          65,
          41,
          50,
          17,
          48,
          34,
          47,
          48,
          34,
          38,
          21,
          56,
          22,
          0.75,
          39,
          38,
          33,
          23,
          22,
          40,
          34,
          29,
          22,
          2,
          9,
          37,
          50,
          63,
          25,
          8,
          35,
          58,
          30,
          9,
          19,
          21,
          55,
          71,
          21,
          26,
          54,
          55,
          25,
          24,
          17,
          21,
          21,
          37,
          16,
          18,
          33,
          37,
          28,
          26,
          29,
          66,
          36,
          54,
          24,
          47,
          34,
          30,
          36,
          32,
          30,
          22,
          35,
          44,
          18,
          40.5,
          50,
          49,
          39,
          23,
          2,
          17,
          17,
          24,
          30,
          7,
          45,
          30,
          69,
          22,
          36,
          9,
          11,
          32,
          50,
          64,
          19,
          27,
          33,
          8,
          17,
          27,
          21,
          22,
          22,
          62,
          48,
          45,
          39,
          36,
          30,
          40,
          28,
          40,
          62,
          24,
          19,
          29,
          28,
          32,
          62,
          53,
          36,
          22,
          16,
          19,
          34,
          39,
          18,
          32,
          25,
          39,
          54,
          36,
          16,
          18,
          47,
          60,
          22,
          22,
          35,
          52,
          47,
          40,
          37,
          36,
          31,
          49,
          18,
          49,
          24,
          42,
          37,
          44,
          35,
          36,
          30,
          27,
          22,
          40,
          39,
          21,
          18,
          22,
          35,
          24,
          34,
          26,
          4,
          26,
          27,
          42,
          20,
          21,
          21,
          61,
          57,
          21,
          26,
          18,
          80,
          51,
          32,
          30,
          9,
          28,
          32,
          31,
          41,
          37,
          20,
          24,
          2,
          32,
          0.75,
          48,
          19,
          56,
          21,
          23,
          23,
          18,
          21,
          16,
          18,
          24,
          27,
          32,
          23,
          58,
          50,
          40,
          47,
          36,
          20,
          32,
          25,
          49,
          43,
          48,
          40,
          31,
          70,
          31,
          19,
          18,
          24.5,
          18,
          43,
          36,
          28,
          27,
          20,
          14,
          60,
          25,
          14,
          19,
          18,
          15,
          31,
          4,
          37,
          25,
          60,
          52,
          44,
          19,
          49,
          42,
          18,
          35,
          18,
          25,
          26,
          39,
          45,
          42,
          22,
          4,
          24,
          41,
          48,
          29,
          52,
          19,
          38,
          27,
          33,
          6,
          17,
          34,
          50,
          27,
          20,
          30,
          28,
          25,
          25,
          29,
          11,
          41,
          23,
          23,
          28.5,
          48,
          35,
          20,
          32,
          45,
          36,
          21,
          24,
          31,
          70,
          16,
          30,
          19,
          31,
          4,
          6,
          33,
          23,
          48,
          0.67,
          28,
          18,
          34,
          33,
          23,
          41,
          20,
          36,
          16,
          51,
          46,
          30.5,
          28,
          32,
          24,
          48,
          57,
          29,
          54,
          18,
          20,
          5,
          22,
          43,
          13,
          17,
          29,
          35,
          25,
          25,
          18,
          8,
          1,
          46,
          20,
          16,
          21,
          43,
          25,
          39,
          49,
          31,
          30,
          30,
          34,
          31,
          11,
          0.42,
          27,
          31,
          39,
          18,
          39,
          33,
          26,
          39,
          35,
          6,
          30.5,
          39,
          23,
          31,
          43,
          10,
          52,
          27,
          38,
          27,
          2,
          36,
          23,
          1,
          19,
          62,
          15,
          0.83,
          30,
          23,
          18,
          39,
          21,
          20,
          32,
          29,
          20,
          16,
          30,
          34.5,
          17,
          42,
          18,
          35,
          28,
          40,
          4,
          74,
          9,
          16,
          44,
          18,
          45,
          51,
          24,
          30,
          41,
          21,
          48,
          14,
          24,
          42,
          27,
          31,
          23,
          4,
          26,
          47,
          33,
          47,
          28,
          15,
          20,
          19,
          23,
          56,
          25,
          33,
          22,
          28,
          25,
          39,
          27,
          19,
          7,
          26,
          32
         ],
         "xaxis": "x",
         "yaxis": "y"
        }
       ],
       "layout": {
        "barmode": "relative",
        "legend": {
         "tracegroupgap": 0
        },
        "margin": {
         "t": 60
        },
        "template": {
         "data": {
          "bar": [
           {
            "error_x": {
             "color": "#2a3f5f"
            },
            "error_y": {
             "color": "#2a3f5f"
            },
            "marker": {
             "line": {
              "color": "#E5ECF6",
              "width": 0.5
             },
             "pattern": {
              "fillmode": "overlay",
              "size": 10,
              "solidity": 0.2
             }
            },
            "type": "bar"
           }
          ],
          "barpolar": [
           {
            "marker": {
             "line": {
              "color": "#E5ECF6",
              "width": 0.5
             },
             "pattern": {
              "fillmode": "overlay",
              "size": 10,
              "solidity": 0.2
             }
            },
            "type": "barpolar"
           }
          ],
          "carpet": [
           {
            "aaxis": {
             "endlinecolor": "#2a3f5f",
             "gridcolor": "white",
             "linecolor": "white",
             "minorgridcolor": "white",
             "startlinecolor": "#2a3f5f"
            },
            "baxis": {
             "endlinecolor": "#2a3f5f",
             "gridcolor": "white",
             "linecolor": "white",
             "minorgridcolor": "white",
             "startlinecolor": "#2a3f5f"
            },
            "type": "carpet"
           }
          ],
          "choropleth": [
           {
            "colorbar": {
             "outlinewidth": 0,
             "ticks": ""
            },
            "type": "choropleth"
           }
          ],
          "contour": [
           {
            "colorbar": {
             "outlinewidth": 0,
             "ticks": ""
            },
            "colorscale": [
             [
              0,
              "#0d0887"
             ],
             [
              0.1111111111111111,
              "#46039f"
             ],
             [
              0.2222222222222222,
              "#7201a8"
             ],
             [
              0.3333333333333333,
              "#9c179e"
             ],
             [
              0.4444444444444444,
              "#bd3786"
             ],
             [
              0.5555555555555556,
              "#d8576b"
             ],
             [
              0.6666666666666666,
              "#ed7953"
             ],
             [
              0.7777777777777778,
              "#fb9f3a"
             ],
             [
              0.8888888888888888,
              "#fdca26"
             ],
             [
              1,
              "#f0f921"
             ]
            ],
            "type": "contour"
           }
          ],
          "contourcarpet": [
           {
            "colorbar": {
             "outlinewidth": 0,
             "ticks": ""
            },
            "type": "contourcarpet"
           }
          ],
          "heatmap": [
           {
            "colorbar": {
             "outlinewidth": 0,
             "ticks": ""
            },
            "colorscale": [
             [
              0,
              "#0d0887"
             ],
             [
              0.1111111111111111,
              "#46039f"
             ],
             [
              0.2222222222222222,
              "#7201a8"
             ],
             [
              0.3333333333333333,
              "#9c179e"
             ],
             [
              0.4444444444444444,
              "#bd3786"
             ],
             [
              0.5555555555555556,
              "#d8576b"
             ],
             [
              0.6666666666666666,
              "#ed7953"
             ],
             [
              0.7777777777777778,
              "#fb9f3a"
             ],
             [
              0.8888888888888888,
              "#fdca26"
             ],
             [
              1,
              "#f0f921"
             ]
            ],
            "type": "heatmap"
           }
          ],
          "heatmapgl": [
           {
            "colorbar": {
             "outlinewidth": 0,
             "ticks": ""
            },
            "colorscale": [
             [
              0,
              "#0d0887"
             ],
             [
              0.1111111111111111,
              "#46039f"
             ],
             [
              0.2222222222222222,
              "#7201a8"
             ],
             [
              0.3333333333333333,
              "#9c179e"
             ],
             [
              0.4444444444444444,
              "#bd3786"
             ],
             [
              0.5555555555555556,
              "#d8576b"
             ],
             [
              0.6666666666666666,
              "#ed7953"
             ],
             [
              0.7777777777777778,
              "#fb9f3a"
             ],
             [
              0.8888888888888888,
              "#fdca26"
             ],
             [
              1,
              "#f0f921"
             ]
            ],
            "type": "heatmapgl"
           }
          ],
          "histogram": [
           {
            "marker": {
             "pattern": {
              "fillmode": "overlay",
              "size": 10,
              "solidity": 0.2
             }
            },
            "type": "histogram"
           }
          ],
          "histogram2d": [
           {
            "colorbar": {
             "outlinewidth": 0,
             "ticks": ""
            },
            "colorscale": [
             [
              0,
              "#0d0887"
             ],
             [
              0.1111111111111111,
              "#46039f"
             ],
             [
              0.2222222222222222,
              "#7201a8"
             ],
             [
              0.3333333333333333,
              "#9c179e"
             ],
             [
              0.4444444444444444,
              "#bd3786"
             ],
             [
              0.5555555555555556,
              "#d8576b"
             ],
             [
              0.6666666666666666,
              "#ed7953"
             ],
             [
              0.7777777777777778,
              "#fb9f3a"
             ],
             [
              0.8888888888888888,
              "#fdca26"
             ],
             [
              1,
              "#f0f921"
             ]
            ],
            "type": "histogram2d"
           }
          ],
          "histogram2dcontour": [
           {
            "colorbar": {
             "outlinewidth": 0,
             "ticks": ""
            },
            "colorscale": [
             [
              0,
              "#0d0887"
             ],
             [
              0.1111111111111111,
              "#46039f"
             ],
             [
              0.2222222222222222,
              "#7201a8"
             ],
             [
              0.3333333333333333,
              "#9c179e"
             ],
             [
              0.4444444444444444,
              "#bd3786"
             ],
             [
              0.5555555555555556,
              "#d8576b"
             ],
             [
              0.6666666666666666,
              "#ed7953"
             ],
             [
              0.7777777777777778,
              "#fb9f3a"
             ],
             [
              0.8888888888888888,
              "#fdca26"
             ],
             [
              1,
              "#f0f921"
             ]
            ],
            "type": "histogram2dcontour"
           }
          ],
          "mesh3d": [
           {
            "colorbar": {
             "outlinewidth": 0,
             "ticks": ""
            },
            "type": "mesh3d"
           }
          ],
          "parcoords": [
           {
            "line": {
             "colorbar": {
              "outlinewidth": 0,
              "ticks": ""
             }
            },
            "type": "parcoords"
           }
          ],
          "pie": [
           {
            "automargin": true,
            "type": "pie"
           }
          ],
          "scatter": [
           {
            "fillpattern": {
             "fillmode": "overlay",
             "size": 10,
             "solidity": 0.2
            },
            "type": "scatter"
           }
          ],
          "scatter3d": [
           {
            "line": {
             "colorbar": {
              "outlinewidth": 0,
              "ticks": ""
             }
            },
            "marker": {
             "colorbar": {
              "outlinewidth": 0,
              "ticks": ""
             }
            },
            "type": "scatter3d"
           }
          ],
          "scattercarpet": [
           {
            "marker": {
             "colorbar": {
              "outlinewidth": 0,
              "ticks": ""
             }
            },
            "type": "scattercarpet"
           }
          ],
          "scattergeo": [
           {
            "marker": {
             "colorbar": {
              "outlinewidth": 0,
              "ticks": ""
             }
            },
            "type": "scattergeo"
           }
          ],
          "scattergl": [
           {
            "marker": {
             "colorbar": {
              "outlinewidth": 0,
              "ticks": ""
             }
            },
            "type": "scattergl"
           }
          ],
          "scattermapbox": [
           {
            "marker": {
             "colorbar": {
              "outlinewidth": 0,
              "ticks": ""
             }
            },
            "type": "scattermapbox"
           }
          ],
          "scatterpolar": [
           {
            "marker": {
             "colorbar": {
              "outlinewidth": 0,
              "ticks": ""
             }
            },
            "type": "scatterpolar"
           }
          ],
          "scatterpolargl": [
           {
            "marker": {
             "colorbar": {
              "outlinewidth": 0,
              "ticks": ""
             }
            },
            "type": "scatterpolargl"
           }
          ],
          "scatterternary": [
           {
            "marker": {
             "colorbar": {
              "outlinewidth": 0,
              "ticks": ""
             }
            },
            "type": "scatterternary"
           }
          ],
          "surface": [
           {
            "colorbar": {
             "outlinewidth": 0,
             "ticks": ""
            },
            "colorscale": [
             [
              0,
              "#0d0887"
             ],
             [
              0.1111111111111111,
              "#46039f"
             ],
             [
              0.2222222222222222,
              "#7201a8"
             ],
             [
              0.3333333333333333,
              "#9c179e"
             ],
             [
              0.4444444444444444,
              "#bd3786"
             ],
             [
              0.5555555555555556,
              "#d8576b"
             ],
             [
              0.6666666666666666,
              "#ed7953"
             ],
             [
              0.7777777777777778,
              "#fb9f3a"
             ],
             [
              0.8888888888888888,
              "#fdca26"
             ],
             [
              1,
              "#f0f921"
             ]
            ],
            "type": "surface"
           }
          ],
          "table": [
           {
            "cells": {
             "fill": {
              "color": "#EBF0F8"
             },
             "line": {
              "color": "white"
             }
            },
            "header": {
             "fill": {
              "color": "#C8D4E3"
             },
             "line": {
              "color": "white"
             }
            },
            "type": "table"
           }
          ]
         },
         "layout": {
          "annotationdefaults": {
           "arrowcolor": "#2a3f5f",
           "arrowhead": 0,
           "arrowwidth": 1
          },
          "autotypenumbers": "strict",
          "coloraxis": {
           "colorbar": {
            "outlinewidth": 0,
            "ticks": ""
           }
          },
          "colorscale": {
           "diverging": [
            [
             0,
             "#8e0152"
            ],
            [
             0.1,
             "#c51b7d"
            ],
            [
             0.2,
             "#de77ae"
            ],
            [
             0.3,
             "#f1b6da"
            ],
            [
             0.4,
             "#fde0ef"
            ],
            [
             0.5,
             "#f7f7f7"
            ],
            [
             0.6,
             "#e6f5d0"
            ],
            [
             0.7,
             "#b8e186"
            ],
            [
             0.8,
             "#7fbc41"
            ],
            [
             0.9,
             "#4d9221"
            ],
            [
             1,
             "#276419"
            ]
           ],
           "sequential": [
            [
             0,
             "#0d0887"
            ],
            [
             0.1111111111111111,
             "#46039f"
            ],
            [
             0.2222222222222222,
             "#7201a8"
            ],
            [
             0.3333333333333333,
             "#9c179e"
            ],
            [
             0.4444444444444444,
             "#bd3786"
            ],
            [
             0.5555555555555556,
             "#d8576b"
            ],
            [
             0.6666666666666666,
             "#ed7953"
            ],
            [
             0.7777777777777778,
             "#fb9f3a"
            ],
            [
             0.8888888888888888,
             "#fdca26"
            ],
            [
             1,
             "#f0f921"
            ]
           ],
           "sequentialminus": [
            [
             0,
             "#0d0887"
            ],
            [
             0.1111111111111111,
             "#46039f"
            ],
            [
             0.2222222222222222,
             "#7201a8"
            ],
            [
             0.3333333333333333,
             "#9c179e"
            ],
            [
             0.4444444444444444,
             "#bd3786"
            ],
            [
             0.5555555555555556,
             "#d8576b"
            ],
            [
             0.6666666666666666,
             "#ed7953"
            ],
            [
             0.7777777777777778,
             "#fb9f3a"
            ],
            [
             0.8888888888888888,
             "#fdca26"
            ],
            [
             1,
             "#f0f921"
            ]
           ]
          },
          "colorway": [
           "#636efa",
           "#EF553B",
           "#00cc96",
           "#ab63fa",
           "#FFA15A",
           "#19d3f3",
           "#FF6692",
           "#B6E880",
           "#FF97FF",
           "#FECB52"
          ],
          "font": {
           "color": "#2a3f5f"
          },
          "geo": {
           "bgcolor": "white",
           "lakecolor": "white",
           "landcolor": "#E5ECF6",
           "showlakes": true,
           "showland": true,
           "subunitcolor": "white"
          },
          "hoverlabel": {
           "align": "left"
          },
          "hovermode": "closest",
          "mapbox": {
           "style": "light"
          },
          "paper_bgcolor": "white",
          "plot_bgcolor": "#E5ECF6",
          "polar": {
           "angularaxis": {
            "gridcolor": "white",
            "linecolor": "white",
            "ticks": ""
           },
           "bgcolor": "#E5ECF6",
           "radialaxis": {
            "gridcolor": "white",
            "linecolor": "white",
            "ticks": ""
           }
          },
          "scene": {
           "xaxis": {
            "backgroundcolor": "#E5ECF6",
            "gridcolor": "white",
            "gridwidth": 2,
            "linecolor": "white",
            "showbackground": true,
            "ticks": "",
            "zerolinecolor": "white"
           },
           "yaxis": {
            "backgroundcolor": "#E5ECF6",
            "gridcolor": "white",
            "gridwidth": 2,
            "linecolor": "white",
            "showbackground": true,
            "ticks": "",
            "zerolinecolor": "white"
           },
           "zaxis": {
            "backgroundcolor": "#E5ECF6",
            "gridcolor": "white",
            "gridwidth": 2,
            "linecolor": "white",
            "showbackground": true,
            "ticks": "",
            "zerolinecolor": "white"
           }
          },
          "shapedefaults": {
           "line": {
            "color": "#2a3f5f"
           }
          },
          "ternary": {
           "aaxis": {
            "gridcolor": "white",
            "linecolor": "white",
            "ticks": ""
           },
           "baxis": {
            "gridcolor": "white",
            "linecolor": "white",
            "ticks": ""
           },
           "bgcolor": "#E5ECF6",
           "caxis": {
            "gridcolor": "white",
            "linecolor": "white",
            "ticks": ""
           }
          },
          "title": {
           "x": 0.05
          },
          "xaxis": {
           "automargin": true,
           "gridcolor": "white",
           "linecolor": "white",
           "ticks": "",
           "title": {
            "standoff": 15
           },
           "zerolinecolor": "white",
           "zerolinewidth": 2
          },
          "yaxis": {
           "automargin": true,
           "gridcolor": "white",
           "linecolor": "white",
           "ticks": "",
           "title": {
            "standoff": 15
           },
           "zerolinecolor": "white",
           "zerolinewidth": 2
          }
         }
        },
        "xaxis": {
         "anchor": "y",
         "domain": [
          0,
          1
         ],
         "title": {
          "text": "Age"
         }
        },
        "yaxis": {
         "anchor": "x",
         "domain": [
          0,
          1
         ],
         "title": {
          "text": "count"
         }
        }
       }
      }
     },
     "metadata": {},
     "output_type": "display_data"
    }
   ],
   "source": [
    "fig = px.histogram(data, x=\"Age\")\n",
    "fig.show()"
   ]
  },
  {
   "cell_type": "code",
   "execution_count": 77,
   "metadata": {},
   "outputs": [],
   "source": [
    "data = data[data['Age'] < 74]"
   ]
  },
  {
   "cell_type": "code",
   "execution_count": 78,
   "metadata": {},
   "outputs": [
    {
     "data": {
      "application/vnd.plotly.v1+json": {
       "config": {
        "plotlyServerURL": "https://plot.ly"
       },
       "data": [
        {
         "alignmentgroup": "True",
         "bingroup": "x",
         "hovertemplate": "Age=%{x}<br>count=%{y}<extra></extra>",
         "legendgroup": "",
         "marker": {
          "color": "#636efa",
          "pattern": {
           "shape": ""
          }
         },
         "name": "",
         "offsetgroup": "",
         "orientation": "v",
         "showlegend": false,
         "type": "histogram",
         "x": [
          22,
          38,
          26,
          35,
          35,
          27,
          54,
          2,
          27,
          14,
          4,
          58,
          20,
          39,
          14,
          55,
          2,
          23,
          31,
          22,
          35,
          34,
          15,
          28,
          8,
          38,
          26,
          19,
          24,
          23,
          40,
          48,
          18,
          66,
          28,
          42,
          18,
          21,
          18,
          14,
          40,
          27,
          3,
          19,
          30,
          20,
          27,
          16,
          18,
          7,
          21,
          49,
          29,
          65,
          46,
          21,
          28.5,
          5,
          11,
          22,
          38,
          45,
          4,
          64,
          7,
          29,
          19,
          17,
          26,
          32,
          16,
          21,
          26,
          32,
          25,
          23,
          28,
          0.83,
          30,
          22,
          29,
          31,
          28,
          17,
          33,
          16,
          20,
          23,
          24,
          29,
          20,
          46,
          26,
          59,
          22,
          71,
          23,
          34,
          34,
          28,
          29,
          21,
          33,
          37,
          28,
          21,
          29,
          38,
          28,
          47,
          14.5,
          22,
          20,
          17,
          21,
          70.5,
          29,
          24,
          2,
          21,
          19,
          32.5,
          32.5,
          54,
          12,
          19,
          24,
          2,
          45,
          33,
          20,
          47,
          29,
          25,
          23,
          19,
          37,
          16,
          24,
          40,
          22,
          24,
          19,
          18,
          19,
          27,
          9,
          36.5,
          42,
          51,
          22,
          55.5,
          40.5,
          27,
          51,
          16,
          30,
          37,
          5,
          44,
          40,
          26,
          17,
          1,
          9,
          48,
          45,
          60,
          28,
          61,
          4,
          1,
          21,
          56,
          18,
          5,
          50,
          30,
          36,
          8,
          39,
          9,
          1,
          4,
          39,
          26,
          45,
          40,
          36,
          32,
          19,
          19,
          3,
          44,
          58,
          28,
          42,
          21,
          24,
          28,
          17,
          34,
          45.5,
          18,
          2,
          32,
          26,
          16,
          40,
          24,
          35,
          22,
          30,
          22,
          31,
          27,
          42,
          32,
          30,
          16,
          27,
          51,
          22,
          38,
          22,
          19,
          20.5,
          18,
          12,
          35,
          29,
          59,
          5,
          24,
          21,
          44,
          8,
          19,
          33,
          19,
          18,
          29,
          22,
          30,
          44,
          25,
          24,
          37,
          54,
          18,
          29,
          62,
          30,
          41,
          29,
          38,
          30,
          35,
          50,
          3,
          52,
          40,
          21,
          36,
          16,
          25,
          58,
          35,
          28,
          25,
          41,
          37,
          33,
          63,
          45,
          21,
          7,
          35,
          65,
          28,
          16,
          19,
          57,
          33,
          30,
          22,
          42,
          22,
          26,
          19,
          36,
          24,
          24,
          30,
          23.5,
          2,
          47,
          50,
          20,
          24,
          19,
          46,
          28,
          0.92,
          42,
          17,
          30,
          30,
          24,
          18,
          26,
          28,
          43,
          26,
          24,
          54,
          31,
          40,
          22,
          27,
          30,
          22,
          20,
          36,
          61,
          36,
          31,
          16,
          28,
          45.5,
          38,
          16,
          42,
          30,
          29,
          41,
          45,
          45,
          2,
          24,
          28,
          25,
          36,
          24,
          40,
          34,
          3,
          42,
          23,
          43,
          15,
          25,
          23,
          28,
          22,
          38,
          22,
          23,
          40,
          29,
          45,
          35,
          27,
          30,
          60,
          35,
          22,
          24,
          25,
          18,
          19,
          22,
          3,
          25,
          22,
          27,
          20,
          19,
          42,
          1,
          32,
          35,
          27,
          18,
          1,
          36,
          19,
          17,
          36,
          21,
          28,
          23,
          24,
          22,
          31,
          46,
          23,
          28,
          39,
          26,
          21,
          28,
          20,
          34,
          51,
          3,
          21,
          3,
          42,
          27,
          33,
          22,
          44,
          32,
          34,
          18,
          30,
          10,
          21,
          29,
          28,
          18,
          54,
          28,
          19,
          28,
          32,
          28,
          33,
          42,
          17,
          50,
          14,
          21,
          24,
          64,
          31,
          45,
          20,
          25,
          28,
          29,
          4,
          13,
          34,
          5,
          52,
          36,
          28,
          30,
          49,
          24,
          29,
          65,
          41,
          50,
          17,
          48,
          34,
          47,
          48,
          34,
          38,
          21,
          56,
          22,
          0.75,
          39,
          38,
          33,
          23,
          22,
          40,
          34,
          29,
          22,
          2,
          9,
          37,
          50,
          63,
          25,
          8,
          35,
          58,
          30,
          9,
          19,
          21,
          55,
          71,
          21,
          26,
          54,
          55,
          25,
          24,
          17,
          21,
          21,
          37,
          16,
          18,
          33,
          37,
          28,
          26,
          29,
          66,
          36,
          54,
          24,
          47,
          34,
          30,
          36,
          32,
          30,
          22,
          35,
          44,
          18,
          40.5,
          50,
          49,
          39,
          23,
          2,
          17,
          17,
          24,
          30,
          7,
          45,
          30,
          69,
          22,
          36,
          9,
          11,
          32,
          50,
          64,
          19,
          27,
          33,
          8,
          17,
          27,
          21,
          22,
          22,
          62,
          48,
          45,
          39,
          36,
          30,
          40,
          28,
          40,
          62,
          24,
          19,
          29,
          28,
          32,
          62,
          53,
          36,
          22,
          16,
          19,
          34,
          39,
          18,
          32,
          25,
          39,
          54,
          36,
          16,
          18,
          47,
          60,
          22,
          22,
          35,
          52,
          47,
          40,
          37,
          36,
          31,
          49,
          18,
          49,
          24,
          42,
          37,
          44,
          35,
          36,
          30,
          27,
          22,
          40,
          39,
          21,
          18,
          22,
          35,
          24,
          34,
          26,
          4,
          26,
          27,
          42,
          20,
          21,
          21,
          61,
          57,
          21,
          26,
          18,
          51,
          32,
          30,
          9,
          28,
          32,
          31,
          41,
          37,
          20,
          24,
          2,
          32,
          0.75,
          48,
          19,
          56,
          21,
          23,
          23,
          18,
          21,
          16,
          18,
          24,
          27,
          32,
          23,
          58,
          50,
          40,
          47,
          36,
          20,
          32,
          25,
          49,
          43,
          48,
          40,
          31,
          70,
          31,
          19,
          18,
          24.5,
          18,
          43,
          36,
          28,
          27,
          20,
          14,
          60,
          25,
          14,
          19,
          18,
          15,
          31,
          4,
          37,
          25,
          60,
          52,
          44,
          19,
          49,
          42,
          18,
          35,
          18,
          25,
          26,
          39,
          45,
          42,
          22,
          4,
          24,
          41,
          48,
          29,
          52,
          19,
          38,
          27,
          33,
          6,
          17,
          34,
          50,
          27,
          20,
          30,
          28,
          25,
          25,
          29,
          11,
          41,
          23,
          23,
          28.5,
          48,
          35,
          20,
          32,
          45,
          36,
          21,
          24,
          31,
          70,
          16,
          30,
          19,
          31,
          4,
          6,
          33,
          23,
          48,
          0.67,
          28,
          18,
          34,
          33,
          23,
          41,
          20,
          36,
          16,
          51,
          46,
          30.5,
          28,
          32,
          24,
          48,
          57,
          29,
          54,
          18,
          20,
          5,
          22,
          43,
          13,
          17,
          29,
          35,
          25,
          25,
          18,
          8,
          1,
          46,
          20,
          16,
          21,
          43,
          25,
          39,
          49,
          31,
          30,
          30,
          34,
          31,
          11,
          0.42,
          27,
          31,
          39,
          18,
          39,
          33,
          26,
          39,
          35,
          6,
          30.5,
          39,
          23,
          31,
          43,
          10,
          52,
          27,
          38,
          27,
          2,
          36,
          23,
          1,
          19,
          62,
          15,
          0.83,
          30,
          23,
          18,
          39,
          21,
          20,
          32,
          29,
          20,
          16,
          30,
          34.5,
          17,
          42,
          18,
          35,
          28,
          40,
          4,
          9,
          16,
          44,
          18,
          45,
          51,
          24,
          30,
          41,
          21,
          48,
          14,
          24,
          42,
          27,
          31,
          23,
          4,
          26,
          47,
          33,
          47,
          28,
          15,
          20,
          19,
          23,
          56,
          25,
          33,
          22,
          28,
          25,
          39,
          27,
          19,
          7,
          26,
          32
         ],
         "xaxis": "x",
         "yaxis": "y"
        }
       ],
       "layout": {
        "barmode": "relative",
        "legend": {
         "tracegroupgap": 0
        },
        "margin": {
         "t": 60
        },
        "template": {
         "data": {
          "bar": [
           {
            "error_x": {
             "color": "#2a3f5f"
            },
            "error_y": {
             "color": "#2a3f5f"
            },
            "marker": {
             "line": {
              "color": "#E5ECF6",
              "width": 0.5
             },
             "pattern": {
              "fillmode": "overlay",
              "size": 10,
              "solidity": 0.2
             }
            },
            "type": "bar"
           }
          ],
          "barpolar": [
           {
            "marker": {
             "line": {
              "color": "#E5ECF6",
              "width": 0.5
             },
             "pattern": {
              "fillmode": "overlay",
              "size": 10,
              "solidity": 0.2
             }
            },
            "type": "barpolar"
           }
          ],
          "carpet": [
           {
            "aaxis": {
             "endlinecolor": "#2a3f5f",
             "gridcolor": "white",
             "linecolor": "white",
             "minorgridcolor": "white",
             "startlinecolor": "#2a3f5f"
            },
            "baxis": {
             "endlinecolor": "#2a3f5f",
             "gridcolor": "white",
             "linecolor": "white",
             "minorgridcolor": "white",
             "startlinecolor": "#2a3f5f"
            },
            "type": "carpet"
           }
          ],
          "choropleth": [
           {
            "colorbar": {
             "outlinewidth": 0,
             "ticks": ""
            },
            "type": "choropleth"
           }
          ],
          "contour": [
           {
            "colorbar": {
             "outlinewidth": 0,
             "ticks": ""
            },
            "colorscale": [
             [
              0,
              "#0d0887"
             ],
             [
              0.1111111111111111,
              "#46039f"
             ],
             [
              0.2222222222222222,
              "#7201a8"
             ],
             [
              0.3333333333333333,
              "#9c179e"
             ],
             [
              0.4444444444444444,
              "#bd3786"
             ],
             [
              0.5555555555555556,
              "#d8576b"
             ],
             [
              0.6666666666666666,
              "#ed7953"
             ],
             [
              0.7777777777777778,
              "#fb9f3a"
             ],
             [
              0.8888888888888888,
              "#fdca26"
             ],
             [
              1,
              "#f0f921"
             ]
            ],
            "type": "contour"
           }
          ],
          "contourcarpet": [
           {
            "colorbar": {
             "outlinewidth": 0,
             "ticks": ""
            },
            "type": "contourcarpet"
           }
          ],
          "heatmap": [
           {
            "colorbar": {
             "outlinewidth": 0,
             "ticks": ""
            },
            "colorscale": [
             [
              0,
              "#0d0887"
             ],
             [
              0.1111111111111111,
              "#46039f"
             ],
             [
              0.2222222222222222,
              "#7201a8"
             ],
             [
              0.3333333333333333,
              "#9c179e"
             ],
             [
              0.4444444444444444,
              "#bd3786"
             ],
             [
              0.5555555555555556,
              "#d8576b"
             ],
             [
              0.6666666666666666,
              "#ed7953"
             ],
             [
              0.7777777777777778,
              "#fb9f3a"
             ],
             [
              0.8888888888888888,
              "#fdca26"
             ],
             [
              1,
              "#f0f921"
             ]
            ],
            "type": "heatmap"
           }
          ],
          "heatmapgl": [
           {
            "colorbar": {
             "outlinewidth": 0,
             "ticks": ""
            },
            "colorscale": [
             [
              0,
              "#0d0887"
             ],
             [
              0.1111111111111111,
              "#46039f"
             ],
             [
              0.2222222222222222,
              "#7201a8"
             ],
             [
              0.3333333333333333,
              "#9c179e"
             ],
             [
              0.4444444444444444,
              "#bd3786"
             ],
             [
              0.5555555555555556,
              "#d8576b"
             ],
             [
              0.6666666666666666,
              "#ed7953"
             ],
             [
              0.7777777777777778,
              "#fb9f3a"
             ],
             [
              0.8888888888888888,
              "#fdca26"
             ],
             [
              1,
              "#f0f921"
             ]
            ],
            "type": "heatmapgl"
           }
          ],
          "histogram": [
           {
            "marker": {
             "pattern": {
              "fillmode": "overlay",
              "size": 10,
              "solidity": 0.2
             }
            },
            "type": "histogram"
           }
          ],
          "histogram2d": [
           {
            "colorbar": {
             "outlinewidth": 0,
             "ticks": ""
            },
            "colorscale": [
             [
              0,
              "#0d0887"
             ],
             [
              0.1111111111111111,
              "#46039f"
             ],
             [
              0.2222222222222222,
              "#7201a8"
             ],
             [
              0.3333333333333333,
              "#9c179e"
             ],
             [
              0.4444444444444444,
              "#bd3786"
             ],
             [
              0.5555555555555556,
              "#d8576b"
             ],
             [
              0.6666666666666666,
              "#ed7953"
             ],
             [
              0.7777777777777778,
              "#fb9f3a"
             ],
             [
              0.8888888888888888,
              "#fdca26"
             ],
             [
              1,
              "#f0f921"
             ]
            ],
            "type": "histogram2d"
           }
          ],
          "histogram2dcontour": [
           {
            "colorbar": {
             "outlinewidth": 0,
             "ticks": ""
            },
            "colorscale": [
             [
              0,
              "#0d0887"
             ],
             [
              0.1111111111111111,
              "#46039f"
             ],
             [
              0.2222222222222222,
              "#7201a8"
             ],
             [
              0.3333333333333333,
              "#9c179e"
             ],
             [
              0.4444444444444444,
              "#bd3786"
             ],
             [
              0.5555555555555556,
              "#d8576b"
             ],
             [
              0.6666666666666666,
              "#ed7953"
             ],
             [
              0.7777777777777778,
              "#fb9f3a"
             ],
             [
              0.8888888888888888,
              "#fdca26"
             ],
             [
              1,
              "#f0f921"
             ]
            ],
            "type": "histogram2dcontour"
           }
          ],
          "mesh3d": [
           {
            "colorbar": {
             "outlinewidth": 0,
             "ticks": ""
            },
            "type": "mesh3d"
           }
          ],
          "parcoords": [
           {
            "line": {
             "colorbar": {
              "outlinewidth": 0,
              "ticks": ""
             }
            },
            "type": "parcoords"
           }
          ],
          "pie": [
           {
            "automargin": true,
            "type": "pie"
           }
          ],
          "scatter": [
           {
            "fillpattern": {
             "fillmode": "overlay",
             "size": 10,
             "solidity": 0.2
            },
            "type": "scatter"
           }
          ],
          "scatter3d": [
           {
            "line": {
             "colorbar": {
              "outlinewidth": 0,
              "ticks": ""
             }
            },
            "marker": {
             "colorbar": {
              "outlinewidth": 0,
              "ticks": ""
             }
            },
            "type": "scatter3d"
           }
          ],
          "scattercarpet": [
           {
            "marker": {
             "colorbar": {
              "outlinewidth": 0,
              "ticks": ""
             }
            },
            "type": "scattercarpet"
           }
          ],
          "scattergeo": [
           {
            "marker": {
             "colorbar": {
              "outlinewidth": 0,
              "ticks": ""
             }
            },
            "type": "scattergeo"
           }
          ],
          "scattergl": [
           {
            "marker": {
             "colorbar": {
              "outlinewidth": 0,
              "ticks": ""
             }
            },
            "type": "scattergl"
           }
          ],
          "scattermapbox": [
           {
            "marker": {
             "colorbar": {
              "outlinewidth": 0,
              "ticks": ""
             }
            },
            "type": "scattermapbox"
           }
          ],
          "scatterpolar": [
           {
            "marker": {
             "colorbar": {
              "outlinewidth": 0,
              "ticks": ""
             }
            },
            "type": "scatterpolar"
           }
          ],
          "scatterpolargl": [
           {
            "marker": {
             "colorbar": {
              "outlinewidth": 0,
              "ticks": ""
             }
            },
            "type": "scatterpolargl"
           }
          ],
          "scatterternary": [
           {
            "marker": {
             "colorbar": {
              "outlinewidth": 0,
              "ticks": ""
             }
            },
            "type": "scatterternary"
           }
          ],
          "surface": [
           {
            "colorbar": {
             "outlinewidth": 0,
             "ticks": ""
            },
            "colorscale": [
             [
              0,
              "#0d0887"
             ],
             [
              0.1111111111111111,
              "#46039f"
             ],
             [
              0.2222222222222222,
              "#7201a8"
             ],
             [
              0.3333333333333333,
              "#9c179e"
             ],
             [
              0.4444444444444444,
              "#bd3786"
             ],
             [
              0.5555555555555556,
              "#d8576b"
             ],
             [
              0.6666666666666666,
              "#ed7953"
             ],
             [
              0.7777777777777778,
              "#fb9f3a"
             ],
             [
              0.8888888888888888,
              "#fdca26"
             ],
             [
              1,
              "#f0f921"
             ]
            ],
            "type": "surface"
           }
          ],
          "table": [
           {
            "cells": {
             "fill": {
              "color": "#EBF0F8"
             },
             "line": {
              "color": "white"
             }
            },
            "header": {
             "fill": {
              "color": "#C8D4E3"
             },
             "line": {
              "color": "white"
             }
            },
            "type": "table"
           }
          ]
         },
         "layout": {
          "annotationdefaults": {
           "arrowcolor": "#2a3f5f",
           "arrowhead": 0,
           "arrowwidth": 1
          },
          "autotypenumbers": "strict",
          "coloraxis": {
           "colorbar": {
            "outlinewidth": 0,
            "ticks": ""
           }
          },
          "colorscale": {
           "diverging": [
            [
             0,
             "#8e0152"
            ],
            [
             0.1,
             "#c51b7d"
            ],
            [
             0.2,
             "#de77ae"
            ],
            [
             0.3,
             "#f1b6da"
            ],
            [
             0.4,
             "#fde0ef"
            ],
            [
             0.5,
             "#f7f7f7"
            ],
            [
             0.6,
             "#e6f5d0"
            ],
            [
             0.7,
             "#b8e186"
            ],
            [
             0.8,
             "#7fbc41"
            ],
            [
             0.9,
             "#4d9221"
            ],
            [
             1,
             "#276419"
            ]
           ],
           "sequential": [
            [
             0,
             "#0d0887"
            ],
            [
             0.1111111111111111,
             "#46039f"
            ],
            [
             0.2222222222222222,
             "#7201a8"
            ],
            [
             0.3333333333333333,
             "#9c179e"
            ],
            [
             0.4444444444444444,
             "#bd3786"
            ],
            [
             0.5555555555555556,
             "#d8576b"
            ],
            [
             0.6666666666666666,
             "#ed7953"
            ],
            [
             0.7777777777777778,
             "#fb9f3a"
            ],
            [
             0.8888888888888888,
             "#fdca26"
            ],
            [
             1,
             "#f0f921"
            ]
           ],
           "sequentialminus": [
            [
             0,
             "#0d0887"
            ],
            [
             0.1111111111111111,
             "#46039f"
            ],
            [
             0.2222222222222222,
             "#7201a8"
            ],
            [
             0.3333333333333333,
             "#9c179e"
            ],
            [
             0.4444444444444444,
             "#bd3786"
            ],
            [
             0.5555555555555556,
             "#d8576b"
            ],
            [
             0.6666666666666666,
             "#ed7953"
            ],
            [
             0.7777777777777778,
             "#fb9f3a"
            ],
            [
             0.8888888888888888,
             "#fdca26"
            ],
            [
             1,
             "#f0f921"
            ]
           ]
          },
          "colorway": [
           "#636efa",
           "#EF553B",
           "#00cc96",
           "#ab63fa",
           "#FFA15A",
           "#19d3f3",
           "#FF6692",
           "#B6E880",
           "#FF97FF",
           "#FECB52"
          ],
          "font": {
           "color": "#2a3f5f"
          },
          "geo": {
           "bgcolor": "white",
           "lakecolor": "white",
           "landcolor": "#E5ECF6",
           "showlakes": true,
           "showland": true,
           "subunitcolor": "white"
          },
          "hoverlabel": {
           "align": "left"
          },
          "hovermode": "closest",
          "mapbox": {
           "style": "light"
          },
          "paper_bgcolor": "white",
          "plot_bgcolor": "#E5ECF6",
          "polar": {
           "angularaxis": {
            "gridcolor": "white",
            "linecolor": "white",
            "ticks": ""
           },
           "bgcolor": "#E5ECF6",
           "radialaxis": {
            "gridcolor": "white",
            "linecolor": "white",
            "ticks": ""
           }
          },
          "scene": {
           "xaxis": {
            "backgroundcolor": "#E5ECF6",
            "gridcolor": "white",
            "gridwidth": 2,
            "linecolor": "white",
            "showbackground": true,
            "ticks": "",
            "zerolinecolor": "white"
           },
           "yaxis": {
            "backgroundcolor": "#E5ECF6",
            "gridcolor": "white",
            "gridwidth": 2,
            "linecolor": "white",
            "showbackground": true,
            "ticks": "",
            "zerolinecolor": "white"
           },
           "zaxis": {
            "backgroundcolor": "#E5ECF6",
            "gridcolor": "white",
            "gridwidth": 2,
            "linecolor": "white",
            "showbackground": true,
            "ticks": "",
            "zerolinecolor": "white"
           }
          },
          "shapedefaults": {
           "line": {
            "color": "#2a3f5f"
           }
          },
          "ternary": {
           "aaxis": {
            "gridcolor": "white",
            "linecolor": "white",
            "ticks": ""
           },
           "baxis": {
            "gridcolor": "white",
            "linecolor": "white",
            "ticks": ""
           },
           "bgcolor": "#E5ECF6",
           "caxis": {
            "gridcolor": "white",
            "linecolor": "white",
            "ticks": ""
           }
          },
          "title": {
           "x": 0.05
          },
          "xaxis": {
           "automargin": true,
           "gridcolor": "white",
           "linecolor": "white",
           "ticks": "",
           "title": {
            "standoff": 15
           },
           "zerolinecolor": "white",
           "zerolinewidth": 2
          },
          "yaxis": {
           "automargin": true,
           "gridcolor": "white",
           "linecolor": "white",
           "ticks": "",
           "title": {
            "standoff": 15
           },
           "zerolinecolor": "white",
           "zerolinewidth": 2
          }
         }
        },
        "xaxis": {
         "anchor": "y",
         "domain": [
          0,
          1
         ],
         "title": {
          "text": "Age"
         }
        },
        "yaxis": {
         "anchor": "x",
         "domain": [
          0,
          1
         ],
         "title": {
          "text": "count"
         }
        }
       }
      }
     },
     "metadata": {},
     "output_type": "display_data"
    }
   ],
   "source": [
    "fig = px.histogram(data, x=\"Age\")\n",
    "fig.show()"
   ]
  },
  {
   "attachments": {},
   "cell_type": "markdown",
   "metadata": {},
   "source": [
    "#### Mean/Std"
   ]
  },
  {
   "cell_type": "code",
   "execution_count": 79,
   "metadata": {},
   "outputs": [],
   "source": [
    "data['Age'] = standard_scale.fit_transform(data[['Age']])"
   ]
  },
  {
   "cell_type": "code",
   "execution_count": 80,
   "metadata": {},
   "outputs": [],
   "source": [
    "# data_age_mean = data['Age'].mean(axis=0)\n",
    "# data_age_std = data['Age'].std(axis=0)\n",
    "# data['Age'] = (data['Age']-data_age_mean)/data_age_std"
   ]
  },
  {
   "cell_type": "code",
   "execution_count": 81,
   "metadata": {},
   "outputs": [
    {
     "data": {
      "application/vnd.plotly.v1+json": {
       "config": {
        "plotlyServerURL": "https://plot.ly"
       },
       "data": [
        {
         "alignmentgroup": "True",
         "bingroup": "x",
         "hovertemplate": "Age=%{x}<br>count=%{y}<extra></extra>",
         "legendgroup": "",
         "marker": {
          "color": "#636efa",
          "pattern": {
           "shape": ""
          }
         },
         "name": "",
         "offsetgroup": "",
         "orientation": "v",
         "showlegend": false,
         "type": "histogram",
         "x": [
          -0.5280040625449804,
          0.6192020906836336,
          -0.2412025242378269,
          0.4041009369532685,
          0.4041009369532685,
          -0.16950213966103853,
          1.7664082439122475,
          -1.9620117540807478,
          -0.16950213966103853,
          -1.1016071391592874,
          -1.8186109849271712,
          2.053209782219401,
          -0.6714048316985571,
          0.6909024752604219,
          -1.1016071391592874,
          1.838108628489036,
          -1.9620117540807478,
          -0.45630367796819205,
          0.11729939864611497,
          -0.5280040625449804,
          0.4041009369532685,
          0.3324005523764801,
          -1.029906754582499,
          -0.09780175508425015,
          -1.5318094466200176,
          0.6192020906836336,
          -0.2412025242378269,
          -0.7431052162753455,
          -0.38460329339140364,
          -0.45630367796819205,
          0.7626028598372103,
          1.3362059364515173,
          -0.8148056008521339,
          2.626812858833708,
          -0.09780175508425015,
          0.9060036289907871,
          -0.8148056008521339,
          -0.5997044471217687,
          -0.8148056008521339,
          -1.1016071391592874,
          0.7626028598372103,
          -0.16950213966103853,
          -1.8903113695039595,
          -0.7431052162753455,
          0.04559901406932659,
          -0.6714048316985571,
          -0.16950213966103853,
          -0.9582063700057106,
          -0.8148056008521339,
          -1.6035098311968061,
          -0.5997044471217687,
          1.4079063210283058,
          -0.02610137050746178,
          2.55511247425692,
          1.1928051672979405,
          -0.5997044471217687,
          -0.061951562795855966,
          -1.7469106003503827,
          -1.3167082928896525,
          -0.5280040625449804,
          0.6192020906836336,
          1.1211047827211522,
          -1.8186109849271712,
          2.4834120896801313,
          -1.6035098311968061,
          -0.02610137050746178,
          -0.7431052162753455,
          -0.8865059854289222,
          -0.2412025242378269,
          0.18899978322290334,
          -0.9582063700057106,
          -0.5997044471217687,
          -0.2412025242378269,
          0.18899978322290334,
          -0.3129029088146153,
          -0.45630367796819205,
          -0.09780175508425015,
          -2.0459012040355904,
          0.04559901406932659,
          -0.5280040625449804,
          -0.02610137050746178,
          0.11729939864611497,
          -0.09780175508425015,
          -0.8865059854289222,
          0.26070016779969174,
          -0.9582063700057106,
          -0.6714048316985571,
          -0.45630367796819205,
          -0.38460329339140364,
          -0.02610137050746178,
          -0.6714048316985571,
          1.1928051672979405,
          -0.2412025242378269,
          2.1249101667961896,
          -0.5280040625449804,
          2.98531478171765,
          -0.45630367796819205,
          0.3324005523764801,
          0.3324005523764801,
          -0.09780175508425015,
          -0.02610137050746178,
          -0.5997044471217687,
          0.26070016779969174,
          0.5475017061068452,
          -0.09780175508425015,
          -0.5997044471217687,
          -0.02610137050746178,
          0.6192020906836336,
          -0.09780175508425015,
          1.264505551874729,
          -1.0657569468708932,
          -0.5280040625449804,
          -0.6714048316985571,
          -0.8865059854289222,
          -0.5997044471217687,
          2.949464589429256,
          -0.02610137050746178,
          -0.38460329339140364,
          -1.9620117540807478,
          -0.5997044471217687,
          -0.7431052162753455,
          0.22484997551129754,
          0.22484997551129754,
          1.7664082439122475,
          -1.2450079083128642,
          -0.7431052162753455,
          -0.38460329339140364,
          -1.9620117540807478,
          1.1211047827211522,
          0.26070016779969174,
          -0.6714048316985571,
          1.264505551874729,
          -0.02610137050746178,
          -0.3129029088146153,
          -0.45630367796819205,
          -0.7431052162753455,
          0.5475017061068452,
          -0.9582063700057106,
          -0.38460329339140364,
          0.7626028598372103,
          -0.5280040625449804,
          -0.38460329339140364,
          -0.7431052162753455,
          -0.8148056008521339,
          -0.7431052162753455,
          -0.16950213966103853,
          -1.4601090620432293,
          0.511651513818451,
          0.9060036289907871,
          1.5513070901818824,
          -0.5280040625449804,
          1.87395882077743,
          0.7984530521256046,
          -0.16950213966103853,
          1.5513070901818824,
          -0.9582063700057106,
          0.04559901406932659,
          0.5475017061068452,
          -1.7469106003503827,
          1.049404398144364,
          0.7626028598372103,
          -0.2412025242378269,
          -0.8865059854289222,
          -2.033712138657536,
          -1.4601090620432293,
          1.3362059364515173,
          1.1211047827211522,
          2.1966105513729777,
          -0.09780175508425015,
          2.268310935949766,
          -1.8186109849271712,
          -2.033712138657536,
          -0.5997044471217687,
          1.9098090130658243,
          -0.8148056008521339,
          -1.7469106003503827,
          1.479606705605094,
          0.04559901406932659,
          0.47580132153005683,
          -1.5318094466200176,
          0.6909024752604219,
          -1.4601090620432293,
          -2.033712138657536,
          -1.8186109849271712,
          0.6909024752604219,
          -0.2412025242378269,
          1.1211047827211522,
          0.7626028598372103,
          0.47580132153005683,
          0.18899978322290334,
          -0.7431052162753455,
          -0.7431052162753455,
          -1.8903113695039595,
          1.049404398144364,
          2.053209782219401,
          -0.09780175508425015,
          0.9060036289907871,
          -0.5997044471217687,
          -0.38460329339140364,
          -0.09780175508425015,
          -0.8865059854289222,
          0.3324005523764801,
          1.1569549750095465,
          -0.8148056008521339,
          -1.9620117540807478,
          0.18899978322290334,
          -0.2412025242378269,
          -0.9582063700057106,
          0.7626028598372103,
          -0.38460329339140364,
          0.4041009369532685,
          -0.5280040625449804,
          0.04559901406932659,
          -0.5280040625449804,
          0.11729939864611497,
          -0.16950213966103853,
          0.9060036289907871,
          0.18899978322290334,
          0.04559901406932659,
          -0.9582063700057106,
          -0.16950213966103853,
          1.5513070901818824,
          -0.5280040625449804,
          0.6192020906836336,
          -0.5280040625449804,
          -0.7431052162753455,
          -0.635554639410163,
          -0.8148056008521339,
          -1.2450079083128642,
          0.4041009369532685,
          -0.02610137050746178,
          2.1249101667961896,
          -1.7469106003503827,
          -0.38460329339140364,
          -0.5997044471217687,
          1.049404398144364,
          -1.5318094466200176,
          -0.7431052162753455,
          0.26070016779969174,
          -0.7431052162753455,
          -0.8148056008521339,
          -0.02610137050746178,
          -0.5280040625449804,
          0.04559901406932659,
          1.049404398144364,
          -0.3129029088146153,
          -0.38460329339140364,
          0.5475017061068452,
          1.7664082439122475,
          -0.8148056008521339,
          -0.02610137050746178,
          2.3400113205265547,
          0.04559901406932659,
          0.8343032444139987,
          -0.02610137050746178,
          0.6192020906836336,
          0.04559901406932659,
          0.4041009369532685,
          1.479606705605094,
          -1.8903113695039595,
          1.623007474758671,
          0.7626028598372103,
          -0.5997044471217687,
          0.47580132153005683,
          -0.9582063700057106,
          -0.3129029088146153,
          2.053209782219401,
          0.4041009369532685,
          -0.09780175508425015,
          -0.3129029088146153,
          0.8343032444139987,
          0.5475017061068452,
          0.26070016779969174,
          2.4117117051033428,
          1.1211047827211522,
          -0.5997044471217687,
          -1.6035098311968061,
          0.4041009369532685,
          2.55511247425692,
          -0.09780175508425015,
          -0.9582063700057106,
          -0.7431052162753455,
          1.9815093976426128,
          0.26070016779969174,
          0.04559901406932659,
          -0.5280040625449804,
          0.9060036289907871,
          -0.5280040625449804,
          -0.2412025242378269,
          -0.7431052162753455,
          0.47580132153005683,
          -0.38460329339140364,
          -0.38460329339140364,
          0.04559901406932659,
          -0.42045348567979784,
          -1.9620117540807478,
          1.264505551874729,
          1.479606705605094,
          -0.6714048316985571,
          -0.38460329339140364,
          -0.7431052162753455,
          1.1928051672979405,
          -0.09780175508425015,
          -2.0394481694236792,
          0.9060036289907871,
          -0.8865059854289222,
          0.04559901406932659,
          0.04559901406932659,
          -0.38460329339140364,
          -0.8148056008521339,
          -0.2412025242378269,
          -0.09780175508425015,
          0.9777040135675754,
          -0.2412025242378269,
          -0.38460329339140364,
          1.7664082439122475,
          0.11729939864611497,
          0.7626028598372103,
          -0.5280040625449804,
          -0.16950213966103853,
          0.04559901406932659,
          -0.5280040625449804,
          -0.6714048316985571,
          0.47580132153005683,
          2.268310935949766,
          0.47580132153005683,
          0.11729939864611497,
          -0.9582063700057106,
          -0.09780175508425015,
          1.1569549750095465,
          0.6192020906836336,
          -0.9582063700057106,
          0.9060036289907871,
          0.04559901406932659,
          -0.02610137050746178,
          0.8343032444139987,
          1.1211047827211522,
          1.1211047827211522,
          -1.9620117540807478,
          -0.38460329339140364,
          -0.09780175508425015,
          -0.3129029088146153,
          0.47580132153005683,
          -0.38460329339140364,
          0.7626028598372103,
          0.3324005523764801,
          -1.8903113695039595,
          0.9060036289907871,
          -0.45630367796819205,
          0.9777040135675754,
          -1.029906754582499,
          -0.3129029088146153,
          -0.45630367796819205,
          -0.09780175508425015,
          -0.5280040625449804,
          0.6192020906836336,
          -0.5280040625449804,
          -0.45630367796819205,
          0.7626028598372103,
          -0.02610137050746178,
          1.1211047827211522,
          0.4041009369532685,
          -0.16950213966103853,
          0.04559901406932659,
          2.1966105513729777,
          0.4041009369532685,
          -0.5280040625449804,
          -0.38460329339140364,
          -0.3129029088146153,
          -0.8148056008521339,
          -0.7431052162753455,
          -0.5280040625449804,
          -1.8903113695039595,
          -0.3129029088146153,
          -0.5280040625449804,
          -0.16950213966103853,
          -0.6714048316985571,
          -0.7431052162753455,
          0.9060036289907871,
          -2.033712138657536,
          0.18899978322290334,
          0.4041009369532685,
          -0.16950213966103853,
          -0.8148056008521339,
          -2.033712138657536,
          0.47580132153005683,
          -0.7431052162753455,
          -0.8865059854289222,
          0.47580132153005683,
          -0.5997044471217687,
          -0.09780175508425015,
          -0.45630367796819205,
          -0.38460329339140364,
          -0.5280040625449804,
          0.11729939864611497,
          1.1928051672979405,
          -0.45630367796819205,
          -0.09780175508425015,
          0.6909024752604219,
          -0.2412025242378269,
          -0.5997044471217687,
          -0.09780175508425015,
          -0.6714048316985571,
          0.3324005523764801,
          1.5513070901818824,
          -1.8903113695039595,
          -0.5997044471217687,
          -1.8903113695039595,
          0.9060036289907871,
          -0.16950213966103853,
          0.26070016779969174,
          -0.5280040625449804,
          1.049404398144364,
          0.18899978322290334,
          0.3324005523764801,
          -0.8148056008521339,
          0.04559901406932659,
          -1.3884086774664408,
          -0.5997044471217687,
          -0.02610137050746178,
          -0.09780175508425015,
          -0.8148056008521339,
          1.7664082439122475,
          -0.09780175508425015,
          -0.7431052162753455,
          -0.09780175508425015,
          0.18899978322290334,
          -0.09780175508425015,
          0.26070016779969174,
          0.9060036289907871,
          -0.8865059854289222,
          1.479606705605094,
          -1.1016071391592874,
          -0.5997044471217687,
          -0.38460329339140364,
          2.4834120896801313,
          0.11729939864611497,
          1.1211047827211522,
          -0.6714048316985571,
          -0.3129029088146153,
          -0.09780175508425015,
          -0.02610137050746178,
          -1.8186109849271712,
          -1.1733075237360757,
          0.3324005523764801,
          -1.7469106003503827,
          1.623007474758671,
          0.47580132153005683,
          -0.09780175508425015,
          0.04559901406932659,
          1.4079063210283058,
          -0.38460329339140364,
          -0.02610137050746178,
          2.55511247425692,
          0.8343032444139987,
          1.479606705605094,
          -0.8865059854289222,
          1.3362059364515173,
          0.3324005523764801,
          1.264505551874729,
          1.3362059364515173,
          0.3324005523764801,
          0.6192020906836336,
          -0.5997044471217687,
          1.9098090130658243,
          -0.5280040625449804,
          -2.0516372348017335,
          0.6909024752604219,
          0.6192020906836336,
          0.26070016779969174,
          -0.45630367796819205,
          -0.5280040625449804,
          0.7626028598372103,
          0.3324005523764801,
          -0.02610137050746178,
          -0.5280040625449804,
          -1.9620117540807478,
          -1.4601090620432293,
          0.5475017061068452,
          1.479606705605094,
          2.4117117051033428,
          -0.3129029088146153,
          -1.5318094466200176,
          0.4041009369532685,
          2.053209782219401,
          0.04559901406932659,
          -1.4601090620432293,
          -0.7431052162753455,
          -0.5997044471217687,
          1.838108628489036,
          2.98531478171765,
          -0.5997044471217687,
          -0.2412025242378269,
          1.7664082439122475,
          1.838108628489036,
          -0.3129029088146153,
          -0.38460329339140364,
          -0.8865059854289222,
          -0.5997044471217687,
          -0.5997044471217687,
          0.5475017061068452,
          -0.9582063700057106,
          -0.8148056008521339,
          0.26070016779969174,
          0.5475017061068452,
          -0.09780175508425015,
          -0.2412025242378269,
          -0.02610137050746178,
          2.626812858833708,
          0.47580132153005683,
          1.7664082439122475,
          -0.38460329339140364,
          1.264505551874729,
          0.3324005523764801,
          0.04559901406932659,
          0.47580132153005683,
          0.18899978322290334,
          0.04559901406932659,
          -0.5280040625449804,
          0.4041009369532685,
          1.049404398144364,
          -0.8148056008521339,
          0.7984530521256046,
          1.479606705605094,
          1.4079063210283058,
          0.6909024752604219,
          -0.45630367796819205,
          -1.9620117540807478,
          -0.8865059854289222,
          -0.8865059854289222,
          -0.38460329339140364,
          0.04559901406932659,
          -1.6035098311968061,
          1.1211047827211522,
          0.04559901406932659,
          2.8419140125640734,
          -0.5280040625449804,
          0.47580132153005683,
          -1.4601090620432293,
          -1.3167082928896525,
          0.18899978322290334,
          1.479606705605094,
          2.4834120896801313,
          -0.7431052162753455,
          -0.16950213966103853,
          0.26070016779969174,
          -1.5318094466200176,
          -0.8865059854289222,
          -0.16950213966103853,
          -0.5997044471217687,
          -0.5280040625449804,
          -0.5280040625449804,
          2.3400113205265547,
          1.3362059364515173,
          1.1211047827211522,
          0.6909024752604219,
          0.47580132153005683,
          0.04559901406932659,
          0.7626028598372103,
          -0.09780175508425015,
          0.7626028598372103,
          2.3400113205265547,
          -0.38460329339140364,
          -0.7431052162753455,
          -0.02610137050746178,
          -0.09780175508425015,
          0.18899978322290334,
          2.3400113205265547,
          1.6947078593354592,
          0.47580132153005683,
          -0.5280040625449804,
          -0.9582063700057106,
          -0.7431052162753455,
          0.3324005523764801,
          0.6909024752604219,
          -0.8148056008521339,
          0.18899978322290334,
          -0.3129029088146153,
          0.6909024752604219,
          1.7664082439122475,
          0.47580132153005683,
          -0.9582063700057106,
          -0.8148056008521339,
          1.264505551874729,
          2.1966105513729777,
          -0.5280040625449804,
          -0.5280040625449804,
          0.4041009369532685,
          1.623007474758671,
          1.264505551874729,
          0.7626028598372103,
          0.5475017061068452,
          0.47580132153005683,
          0.11729939864611497,
          1.4079063210283058,
          -0.8148056008521339,
          1.4079063210283058,
          -0.38460329339140364,
          0.9060036289907871,
          0.5475017061068452,
          1.049404398144364,
          0.4041009369532685,
          0.47580132153005683,
          0.04559901406932659,
          -0.16950213966103853,
          -0.5280040625449804,
          0.7626028598372103,
          0.6909024752604219,
          -0.5997044471217687,
          -0.8148056008521339,
          -0.5280040625449804,
          0.4041009369532685,
          -0.38460329339140364,
          0.3324005523764801,
          -0.2412025242378269,
          -1.8186109849271712,
          -0.2412025242378269,
          -0.16950213966103853,
          0.9060036289907871,
          -0.6714048316985571,
          -0.5997044471217687,
          -0.5997044471217687,
          2.268310935949766,
          1.9815093976426128,
          -0.5997044471217687,
          -0.2412025242378269,
          -0.8148056008521339,
          1.5513070901818824,
          0.18899978322290334,
          0.04559901406932659,
          -1.4601090620432293,
          -0.09780175508425015,
          0.18899978322290334,
          0.11729939864611497,
          0.8343032444139987,
          0.5475017061068452,
          -0.6714048316985571,
          -0.38460329339140364,
          -1.9620117540807478,
          0.18899978322290334,
          -2.0516372348017335,
          1.3362059364515173,
          -0.7431052162753455,
          1.9098090130658243,
          -0.5997044471217687,
          -0.45630367796819205,
          -0.45630367796819205,
          -0.8148056008521339,
          -0.5997044471217687,
          -0.9582063700057106,
          -0.8148056008521339,
          -0.38460329339140364,
          -0.16950213966103853,
          0.18899978322290334,
          -0.45630367796819205,
          2.053209782219401,
          1.479606705605094,
          0.7626028598372103,
          1.264505551874729,
          0.47580132153005683,
          -0.6714048316985571,
          0.18899978322290334,
          -0.3129029088146153,
          1.4079063210283058,
          0.9777040135675754,
          1.3362059364515173,
          0.7626028598372103,
          0.11729939864611497,
          2.9136143971408615,
          0.11729939864611497,
          -0.7431052162753455,
          -0.8148056008521339,
          -0.34875310110300944,
          -0.8148056008521339,
          0.9777040135675754,
          0.47580132153005683,
          -0.09780175508425015,
          -0.16950213966103853,
          -0.6714048316985571,
          -1.1016071391592874,
          2.1966105513729777,
          -0.3129029088146153,
          -1.1016071391592874,
          -0.7431052162753455,
          -0.8148056008521339,
          -1.029906754582499,
          0.11729939864611497,
          -1.8186109849271712,
          0.5475017061068452,
          -0.3129029088146153,
          2.1966105513729777,
          1.623007474758671,
          1.049404398144364,
          -0.7431052162753455,
          1.4079063210283058,
          0.9060036289907871,
          -0.8148056008521339,
          0.4041009369532685,
          -0.8148056008521339,
          -0.3129029088146153,
          -0.2412025242378269,
          0.6909024752604219,
          1.1211047827211522,
          0.9060036289907871,
          -0.5280040625449804,
          -1.8186109849271712,
          -0.38460329339140364,
          0.8343032444139987,
          1.3362059364515173,
          -0.02610137050746178,
          1.623007474758671,
          -0.7431052162753455,
          0.6192020906836336,
          -0.16950213966103853,
          0.26070016779969174,
          -1.6752102157735944,
          -0.8865059854289222,
          0.3324005523764801,
          1.479606705605094,
          -0.16950213966103853,
          -0.6714048316985571,
          0.04559901406932659,
          -0.09780175508425015,
          -0.3129029088146153,
          -0.3129029088146153,
          -0.02610137050746178,
          -1.3167082928896525,
          0.8343032444139987,
          -0.45630367796819205,
          -0.45630367796819205,
          -0.061951562795855966,
          1.3362059364515173,
          0.4041009369532685,
          -0.6714048316985571,
          0.18899978322290334,
          1.1211047827211522,
          0.47580132153005683,
          -0.5997044471217687,
          -0.38460329339140364,
          0.11729939864611497,
          2.9136143971408615,
          -0.9582063700057106,
          0.04559901406932659,
          -0.7431052162753455,
          0.11729939864611497,
          -1.8186109849271712,
          -1.6752102157735944,
          0.26070016779969174,
          -0.45630367796819205,
          1.3362059364515173,
          -2.0573732655678763,
          -0.09780175508425015,
          -0.8148056008521339,
          0.3324005523764801,
          0.26070016779969174,
          -0.45630367796819205,
          0.8343032444139987,
          -0.6714048316985571,
          0.47580132153005683,
          -0.9582063700057106,
          1.5513070901818824,
          1.1928051672979405,
          0.08144920635772078,
          -0.09780175508425015,
          0.18899978322290334,
          -0.38460329339140364,
          1.3362059364515173,
          1.9815093976426128,
          -0.02610137050746178,
          1.7664082439122475,
          -0.8148056008521339,
          -0.6714048316985571,
          -1.7469106003503827,
          -0.5280040625449804,
          0.9777040135675754,
          -1.1733075237360757,
          -0.8865059854289222,
          -0.02610137050746178,
          0.4041009369532685,
          -0.3129029088146153,
          -0.3129029088146153,
          -0.8148056008521339,
          -1.5318094466200176,
          -2.033712138657536,
          1.1928051672979405,
          -0.6714048316985571,
          -0.9582063700057106,
          -0.5997044471217687,
          0.9777040135675754,
          -0.3129029088146153,
          0.6909024752604219,
          1.4079063210283058,
          0.11729939864611497,
          0.04559901406932659,
          0.04559901406932659,
          0.3324005523764801,
          0.11729939864611497,
          -1.3167082928896525,
          -2.0752983617120733,
          -0.16950213966103853,
          0.11729939864611497,
          0.6909024752604219,
          -0.8148056008521339,
          0.6909024752604219,
          0.26070016779969174,
          -0.2412025242378269,
          0.6909024752604219,
          0.4041009369532685,
          -1.6752102157735944,
          0.08144920635772078,
          0.6909024752604219,
          -0.45630367796819205,
          0.11729939864611497,
          0.9777040135675754,
          -1.3884086774664408,
          1.623007474758671,
          -0.16950213966103853,
          0.6192020906836336,
          -0.16950213966103853,
          -1.9620117540807478,
          0.47580132153005683,
          -0.45630367796819205,
          -2.033712138657536,
          -0.7431052162753455,
          2.3400113205265547,
          -1.029906754582499,
          -2.0459012040355904,
          0.04559901406932659,
          -0.45630367796819205,
          -0.8148056008521339,
          0.6909024752604219,
          -0.5997044471217687,
          -0.6714048316985571,
          0.18899978322290334,
          -0.02610137050746178,
          -0.6714048316985571,
          -0.9582063700057106,
          0.04559901406932659,
          0.3682507446648743,
          -0.8865059854289222,
          0.9060036289907871,
          -0.8148056008521339,
          0.4041009369532685,
          -0.09780175508425015,
          0.7626028598372103,
          -1.8186109849271712,
          -1.4601090620432293,
          -0.9582063700057106,
          1.049404398144364,
          -0.8148056008521339,
          1.1211047827211522,
          1.5513070901818824,
          -0.38460329339140364,
          0.04559901406932659,
          0.8343032444139987,
          -0.5997044471217687,
          1.3362059364515173,
          -1.1016071391592874,
          -0.38460329339140364,
          0.9060036289907871,
          -0.16950213966103853,
          0.11729939864611497,
          -0.45630367796819205,
          -1.8186109849271712,
          -0.2412025242378269,
          1.264505551874729,
          0.26070016779969174,
          1.264505551874729,
          -0.09780175508425015,
          -1.029906754582499,
          -0.6714048316985571,
          -0.7431052162753455,
          -0.45630367796819205,
          1.9098090130658243,
          -0.3129029088146153,
          0.26070016779969174,
          -0.5280040625449804,
          -0.09780175508425015,
          -0.3129029088146153,
          0.6909024752604219,
          -0.16950213966103853,
          -0.7431052162753455,
          -1.6035098311968061,
          -0.2412025242378269,
          0.18899978322290334
         ],
         "xaxis": "x",
         "yaxis": "y"
        }
       ],
       "layout": {
        "barmode": "relative",
        "legend": {
         "tracegroupgap": 0
        },
        "margin": {
         "t": 60
        },
        "template": {
         "data": {
          "bar": [
           {
            "error_x": {
             "color": "#2a3f5f"
            },
            "error_y": {
             "color": "#2a3f5f"
            },
            "marker": {
             "line": {
              "color": "#E5ECF6",
              "width": 0.5
             },
             "pattern": {
              "fillmode": "overlay",
              "size": 10,
              "solidity": 0.2
             }
            },
            "type": "bar"
           }
          ],
          "barpolar": [
           {
            "marker": {
             "line": {
              "color": "#E5ECF6",
              "width": 0.5
             },
             "pattern": {
              "fillmode": "overlay",
              "size": 10,
              "solidity": 0.2
             }
            },
            "type": "barpolar"
           }
          ],
          "carpet": [
           {
            "aaxis": {
             "endlinecolor": "#2a3f5f",
             "gridcolor": "white",
             "linecolor": "white",
             "minorgridcolor": "white",
             "startlinecolor": "#2a3f5f"
            },
            "baxis": {
             "endlinecolor": "#2a3f5f",
             "gridcolor": "white",
             "linecolor": "white",
             "minorgridcolor": "white",
             "startlinecolor": "#2a3f5f"
            },
            "type": "carpet"
           }
          ],
          "choropleth": [
           {
            "colorbar": {
             "outlinewidth": 0,
             "ticks": ""
            },
            "type": "choropleth"
           }
          ],
          "contour": [
           {
            "colorbar": {
             "outlinewidth": 0,
             "ticks": ""
            },
            "colorscale": [
             [
              0,
              "#0d0887"
             ],
             [
              0.1111111111111111,
              "#46039f"
             ],
             [
              0.2222222222222222,
              "#7201a8"
             ],
             [
              0.3333333333333333,
              "#9c179e"
             ],
             [
              0.4444444444444444,
              "#bd3786"
             ],
             [
              0.5555555555555556,
              "#d8576b"
             ],
             [
              0.6666666666666666,
              "#ed7953"
             ],
             [
              0.7777777777777778,
              "#fb9f3a"
             ],
             [
              0.8888888888888888,
              "#fdca26"
             ],
             [
              1,
              "#f0f921"
             ]
            ],
            "type": "contour"
           }
          ],
          "contourcarpet": [
           {
            "colorbar": {
             "outlinewidth": 0,
             "ticks": ""
            },
            "type": "contourcarpet"
           }
          ],
          "heatmap": [
           {
            "colorbar": {
             "outlinewidth": 0,
             "ticks": ""
            },
            "colorscale": [
             [
              0,
              "#0d0887"
             ],
             [
              0.1111111111111111,
              "#46039f"
             ],
             [
              0.2222222222222222,
              "#7201a8"
             ],
             [
              0.3333333333333333,
              "#9c179e"
             ],
             [
              0.4444444444444444,
              "#bd3786"
             ],
             [
              0.5555555555555556,
              "#d8576b"
             ],
             [
              0.6666666666666666,
              "#ed7953"
             ],
             [
              0.7777777777777778,
              "#fb9f3a"
             ],
             [
              0.8888888888888888,
              "#fdca26"
             ],
             [
              1,
              "#f0f921"
             ]
            ],
            "type": "heatmap"
           }
          ],
          "heatmapgl": [
           {
            "colorbar": {
             "outlinewidth": 0,
             "ticks": ""
            },
            "colorscale": [
             [
              0,
              "#0d0887"
             ],
             [
              0.1111111111111111,
              "#46039f"
             ],
             [
              0.2222222222222222,
              "#7201a8"
             ],
             [
              0.3333333333333333,
              "#9c179e"
             ],
             [
              0.4444444444444444,
              "#bd3786"
             ],
             [
              0.5555555555555556,
              "#d8576b"
             ],
             [
              0.6666666666666666,
              "#ed7953"
             ],
             [
              0.7777777777777778,
              "#fb9f3a"
             ],
             [
              0.8888888888888888,
              "#fdca26"
             ],
             [
              1,
              "#f0f921"
             ]
            ],
            "type": "heatmapgl"
           }
          ],
          "histogram": [
           {
            "marker": {
             "pattern": {
              "fillmode": "overlay",
              "size": 10,
              "solidity": 0.2
             }
            },
            "type": "histogram"
           }
          ],
          "histogram2d": [
           {
            "colorbar": {
             "outlinewidth": 0,
             "ticks": ""
            },
            "colorscale": [
             [
              0,
              "#0d0887"
             ],
             [
              0.1111111111111111,
              "#46039f"
             ],
             [
              0.2222222222222222,
              "#7201a8"
             ],
             [
              0.3333333333333333,
              "#9c179e"
             ],
             [
              0.4444444444444444,
              "#bd3786"
             ],
             [
              0.5555555555555556,
              "#d8576b"
             ],
             [
              0.6666666666666666,
              "#ed7953"
             ],
             [
              0.7777777777777778,
              "#fb9f3a"
             ],
             [
              0.8888888888888888,
              "#fdca26"
             ],
             [
              1,
              "#f0f921"
             ]
            ],
            "type": "histogram2d"
           }
          ],
          "histogram2dcontour": [
           {
            "colorbar": {
             "outlinewidth": 0,
             "ticks": ""
            },
            "colorscale": [
             [
              0,
              "#0d0887"
             ],
             [
              0.1111111111111111,
              "#46039f"
             ],
             [
              0.2222222222222222,
              "#7201a8"
             ],
             [
              0.3333333333333333,
              "#9c179e"
             ],
             [
              0.4444444444444444,
              "#bd3786"
             ],
             [
              0.5555555555555556,
              "#d8576b"
             ],
             [
              0.6666666666666666,
              "#ed7953"
             ],
             [
              0.7777777777777778,
              "#fb9f3a"
             ],
             [
              0.8888888888888888,
              "#fdca26"
             ],
             [
              1,
              "#f0f921"
             ]
            ],
            "type": "histogram2dcontour"
           }
          ],
          "mesh3d": [
           {
            "colorbar": {
             "outlinewidth": 0,
             "ticks": ""
            },
            "type": "mesh3d"
           }
          ],
          "parcoords": [
           {
            "line": {
             "colorbar": {
              "outlinewidth": 0,
              "ticks": ""
             }
            },
            "type": "parcoords"
           }
          ],
          "pie": [
           {
            "automargin": true,
            "type": "pie"
           }
          ],
          "scatter": [
           {
            "fillpattern": {
             "fillmode": "overlay",
             "size": 10,
             "solidity": 0.2
            },
            "type": "scatter"
           }
          ],
          "scatter3d": [
           {
            "line": {
             "colorbar": {
              "outlinewidth": 0,
              "ticks": ""
             }
            },
            "marker": {
             "colorbar": {
              "outlinewidth": 0,
              "ticks": ""
             }
            },
            "type": "scatter3d"
           }
          ],
          "scattercarpet": [
           {
            "marker": {
             "colorbar": {
              "outlinewidth": 0,
              "ticks": ""
             }
            },
            "type": "scattercarpet"
           }
          ],
          "scattergeo": [
           {
            "marker": {
             "colorbar": {
              "outlinewidth": 0,
              "ticks": ""
             }
            },
            "type": "scattergeo"
           }
          ],
          "scattergl": [
           {
            "marker": {
             "colorbar": {
              "outlinewidth": 0,
              "ticks": ""
             }
            },
            "type": "scattergl"
           }
          ],
          "scattermapbox": [
           {
            "marker": {
             "colorbar": {
              "outlinewidth": 0,
              "ticks": ""
             }
            },
            "type": "scattermapbox"
           }
          ],
          "scatterpolar": [
           {
            "marker": {
             "colorbar": {
              "outlinewidth": 0,
              "ticks": ""
             }
            },
            "type": "scatterpolar"
           }
          ],
          "scatterpolargl": [
           {
            "marker": {
             "colorbar": {
              "outlinewidth": 0,
              "ticks": ""
             }
            },
            "type": "scatterpolargl"
           }
          ],
          "scatterternary": [
           {
            "marker": {
             "colorbar": {
              "outlinewidth": 0,
              "ticks": ""
             }
            },
            "type": "scatterternary"
           }
          ],
          "surface": [
           {
            "colorbar": {
             "outlinewidth": 0,
             "ticks": ""
            },
            "colorscale": [
             [
              0,
              "#0d0887"
             ],
             [
              0.1111111111111111,
              "#46039f"
             ],
             [
              0.2222222222222222,
              "#7201a8"
             ],
             [
              0.3333333333333333,
              "#9c179e"
             ],
             [
              0.4444444444444444,
              "#bd3786"
             ],
             [
              0.5555555555555556,
              "#d8576b"
             ],
             [
              0.6666666666666666,
              "#ed7953"
             ],
             [
              0.7777777777777778,
              "#fb9f3a"
             ],
             [
              0.8888888888888888,
              "#fdca26"
             ],
             [
              1,
              "#f0f921"
             ]
            ],
            "type": "surface"
           }
          ],
          "table": [
           {
            "cells": {
             "fill": {
              "color": "#EBF0F8"
             },
             "line": {
              "color": "white"
             }
            },
            "header": {
             "fill": {
              "color": "#C8D4E3"
             },
             "line": {
              "color": "white"
             }
            },
            "type": "table"
           }
          ]
         },
         "layout": {
          "annotationdefaults": {
           "arrowcolor": "#2a3f5f",
           "arrowhead": 0,
           "arrowwidth": 1
          },
          "autotypenumbers": "strict",
          "coloraxis": {
           "colorbar": {
            "outlinewidth": 0,
            "ticks": ""
           }
          },
          "colorscale": {
           "diverging": [
            [
             0,
             "#8e0152"
            ],
            [
             0.1,
             "#c51b7d"
            ],
            [
             0.2,
             "#de77ae"
            ],
            [
             0.3,
             "#f1b6da"
            ],
            [
             0.4,
             "#fde0ef"
            ],
            [
             0.5,
             "#f7f7f7"
            ],
            [
             0.6,
             "#e6f5d0"
            ],
            [
             0.7,
             "#b8e186"
            ],
            [
             0.8,
             "#7fbc41"
            ],
            [
             0.9,
             "#4d9221"
            ],
            [
             1,
             "#276419"
            ]
           ],
           "sequential": [
            [
             0,
             "#0d0887"
            ],
            [
             0.1111111111111111,
             "#46039f"
            ],
            [
             0.2222222222222222,
             "#7201a8"
            ],
            [
             0.3333333333333333,
             "#9c179e"
            ],
            [
             0.4444444444444444,
             "#bd3786"
            ],
            [
             0.5555555555555556,
             "#d8576b"
            ],
            [
             0.6666666666666666,
             "#ed7953"
            ],
            [
             0.7777777777777778,
             "#fb9f3a"
            ],
            [
             0.8888888888888888,
             "#fdca26"
            ],
            [
             1,
             "#f0f921"
            ]
           ],
           "sequentialminus": [
            [
             0,
             "#0d0887"
            ],
            [
             0.1111111111111111,
             "#46039f"
            ],
            [
             0.2222222222222222,
             "#7201a8"
            ],
            [
             0.3333333333333333,
             "#9c179e"
            ],
            [
             0.4444444444444444,
             "#bd3786"
            ],
            [
             0.5555555555555556,
             "#d8576b"
            ],
            [
             0.6666666666666666,
             "#ed7953"
            ],
            [
             0.7777777777777778,
             "#fb9f3a"
            ],
            [
             0.8888888888888888,
             "#fdca26"
            ],
            [
             1,
             "#f0f921"
            ]
           ]
          },
          "colorway": [
           "#636efa",
           "#EF553B",
           "#00cc96",
           "#ab63fa",
           "#FFA15A",
           "#19d3f3",
           "#FF6692",
           "#B6E880",
           "#FF97FF",
           "#FECB52"
          ],
          "font": {
           "color": "#2a3f5f"
          },
          "geo": {
           "bgcolor": "white",
           "lakecolor": "white",
           "landcolor": "#E5ECF6",
           "showlakes": true,
           "showland": true,
           "subunitcolor": "white"
          },
          "hoverlabel": {
           "align": "left"
          },
          "hovermode": "closest",
          "mapbox": {
           "style": "light"
          },
          "paper_bgcolor": "white",
          "plot_bgcolor": "#E5ECF6",
          "polar": {
           "angularaxis": {
            "gridcolor": "white",
            "linecolor": "white",
            "ticks": ""
           },
           "bgcolor": "#E5ECF6",
           "radialaxis": {
            "gridcolor": "white",
            "linecolor": "white",
            "ticks": ""
           }
          },
          "scene": {
           "xaxis": {
            "backgroundcolor": "#E5ECF6",
            "gridcolor": "white",
            "gridwidth": 2,
            "linecolor": "white",
            "showbackground": true,
            "ticks": "",
            "zerolinecolor": "white"
           },
           "yaxis": {
            "backgroundcolor": "#E5ECF6",
            "gridcolor": "white",
            "gridwidth": 2,
            "linecolor": "white",
            "showbackground": true,
            "ticks": "",
            "zerolinecolor": "white"
           },
           "zaxis": {
            "backgroundcolor": "#E5ECF6",
            "gridcolor": "white",
            "gridwidth": 2,
            "linecolor": "white",
            "showbackground": true,
            "ticks": "",
            "zerolinecolor": "white"
           }
          },
          "shapedefaults": {
           "line": {
            "color": "#2a3f5f"
           }
          },
          "ternary": {
           "aaxis": {
            "gridcolor": "white",
            "linecolor": "white",
            "ticks": ""
           },
           "baxis": {
            "gridcolor": "white",
            "linecolor": "white",
            "ticks": ""
           },
           "bgcolor": "#E5ECF6",
           "caxis": {
            "gridcolor": "white",
            "linecolor": "white",
            "ticks": ""
           }
          },
          "title": {
           "x": 0.05
          },
          "xaxis": {
           "automargin": true,
           "gridcolor": "white",
           "linecolor": "white",
           "ticks": "",
           "title": {
            "standoff": 15
           },
           "zerolinecolor": "white",
           "zerolinewidth": 2
          },
          "yaxis": {
           "automargin": true,
           "gridcolor": "white",
           "linecolor": "white",
           "ticks": "",
           "title": {
            "standoff": 15
           },
           "zerolinecolor": "white",
           "zerolinewidth": 2
          }
         }
        },
        "xaxis": {
         "anchor": "y",
         "domain": [
          0,
          1
         ],
         "title": {
          "text": "Age"
         }
        },
        "yaxis": {
         "anchor": "x",
         "domain": [
          0,
          1
         ],
         "title": {
          "text": "count"
         }
        }
       }
      }
     },
     "metadata": {},
     "output_type": "display_data"
    }
   ],
   "source": [
    "fig = px.histogram(data, x=\"Age\")\n",
    "fig.show()"
   ]
  },
  {
   "attachments": {},
   "cell_type": "markdown",
   "metadata": {},
   "source": [
    "### Fare"
   ]
  },
  {
   "cell_type": "code",
   "execution_count": 82,
   "metadata": {},
   "outputs": [
    {
     "data": {
      "application/vnd.plotly.v1+json": {
       "config": {
        "plotlyServerURL": "https://plot.ly"
       },
       "data": [
        {
         "alignmentgroup": "True",
         "bingroup": "x",
         "hovertemplate": "Fare=%{x}<br>count=%{y}<extra></extra>",
         "legendgroup": "",
         "marker": {
          "color": "#636efa",
          "pattern": {
           "shape": ""
          }
         },
         "name": "",
         "offsetgroup": "",
         "orientation": "v",
         "showlegend": false,
         "type": "histogram",
         "x": [
          7.25,
          71.2833,
          7.925,
          53.1,
          8.05,
          8.4583,
          51.8625,
          21.075,
          11.1333,
          30.0708,
          16.7,
          26.55,
          8.05,
          31.275,
          7.8542,
          16,
          29.125,
          13,
          18,
          7.225,
          26,
          13,
          8.0292,
          35.5,
          21.075,
          31.3875,
          7.225,
          263,
          7.8792,
          7.8958,
          27.7208,
          146.5208,
          7.75,
          10.5,
          82.1708,
          52,
          7.2292,
          8.05,
          18,
          11.2417,
          9.475,
          21,
          41.5792,
          7.8792,
          8.05,
          15.5,
          7.75,
          21.6792,
          17.8,
          39.6875,
          7.8,
          76.7292,
          26,
          61.9792,
          35.5,
          10.5,
          7.2292,
          27.75,
          46.9,
          7.2292,
          80,
          83.475,
          27.9,
          27.7208,
          15.2458,
          10.5,
          8.1583,
          7.925,
          8.6625,
          10.5,
          46.9,
          73.5,
          14.4542,
          56.4958,
          7.65,
          7.8958,
          8.05,
          29,
          12.475,
          9,
          9.5,
          7.7875,
          47.1,
          10.5,
          15.85,
          34.375,
          8.05,
          263,
          8.05,
          8.05,
          7.8542,
          61.175,
          20.575,
          7.25,
          8.05,
          34.6542,
          63.3583,
          23,
          26,
          7.8958,
          7.8958,
          77.2875,
          8.6542,
          7.925,
          7.8958,
          7.65,
          7.775,
          7.8958,
          24.15,
          52,
          14.4542,
          8.05,
          9.825,
          14.4583,
          7.925,
          7.75,
          21,
          247.5208,
          31.275,
          73.5,
          8.05,
          30.0708,
          13,
          77.2875,
          11.2417,
          7.75,
          7.1417,
          22.3583,
          6.975,
          7.8958,
          7.05,
          14.5,
          26,
          13,
          15.0458,
          26.2833,
          53.1,
          9.2167,
          79.2,
          15.2458,
          7.75,
          15.85,
          6.75,
          11.5,
          36.75,
          7.7958,
          34.375,
          26,
          13,
          12.525,
          66.6,
          8.05,
          14.5,
          7.3125,
          61.3792,
          7.7333,
          8.05,
          8.6625,
          69.55,
          16.1,
          15.75,
          7.775,
          8.6625,
          39.6875,
          20.525,
          55,
          27.9,
          25.925,
          56.4958,
          33.5,
          29.125,
          11.1333,
          7.925,
          30.6958,
          7.8542,
          25.4667,
          28.7125,
          13,
          0,
          69.55,
          15.05,
          31.3875,
          39,
          22.025,
          50,
          15.5,
          26.55,
          15.5,
          7.8958,
          13,
          13,
          7.8542,
          26,
          27.7208,
          146.5208,
          7.75,
          8.4042,
          7.75,
          13,
          9.5,
          69.55,
          6.4958,
          7.225,
          8.05,
          10.4625,
          15.85,
          18.7875,
          7.75,
          31,
          7.05,
          21,
          7.25,
          13,
          7.75,
          113.275,
          7.925,
          27,
          76.2917,
          10.5,
          8.05,
          13,
          8.05,
          7.8958,
          90,
          9.35,
          10.5,
          7.25,
          13,
          25.4667,
          83.475,
          7.775,
          13.5,
          31.3875,
          10.5,
          7.55,
          26,
          26.25,
          10.5,
          12.275,
          14.4542,
          15.5,
          10.5,
          7.125,
          7.225,
          90,
          7.775,
          14.5,
          52.5542,
          26,
          7.25,
          10.4625,
          26.55,
          16.1,
          20.2125,
          15.2458,
          79.2,
          86.5,
          512.3292,
          26,
          31.3875,
          79.65,
          0,
          7.75,
          10.5,
          39.6875,
          7.775,
          153.4625,
          135.6333,
          31,
          0,
          19.5,
          29.7,
          7.75,
          77.9583,
          7.75,
          0,
          29.125,
          20.25,
          7.75,
          7.8542,
          9.5,
          8.05,
          26,
          8.6625,
          9.5,
          7.8958,
          13,
          7.75,
          78.85,
          91.0792,
          12.875,
          8.85,
          7.8958,
          27.7208,
          7.2292,
          151.55,
          30.5,
          247.5208,
          7.75,
          23.25,
          0,
          12.35,
          8.05,
          151.55,
          110.8833,
          108.9,
          24,
          56.9292,
          83.1583,
          262.375,
          26,
          7.8958,
          26.25,
          7.8542,
          26,
          14,
          164.8667,
          134.5,
          7.25,
          7.8958,
          12.35,
          29,
          69.55,
          135.6333,
          6.2375,
          13,
          20.525,
          57.9792,
          23.25,
          28.5,
          153.4625,
          18,
          133.65,
          7.8958,
          66.6,
          134.5,
          8.05,
          35.5,
          26,
          263,
          13,
          13,
          13,
          13,
          13,
          16.1,
          15.9,
          8.6625,
          9.225,
          35,
          7.2292,
          17.8,
          7.225,
          9.5,
          55,
          13,
          7.8792,
          7.8792,
          27.9,
          27.7208,
          14.4542,
          7.05,
          15.5,
          7.25,
          75.25,
          7.2292,
          7.75,
          69.3,
          55.4417,
          6.4958,
          8.05,
          135.6333,
          21.075,
          82.1708,
          7.25,
          211.5,
          4.0125,
          7.775,
          227.525,
          15.7417,
          7.925,
          52,
          7.8958,
          73.5,
          46.9,
          13,
          7.7292,
          12,
          120,
          7.7958,
          7.925,
          113.275,
          16.7,
          7.7958,
          7.8542,
          26,
          10.5,
          12.65,
          7.925,
          8.05,
          9.825,
          15.85,
          8.6625,
          21,
          7.75,
          18.75,
          7.775,
          25.4667,
          7.8958,
          6.8583,
          90,
          0,
          7.925,
          8.05,
          32.5,
          13,
          13,
          24.15,
          7.7333,
          7.875,
          14.4,
          20.2125,
          7.25,
          26,
          26,
          7.75,
          8.05,
          26.55,
          16.1,
          26,
          7.125,
          55.9,
          120,
          34.375,
          18.75,
          263,
          10.5,
          26.25,
          9.5,
          7.775,
          13,
          8.1125,
          81.8583,
          19.5,
          26.55,
          19.2583,
          30.5,
          27.75,
          19.9667,
          27.75,
          89.1042,
          8.05,
          7.8958,
          26.55,
          51.8625,
          10.5,
          7.75,
          26.55,
          8.05,
          38.5,
          13,
          8.05,
          7.05,
          0,
          26.55,
          7.725,
          19.2583,
          7.25,
          8.6625,
          27.75,
          13.7917,
          9.8375,
          52,
          21,
          7.0458,
          7.5208,
          12.2875,
          46.9,
          0,
          8.05,
          9.5875,
          91.0792,
          25.4667,
          90,
          29.7,
          8.05,
          15.9,
          19.9667,
          7.25,
          30.5,
          49.5042,
          8.05,
          14.4583,
          78.2667,
          15.1,
          151.55,
          7.7958,
          8.6625,
          7.75,
          7.6292,
          9.5875,
          86.5,
          108.9,
          26,
          26.55,
          22.525,
          56.4958,
          7.75,
          8.05,
          26.2875,
          59.4,
          7.4958,
          34.0208,
          10.5,
          24.15,
          26,
          7.8958,
          93.5,
          7.8958,
          7.225,
          57.9792,
          7.2292,
          7.75,
          10.5,
          221.7792,
          7.925,
          11.5,
          26,
          7.2292,
          7.2292,
          22.3583,
          8.6625,
          26.25,
          26.55,
          106.425,
          14.5,
          49.5,
          71,
          31.275,
          31.275,
          26,
          106.425,
          26,
          26,
          13.8625,
          20.525,
          36.75,
          110.8833,
          26,
          7.8292,
          7.225,
          7.775,
          26.55,
          39.6,
          227.525,
          79.65,
          17.4,
          7.75,
          7.8958,
          13.5,
          8.05,
          8.05,
          24.15,
          7.8958,
          21.075,
          7.2292,
          7.8542,
          10.5,
          51.4792,
          26.3875,
          7.75,
          8.05,
          14.5,
          13,
          55.9,
          14.4583,
          7.925,
          30,
          110.8833,
          26,
          40.125,
          8.7125,
          79.65,
          15,
          79.2,
          8.05,
          8.05,
          7.125,
          78.2667,
          7.25,
          7.75,
          26,
          24.15,
          33,
          0,
          7.225,
          56.9292,
          27,
          7.8958,
          42.4,
          8.05,
          26.55,
          15.55,
          7.8958,
          30.5,
          41.5792,
          153.4625,
          31.275,
          7.05,
          15.5,
          7.75,
          8.05,
          65,
          14.4,
          16.1,
          39,
          10.5,
          14.4542,
          52.5542,
          15.7417,
          7.8542,
          16.1,
          32.3208,
          12.35,
          77.9583,
          7.8958,
          7.7333,
          7.0542,
          30.5,
          0,
          27.9,
          13,
          7.925,
          26.25,
          39.6875,
          16.1,
          7.8542,
          69.3,
          27.9,
          56.4958,
          19.2583,
          76.7292,
          7.8958,
          35.5,
          7.55,
          7.55,
          7.8958,
          23,
          8.4333,
          7.8292,
          6.75,
          73.5,
          7.8958,
          15.5,
          13,
          113.275,
          133.65,
          7.225,
          25.5875,
          7.4958,
          7.925,
          73.5,
          13,
          7.775,
          8.05,
          52,
          39,
          52,
          10.5,
          13,
          0,
          7.775,
          8.05,
          9.8417,
          46.9,
          512.3292,
          8.1375,
          76.7292,
          9.225,
          46.9,
          39,
          41.5792,
          39.6875,
          10.1708,
          7.7958,
          211.3375,
          57,
          13.4167,
          56.4958,
          7.225,
          26.55,
          13.5,
          8.05,
          7.7333,
          110.8833,
          7.65,
          227.525,
          26.2875,
          14.4542,
          7.7417,
          7.8542,
          26,
          13.5,
          26.2875,
          151.55,
          15.2458,
          49.5042,
          26.55,
          52,
          9.4833,
          13,
          7.65,
          227.525,
          10.5,
          7.775,
          33,
          7.0542,
          13,
          13,
          53.1,
          8.6625,
          21,
          7.7375,
          26,
          7.925,
          211.3375,
          18.7875,
          0,
          13,
          13,
          16.1,
          34.375,
          512.3292,
          7.8958,
          7.8958,
          30,
          78.85,
          262.375,
          16.1,
          7.925,
          71,
          20.25,
          13,
          53.1,
          7.75,
          23,
          12.475,
          9.5,
          7.8958,
          65,
          14.5,
          7.7958,
          11.5,
          8.05,
          86.5,
          14.5,
          7.125,
          7.2292,
          120,
          7.775,
          77.9583,
          39.6,
          7.75,
          24.15,
          8.3625,
          9.5,
          7.8542,
          10.5,
          7.225,
          23,
          7.75,
          7.75,
          12.475,
          7.7375,
          211.3375,
          7.2292,
          57,
          30,
          23.45,
          7.05,
          7.25,
          7.4958,
          29.125,
          20.575,
          79.2,
          7.75,
          26,
          69.55,
          30.6958,
          7.8958,
          13,
          25.9292,
          8.6833,
          7.2292,
          24.15,
          13,
          26.25,
          120,
          8.5167,
          6.975,
          7.775,
          0,
          7.775,
          13,
          53.1,
          7.8875,
          24.15,
          10.5,
          31.275,
          8.05,
          0,
          7.925,
          37.0042,
          6.45,
          27.9,
          93.5,
          8.6625,
          0,
          12.475,
          39.6875,
          6.95,
          56.4958,
          37.0042,
          7.75,
          80,
          14.4542,
          18.75,
          7.2292,
          7.8542,
          8.3,
          83.1583,
          8.6625,
          8.05,
          56.4958,
          29.7,
          7.925,
          10.5,
          31,
          6.4375,
          8.6625,
          7.55,
          69.55,
          7.8958,
          33,
          89.1042,
          31.275,
          15.2458,
          39.4,
          26,
          9.35,
          164.8667,
          26.55,
          19.2583,
          7.2292,
          14.1083,
          11.5,
          25.9292,
          69.55,
          13,
          13,
          13.8583,
          50.4958,
          9.5,
          11.1333,
          7.8958,
          52.5542,
          5,
          9,
          24,
          7.225,
          9.8458,
          7.8958,
          7.8958,
          83.1583,
          26,
          7.8958,
          10.5167,
          10.5,
          7.05,
          29.125,
          13,
          30,
          23.45,
          30,
          7.75
         ],
         "xaxis": "x",
         "yaxis": "y"
        }
       ],
       "layout": {
        "barmode": "relative",
        "legend": {
         "tracegroupgap": 0
        },
        "margin": {
         "t": 60
        },
        "template": {
         "data": {
          "bar": [
           {
            "error_x": {
             "color": "#2a3f5f"
            },
            "error_y": {
             "color": "#2a3f5f"
            },
            "marker": {
             "line": {
              "color": "#E5ECF6",
              "width": 0.5
             },
             "pattern": {
              "fillmode": "overlay",
              "size": 10,
              "solidity": 0.2
             }
            },
            "type": "bar"
           }
          ],
          "barpolar": [
           {
            "marker": {
             "line": {
              "color": "#E5ECF6",
              "width": 0.5
             },
             "pattern": {
              "fillmode": "overlay",
              "size": 10,
              "solidity": 0.2
             }
            },
            "type": "barpolar"
           }
          ],
          "carpet": [
           {
            "aaxis": {
             "endlinecolor": "#2a3f5f",
             "gridcolor": "white",
             "linecolor": "white",
             "minorgridcolor": "white",
             "startlinecolor": "#2a3f5f"
            },
            "baxis": {
             "endlinecolor": "#2a3f5f",
             "gridcolor": "white",
             "linecolor": "white",
             "minorgridcolor": "white",
             "startlinecolor": "#2a3f5f"
            },
            "type": "carpet"
           }
          ],
          "choropleth": [
           {
            "colorbar": {
             "outlinewidth": 0,
             "ticks": ""
            },
            "type": "choropleth"
           }
          ],
          "contour": [
           {
            "colorbar": {
             "outlinewidth": 0,
             "ticks": ""
            },
            "colorscale": [
             [
              0,
              "#0d0887"
             ],
             [
              0.1111111111111111,
              "#46039f"
             ],
             [
              0.2222222222222222,
              "#7201a8"
             ],
             [
              0.3333333333333333,
              "#9c179e"
             ],
             [
              0.4444444444444444,
              "#bd3786"
             ],
             [
              0.5555555555555556,
              "#d8576b"
             ],
             [
              0.6666666666666666,
              "#ed7953"
             ],
             [
              0.7777777777777778,
              "#fb9f3a"
             ],
             [
              0.8888888888888888,
              "#fdca26"
             ],
             [
              1,
              "#f0f921"
             ]
            ],
            "type": "contour"
           }
          ],
          "contourcarpet": [
           {
            "colorbar": {
             "outlinewidth": 0,
             "ticks": ""
            },
            "type": "contourcarpet"
           }
          ],
          "heatmap": [
           {
            "colorbar": {
             "outlinewidth": 0,
             "ticks": ""
            },
            "colorscale": [
             [
              0,
              "#0d0887"
             ],
             [
              0.1111111111111111,
              "#46039f"
             ],
             [
              0.2222222222222222,
              "#7201a8"
             ],
             [
              0.3333333333333333,
              "#9c179e"
             ],
             [
              0.4444444444444444,
              "#bd3786"
             ],
             [
              0.5555555555555556,
              "#d8576b"
             ],
             [
              0.6666666666666666,
              "#ed7953"
             ],
             [
              0.7777777777777778,
              "#fb9f3a"
             ],
             [
              0.8888888888888888,
              "#fdca26"
             ],
             [
              1,
              "#f0f921"
             ]
            ],
            "type": "heatmap"
           }
          ],
          "heatmapgl": [
           {
            "colorbar": {
             "outlinewidth": 0,
             "ticks": ""
            },
            "colorscale": [
             [
              0,
              "#0d0887"
             ],
             [
              0.1111111111111111,
              "#46039f"
             ],
             [
              0.2222222222222222,
              "#7201a8"
             ],
             [
              0.3333333333333333,
              "#9c179e"
             ],
             [
              0.4444444444444444,
              "#bd3786"
             ],
             [
              0.5555555555555556,
              "#d8576b"
             ],
             [
              0.6666666666666666,
              "#ed7953"
             ],
             [
              0.7777777777777778,
              "#fb9f3a"
             ],
             [
              0.8888888888888888,
              "#fdca26"
             ],
             [
              1,
              "#f0f921"
             ]
            ],
            "type": "heatmapgl"
           }
          ],
          "histogram": [
           {
            "marker": {
             "pattern": {
              "fillmode": "overlay",
              "size": 10,
              "solidity": 0.2
             }
            },
            "type": "histogram"
           }
          ],
          "histogram2d": [
           {
            "colorbar": {
             "outlinewidth": 0,
             "ticks": ""
            },
            "colorscale": [
             [
              0,
              "#0d0887"
             ],
             [
              0.1111111111111111,
              "#46039f"
             ],
             [
              0.2222222222222222,
              "#7201a8"
             ],
             [
              0.3333333333333333,
              "#9c179e"
             ],
             [
              0.4444444444444444,
              "#bd3786"
             ],
             [
              0.5555555555555556,
              "#d8576b"
             ],
             [
              0.6666666666666666,
              "#ed7953"
             ],
             [
              0.7777777777777778,
              "#fb9f3a"
             ],
             [
              0.8888888888888888,
              "#fdca26"
             ],
             [
              1,
              "#f0f921"
             ]
            ],
            "type": "histogram2d"
           }
          ],
          "histogram2dcontour": [
           {
            "colorbar": {
             "outlinewidth": 0,
             "ticks": ""
            },
            "colorscale": [
             [
              0,
              "#0d0887"
             ],
             [
              0.1111111111111111,
              "#46039f"
             ],
             [
              0.2222222222222222,
              "#7201a8"
             ],
             [
              0.3333333333333333,
              "#9c179e"
             ],
             [
              0.4444444444444444,
              "#bd3786"
             ],
             [
              0.5555555555555556,
              "#d8576b"
             ],
             [
              0.6666666666666666,
              "#ed7953"
             ],
             [
              0.7777777777777778,
              "#fb9f3a"
             ],
             [
              0.8888888888888888,
              "#fdca26"
             ],
             [
              1,
              "#f0f921"
             ]
            ],
            "type": "histogram2dcontour"
           }
          ],
          "mesh3d": [
           {
            "colorbar": {
             "outlinewidth": 0,
             "ticks": ""
            },
            "type": "mesh3d"
           }
          ],
          "parcoords": [
           {
            "line": {
             "colorbar": {
              "outlinewidth": 0,
              "ticks": ""
             }
            },
            "type": "parcoords"
           }
          ],
          "pie": [
           {
            "automargin": true,
            "type": "pie"
           }
          ],
          "scatter": [
           {
            "fillpattern": {
             "fillmode": "overlay",
             "size": 10,
             "solidity": 0.2
            },
            "type": "scatter"
           }
          ],
          "scatter3d": [
           {
            "line": {
             "colorbar": {
              "outlinewidth": 0,
              "ticks": ""
             }
            },
            "marker": {
             "colorbar": {
              "outlinewidth": 0,
              "ticks": ""
             }
            },
            "type": "scatter3d"
           }
          ],
          "scattercarpet": [
           {
            "marker": {
             "colorbar": {
              "outlinewidth": 0,
              "ticks": ""
             }
            },
            "type": "scattercarpet"
           }
          ],
          "scattergeo": [
           {
            "marker": {
             "colorbar": {
              "outlinewidth": 0,
              "ticks": ""
             }
            },
            "type": "scattergeo"
           }
          ],
          "scattergl": [
           {
            "marker": {
             "colorbar": {
              "outlinewidth": 0,
              "ticks": ""
             }
            },
            "type": "scattergl"
           }
          ],
          "scattermapbox": [
           {
            "marker": {
             "colorbar": {
              "outlinewidth": 0,
              "ticks": ""
             }
            },
            "type": "scattermapbox"
           }
          ],
          "scatterpolar": [
           {
            "marker": {
             "colorbar": {
              "outlinewidth": 0,
              "ticks": ""
             }
            },
            "type": "scatterpolar"
           }
          ],
          "scatterpolargl": [
           {
            "marker": {
             "colorbar": {
              "outlinewidth": 0,
              "ticks": ""
             }
            },
            "type": "scatterpolargl"
           }
          ],
          "scatterternary": [
           {
            "marker": {
             "colorbar": {
              "outlinewidth": 0,
              "ticks": ""
             }
            },
            "type": "scatterternary"
           }
          ],
          "surface": [
           {
            "colorbar": {
             "outlinewidth": 0,
             "ticks": ""
            },
            "colorscale": [
             [
              0,
              "#0d0887"
             ],
             [
              0.1111111111111111,
              "#46039f"
             ],
             [
              0.2222222222222222,
              "#7201a8"
             ],
             [
              0.3333333333333333,
              "#9c179e"
             ],
             [
              0.4444444444444444,
              "#bd3786"
             ],
             [
              0.5555555555555556,
              "#d8576b"
             ],
             [
              0.6666666666666666,
              "#ed7953"
             ],
             [
              0.7777777777777778,
              "#fb9f3a"
             ],
             [
              0.8888888888888888,
              "#fdca26"
             ],
             [
              1,
              "#f0f921"
             ]
            ],
            "type": "surface"
           }
          ],
          "table": [
           {
            "cells": {
             "fill": {
              "color": "#EBF0F8"
             },
             "line": {
              "color": "white"
             }
            },
            "header": {
             "fill": {
              "color": "#C8D4E3"
             },
             "line": {
              "color": "white"
             }
            },
            "type": "table"
           }
          ]
         },
         "layout": {
          "annotationdefaults": {
           "arrowcolor": "#2a3f5f",
           "arrowhead": 0,
           "arrowwidth": 1
          },
          "autotypenumbers": "strict",
          "coloraxis": {
           "colorbar": {
            "outlinewidth": 0,
            "ticks": ""
           }
          },
          "colorscale": {
           "diverging": [
            [
             0,
             "#8e0152"
            ],
            [
             0.1,
             "#c51b7d"
            ],
            [
             0.2,
             "#de77ae"
            ],
            [
             0.3,
             "#f1b6da"
            ],
            [
             0.4,
             "#fde0ef"
            ],
            [
             0.5,
             "#f7f7f7"
            ],
            [
             0.6,
             "#e6f5d0"
            ],
            [
             0.7,
             "#b8e186"
            ],
            [
             0.8,
             "#7fbc41"
            ],
            [
             0.9,
             "#4d9221"
            ],
            [
             1,
             "#276419"
            ]
           ],
           "sequential": [
            [
             0,
             "#0d0887"
            ],
            [
             0.1111111111111111,
             "#46039f"
            ],
            [
             0.2222222222222222,
             "#7201a8"
            ],
            [
             0.3333333333333333,
             "#9c179e"
            ],
            [
             0.4444444444444444,
             "#bd3786"
            ],
            [
             0.5555555555555556,
             "#d8576b"
            ],
            [
             0.6666666666666666,
             "#ed7953"
            ],
            [
             0.7777777777777778,
             "#fb9f3a"
            ],
            [
             0.8888888888888888,
             "#fdca26"
            ],
            [
             1,
             "#f0f921"
            ]
           ],
           "sequentialminus": [
            [
             0,
             "#0d0887"
            ],
            [
             0.1111111111111111,
             "#46039f"
            ],
            [
             0.2222222222222222,
             "#7201a8"
            ],
            [
             0.3333333333333333,
             "#9c179e"
            ],
            [
             0.4444444444444444,
             "#bd3786"
            ],
            [
             0.5555555555555556,
             "#d8576b"
            ],
            [
             0.6666666666666666,
             "#ed7953"
            ],
            [
             0.7777777777777778,
             "#fb9f3a"
            ],
            [
             0.8888888888888888,
             "#fdca26"
            ],
            [
             1,
             "#f0f921"
            ]
           ]
          },
          "colorway": [
           "#636efa",
           "#EF553B",
           "#00cc96",
           "#ab63fa",
           "#FFA15A",
           "#19d3f3",
           "#FF6692",
           "#B6E880",
           "#FF97FF",
           "#FECB52"
          ],
          "font": {
           "color": "#2a3f5f"
          },
          "geo": {
           "bgcolor": "white",
           "lakecolor": "white",
           "landcolor": "#E5ECF6",
           "showlakes": true,
           "showland": true,
           "subunitcolor": "white"
          },
          "hoverlabel": {
           "align": "left"
          },
          "hovermode": "closest",
          "mapbox": {
           "style": "light"
          },
          "paper_bgcolor": "white",
          "plot_bgcolor": "#E5ECF6",
          "polar": {
           "angularaxis": {
            "gridcolor": "white",
            "linecolor": "white",
            "ticks": ""
           },
           "bgcolor": "#E5ECF6",
           "radialaxis": {
            "gridcolor": "white",
            "linecolor": "white",
            "ticks": ""
           }
          },
          "scene": {
           "xaxis": {
            "backgroundcolor": "#E5ECF6",
            "gridcolor": "white",
            "gridwidth": 2,
            "linecolor": "white",
            "showbackground": true,
            "ticks": "",
            "zerolinecolor": "white"
           },
           "yaxis": {
            "backgroundcolor": "#E5ECF6",
            "gridcolor": "white",
            "gridwidth": 2,
            "linecolor": "white",
            "showbackground": true,
            "ticks": "",
            "zerolinecolor": "white"
           },
           "zaxis": {
            "backgroundcolor": "#E5ECF6",
            "gridcolor": "white",
            "gridwidth": 2,
            "linecolor": "white",
            "showbackground": true,
            "ticks": "",
            "zerolinecolor": "white"
           }
          },
          "shapedefaults": {
           "line": {
            "color": "#2a3f5f"
           }
          },
          "ternary": {
           "aaxis": {
            "gridcolor": "white",
            "linecolor": "white",
            "ticks": ""
           },
           "baxis": {
            "gridcolor": "white",
            "linecolor": "white",
            "ticks": ""
           },
           "bgcolor": "#E5ECF6",
           "caxis": {
            "gridcolor": "white",
            "linecolor": "white",
            "ticks": ""
           }
          },
          "title": {
           "x": 0.05
          },
          "xaxis": {
           "automargin": true,
           "gridcolor": "white",
           "linecolor": "white",
           "ticks": "",
           "title": {
            "standoff": 15
           },
           "zerolinecolor": "white",
           "zerolinewidth": 2
          },
          "yaxis": {
           "automargin": true,
           "gridcolor": "white",
           "linecolor": "white",
           "ticks": "",
           "title": {
            "standoff": 15
           },
           "zerolinecolor": "white",
           "zerolinewidth": 2
          }
         }
        },
        "xaxis": {
         "anchor": "y",
         "domain": [
          0,
          1
         ],
         "title": {
          "text": "Fare"
         }
        },
        "yaxis": {
         "anchor": "x",
         "domain": [
          0,
          1
         ],
         "title": {
          "text": "count"
         }
        }
       }
      }
     },
     "metadata": {},
     "output_type": "display_data"
    }
   ],
   "source": [
    "fig = px.histogram(data, x=\"Fare\")\n",
    "fig.show()"
   ]
  },
  {
   "cell_type": "code",
   "execution_count": 83,
   "metadata": {},
   "outputs": [],
   "source": [
    "data = data[data['Fare'] < 500]"
   ]
  },
  {
   "cell_type": "code",
   "execution_count": 84,
   "metadata": {},
   "outputs": [
    {
     "data": {
      "application/vnd.plotly.v1+json": {
       "config": {
        "plotlyServerURL": "https://plot.ly"
       },
       "data": [
        {
         "alignmentgroup": "True",
         "bingroup": "x",
         "hovertemplate": "Fare=%{x}<br>count=%{y}<extra></extra>",
         "legendgroup": "",
         "marker": {
          "color": "#636efa",
          "pattern": {
           "shape": ""
          }
         },
         "name": "",
         "offsetgroup": "",
         "orientation": "v",
         "showlegend": false,
         "type": "histogram",
         "x": [
          7.25,
          71.2833,
          7.925,
          53.1,
          8.05,
          8.4583,
          51.8625,
          21.075,
          11.1333,
          30.0708,
          16.7,
          26.55,
          8.05,
          31.275,
          7.8542,
          16,
          29.125,
          13,
          18,
          7.225,
          26,
          13,
          8.0292,
          35.5,
          21.075,
          31.3875,
          7.225,
          263,
          7.8792,
          7.8958,
          27.7208,
          146.5208,
          7.75,
          10.5,
          82.1708,
          52,
          7.2292,
          8.05,
          18,
          11.2417,
          9.475,
          21,
          41.5792,
          7.8792,
          8.05,
          15.5,
          7.75,
          21.6792,
          17.8,
          39.6875,
          7.8,
          76.7292,
          26,
          61.9792,
          35.5,
          10.5,
          7.2292,
          27.75,
          46.9,
          7.2292,
          80,
          83.475,
          27.9,
          27.7208,
          15.2458,
          10.5,
          8.1583,
          7.925,
          8.6625,
          10.5,
          46.9,
          73.5,
          14.4542,
          56.4958,
          7.65,
          7.8958,
          8.05,
          29,
          12.475,
          9,
          9.5,
          7.7875,
          47.1,
          10.5,
          15.85,
          34.375,
          8.05,
          263,
          8.05,
          8.05,
          7.8542,
          61.175,
          20.575,
          7.25,
          8.05,
          34.6542,
          63.3583,
          23,
          26,
          7.8958,
          7.8958,
          77.2875,
          8.6542,
          7.925,
          7.8958,
          7.65,
          7.775,
          7.8958,
          24.15,
          52,
          14.4542,
          8.05,
          9.825,
          14.4583,
          7.925,
          7.75,
          21,
          247.5208,
          31.275,
          73.5,
          8.05,
          30.0708,
          13,
          77.2875,
          11.2417,
          7.75,
          7.1417,
          22.3583,
          6.975,
          7.8958,
          7.05,
          14.5,
          26,
          13,
          15.0458,
          26.2833,
          53.1,
          9.2167,
          79.2,
          15.2458,
          7.75,
          15.85,
          6.75,
          11.5,
          36.75,
          7.7958,
          34.375,
          26,
          13,
          12.525,
          66.6,
          8.05,
          14.5,
          7.3125,
          61.3792,
          7.7333,
          8.05,
          8.6625,
          69.55,
          16.1,
          15.75,
          7.775,
          8.6625,
          39.6875,
          20.525,
          55,
          27.9,
          25.925,
          56.4958,
          33.5,
          29.125,
          11.1333,
          7.925,
          30.6958,
          7.8542,
          25.4667,
          28.7125,
          13,
          0,
          69.55,
          15.05,
          31.3875,
          39,
          22.025,
          50,
          15.5,
          26.55,
          15.5,
          7.8958,
          13,
          13,
          7.8542,
          26,
          27.7208,
          146.5208,
          7.75,
          8.4042,
          7.75,
          13,
          9.5,
          69.55,
          6.4958,
          7.225,
          8.05,
          10.4625,
          15.85,
          18.7875,
          7.75,
          31,
          7.05,
          21,
          7.25,
          13,
          7.75,
          113.275,
          7.925,
          27,
          76.2917,
          10.5,
          8.05,
          13,
          8.05,
          7.8958,
          90,
          9.35,
          10.5,
          7.25,
          13,
          25.4667,
          83.475,
          7.775,
          13.5,
          31.3875,
          10.5,
          7.55,
          26,
          26.25,
          10.5,
          12.275,
          14.4542,
          15.5,
          10.5,
          7.125,
          7.225,
          90,
          7.775,
          14.5,
          52.5542,
          26,
          7.25,
          10.4625,
          26.55,
          16.1,
          20.2125,
          15.2458,
          79.2,
          86.5,
          26,
          31.3875,
          79.65,
          0,
          7.75,
          10.5,
          39.6875,
          7.775,
          153.4625,
          135.6333,
          31,
          0,
          19.5,
          29.7,
          7.75,
          77.9583,
          7.75,
          0,
          29.125,
          20.25,
          7.75,
          7.8542,
          9.5,
          8.05,
          26,
          8.6625,
          9.5,
          7.8958,
          13,
          7.75,
          78.85,
          91.0792,
          12.875,
          8.85,
          7.8958,
          27.7208,
          7.2292,
          151.55,
          30.5,
          247.5208,
          7.75,
          23.25,
          0,
          12.35,
          8.05,
          151.55,
          110.8833,
          108.9,
          24,
          56.9292,
          83.1583,
          262.375,
          26,
          7.8958,
          26.25,
          7.8542,
          26,
          14,
          164.8667,
          134.5,
          7.25,
          7.8958,
          12.35,
          29,
          69.55,
          135.6333,
          6.2375,
          13,
          20.525,
          57.9792,
          23.25,
          28.5,
          153.4625,
          18,
          133.65,
          7.8958,
          66.6,
          134.5,
          8.05,
          35.5,
          26,
          263,
          13,
          13,
          13,
          13,
          13,
          16.1,
          15.9,
          8.6625,
          9.225,
          35,
          7.2292,
          17.8,
          7.225,
          9.5,
          55,
          13,
          7.8792,
          7.8792,
          27.9,
          27.7208,
          14.4542,
          7.05,
          15.5,
          7.25,
          75.25,
          7.2292,
          7.75,
          69.3,
          55.4417,
          6.4958,
          8.05,
          135.6333,
          21.075,
          82.1708,
          7.25,
          211.5,
          4.0125,
          7.775,
          227.525,
          15.7417,
          7.925,
          52,
          7.8958,
          73.5,
          46.9,
          13,
          7.7292,
          12,
          120,
          7.7958,
          7.925,
          113.275,
          16.7,
          7.7958,
          7.8542,
          26,
          10.5,
          12.65,
          7.925,
          8.05,
          9.825,
          15.85,
          8.6625,
          21,
          7.75,
          18.75,
          7.775,
          25.4667,
          7.8958,
          6.8583,
          90,
          0,
          7.925,
          8.05,
          32.5,
          13,
          13,
          24.15,
          7.7333,
          7.875,
          14.4,
          20.2125,
          7.25,
          26,
          26,
          7.75,
          8.05,
          26.55,
          16.1,
          26,
          7.125,
          55.9,
          120,
          34.375,
          18.75,
          263,
          10.5,
          26.25,
          9.5,
          7.775,
          13,
          8.1125,
          81.8583,
          19.5,
          26.55,
          19.2583,
          30.5,
          27.75,
          19.9667,
          27.75,
          89.1042,
          8.05,
          7.8958,
          26.55,
          51.8625,
          10.5,
          7.75,
          26.55,
          8.05,
          38.5,
          13,
          8.05,
          7.05,
          0,
          26.55,
          7.725,
          19.2583,
          7.25,
          8.6625,
          27.75,
          13.7917,
          9.8375,
          52,
          21,
          7.0458,
          7.5208,
          12.2875,
          46.9,
          0,
          8.05,
          9.5875,
          91.0792,
          25.4667,
          90,
          29.7,
          8.05,
          15.9,
          19.9667,
          7.25,
          30.5,
          49.5042,
          8.05,
          14.4583,
          78.2667,
          15.1,
          151.55,
          7.7958,
          8.6625,
          7.75,
          7.6292,
          9.5875,
          86.5,
          108.9,
          26,
          26.55,
          22.525,
          56.4958,
          7.75,
          8.05,
          26.2875,
          59.4,
          7.4958,
          34.0208,
          10.5,
          24.15,
          26,
          7.8958,
          93.5,
          7.8958,
          7.225,
          57.9792,
          7.2292,
          7.75,
          10.5,
          221.7792,
          7.925,
          11.5,
          26,
          7.2292,
          7.2292,
          22.3583,
          8.6625,
          26.25,
          26.55,
          106.425,
          14.5,
          49.5,
          71,
          31.275,
          31.275,
          26,
          106.425,
          26,
          26,
          13.8625,
          20.525,
          36.75,
          110.8833,
          26,
          7.8292,
          7.225,
          7.775,
          26.55,
          39.6,
          227.525,
          79.65,
          17.4,
          7.75,
          7.8958,
          13.5,
          8.05,
          8.05,
          24.15,
          7.8958,
          21.075,
          7.2292,
          7.8542,
          10.5,
          51.4792,
          26.3875,
          7.75,
          8.05,
          14.5,
          13,
          55.9,
          14.4583,
          7.925,
          30,
          110.8833,
          26,
          40.125,
          8.7125,
          79.65,
          15,
          79.2,
          8.05,
          8.05,
          7.125,
          78.2667,
          7.25,
          7.75,
          26,
          24.15,
          33,
          0,
          7.225,
          56.9292,
          27,
          7.8958,
          42.4,
          8.05,
          26.55,
          15.55,
          7.8958,
          30.5,
          41.5792,
          153.4625,
          31.275,
          7.05,
          15.5,
          7.75,
          8.05,
          65,
          14.4,
          16.1,
          39,
          10.5,
          14.4542,
          52.5542,
          15.7417,
          7.8542,
          16.1,
          32.3208,
          12.35,
          77.9583,
          7.8958,
          7.7333,
          7.0542,
          30.5,
          0,
          27.9,
          13,
          7.925,
          26.25,
          39.6875,
          16.1,
          7.8542,
          69.3,
          27.9,
          56.4958,
          19.2583,
          76.7292,
          7.8958,
          35.5,
          7.55,
          7.55,
          7.8958,
          23,
          8.4333,
          7.8292,
          6.75,
          73.5,
          7.8958,
          15.5,
          13,
          113.275,
          133.65,
          7.225,
          25.5875,
          7.4958,
          7.925,
          73.5,
          13,
          7.775,
          8.05,
          52,
          39,
          52,
          10.5,
          13,
          0,
          7.775,
          8.05,
          9.8417,
          46.9,
          8.1375,
          76.7292,
          9.225,
          46.9,
          39,
          41.5792,
          39.6875,
          10.1708,
          7.7958,
          211.3375,
          57,
          13.4167,
          56.4958,
          7.225,
          26.55,
          13.5,
          8.05,
          7.7333,
          110.8833,
          7.65,
          227.525,
          26.2875,
          14.4542,
          7.7417,
          7.8542,
          26,
          13.5,
          26.2875,
          151.55,
          15.2458,
          49.5042,
          26.55,
          52,
          9.4833,
          13,
          7.65,
          227.525,
          10.5,
          7.775,
          33,
          7.0542,
          13,
          13,
          53.1,
          8.6625,
          21,
          7.7375,
          26,
          7.925,
          211.3375,
          18.7875,
          0,
          13,
          13,
          16.1,
          34.375,
          7.8958,
          7.8958,
          30,
          78.85,
          262.375,
          16.1,
          7.925,
          71,
          20.25,
          13,
          53.1,
          7.75,
          23,
          12.475,
          9.5,
          7.8958,
          65,
          14.5,
          7.7958,
          11.5,
          8.05,
          86.5,
          14.5,
          7.125,
          7.2292,
          120,
          7.775,
          77.9583,
          39.6,
          7.75,
          24.15,
          8.3625,
          9.5,
          7.8542,
          10.5,
          7.225,
          23,
          7.75,
          7.75,
          12.475,
          7.7375,
          211.3375,
          7.2292,
          57,
          30,
          23.45,
          7.05,
          7.25,
          7.4958,
          29.125,
          20.575,
          79.2,
          7.75,
          26,
          69.55,
          30.6958,
          7.8958,
          13,
          25.9292,
          8.6833,
          7.2292,
          24.15,
          13,
          26.25,
          120,
          8.5167,
          6.975,
          7.775,
          0,
          7.775,
          13,
          53.1,
          7.8875,
          24.15,
          10.5,
          31.275,
          8.05,
          0,
          7.925,
          37.0042,
          6.45,
          27.9,
          93.5,
          8.6625,
          0,
          12.475,
          39.6875,
          6.95,
          56.4958,
          37.0042,
          7.75,
          80,
          14.4542,
          18.75,
          7.2292,
          7.8542,
          8.3,
          83.1583,
          8.6625,
          8.05,
          56.4958,
          29.7,
          7.925,
          10.5,
          31,
          6.4375,
          8.6625,
          7.55,
          69.55,
          7.8958,
          33,
          89.1042,
          31.275,
          15.2458,
          39.4,
          26,
          9.35,
          164.8667,
          26.55,
          19.2583,
          7.2292,
          14.1083,
          11.5,
          25.9292,
          69.55,
          13,
          13,
          13.8583,
          50.4958,
          9.5,
          11.1333,
          7.8958,
          52.5542,
          5,
          9,
          24,
          7.225,
          9.8458,
          7.8958,
          7.8958,
          83.1583,
          26,
          7.8958,
          10.5167,
          10.5,
          7.05,
          29.125,
          13,
          30,
          23.45,
          30,
          7.75
         ],
         "xaxis": "x",
         "yaxis": "y"
        }
       ],
       "layout": {
        "barmode": "relative",
        "legend": {
         "tracegroupgap": 0
        },
        "margin": {
         "t": 60
        },
        "template": {
         "data": {
          "bar": [
           {
            "error_x": {
             "color": "#2a3f5f"
            },
            "error_y": {
             "color": "#2a3f5f"
            },
            "marker": {
             "line": {
              "color": "#E5ECF6",
              "width": 0.5
             },
             "pattern": {
              "fillmode": "overlay",
              "size": 10,
              "solidity": 0.2
             }
            },
            "type": "bar"
           }
          ],
          "barpolar": [
           {
            "marker": {
             "line": {
              "color": "#E5ECF6",
              "width": 0.5
             },
             "pattern": {
              "fillmode": "overlay",
              "size": 10,
              "solidity": 0.2
             }
            },
            "type": "barpolar"
           }
          ],
          "carpet": [
           {
            "aaxis": {
             "endlinecolor": "#2a3f5f",
             "gridcolor": "white",
             "linecolor": "white",
             "minorgridcolor": "white",
             "startlinecolor": "#2a3f5f"
            },
            "baxis": {
             "endlinecolor": "#2a3f5f",
             "gridcolor": "white",
             "linecolor": "white",
             "minorgridcolor": "white",
             "startlinecolor": "#2a3f5f"
            },
            "type": "carpet"
           }
          ],
          "choropleth": [
           {
            "colorbar": {
             "outlinewidth": 0,
             "ticks": ""
            },
            "type": "choropleth"
           }
          ],
          "contour": [
           {
            "colorbar": {
             "outlinewidth": 0,
             "ticks": ""
            },
            "colorscale": [
             [
              0,
              "#0d0887"
             ],
             [
              0.1111111111111111,
              "#46039f"
             ],
             [
              0.2222222222222222,
              "#7201a8"
             ],
             [
              0.3333333333333333,
              "#9c179e"
             ],
             [
              0.4444444444444444,
              "#bd3786"
             ],
             [
              0.5555555555555556,
              "#d8576b"
             ],
             [
              0.6666666666666666,
              "#ed7953"
             ],
             [
              0.7777777777777778,
              "#fb9f3a"
             ],
             [
              0.8888888888888888,
              "#fdca26"
             ],
             [
              1,
              "#f0f921"
             ]
            ],
            "type": "contour"
           }
          ],
          "contourcarpet": [
           {
            "colorbar": {
             "outlinewidth": 0,
             "ticks": ""
            },
            "type": "contourcarpet"
           }
          ],
          "heatmap": [
           {
            "colorbar": {
             "outlinewidth": 0,
             "ticks": ""
            },
            "colorscale": [
             [
              0,
              "#0d0887"
             ],
             [
              0.1111111111111111,
              "#46039f"
             ],
             [
              0.2222222222222222,
              "#7201a8"
             ],
             [
              0.3333333333333333,
              "#9c179e"
             ],
             [
              0.4444444444444444,
              "#bd3786"
             ],
             [
              0.5555555555555556,
              "#d8576b"
             ],
             [
              0.6666666666666666,
              "#ed7953"
             ],
             [
              0.7777777777777778,
              "#fb9f3a"
             ],
             [
              0.8888888888888888,
              "#fdca26"
             ],
             [
              1,
              "#f0f921"
             ]
            ],
            "type": "heatmap"
           }
          ],
          "heatmapgl": [
           {
            "colorbar": {
             "outlinewidth": 0,
             "ticks": ""
            },
            "colorscale": [
             [
              0,
              "#0d0887"
             ],
             [
              0.1111111111111111,
              "#46039f"
             ],
             [
              0.2222222222222222,
              "#7201a8"
             ],
             [
              0.3333333333333333,
              "#9c179e"
             ],
             [
              0.4444444444444444,
              "#bd3786"
             ],
             [
              0.5555555555555556,
              "#d8576b"
             ],
             [
              0.6666666666666666,
              "#ed7953"
             ],
             [
              0.7777777777777778,
              "#fb9f3a"
             ],
             [
              0.8888888888888888,
              "#fdca26"
             ],
             [
              1,
              "#f0f921"
             ]
            ],
            "type": "heatmapgl"
           }
          ],
          "histogram": [
           {
            "marker": {
             "pattern": {
              "fillmode": "overlay",
              "size": 10,
              "solidity": 0.2
             }
            },
            "type": "histogram"
           }
          ],
          "histogram2d": [
           {
            "colorbar": {
             "outlinewidth": 0,
             "ticks": ""
            },
            "colorscale": [
             [
              0,
              "#0d0887"
             ],
             [
              0.1111111111111111,
              "#46039f"
             ],
             [
              0.2222222222222222,
              "#7201a8"
             ],
             [
              0.3333333333333333,
              "#9c179e"
             ],
             [
              0.4444444444444444,
              "#bd3786"
             ],
             [
              0.5555555555555556,
              "#d8576b"
             ],
             [
              0.6666666666666666,
              "#ed7953"
             ],
             [
              0.7777777777777778,
              "#fb9f3a"
             ],
             [
              0.8888888888888888,
              "#fdca26"
             ],
             [
              1,
              "#f0f921"
             ]
            ],
            "type": "histogram2d"
           }
          ],
          "histogram2dcontour": [
           {
            "colorbar": {
             "outlinewidth": 0,
             "ticks": ""
            },
            "colorscale": [
             [
              0,
              "#0d0887"
             ],
             [
              0.1111111111111111,
              "#46039f"
             ],
             [
              0.2222222222222222,
              "#7201a8"
             ],
             [
              0.3333333333333333,
              "#9c179e"
             ],
             [
              0.4444444444444444,
              "#bd3786"
             ],
             [
              0.5555555555555556,
              "#d8576b"
             ],
             [
              0.6666666666666666,
              "#ed7953"
             ],
             [
              0.7777777777777778,
              "#fb9f3a"
             ],
             [
              0.8888888888888888,
              "#fdca26"
             ],
             [
              1,
              "#f0f921"
             ]
            ],
            "type": "histogram2dcontour"
           }
          ],
          "mesh3d": [
           {
            "colorbar": {
             "outlinewidth": 0,
             "ticks": ""
            },
            "type": "mesh3d"
           }
          ],
          "parcoords": [
           {
            "line": {
             "colorbar": {
              "outlinewidth": 0,
              "ticks": ""
             }
            },
            "type": "parcoords"
           }
          ],
          "pie": [
           {
            "automargin": true,
            "type": "pie"
           }
          ],
          "scatter": [
           {
            "fillpattern": {
             "fillmode": "overlay",
             "size": 10,
             "solidity": 0.2
            },
            "type": "scatter"
           }
          ],
          "scatter3d": [
           {
            "line": {
             "colorbar": {
              "outlinewidth": 0,
              "ticks": ""
             }
            },
            "marker": {
             "colorbar": {
              "outlinewidth": 0,
              "ticks": ""
             }
            },
            "type": "scatter3d"
           }
          ],
          "scattercarpet": [
           {
            "marker": {
             "colorbar": {
              "outlinewidth": 0,
              "ticks": ""
             }
            },
            "type": "scattercarpet"
           }
          ],
          "scattergeo": [
           {
            "marker": {
             "colorbar": {
              "outlinewidth": 0,
              "ticks": ""
             }
            },
            "type": "scattergeo"
           }
          ],
          "scattergl": [
           {
            "marker": {
             "colorbar": {
              "outlinewidth": 0,
              "ticks": ""
             }
            },
            "type": "scattergl"
           }
          ],
          "scattermapbox": [
           {
            "marker": {
             "colorbar": {
              "outlinewidth": 0,
              "ticks": ""
             }
            },
            "type": "scattermapbox"
           }
          ],
          "scatterpolar": [
           {
            "marker": {
             "colorbar": {
              "outlinewidth": 0,
              "ticks": ""
             }
            },
            "type": "scatterpolar"
           }
          ],
          "scatterpolargl": [
           {
            "marker": {
             "colorbar": {
              "outlinewidth": 0,
              "ticks": ""
             }
            },
            "type": "scatterpolargl"
           }
          ],
          "scatterternary": [
           {
            "marker": {
             "colorbar": {
              "outlinewidth": 0,
              "ticks": ""
             }
            },
            "type": "scatterternary"
           }
          ],
          "surface": [
           {
            "colorbar": {
             "outlinewidth": 0,
             "ticks": ""
            },
            "colorscale": [
             [
              0,
              "#0d0887"
             ],
             [
              0.1111111111111111,
              "#46039f"
             ],
             [
              0.2222222222222222,
              "#7201a8"
             ],
             [
              0.3333333333333333,
              "#9c179e"
             ],
             [
              0.4444444444444444,
              "#bd3786"
             ],
             [
              0.5555555555555556,
              "#d8576b"
             ],
             [
              0.6666666666666666,
              "#ed7953"
             ],
             [
              0.7777777777777778,
              "#fb9f3a"
             ],
             [
              0.8888888888888888,
              "#fdca26"
             ],
             [
              1,
              "#f0f921"
             ]
            ],
            "type": "surface"
           }
          ],
          "table": [
           {
            "cells": {
             "fill": {
              "color": "#EBF0F8"
             },
             "line": {
              "color": "white"
             }
            },
            "header": {
             "fill": {
              "color": "#C8D4E3"
             },
             "line": {
              "color": "white"
             }
            },
            "type": "table"
           }
          ]
         },
         "layout": {
          "annotationdefaults": {
           "arrowcolor": "#2a3f5f",
           "arrowhead": 0,
           "arrowwidth": 1
          },
          "autotypenumbers": "strict",
          "coloraxis": {
           "colorbar": {
            "outlinewidth": 0,
            "ticks": ""
           }
          },
          "colorscale": {
           "diverging": [
            [
             0,
             "#8e0152"
            ],
            [
             0.1,
             "#c51b7d"
            ],
            [
             0.2,
             "#de77ae"
            ],
            [
             0.3,
             "#f1b6da"
            ],
            [
             0.4,
             "#fde0ef"
            ],
            [
             0.5,
             "#f7f7f7"
            ],
            [
             0.6,
             "#e6f5d0"
            ],
            [
             0.7,
             "#b8e186"
            ],
            [
             0.8,
             "#7fbc41"
            ],
            [
             0.9,
             "#4d9221"
            ],
            [
             1,
             "#276419"
            ]
           ],
           "sequential": [
            [
             0,
             "#0d0887"
            ],
            [
             0.1111111111111111,
             "#46039f"
            ],
            [
             0.2222222222222222,
             "#7201a8"
            ],
            [
             0.3333333333333333,
             "#9c179e"
            ],
            [
             0.4444444444444444,
             "#bd3786"
            ],
            [
             0.5555555555555556,
             "#d8576b"
            ],
            [
             0.6666666666666666,
             "#ed7953"
            ],
            [
             0.7777777777777778,
             "#fb9f3a"
            ],
            [
             0.8888888888888888,
             "#fdca26"
            ],
            [
             1,
             "#f0f921"
            ]
           ],
           "sequentialminus": [
            [
             0,
             "#0d0887"
            ],
            [
             0.1111111111111111,
             "#46039f"
            ],
            [
             0.2222222222222222,
             "#7201a8"
            ],
            [
             0.3333333333333333,
             "#9c179e"
            ],
            [
             0.4444444444444444,
             "#bd3786"
            ],
            [
             0.5555555555555556,
             "#d8576b"
            ],
            [
             0.6666666666666666,
             "#ed7953"
            ],
            [
             0.7777777777777778,
             "#fb9f3a"
            ],
            [
             0.8888888888888888,
             "#fdca26"
            ],
            [
             1,
             "#f0f921"
            ]
           ]
          },
          "colorway": [
           "#636efa",
           "#EF553B",
           "#00cc96",
           "#ab63fa",
           "#FFA15A",
           "#19d3f3",
           "#FF6692",
           "#B6E880",
           "#FF97FF",
           "#FECB52"
          ],
          "font": {
           "color": "#2a3f5f"
          },
          "geo": {
           "bgcolor": "white",
           "lakecolor": "white",
           "landcolor": "#E5ECF6",
           "showlakes": true,
           "showland": true,
           "subunitcolor": "white"
          },
          "hoverlabel": {
           "align": "left"
          },
          "hovermode": "closest",
          "mapbox": {
           "style": "light"
          },
          "paper_bgcolor": "white",
          "plot_bgcolor": "#E5ECF6",
          "polar": {
           "angularaxis": {
            "gridcolor": "white",
            "linecolor": "white",
            "ticks": ""
           },
           "bgcolor": "#E5ECF6",
           "radialaxis": {
            "gridcolor": "white",
            "linecolor": "white",
            "ticks": ""
           }
          },
          "scene": {
           "xaxis": {
            "backgroundcolor": "#E5ECF6",
            "gridcolor": "white",
            "gridwidth": 2,
            "linecolor": "white",
            "showbackground": true,
            "ticks": "",
            "zerolinecolor": "white"
           },
           "yaxis": {
            "backgroundcolor": "#E5ECF6",
            "gridcolor": "white",
            "gridwidth": 2,
            "linecolor": "white",
            "showbackground": true,
            "ticks": "",
            "zerolinecolor": "white"
           },
           "zaxis": {
            "backgroundcolor": "#E5ECF6",
            "gridcolor": "white",
            "gridwidth": 2,
            "linecolor": "white",
            "showbackground": true,
            "ticks": "",
            "zerolinecolor": "white"
           }
          },
          "shapedefaults": {
           "line": {
            "color": "#2a3f5f"
           }
          },
          "ternary": {
           "aaxis": {
            "gridcolor": "white",
            "linecolor": "white",
            "ticks": ""
           },
           "baxis": {
            "gridcolor": "white",
            "linecolor": "white",
            "ticks": ""
           },
           "bgcolor": "#E5ECF6",
           "caxis": {
            "gridcolor": "white",
            "linecolor": "white",
            "ticks": ""
           }
          },
          "title": {
           "x": 0.05
          },
          "xaxis": {
           "automargin": true,
           "gridcolor": "white",
           "linecolor": "white",
           "ticks": "",
           "title": {
            "standoff": 15
           },
           "zerolinecolor": "white",
           "zerolinewidth": 2
          },
          "yaxis": {
           "automargin": true,
           "gridcolor": "white",
           "linecolor": "white",
           "ticks": "",
           "title": {
            "standoff": 15
           },
           "zerolinecolor": "white",
           "zerolinewidth": 2
          }
         }
        },
        "xaxis": {
         "anchor": "y",
         "domain": [
          0,
          1
         ],
         "title": {
          "text": "Fare"
         }
        },
        "yaxis": {
         "anchor": "x",
         "domain": [
          0,
          1
         ],
         "title": {
          "text": "count"
         }
        }
       }
      }
     },
     "metadata": {},
     "output_type": "display_data"
    }
   ],
   "source": [
    "fig = px.histogram(data, x=\"Fare\")\n",
    "fig.show()"
   ]
  },
  {
   "attachments": {},
   "cell_type": "markdown",
   "metadata": {},
   "source": [
    "#### Log scalling"
   ]
  },
  {
   "cell_type": "code",
   "execution_count": 85,
   "metadata": {},
   "outputs": [],
   "source": [
    "data['Fare'] = data['Fare'].apply(lambda x: np.log(x+1))"
   ]
  },
  {
   "cell_type": "code",
   "execution_count": 86,
   "metadata": {},
   "outputs": [
    {
     "data": {
      "application/vnd.plotly.v1+json": {
       "config": {
        "plotlyServerURL": "https://plot.ly"
       },
       "data": [
        {
         "alignmentgroup": "True",
         "bingroup": "x",
         "hovertemplate": "Fare=%{x}<br>count=%{y}<extra></extra>",
         "legendgroup": "",
         "marker": {
          "color": "#636efa",
          "pattern": {
           "shape": ""
          }
         },
         "name": "",
         "offsetgroup": "",
         "orientation": "v",
         "showlegend": false,
         "type": "histogram",
         "x": [
          2.1102132003465894,
          4.2805931204649,
          2.188856327665703,
          3.9908341858524357,
          2.2027647577118348,
          2.246892662898172,
          3.967694202798607,
          3.0944457464900235,
          2.495953738718064,
          3.436268471383741,
          2.8735646395797834,
          3.3160025355989236,
          2.2027647577118348,
          3.4742929367327062,
          2.180891922715322,
          2.833213344056216,
          3.405355391810819,
          2.6390573296152584,
          2.9444389791664403,
          2.1071782966514356,
          3.295836866004329,
          2.6390573296152584,
          2.2004637699272855,
          3.597312260588446,
          3.0944457464900235,
          3.4777725458882283,
          2.1071782966514356,
          5.575949103146316,
          2.1837114628556327,
          2.1855792552411137,
          3.357621598945279,
          4.993969182787072,
          2.169053700369523,
          2.4423470353692043,
          4.420896324687287,
          3.970291913552122,
          2.1076888046179385,
          2.2027647577118348,
          2.9444389791664403,
          2.5048481563289,
          2.348991465808201,
          3.091042453358316,
          3.7513658711253766,
          2.1837114628556327,
          2.2027647577118348,
          2.803360380906535,
          2.169053700369523,
          3.1214482048688246,
          2.9338568698359038,
          3.705920919968788,
          2.174751721484161,
          4.353230991152628,
          3.295836866004329,
          4.142804513146981,
          3.597312260588446,
          2.4423470353692043,
          2.1076888046179385,
          3.3586377672433594,
          3.8691155044168695,
          2.1076888046179385,
          4.394449154672439,
          4.436455632600354,
          3.3638415951183864,
          3.357621598945279,
          2.7878344138303452,
          2.4423470353692043,
          2.2146605719425225,
          2.188856327665703,
          2.2682524139135403,
          2.4423470353692043,
          3.8691155044168695,
          4.310799125385514,
          2.737880811060884,
          4.05171190165724,
          2.157559320943788,
          2.1855792552411137,
          2.2027647577118348,
          3.4011973816621555,
          2.600836116795061,
          2.302585092994046,
          2.3513752571634776,
          2.1733302571367834,
          3.8732821771117156,
          2.4423470353692043,
          2.8243506567983707,
          3.5660053559634015,
          2.2027647577118348,
          5.575949103146316,
          2.2027647577118348,
          2.2027647577118348,
          2.180891922715322,
          4.1299529896894684,
          3.0715352369694915,
          2.1102132003465894,
          2.2027647577118348,
          3.57386695198272,
          4.164465907853638,
          3.1780538303479458,
          3.295836866004329,
          2.1855792552411137,
          2.1855792552411137,
          4.360387947851531,
          2.267393053825037,
          2.188856327665703,
          2.1855792552411137,
          2.157559320943788,
          2.1719067693519296,
          2.1855792552411137,
          3.224857896545748,
          3.970291913552122,
          2.737880811060884,
          2.2027647577118348,
          2.3818582738885534,
          2.738146075922933,
          2.188856327665703,
          2.169053700369523,
          3.091042453358316,
          5.515526544247129,
          3.4742929367327062,
          4.310799125385514,
          2.2027647577118348,
          3.436268471383741,
          2.6390573296152584,
          4.360387947851531,
          2.5048481563289,
          2.169053700369523,
          2.0969990034181696,
          3.1509523813392697,
          2.076311648670908,
          2.1855792552411137,
          2.0856720914304723,
          2.740840023925201,
          3.295836866004329,
          2.6390573296152584,
          2.775447133088262,
          3.3062747934011893,
          3.9908341858524357,
          2.3240236363515288,
          4.384523514872469,
          2.7878344138303452,
          2.169053700369523,
          2.8243506567983707,
          2.0476928433652555,
          2.5257286443082556,
          3.6309854756950335,
          2.174274334826008,
          3.5660053559634015,
          3.295836866004329,
          2.6390573296152584,
          2.6045398247325453,
          4.213607983048918,
          2.2027647577118348,
          2.740840023925201,
          2.1177604059819726,
          4.133231886474144,
          2.167143305297764,
          2.2027647577118348,
          2.2682524139135403,
          4.256321678298823,
          2.8390784635086144,
          2.8183982582710754,
          2.1719067693519296,
          2.2682524139135403,
          3.705920919968788,
          3.0692150503137943,
          4.02535169073515,
          3.3638415951183864,
          3.2930552230424524,
          4.05171190165724,
          3.5409593240373143,
          3.405355391810819,
          2.495953738718064,
          2.188856327665703,
          3.4561841799918147,
          2.180891922715322,
          3.275887339030031,
          3.391567832686312,
          2.6390573296152584,
          0,
          4.256321678298823,
          2.775708849576025,
          3.4777725458882283,
          3.6888794541139363,
          3.1365805821413706,
          3.9318256327243257,
          2.803360380906535,
          3.3160025355989236,
          2.803360380906535,
          2.1855792552411137,
          2.6390573296152584,
          2.6390573296152584,
          2.180891922715322,
          3.295836866004329,
          3.357621598945279,
          4.993969182787072,
          2.169053700369523,
          2.2411563979973974,
          2.169053700369523,
          2.6390573296152584,
          2.3513752571634776,
          4.256321678298823,
          2.0143428636837015,
          2.1071782966514356,
          2.2027647577118348,
          2.4390808375825834,
          2.8243506567983707,
          2.9850504252071306,
          2.169053700369523,
          3.4657359027997265,
          2.0856720914304723,
          3.091042453358316,
          2.1102132003465894,
          2.6390573296152584,
          2.169053700369523,
          4.738607824217808,
          2.188856327665703,
          3.332204510175204,
          4.347586575960343,
          2.4423470353692043,
          2.2027647577118348,
          2.6390573296152584,
          2.2027647577118348,
          2.1855792552411137,
          4.51085950651685,
          2.336986519711378,
          2.4423470353692043,
          2.1102132003465894,
          2.6390573296152584,
          3.275887339030031,
          4.436455632600354,
          2.1719067693519296,
          2.6741486494265287,
          3.4777725458882283,
          2.4423470353692043,
          2.145931282948669,
          3.295836866004329,
          3.305053521109253,
          2.4423470353692043,
          2.5858825671280026,
          2.737880811060884,
          2.803360380906535,
          2.4423470353692043,
          2.094945728215801,
          2.1071782966514356,
          4.51085950651685,
          2.1719067693519296,
          2.740840023925201,
          3.9806942251907276,
          3.295836866004329,
          2.1102132003465894,
          2.4390808375825834,
          3.3160025355989236,
          2.8390784635086144,
          3.0545906305603445,
          2.7878344138303452,
          4.384523514872469,
          4.471638793363569,
          3.295836866004329,
          3.4777725458882283,
          4.390118804571218,
          0,
          2.169053700369523,
          2.4423470353692043,
          3.705920919968788,
          2.1719067693519296,
          5.039951348430309,
          4.91730069488021,
          3.4657359027997265,
          0,
          3.0204248861443626,
          3.4242626545931514,
          2.169053700369523,
          4.368919865004903,
          2.169053700369523,
          0,
          3.405355391810819,
          3.056356895370426,
          2.169053700369523,
          2.180891922715322,
          2.3513752571634776,
          2.2027647577118348,
          3.295836866004329,
          2.2682524139135403,
          2.3513752571634776,
          2.1855792552411137,
          2.6390573296152584,
          2.169053700369523,
          4.380149874661021,
          4.5226490762785785,
          2.630088659632498,
          2.2874714551839976,
          2.1855792552411137,
          3.357621598945279,
          2.1076888046179385,
          5.027492411162679,
          3.449987545831587,
          5.515526544247129,
          2.169053700369523,
          3.188416617383492,
          0,
          2.5915163848462583,
          2.2027647577118348,
          5.027492411162679,
          4.717456363787216,
          4.699570861409576,
          3.2188758248682006,
          4.0592215752427645,
          4.432699549165613,
          5.5735788721243535,
          3.295836866004329,
          2.1855792552411137,
          3.305053521109253,
          2.180891922715322,
          3.295836866004329,
          2.70805020110221,
          5.11118445372147,
          4.908971640319756,
          2.1102132003465894,
          2.1855792552411137,
          2.5915163848462583,
          3.4011973816621555,
          4.256321678298823,
          4.91730069488021,
          1.9792758428991135,
          2.6390573296152584,
          3.0692150503137943,
          4.077184839375167,
          3.188416617383492,
          3.3843902633457743,
          5.039951348430309,
          2.9444389791664403,
          4.902678819257608,
          2.1855792552411137,
          4.213607983048918,
          4.908971640319756,
          2.2027647577118348,
          3.597312260588446,
          3.295836866004329,
          5.575949103146316,
          2.6390573296152584,
          2.6390573296152584,
          2.6390573296152584,
          2.6390573296152584,
          2.6390573296152584,
          2.8390784635086144,
          2.8273136219290276,
          2.2682524139135403,
          2.3248357019288655,
          3.58351893845611,
          2.1076888046179385,
          2.9338568698359038,
          2.1071782966514356,
          2.3513752571634776,
          4.02535169073515,
          2.6390573296152584,
          2.1837114628556327,
          2.1837114628556327,
          3.3638415951183864,
          3.357621598945279,
          2.737880811060884,
          2.0856720914304723,
          2.803360380906535,
          2.1102132003465894,
          4.334017415487521,
          2.1076888046179385,
          2.169053700369523,
          4.252771798816619,
          4.0332082470129285,
          2.0143428636837015,
          2.2027647577118348,
          4.91730069488021,
          3.0944457464900235,
          4.420896324687287,
          2.1102132003465894,
          5.358941988364472,
          1.6119347926326877,
          2.1719067693519296,
          5.4316456135398825,
          2.817902613071225,
          2.188856327665703,
          3.970291913552122,
          2.1855792552411137,
          4.310799125385514,
          3.8691155044168695,
          2.6390573296152584,
          2.1666737276227077,
          2.5649493574615367,
          4.795790545596741,
          2.174274334826008,
          2.188856327665703,
          4.738607824217808,
          2.8735646395797834,
          2.174274334826008,
          2.180891922715322,
          3.295836866004329,
          2.4423470353692043,
          2.613739521630969,
          2.188856327665703,
          2.2027647577118348,
          2.3818582738885534,
          2.8243506567983707,
          2.2682524139135403,
          3.091042453358316,
          2.169053700369523,
          2.9831534913471307,
          2.1719067693519296,
          3.275887339030031,
          2.1855792552411137,
          2.061570298060867,
          4.51085950651685,
          0,
          2.188856327665703,
          2.2027647577118348,
          3.5115454388310208,
          2.6390573296152584,
          2.6390573296152584,
          3.224857896545748,
          2.167143305297764,
          2.1832383353614797,
          2.7343675094195836,
          3.0545906305603445,
          2.1102132003465894,
          3.295836866004329,
          3.295836866004329,
          2.169053700369523,
          2.2027647577118348,
          3.3160025355989236,
          2.8390784635086144,
          3.295836866004329,
          2.094945728215801,
          4.041295341132285,
          4.795790545596741,
          3.5660053559634015,
          2.9831534913471307,
          5.575949103146316,
          2.4423470353692043,
          3.305053521109253,
          2.3513752571634776,
          2.1719067693519296,
          2.6390573296152584,
          2.2096470973347766,
          4.417131919904876,
          3.0204248861443626,
          3.3160025355989236,
          3.0085645861193133,
          3.449987545831587,
          3.3586377672433594,
          3.0429354648621407,
          3.3586377672433594,
          4.500966778400217,
          2.2027647577118348,
          2.1855792552411137,
          3.3160025355989236,
          3.967694202798607,
          2.4423470353692043,
          2.169053700369523,
          3.3160025355989236,
          2.2027647577118348,
          3.676300671907076,
          2.6390573296152584,
          2.2027647577118348,
          2.0856720914304723,
          0,
          3.3160025355989236,
          2.1661924680884908,
          3.0085645861193133,
          2.1102132003465894,
          2.2682524139135403,
          3.3586377672433594,
          2.694066212646058,
          2.3830123421066602,
          3.970291913552122,
          3.091042453358316,
          2.0851502161468174,
          2.142510233146819,
          2.586823743668066,
          3.8691155044168695,
          0,
          2.2027647577118348,
          2.3596740599781727,
          4.5226490762785785,
          3.275887339030031,
          4.51085950651685,
          3.4242626545931514,
          2.2027647577118348,
          2.8273136219290276,
          3.0429354648621407,
          2.1102132003465894,
          3.449987545831587,
          3.922056501139853,
          2.2027647577118348,
          2.738146075922933,
          4.37281811610993,
          2.7788192719904172,
          5.027492411162679,
          2.174274334826008,
          2.2682524139135403,
          2.169053700369523,
          2.155151800914312,
          2.3596740599781727,
          4.471638793363569,
          4.699570861409576,
          3.295836866004329,
          3.3160025355989236,
          3.1580636854714434,
          4.05171190165724,
          2.169053700369523,
          2.2027647577118348,
          3.3064287218760624,
          4.100989104940769,
          2.139571923732859,
          3.5559421706858756,
          2.4423470353692043,
          3.224857896545748,
          3.295836866004329,
          2.1855792552411137,
          4.548599834499697,
          2.1855792552411137,
          2.1071782966514356,
          4.077184839375167,
          2.1076888046179385,
          2.169053700369523,
          2.4423470353692043,
          5.406181146423973,
          2.188856327665703,
          2.5257286443082556,
          3.295836866004329,
          2.1076888046179385,
          2.1076888046179385,
          3.1509523813392697,
          2.2682524139135403,
          3.305053521109253,
          3.3160025355989236,
          4.676792929661059,
          2.740840023925201,
          3.9219733362813143,
          4.276666119016055,
          3.4742929367327062,
          3.4742929367327062,
          3.295836866004329,
          4.676792929661059,
          3.295836866004329,
          3.295836866004329,
          2.6988412620169004,
          3.0692150503137943,
          3.6309854756950335,
          4.717456363787216,
          3.295836866004329,
          2.17806441028492,
          2.1071782966514356,
          2.1719067693519296,
          3.3160025355989236,
          3.703768066607687,
          5.4316456135398825,
          4.390118804571218,
          2.91235066461494,
          2.169053700369523,
          2.1855792552411137,
          2.6741486494265287,
          2.2027647577118348,
          2.2027647577118348,
          3.224857896545748,
          2.1855792552411137,
          3.0944457464900235,
          2.1076888046179385,
          2.180891922715322,
          2.4423470353692043,
          3.960416900617205,
          3.3100867049215847,
          2.169053700369523,
          2.2027647577118348,
          2.740840023925201,
          2.6390573296152584,
          4.041295341132285,
          2.738146075922933,
          2.188856327665703,
          3.4339872044851463,
          4.717456363787216,
          3.295836866004329,
          3.716616209085536,
          2.2734137156937657,
          4.390118804571218,
          2.772588722239781,
          4.384523514872469,
          2.2027647577118348,
          2.2027647577118348,
          2.094945728215801,
          4.37281811610993,
          2.1102132003465894,
          2.169053700369523,
          3.295836866004329,
          3.224857896545748,
          3.5263605246161616,
          0,
          2.1071782966514356,
          4.0592215752427645,
          3.332204510175204,
          2.1855792552411137,
          3.770459441106359,
          2.2027647577118348,
          3.3160025355989236,
          2.806386101823072,
          2.1855792552411137,
          3.449987545831587,
          3.7513658711253766,
          5.039951348430309,
          3.4742929367327062,
          2.0856720914304723,
          2.803360380906535,
          2.169053700369523,
          2.2027647577118348,
          4.189654742026425,
          2.7343675094195836,
          2.8390784635086144,
          3.6888794541139363,
          2.4423470353692043,
          2.737880811060884,
          3.9806942251907276,
          2.817902613071225,
          2.180891922715322,
          2.8390784635086144,
          3.5061818266142577,
          2.5915163848462583,
          4.368919865004903,
          2.1855792552411137,
          2.167143305297764,
          2.086193694502369,
          3.449987545831587,
          0,
          3.3638415951183864,
          2.6390573296152584,
          2.188856327665703,
          3.305053521109253,
          3.705920919968788,
          2.8390784635086144,
          2.180891922715322,
          4.252771798816619,
          3.3638415951183864,
          4.05171190165724,
          3.0085645861193133,
          4.353230991152628,
          2.1855792552411137,
          3.597312260588446,
          2.145931282948669,
          2.145931282948669,
          2.1855792552411137,
          3.1780538303479458,
          2.2442459824059346,
          2.17806441028492,
          2.0476928433652555,
          4.310799125385514,
          2.1855792552411137,
          2.803360380906535,
          2.6390573296152584,
          4.738607824217808,
          4.902678819257608,
          2.1071782966514356,
          3.2804411805263554,
          2.139571923732859,
          2.188856327665703,
          4.310799125385514,
          2.6390573296152584,
          2.1719067693519296,
          2.2027647577118348,
          3.970291913552122,
          3.6888794541139363,
          3.970291913552122,
          2.4423470353692043,
          2.6390573296152584,
          0,
          2.1719067693519296,
          2.2027647577118348,
          2.3833998102837652,
          3.8691155044168695,
          2.212386825075897,
          4.353230991152628,
          2.3248357019288655,
          3.8691155044168695,
          3.6888794541139363,
          3.7513658711253766,
          3.705920919968788,
          2.4133032309283076,
          2.174274334826008,
          5.35817698994543,
          4.060443010546419,
          2.668387256845834,
          4.05171190165724,
          2.1071782966514356,
          3.3160025355989236,
          2.6741486494265287,
          2.2027647577118348,
          2.167143305297764,
          4.717456363787216,
          2.157559320943788,
          5.4316456135398825,
          3.3064287218760624,
          2.737880811060884,
          2.1681046787623672,
          2.180891922715322,
          3.295836866004329,
          2.6741486494265287,
          3.3064287218760624,
          5.027492411162679,
          2.7878344138303452,
          3.922056501139853,
          3.3160025355989236,
          3.970291913552122,
          2.3497835148230464,
          2.6390573296152584,
          2.157559320943788,
          5.4316456135398825,
          2.4423470353692043,
          2.1719067693519296,
          3.5263605246161616,
          2.086193694502369,
          2.6390573296152584,
          2.6390573296152584,
          3.9908341858524357,
          2.2682524139135403,
          3.091042453358316,
          2.1676241075599285,
          3.295836866004329,
          2.188856327665703,
          5.35817698994543,
          2.9850504252071306,
          0,
          2.6390573296152584,
          2.6390573296152584,
          2.8390784635086144,
          3.5660053559634015,
          2.1855792552411137,
          2.1855792552411137,
          3.4339872044851463,
          4.380149874661021,
          5.5735788721243535,
          2.8390784635086144,
          2.188856327665703,
          4.276666119016055,
          3.056356895370426,
          2.6390573296152584,
          3.9908341858524357,
          2.169053700369523,
          3.1780538303479458,
          2.600836116795061,
          2.3513752571634776,
          2.1855792552411137,
          4.189654742026425,
          2.740840023925201,
          2.174274334826008,
          2.5257286443082556,
          2.2027647577118348,
          4.471638793363569,
          2.740840023925201,
          2.094945728215801,
          2.1076888046179385,
          4.795790545596741,
          2.1719067693519296,
          4.368919865004903,
          3.703768066607687,
          2.169053700369523,
          3.224857896545748,
          2.236712348843338,
          2.3513752571634776,
          2.180891922715322,
          2.4423470353692043,
          2.1071782966514356,
          3.1780538303479458,
          2.169053700369523,
          2.169053700369523,
          2.600836116795061,
          2.1676241075599285,
          5.35817698994543,
          2.1076888046179385,
          4.060443010546419,
          3.4339872044851463,
          3.196630215920881,
          2.0856720914304723,
          2.1102132003465894,
          2.139571923732859,
          3.405355391810819,
          3.0715352369694915,
          4.384523514872469,
          2.169053700369523,
          3.295836866004329,
          4.256321678298823,
          3.4561841799918147,
          2.1855792552411137,
          2.6390573296152584,
          3.2932111997353943,
          2.270402752283094,
          2.1076888046179385,
          3.224857896545748,
          2.6390573296152584,
          3.305053521109253,
          4.795790545596741,
          2.2530481500547457,
          2.076311648670908,
          2.1719067693519296,
          0,
          2.1719067693519296,
          2.6390573296152584,
          3.9908341858524357,
          2.184645795129359,
          3.224857896545748,
          2.4423470353692043,
          3.4742929367327062,
          2.2027647577118348,
          0,
          2.188856327665703,
          3.637696679934592,
          2.0082140323914683,
          3.3638415951183864,
          4.548599834499697,
          2.2682524139135403,
          0,
          2.600836116795061,
          3.705920919968788,
          2.0731719286662407,
          4.05171190165724,
          3.637696679934592,
          2.169053700369523,
          4.394449154672439,
          2.737880811060884,
          2.9831534913471307,
          2.1076888046179385,
          2.180891922715322,
          2.2300144001592104,
          4.432699549165613,
          2.2682524139135403,
          2.2027647577118348,
          4.05171190165724,
          3.4242626545931514,
          2.188856327665703,
          2.4423470353692043,
          3.4657359027997265,
          2.006534770871748,
          2.2682524139135403,
          2.145931282948669,
          4.256321678298823,
          2.1855792552411137,
          3.5263605246161616,
          4.500966778400217,
          3.4742929367327062,
          2.7878344138303452,
          3.6988297849671046,
          3.295836866004329,
          2.336986519711378,
          5.11118445372147,
          3.3160025355989236,
          3.0085645861193133,
          2.1076888046179385,
          2.7152442616824506,
          2.5257286443082556,
          3.2932111997353943,
          4.256321678298823,
          2.6390573296152584,
          2.6390573296152584,
          2.698558631668595,
          3.941500250945973,
          2.3513752571634776,
          2.495953738718064,
          2.1855792552411137,
          3.9806942251907276,
          1.791759469228055,
          2.302585092994046,
          3.2188758248682006,
          2.1071782966514356,
          2.3837779082709782,
          2.1855792552411137,
          2.1855792552411137,
          4.432699549165613,
          3.295836866004329,
          2.1855792552411137,
          2.4437981558973862,
          2.4423470353692043,
          2.0856720914304723,
          3.405355391810819,
          2.6390573296152584,
          3.4339872044851463,
          3.196630215920881,
          3.4339872044851463,
          2.169053700369523
         ],
         "xaxis": "x",
         "yaxis": "y"
        }
       ],
       "layout": {
        "barmode": "relative",
        "legend": {
         "tracegroupgap": 0
        },
        "margin": {
         "t": 60
        },
        "template": {
         "data": {
          "bar": [
           {
            "error_x": {
             "color": "#2a3f5f"
            },
            "error_y": {
             "color": "#2a3f5f"
            },
            "marker": {
             "line": {
              "color": "#E5ECF6",
              "width": 0.5
             },
             "pattern": {
              "fillmode": "overlay",
              "size": 10,
              "solidity": 0.2
             }
            },
            "type": "bar"
           }
          ],
          "barpolar": [
           {
            "marker": {
             "line": {
              "color": "#E5ECF6",
              "width": 0.5
             },
             "pattern": {
              "fillmode": "overlay",
              "size": 10,
              "solidity": 0.2
             }
            },
            "type": "barpolar"
           }
          ],
          "carpet": [
           {
            "aaxis": {
             "endlinecolor": "#2a3f5f",
             "gridcolor": "white",
             "linecolor": "white",
             "minorgridcolor": "white",
             "startlinecolor": "#2a3f5f"
            },
            "baxis": {
             "endlinecolor": "#2a3f5f",
             "gridcolor": "white",
             "linecolor": "white",
             "minorgridcolor": "white",
             "startlinecolor": "#2a3f5f"
            },
            "type": "carpet"
           }
          ],
          "choropleth": [
           {
            "colorbar": {
             "outlinewidth": 0,
             "ticks": ""
            },
            "type": "choropleth"
           }
          ],
          "contour": [
           {
            "colorbar": {
             "outlinewidth": 0,
             "ticks": ""
            },
            "colorscale": [
             [
              0,
              "#0d0887"
             ],
             [
              0.1111111111111111,
              "#46039f"
             ],
             [
              0.2222222222222222,
              "#7201a8"
             ],
             [
              0.3333333333333333,
              "#9c179e"
             ],
             [
              0.4444444444444444,
              "#bd3786"
             ],
             [
              0.5555555555555556,
              "#d8576b"
             ],
             [
              0.6666666666666666,
              "#ed7953"
             ],
             [
              0.7777777777777778,
              "#fb9f3a"
             ],
             [
              0.8888888888888888,
              "#fdca26"
             ],
             [
              1,
              "#f0f921"
             ]
            ],
            "type": "contour"
           }
          ],
          "contourcarpet": [
           {
            "colorbar": {
             "outlinewidth": 0,
             "ticks": ""
            },
            "type": "contourcarpet"
           }
          ],
          "heatmap": [
           {
            "colorbar": {
             "outlinewidth": 0,
             "ticks": ""
            },
            "colorscale": [
             [
              0,
              "#0d0887"
             ],
             [
              0.1111111111111111,
              "#46039f"
             ],
             [
              0.2222222222222222,
              "#7201a8"
             ],
             [
              0.3333333333333333,
              "#9c179e"
             ],
             [
              0.4444444444444444,
              "#bd3786"
             ],
             [
              0.5555555555555556,
              "#d8576b"
             ],
             [
              0.6666666666666666,
              "#ed7953"
             ],
             [
              0.7777777777777778,
              "#fb9f3a"
             ],
             [
              0.8888888888888888,
              "#fdca26"
             ],
             [
              1,
              "#f0f921"
             ]
            ],
            "type": "heatmap"
           }
          ],
          "heatmapgl": [
           {
            "colorbar": {
             "outlinewidth": 0,
             "ticks": ""
            },
            "colorscale": [
             [
              0,
              "#0d0887"
             ],
             [
              0.1111111111111111,
              "#46039f"
             ],
             [
              0.2222222222222222,
              "#7201a8"
             ],
             [
              0.3333333333333333,
              "#9c179e"
             ],
             [
              0.4444444444444444,
              "#bd3786"
             ],
             [
              0.5555555555555556,
              "#d8576b"
             ],
             [
              0.6666666666666666,
              "#ed7953"
             ],
             [
              0.7777777777777778,
              "#fb9f3a"
             ],
             [
              0.8888888888888888,
              "#fdca26"
             ],
             [
              1,
              "#f0f921"
             ]
            ],
            "type": "heatmapgl"
           }
          ],
          "histogram": [
           {
            "marker": {
             "pattern": {
              "fillmode": "overlay",
              "size": 10,
              "solidity": 0.2
             }
            },
            "type": "histogram"
           }
          ],
          "histogram2d": [
           {
            "colorbar": {
             "outlinewidth": 0,
             "ticks": ""
            },
            "colorscale": [
             [
              0,
              "#0d0887"
             ],
             [
              0.1111111111111111,
              "#46039f"
             ],
             [
              0.2222222222222222,
              "#7201a8"
             ],
             [
              0.3333333333333333,
              "#9c179e"
             ],
             [
              0.4444444444444444,
              "#bd3786"
             ],
             [
              0.5555555555555556,
              "#d8576b"
             ],
             [
              0.6666666666666666,
              "#ed7953"
             ],
             [
              0.7777777777777778,
              "#fb9f3a"
             ],
             [
              0.8888888888888888,
              "#fdca26"
             ],
             [
              1,
              "#f0f921"
             ]
            ],
            "type": "histogram2d"
           }
          ],
          "histogram2dcontour": [
           {
            "colorbar": {
             "outlinewidth": 0,
             "ticks": ""
            },
            "colorscale": [
             [
              0,
              "#0d0887"
             ],
             [
              0.1111111111111111,
              "#46039f"
             ],
             [
              0.2222222222222222,
              "#7201a8"
             ],
             [
              0.3333333333333333,
              "#9c179e"
             ],
             [
              0.4444444444444444,
              "#bd3786"
             ],
             [
              0.5555555555555556,
              "#d8576b"
             ],
             [
              0.6666666666666666,
              "#ed7953"
             ],
             [
              0.7777777777777778,
              "#fb9f3a"
             ],
             [
              0.8888888888888888,
              "#fdca26"
             ],
             [
              1,
              "#f0f921"
             ]
            ],
            "type": "histogram2dcontour"
           }
          ],
          "mesh3d": [
           {
            "colorbar": {
             "outlinewidth": 0,
             "ticks": ""
            },
            "type": "mesh3d"
           }
          ],
          "parcoords": [
           {
            "line": {
             "colorbar": {
              "outlinewidth": 0,
              "ticks": ""
             }
            },
            "type": "parcoords"
           }
          ],
          "pie": [
           {
            "automargin": true,
            "type": "pie"
           }
          ],
          "scatter": [
           {
            "fillpattern": {
             "fillmode": "overlay",
             "size": 10,
             "solidity": 0.2
            },
            "type": "scatter"
           }
          ],
          "scatter3d": [
           {
            "line": {
             "colorbar": {
              "outlinewidth": 0,
              "ticks": ""
             }
            },
            "marker": {
             "colorbar": {
              "outlinewidth": 0,
              "ticks": ""
             }
            },
            "type": "scatter3d"
           }
          ],
          "scattercarpet": [
           {
            "marker": {
             "colorbar": {
              "outlinewidth": 0,
              "ticks": ""
             }
            },
            "type": "scattercarpet"
           }
          ],
          "scattergeo": [
           {
            "marker": {
             "colorbar": {
              "outlinewidth": 0,
              "ticks": ""
             }
            },
            "type": "scattergeo"
           }
          ],
          "scattergl": [
           {
            "marker": {
             "colorbar": {
              "outlinewidth": 0,
              "ticks": ""
             }
            },
            "type": "scattergl"
           }
          ],
          "scattermapbox": [
           {
            "marker": {
             "colorbar": {
              "outlinewidth": 0,
              "ticks": ""
             }
            },
            "type": "scattermapbox"
           }
          ],
          "scatterpolar": [
           {
            "marker": {
             "colorbar": {
              "outlinewidth": 0,
              "ticks": ""
             }
            },
            "type": "scatterpolar"
           }
          ],
          "scatterpolargl": [
           {
            "marker": {
             "colorbar": {
              "outlinewidth": 0,
              "ticks": ""
             }
            },
            "type": "scatterpolargl"
           }
          ],
          "scatterternary": [
           {
            "marker": {
             "colorbar": {
              "outlinewidth": 0,
              "ticks": ""
             }
            },
            "type": "scatterternary"
           }
          ],
          "surface": [
           {
            "colorbar": {
             "outlinewidth": 0,
             "ticks": ""
            },
            "colorscale": [
             [
              0,
              "#0d0887"
             ],
             [
              0.1111111111111111,
              "#46039f"
             ],
             [
              0.2222222222222222,
              "#7201a8"
             ],
             [
              0.3333333333333333,
              "#9c179e"
             ],
             [
              0.4444444444444444,
              "#bd3786"
             ],
             [
              0.5555555555555556,
              "#d8576b"
             ],
             [
              0.6666666666666666,
              "#ed7953"
             ],
             [
              0.7777777777777778,
              "#fb9f3a"
             ],
             [
              0.8888888888888888,
              "#fdca26"
             ],
             [
              1,
              "#f0f921"
             ]
            ],
            "type": "surface"
           }
          ],
          "table": [
           {
            "cells": {
             "fill": {
              "color": "#EBF0F8"
             },
             "line": {
              "color": "white"
             }
            },
            "header": {
             "fill": {
              "color": "#C8D4E3"
             },
             "line": {
              "color": "white"
             }
            },
            "type": "table"
           }
          ]
         },
         "layout": {
          "annotationdefaults": {
           "arrowcolor": "#2a3f5f",
           "arrowhead": 0,
           "arrowwidth": 1
          },
          "autotypenumbers": "strict",
          "coloraxis": {
           "colorbar": {
            "outlinewidth": 0,
            "ticks": ""
           }
          },
          "colorscale": {
           "diverging": [
            [
             0,
             "#8e0152"
            ],
            [
             0.1,
             "#c51b7d"
            ],
            [
             0.2,
             "#de77ae"
            ],
            [
             0.3,
             "#f1b6da"
            ],
            [
             0.4,
             "#fde0ef"
            ],
            [
             0.5,
             "#f7f7f7"
            ],
            [
             0.6,
             "#e6f5d0"
            ],
            [
             0.7,
             "#b8e186"
            ],
            [
             0.8,
             "#7fbc41"
            ],
            [
             0.9,
             "#4d9221"
            ],
            [
             1,
             "#276419"
            ]
           ],
           "sequential": [
            [
             0,
             "#0d0887"
            ],
            [
             0.1111111111111111,
             "#46039f"
            ],
            [
             0.2222222222222222,
             "#7201a8"
            ],
            [
             0.3333333333333333,
             "#9c179e"
            ],
            [
             0.4444444444444444,
             "#bd3786"
            ],
            [
             0.5555555555555556,
             "#d8576b"
            ],
            [
             0.6666666666666666,
             "#ed7953"
            ],
            [
             0.7777777777777778,
             "#fb9f3a"
            ],
            [
             0.8888888888888888,
             "#fdca26"
            ],
            [
             1,
             "#f0f921"
            ]
           ],
           "sequentialminus": [
            [
             0,
             "#0d0887"
            ],
            [
             0.1111111111111111,
             "#46039f"
            ],
            [
             0.2222222222222222,
             "#7201a8"
            ],
            [
             0.3333333333333333,
             "#9c179e"
            ],
            [
             0.4444444444444444,
             "#bd3786"
            ],
            [
             0.5555555555555556,
             "#d8576b"
            ],
            [
             0.6666666666666666,
             "#ed7953"
            ],
            [
             0.7777777777777778,
             "#fb9f3a"
            ],
            [
             0.8888888888888888,
             "#fdca26"
            ],
            [
             1,
             "#f0f921"
            ]
           ]
          },
          "colorway": [
           "#636efa",
           "#EF553B",
           "#00cc96",
           "#ab63fa",
           "#FFA15A",
           "#19d3f3",
           "#FF6692",
           "#B6E880",
           "#FF97FF",
           "#FECB52"
          ],
          "font": {
           "color": "#2a3f5f"
          },
          "geo": {
           "bgcolor": "white",
           "lakecolor": "white",
           "landcolor": "#E5ECF6",
           "showlakes": true,
           "showland": true,
           "subunitcolor": "white"
          },
          "hoverlabel": {
           "align": "left"
          },
          "hovermode": "closest",
          "mapbox": {
           "style": "light"
          },
          "paper_bgcolor": "white",
          "plot_bgcolor": "#E5ECF6",
          "polar": {
           "angularaxis": {
            "gridcolor": "white",
            "linecolor": "white",
            "ticks": ""
           },
           "bgcolor": "#E5ECF6",
           "radialaxis": {
            "gridcolor": "white",
            "linecolor": "white",
            "ticks": ""
           }
          },
          "scene": {
           "xaxis": {
            "backgroundcolor": "#E5ECF6",
            "gridcolor": "white",
            "gridwidth": 2,
            "linecolor": "white",
            "showbackground": true,
            "ticks": "",
            "zerolinecolor": "white"
           },
           "yaxis": {
            "backgroundcolor": "#E5ECF6",
            "gridcolor": "white",
            "gridwidth": 2,
            "linecolor": "white",
            "showbackground": true,
            "ticks": "",
            "zerolinecolor": "white"
           },
           "zaxis": {
            "backgroundcolor": "#E5ECF6",
            "gridcolor": "white",
            "gridwidth": 2,
            "linecolor": "white",
            "showbackground": true,
            "ticks": "",
            "zerolinecolor": "white"
           }
          },
          "shapedefaults": {
           "line": {
            "color": "#2a3f5f"
           }
          },
          "ternary": {
           "aaxis": {
            "gridcolor": "white",
            "linecolor": "white",
            "ticks": ""
           },
           "baxis": {
            "gridcolor": "white",
            "linecolor": "white",
            "ticks": ""
           },
           "bgcolor": "#E5ECF6",
           "caxis": {
            "gridcolor": "white",
            "linecolor": "white",
            "ticks": ""
           }
          },
          "title": {
           "x": 0.05
          },
          "xaxis": {
           "automargin": true,
           "gridcolor": "white",
           "linecolor": "white",
           "ticks": "",
           "title": {
            "standoff": 15
           },
           "zerolinecolor": "white",
           "zerolinewidth": 2
          },
          "yaxis": {
           "automargin": true,
           "gridcolor": "white",
           "linecolor": "white",
           "ticks": "",
           "title": {
            "standoff": 15
           },
           "zerolinecolor": "white",
           "zerolinewidth": 2
          }
         }
        },
        "xaxis": {
         "anchor": "y",
         "domain": [
          0,
          1
         ],
         "title": {
          "text": "Fare"
         }
        },
        "yaxis": {
         "anchor": "x",
         "domain": [
          0,
          1
         ],
         "title": {
          "text": "count"
         }
        }
       }
      }
     },
     "metadata": {},
     "output_type": "display_data"
    }
   ],
   "source": [
    "fig = px.histogram(data, x=\"Fare\")\n",
    "fig.show()"
   ]
  },
  {
   "cell_type": "code",
   "execution_count": 87,
   "metadata": {},
   "outputs": [],
   "source": [
    "data['Fare'] = standard_scale.fit_transform(data[['Fare']])"
   ]
  },
  {
   "cell_type": "code",
   "execution_count": 88,
   "metadata": {},
   "outputs": [],
   "source": [
    "# data_fare_mean = data['Fare'].mean(axis=0)\n",
    "# data_fare_std = data['Fare'].std(axis=0)\n",
    "# data['Fare'] = (data['Fare']-data_fare_mean)/data_fare_std"
   ]
  },
  {
   "cell_type": "code",
   "execution_count": 89,
   "metadata": {},
   "outputs": [
    {
     "data": {
      "application/vnd.plotly.v1+json": {
       "config": {
        "plotlyServerURL": "https://plot.ly"
       },
       "data": [
        {
         "alignmentgroup": "True",
         "bingroup": "x",
         "hovertemplate": "Fare=%{x}<br>count=%{y}<extra></extra>",
         "legendgroup": "",
         "marker": {
          "color": "#636efa",
          "pattern": {
           "shape": ""
          }
         },
         "name": "",
         "offsetgroup": "",
         "orientation": "v",
         "showlegend": false,
         "type": "histogram",
         "x": [
          -0.8858737398895855,
          1.391963745029503,
          -0.80333691687614,
          1.0878585712152746,
          -0.7887398672896662,
          -0.7424271477364394,
          1.0635729056910883,
          0.14708909150292954,
          -0.481034822237086,
          0.5058357831501927,
          -0.08472804814474065,
          0.3796153670146637,
          -0.7887398672896662,
          0.5457428757808499,
          -0.8116956470564598,
          -0.12707717451503017,
          0.4733921677385417,
          -0.3308460370614536,
          -0.010344652900017043,
          -0.8890589045401891,
          0.3584512760252132,
          -0.3308460370614536,
          -0.791154779158046,
          0.6748530028376512,
          0.14708909150292954,
          0.54939476368022,
          -0.8890589045401891,
          2.751454028880401,
          -0.8087365088142097,
          -0.8067762402592631,
          0.4232950295929938,
          2.140659731634853,
          -0.8241199909992462,
          -0.5372956442245629,
          1.5392134937346007,
          1.0662992315635702,
          -0.8885231208409063,
          -0.7887398672896662,
          -0.010344652900017043,
          -0.4717000335889391,
          -0.6352733364253056,
          0.1435172981059706,
          0.8365339534930637,
          -0.8087365088142097,
          -0.7887398672896662,
          -0.1584081861355881,
          -0.8241199909992462,
          0.17542846716249047,
          -0.0214506924828446,
          0.788838979776595,
          -0.8181398554642312,
          1.4681979854698561,
          0.3584512760252132,
          1.2473530933024803,
          0.6748530028376512,
          -0.5372956442245629,
          -0.8885231208409063,
          0.4243615093456389,
          0.960113482616342,
          -0.8885231208409063,
          1.5114568992916497,
          1.5555431577142833,
          0.4298229836658387,
          0.4232950295929938,
          -0.1747028585419917,
          -0.5372956442245629,
          -0.7762550800332408,
          -0.80333691687614,
          -0.720009855224494,
          -0.5372956442245629,
          0.960113482616342,
          1.423665277853339,
          -0.2271297114815611,
          1.151750400369718,
          -0.8361834680334398,
          -0.8067762402592631,
          -0.7887398672896662,
          0.46902829057053713,
          -0.37095961831692803,
          -0.683977332695899,
          -0.6327715213030118,
          -0.819631697857316,
          0.9644864512213925,
          -0.5372956442245629,
          -0.13637866181036723,
          0.6419960637226663,
          -0.7887398672896662,
          2.751454028880401,
          -0.7887398672896662,
          -0.7887398672896662,
          -0.8116956470564598,
          1.233865278750527,
          0.12304426096394323,
          -0.8858737398895855,
          -0.7887398672896662,
          0.6502468948044052,
          1.2700869641704722,
          0.23483669075433272,
          0.3584512760252132,
          -0.8067762402592631,
          -0.8067762402592631,
          1.4757092898712598,
          -0.7209117630446369,
          -0.80333691687614,
          -0.8067762402592631,
          -0.8361834680334398,
          -0.8211256638701825,
          -0.8067762402592631,
          0.2839580705845408,
          1.0662992315635702,
          -0.2271297114815611,
          -0.7887398672896662,
          -0.6007792615579953,
          -0.22685131310503448,
          -0.80333691687614,
          -0.8241199909992462,
          0.1435172981059706,
          2.6880398918809223,
          0.5457428757808499,
          1.423665277853339,
          -0.7887398672896662,
          0.5058357831501927,
          -0.3308460370614536,
          1.4757092898712598,
          -0.4717000335889391,
          -0.8241199909992462,
          -0.8997421842193767,
          0.20639342334508554,
          -0.9214537894873439,
          -0.8067762402592631,
          -0.911629902344114,
          -0.2240239851864945,
          0.3584512760252132,
          -0.3308460370614536,
          -0.18770344528212127,
          0.369405995090314,
          1.0878585712152746,
          -0.6614773467583791,
          1.5010398316674043,
          -0.1747028585419917,
          -0.8241199909992462,
          -0.13637866181036723,
          -0.9514895389404919,
          -0.44978573287969464,
          0.7101934107065866,
          -0.8186408779878279,
          0.6419960637226663,
          0.3584512760252132,
          -0.3308460370614536,
          -0.3670725362927198,
          1.3216621100372934,
          -0.7887398672896662,
          -0.2240239851864945,
          -0.8779528649573611,
          1.237306516819532,
          -0.8261249715398051,
          -0.7887398672896662,
          -0.720009855224494,
          1.366490600781135,
          -0.1209216674453405,
          -0.14262576922458964,
          -0.8211256638701825,
          -0.720009855224494,
          0.788838979776595,
          0.12060919967012694,
          1.1240850704465417,
          0.4298229836658387,
          0.35553191128658307,
          1.151750400369718,
          0.6157099790418736,
          0.4733921677385417,
          -0.481034822237086,
          -0.80333691687614,
          0.5267375373480122,
          -0.8116956470564598,
          0.3375140290818378,
          0.4589219735074653,
          -0.3308460370614536,
          -3.1005655937740957,
          1.366490600781135,
          -0.18742877096325117,
          0.54939476368022,
          0.7709537748120954,
          0.19131006276141402,
          1.025928448751406,
          -0.1584081861355881,
          0.3796153670146637,
          -0.1584081861355881,
          -0.8067762402592631,
          -0.3308460370614536,
          -0.3308460370614536,
          -0.8116956470564598,
          0.3584512760252132,
          0.4232950295929938,
          2.140659731634853,
          -0.8241199909992462,
          -0.7484474205436524,
          -0.8241199909992462,
          -0.3308460370614536,
          -0.6327715213030118,
          1.366490600781135,
          -0.9864907076924552,
          -0.8890589045401891,
          -0.7887398672896662,
          -0.5407235545560957,
          -0.13637866181036723,
          0.03227750428581368,
          -0.8241199909992462,
          0.536762174995891,
          -0.911629902344114,
          0.1435172981059706,
          -0.8858737398895855,
          -0.3308460370614536,
          -0.8241199909992462,
          1.8726551904219828,
          -0.80333691687614,
          0.3966195166925438,
          1.4622741099371646,
          -0.5372956442245629,
          -0.7887398672896662,
          -0.3308460370614536,
          -0.7887398672896662,
          -0.8067762402592631,
          1.6336308378753444,
          -0.6478726587698869,
          -0.5372956442245629,
          -0.8858737398895855,
          -0.3308460370614536,
          0.3375140290818378,
          1.5555431577142833,
          -0.8211256638701825,
          -0.29401731278121873,
          0.54939476368022,
          -0.5372956442245629,
          -0.848387221199338,
          0.3584512760252132,
          0.3681242564508809,
          -0.5372956442245629,
          -0.3866535323862989,
          -0.2271297114815611,
          -0.1584081861355881,
          -0.5372956442245629,
          -0.9018971190210933,
          -0.8890589045401891,
          1.6336308378753444,
          -0.8211256638701825,
          -0.2240239851864945,
          1.0772165715005035,
          0.3584512760252132,
          -0.8858737398895855,
          -0.5407235545560957,
          0.3796153670146637,
          -0.1209216674453405,
          0.10526071104801367,
          -0.1747028585419917,
          1.5010398316674043,
          1.5924682700789505,
          0.3584512760252132,
          0.54939476368022,
          1.5069121494568618,
          -3.1005655937740957,
          -0.8241199909992462,
          -0.5372956442245629,
          0.788838979776595,
          -0.8211256638701825,
          2.188918517835849,
          2.060195314300585,
          0.536762174995891,
          -3.1005655937740957,
          0.06940338827723976,
          0.4932355470029723,
          -0.8241199909992462,
          1.484663630321072,
          -0.8241199909992462,
          -3.1005655937740957,
          0.4733921677385417,
          0.10711442530117424,
          -0.8241199909992462,
          -0.8116956470564598,
          -0.6327715213030118,
          -0.7887398672896662,
          0.3584512760252132,
          -0.720009855224494,
          -0.6327715213030118,
          -0.8067762402592631,
          -0.3308460370614536,
          -0.8241199909992462,
          1.4964496483880447,
          1.6460041203985583,
          -0.3402587543867624,
          -0.6998392610237937,
          -0.8067762402592631,
          0.4232950295929938,
          -0.8885231208409063,
          2.1758427267877467,
          0.5202341019634243,
          2.6880398918809223,
          -0.8241199909992462,
          0.24571254918768667,
          -3.1005655937740957,
          -0.3807407790186098,
          -0.7887398672896662,
          2.1758427267877467,
          1.8504565011588794,
          1.8316854706241994,
          0.2776798208743023,
          1.1596318850047596,
          1.5516011070323592,
          2.7489664454763627,
          0.3584512760252132,
          -0.8067762402592631,
          0.3681242564508809,
          -0.8116956470564598,
          0.3584512760252132,
          -0.25843726318346033,
          2.263678441614793,
          2.05145388036274,
          -0.8858737398895855,
          -0.8067762402592631,
          -0.3807407790186098,
          0.46902829057053713,
          1.366490600781135,
          2.060195314300585,
          -1.02329392987819,
          -0.3308460370614536,
          0.12060919967012694,
          1.1784845273523066,
          0.24571254918768667,
          0.45138903591302243,
          2.188918517835849,
          -0.010344652900017043,
          2.0448494957716465,
          -0.8067762402592631,
          1.3216621100372934,
          2.05145388036274,
          -0.7887398672896662,
          0.6748530028376512,
          0.3584512760252132,
          2.751454028880401,
          -0.3308460370614536,
          -0.3308460370614536,
          -0.3308460370614536,
          -0.3308460370614536,
          -0.3308460370614536,
          -0.1209216674453405,
          -0.13326899747070153,
          -0.720009855224494,
          -0.6606250750454298,
          0.6603767602667714,
          -0.8885231208409063,
          -0.0214506924828446,
          -0.8890589045401891,
          -0.6327715213030118,
          1.1240850704465417,
          -0.3308460370614536,
          -0.8087365088142097,
          -0.8087365088142097,
          0.4298229836658387,
          0.4232950295929938,
          -0.2271297114815611,
          -0.911629902344114,
          -0.1584081861355881,
          -0.8858737398895855,
          1.4480331274818017,
          -0.8885231208409063,
          -0.8241199909992462,
          1.3627649634046757,
          1.1323306122643657,
          -0.9864907076924552,
          -0.7887398672896662,
          2.060195314300585,
          0.14708909150292954,
          1.5392134937346007,
          -0.8858737398895855,
          2.523702686379371,
          -1.4088223833485851,
          -0.8211256638701825,
          2.6000059368743487,
          -0.14314595428757057,
          -0.80333691687614,
          1.0662992315635702,
          -0.8067762402592631,
          1.423665277853339,
          0.960113482616342,
          -0.3308460370614536,
          -0.8266177984501585,
          -0.40862316508330027,
          1.9326690824780421,
          -0.8186408779878279,
          -0.80333691687614,
          1.8726551904219828,
          -0.08472804814474065,
          -0.8186408779878279,
          -0.8116956470564598,
          0.3584512760252132,
          -0.5372956442245629,
          -0.3574173536904126,
          -0.80333691687614,
          -0.7887398672896662,
          -0.6007792615579953,
          -0.13637866181036723,
          -0.720009855224494,
          0.1435172981059706,
          -0.8241199909992462,
          0.03028665143435324,
          -0.8211256638701825,
          0.3375140290818378,
          -0.8067762402592631,
          -0.936924998323471,
          1.6336308378753444,
          -3.1005655937740957,
          -0.80333691687614,
          -0.7887398672896662,
          0.5848397845294078,
          -0.3308460370614536,
          -0.3308460370614536,
          0.2839580705845408,
          -0.8261249715398051,
          -0.809233061298564,
          -0.2308169600135809,
          0.10526071104801367,
          -0.8858737398895855,
          0.3584512760252132,
          0.3584512760252132,
          -0.8241199909992462,
          -0.7887398672896662,
          0.3796153670146637,
          -0.1209216674453405,
          0.3584512760252132,
          -0.9018971190210933,
          1.1408181060705813,
          1.9326690824780421,
          0.6419960637226663,
          0.03028665143435324,
          2.751454028880401,
          -0.5372956442245629,
          0.3681242564508809,
          -0.6327715213030118,
          -0.8211256638701825,
          -0.3308460370614536,
          -0.7815167765156664,
          1.5352627097072051,
          0.06940338827723976,
          0.3796153670146637,
          0.056955873568399616,
          0.5202341019634243,
          0.4243615093456389,
          0.09302848706076605,
          0.4243615093456389,
          1.62324831142304,
          -0.7887398672896662,
          -0.8067762402592631,
          0.3796153670146637,
          1.0635729056910883,
          -0.5372956442245629,
          -0.8241199909992462,
          0.3796153670146637,
          -0.7887398672896662,
          0.7577522051883506,
          -0.3308460370614536,
          -0.7887398672896662,
          -0.911629902344114,
          -3.1005655937740957,
          0.3796153670146637,
          -0.8271228855995799,
          0.056955873568399616,
          -0.8858737398895855,
          -0.720009855224494,
          0.4243615093456389,
          -0.2731136121483746,
          -0.5995680543297169,
          1.0662992315635702,
          0.1435172981059706,
          -0.9121776161671837,
          -0.8519776504159906,
          -0.3856657573046135,
          0.960113482616342,
          -3.1005655937740957,
          -0.7887398672896662,
          -0.6240618369035017,
          1.6460041203985583,
          0.3375140290818378,
          1.6336308378753444,
          0.4932355470029723,
          -0.7887398672896662,
          -0.13326899747070153,
          0.09302848706076605,
          -0.8858737398895855,
          0.5202341019634243,
          1.0156756382125922,
          -0.7887398672896662,
          -0.22685131310503448,
          1.488754887529245,
          -0.18416434859011702,
          2.1758427267877467,
          -0.8186408779878279,
          -0.720009855224494,
          -0.8241199909992462,
          -0.8387101866590597,
          -0.6240618369035017,
          1.5924682700789505,
          1.8316854706241994,
          0.3584512760252132,
          0.3796153670146637,
          0.21385681487795707,
          1.151750400369718,
          -0.8241199909992462,
          -0.7887398672896662,
          0.36956754470972036,
          1.2034673646443796,
          -0.855061438311081,
          0.6314346406140406,
          -0.5372956442245629,
          0.2839580705845408,
          0.3584512760252132,
          -0.8067762402592631,
          1.673239725229861,
          -0.8067762402592631,
          -0.8890589045401891,
          1.1784845273523066,
          -0.8885231208409063,
          -0.8241199909992462,
          -0.5372956442245629,
          2.5732806998813036,
          -0.80333691687614,
          -0.44978573287969464,
          0.3584512760252132,
          -0.8885231208409063,
          -0.8885231208409063,
          0.20639342334508554,
          -0.720009855224494,
          0.3681242564508809,
          0.3796153670146637,
          1.8077797819082477,
          -0.2240239851864945,
          1.015588355783165,
          1.3878423140207687,
          0.5457428757808499,
          0.5457428757808499,
          0.3584512760252132,
          1.8077797819082477,
          0.3584512760252132,
          0.3584512760252132,
          -0.2681021455620769,
          0.12060919967012694,
          0.7101934107065866,
          1.8504565011588794,
          0.3584512760252132,
          -0.814663152304432,
          -0.8890589045401891,
          -0.8211256638701825,
          0.3796153670146637,
          0.7865795366072246,
          2.6000059368743487,
          1.5069121494568618,
          -0.0440216902867699,
          -0.8241199909992462,
          -0.8067762402592631,
          -0.29401731278121873,
          -0.7887398672896662,
          -0.7887398672896662,
          0.2839580705845408,
          -0.8067762402592631,
          0.14708909150292954,
          -0.8885231208409063,
          -0.8116956470564598,
          -0.5372956442245629,
          1.0559352973884015,
          0.3734066379592723,
          -0.8241199909992462,
          -0.7887398672896662,
          -0.2240239851864945,
          -0.3308460370614536,
          1.1408181060705813,
          -0.22685131310503448,
          -0.80333691687614,
          0.503441568567503,
          1.8504565011588794,
          0.3584512760252132,
          0.8000638027840101,
          -0.7145930125063139,
          1.5069121494568618,
          -0.19070337875810647,
          1.5010398316674043,
          -0.7887398672896662,
          -0.7887398672896662,
          -0.9018971190210933,
          1.488754887529245,
          -0.8858737398895855,
          -0.8241199909992462,
          0.3584512760252132,
          0.2839580705845408,
          0.6003883792389673,
          -3.1005655937740957,
          -0.8890589045401891,
          1.1596318850047596,
          0.3966195166925438,
          -0.8067762402592631,
          0.8565728642019489,
          -0.7887398672896662,
          0.3796153670146637,
          -0.1552326589116648,
          -0.8067762402592631,
          0.5202341019634243,
          0.8365339534930637,
          2.188918517835849,
          0.5457428757808499,
          -0.911629902344114,
          -0.1584081861355881,
          -0.8241199909992462,
          -0.7887398672896662,
          1.2965229213724063,
          -0.2308169600135809,
          -0.1209216674453405,
          0.7709537748120954,
          -0.5372956442245629,
          -0.2271297114815611,
          1.0772165715005035,
          -0.14314595428757057,
          -0.8116956470564598,
          -0.1209216674453405,
          0.5792106147934258,
          -0.3807407790186098,
          1.484663630321072,
          -0.8067762402592631,
          -0.8261249715398051,
          -0.9110824742102641,
          0.5202341019634243,
          -3.1005655937740957,
          0.4298229836658387,
          -0.3308460370614536,
          -0.80333691687614,
          0.3681242564508809,
          0.788838979776595,
          -0.1209216674453405,
          -0.8116956470564598,
          1.3627649634046757,
          0.4298229836658387,
          1.151750400369718,
          0.056955873568399616,
          1.4681979854698561,
          -0.8067762402592631,
          0.6748530028376512,
          -0.848387221199338,
          -0.848387221199338,
          -0.8067762402592631,
          0.23483669075433272,
          -0.7452048678857731,
          -0.814663152304432,
          -0.9514895389404919,
          1.423665277853339,
          -0.8067762402592631,
          -0.1584081861355881,
          -0.3308460370614536,
          1.8726551904219828,
          2.0448494957716465,
          -0.8890589045401891,
          0.34229333558230607,
          -0.855061438311081,
          -0.80333691687614,
          1.423665277853339,
          -0.3308460370614536,
          -0.8211256638701825,
          -0.7887398672896662,
          1.0662992315635702,
          0.7709537748120954,
          1.0662992315635702,
          -0.5372956442245629,
          -0.3308460370614536,
          -3.1005655937740957,
          -0.8211256638701825,
          -0.7887398672896662,
          -0.5991614022363015,
          0.960113482616342,
          -0.7786414022600585,
          1.4681979854698561,
          -0.6606250750454298,
          0.960113482616342,
          0.7709537748120954,
          0.8365339534930637,
          0.788838979776595,
          -0.567777434922538,
          -0.8186408779878279,
          2.5228998121642876,
          1.1609137947267756,
          -0.3000639573635764,
          1.151750400369718,
          -0.8890589045401891,
          0.3796153670146637,
          -0.29401731278121873,
          -0.7887398672896662,
          -0.8261249715398051,
          1.8504565011588794,
          -0.8361834680334398,
          2.6000059368743487,
          0.36956754470972036,
          -0.2271297114815611,
          -0.8251159995647235,
          -0.8116956470564598,
          0.3584512760252132,
          -0.29401731278121873,
          0.36956754470972036,
          2.1758427267877467,
          -0.1747028585419917,
          1.0156756382125922,
          0.3796153670146637,
          1.0662992315635702,
          -0.6344420723138088,
          -0.3308460370614536,
          -0.8361834680334398,
          2.6000059368743487,
          -0.5372956442245629,
          -0.8211256638701825,
          0.6003883792389673,
          -0.9110824742102641,
          -0.3308460370614536,
          -0.3308460370614536,
          1.0878585712152746,
          -0.720009855224494,
          0.1435172981059706,
          -0.8256203643024087,
          0.3584512760252132,
          -0.80333691687614,
          2.5228998121642876,
          0.03227750428581368,
          -3.1005655937740957,
          -0.3308460370614536,
          -0.3308460370614536,
          -0.1209216674453405,
          0.6419960637226663,
          -0.8067762402592631,
          -0.8067762402592631,
          0.503441568567503,
          1.4964496483880447,
          2.7489664454763627,
          -0.1209216674453405,
          -0.80333691687614,
          1.3878423140207687,
          0.10711442530117424,
          -0.3308460370614536,
          1.0878585712152746,
          -0.8241199909992462,
          0.23483669075433272,
          -0.37095961831692803,
          -0.6327715213030118,
          -0.8067762402592631,
          1.2965229213724063,
          -0.2240239851864945,
          -0.8186408779878279,
          -0.44978573287969464,
          -0.7887398672896662,
          1.5924682700789505,
          -0.2240239851864945,
          -0.9018971190210933,
          -0.8885231208409063,
          1.9326690824780421,
          -0.8211256638701825,
          1.484663630321072,
          0.7865795366072246,
          -0.8241199909992462,
          0.2839580705845408,
          -0.753111498779037,
          -0.6327715213030118,
          -0.8116956470564598,
          -0.5372956442245629,
          -0.8890589045401891,
          0.23483669075433272,
          -0.8241199909992462,
          -0.8241199909992462,
          -0.37095961831692803,
          -0.8256203643024087,
          2.5228998121642876,
          -0.8885231208409063,
          1.1609137947267756,
          0.503441568567503,
          0.25433281076544834,
          -0.911629902344114,
          -0.8858737398895855,
          -0.855061438311081,
          0.4733921677385417,
          0.12304426096394323,
          1.5010398316674043,
          -0.8241199909992462,
          0.3584512760252132,
          1.366490600781135,
          0.5267375373480122,
          -0.8067762402592631,
          -0.3308460370614536,
          0.3556956105332742,
          -0.7177530515662838,
          -0.8885231208409063,
          0.2839580705845408,
          -0.3308460370614536,
          0.3681242564508809,
          1.9326690824780421,
          -0.7359668965826148,
          -0.9214537894873439,
          -0.8211256638701825,
          -3.1005655937740957,
          -0.8211256638701825,
          -0.3308460370614536,
          1.0878585712152746,
          -0.8077559168649681,
          0.2839580705845408,
          -0.5372956442245629,
          0.5457428757808499,
          -0.7887398672896662,
          -3.1005655937740957,
          -0.80333691687614,
          0.7172368930223374,
          -0.9929229832248573,
          0.4298229836658387,
          1.673239725229861,
          -0.720009855224494,
          -3.1005655937740957,
          -0.37095961831692803,
          0.788838979776595,
          -0.9247489600021872,
          1.151750400369718,
          0.7172368930223374,
          -0.8241199909992462,
          1.5114568992916497,
          -0.2271297114815611,
          0.03028665143435324,
          -0.8885231208409063,
          -0.8116956470564598,
          -0.7601410692442572,
          1.5516011070323592,
          -0.720009855224494,
          -0.7887398672896662,
          1.151750400369718,
          0.4932355470029723,
          -0.80333691687614,
          -0.5372956442245629,
          0.536762174995891,
          -0.9946853865723747,
          -0.720009855224494,
          -0.848387221199338,
          1.366490600781135,
          -0.8067762402592631,
          0.6003883792389673,
          1.62324831142304,
          0.5457428757808499,
          -0.1747028585419917,
          0.7813967559669607,
          0.3584512760252132,
          -0.6478726587698869,
          2.263678441614793,
          0.3796153670146637,
          0.056955873568399616,
          -0.8885231208409063,
          -0.2508870178524229,
          -0.44978573287969464,
          0.3556956105332742,
          1.366490600781135,
          -0.3308460370614536,
          -0.3308460370614536,
          -0.2683987692065266,
          1.0360820664813137,
          -0.6327715213030118,
          -0.481034822237086,
          -0.8067762402592631,
          1.0772165715005035,
          -1.220094416753662,
          -0.683977332695899,
          0.2776798208743023,
          -0.8890589045401891,
          -0.5987645842597514,
          -0.8067762402592631,
          -0.8067762402592631,
          1.5516011070323592,
          0.3584512760252132,
          -0.8067762402592631,
          -0.535772677345083,
          -0.5372956442245629,
          -0.911629902344114,
          0.4733921677385417,
          -0.3308460370614536,
          0.503441568567503,
          0.25433281076544834,
          0.503441568567503,
          -0.8241199909992462
         ],
         "xaxis": "x",
         "yaxis": "y"
        }
       ],
       "layout": {
        "barmode": "relative",
        "legend": {
         "tracegroupgap": 0
        },
        "margin": {
         "t": 60
        },
        "template": {
         "data": {
          "bar": [
           {
            "error_x": {
             "color": "#2a3f5f"
            },
            "error_y": {
             "color": "#2a3f5f"
            },
            "marker": {
             "line": {
              "color": "#E5ECF6",
              "width": 0.5
             },
             "pattern": {
              "fillmode": "overlay",
              "size": 10,
              "solidity": 0.2
             }
            },
            "type": "bar"
           }
          ],
          "barpolar": [
           {
            "marker": {
             "line": {
              "color": "#E5ECF6",
              "width": 0.5
             },
             "pattern": {
              "fillmode": "overlay",
              "size": 10,
              "solidity": 0.2
             }
            },
            "type": "barpolar"
           }
          ],
          "carpet": [
           {
            "aaxis": {
             "endlinecolor": "#2a3f5f",
             "gridcolor": "white",
             "linecolor": "white",
             "minorgridcolor": "white",
             "startlinecolor": "#2a3f5f"
            },
            "baxis": {
             "endlinecolor": "#2a3f5f",
             "gridcolor": "white",
             "linecolor": "white",
             "minorgridcolor": "white",
             "startlinecolor": "#2a3f5f"
            },
            "type": "carpet"
           }
          ],
          "choropleth": [
           {
            "colorbar": {
             "outlinewidth": 0,
             "ticks": ""
            },
            "type": "choropleth"
           }
          ],
          "contour": [
           {
            "colorbar": {
             "outlinewidth": 0,
             "ticks": ""
            },
            "colorscale": [
             [
              0,
              "#0d0887"
             ],
             [
              0.1111111111111111,
              "#46039f"
             ],
             [
              0.2222222222222222,
              "#7201a8"
             ],
             [
              0.3333333333333333,
              "#9c179e"
             ],
             [
              0.4444444444444444,
              "#bd3786"
             ],
             [
              0.5555555555555556,
              "#d8576b"
             ],
             [
              0.6666666666666666,
              "#ed7953"
             ],
             [
              0.7777777777777778,
              "#fb9f3a"
             ],
             [
              0.8888888888888888,
              "#fdca26"
             ],
             [
              1,
              "#f0f921"
             ]
            ],
            "type": "contour"
           }
          ],
          "contourcarpet": [
           {
            "colorbar": {
             "outlinewidth": 0,
             "ticks": ""
            },
            "type": "contourcarpet"
           }
          ],
          "heatmap": [
           {
            "colorbar": {
             "outlinewidth": 0,
             "ticks": ""
            },
            "colorscale": [
             [
              0,
              "#0d0887"
             ],
             [
              0.1111111111111111,
              "#46039f"
             ],
             [
              0.2222222222222222,
              "#7201a8"
             ],
             [
              0.3333333333333333,
              "#9c179e"
             ],
             [
              0.4444444444444444,
              "#bd3786"
             ],
             [
              0.5555555555555556,
              "#d8576b"
             ],
             [
              0.6666666666666666,
              "#ed7953"
             ],
             [
              0.7777777777777778,
              "#fb9f3a"
             ],
             [
              0.8888888888888888,
              "#fdca26"
             ],
             [
              1,
              "#f0f921"
             ]
            ],
            "type": "heatmap"
           }
          ],
          "heatmapgl": [
           {
            "colorbar": {
             "outlinewidth": 0,
             "ticks": ""
            },
            "colorscale": [
             [
              0,
              "#0d0887"
             ],
             [
              0.1111111111111111,
              "#46039f"
             ],
             [
              0.2222222222222222,
              "#7201a8"
             ],
             [
              0.3333333333333333,
              "#9c179e"
             ],
             [
              0.4444444444444444,
              "#bd3786"
             ],
             [
              0.5555555555555556,
              "#d8576b"
             ],
             [
              0.6666666666666666,
              "#ed7953"
             ],
             [
              0.7777777777777778,
              "#fb9f3a"
             ],
             [
              0.8888888888888888,
              "#fdca26"
             ],
             [
              1,
              "#f0f921"
             ]
            ],
            "type": "heatmapgl"
           }
          ],
          "histogram": [
           {
            "marker": {
             "pattern": {
              "fillmode": "overlay",
              "size": 10,
              "solidity": 0.2
             }
            },
            "type": "histogram"
           }
          ],
          "histogram2d": [
           {
            "colorbar": {
             "outlinewidth": 0,
             "ticks": ""
            },
            "colorscale": [
             [
              0,
              "#0d0887"
             ],
             [
              0.1111111111111111,
              "#46039f"
             ],
             [
              0.2222222222222222,
              "#7201a8"
             ],
             [
              0.3333333333333333,
              "#9c179e"
             ],
             [
              0.4444444444444444,
              "#bd3786"
             ],
             [
              0.5555555555555556,
              "#d8576b"
             ],
             [
              0.6666666666666666,
              "#ed7953"
             ],
             [
              0.7777777777777778,
              "#fb9f3a"
             ],
             [
              0.8888888888888888,
              "#fdca26"
             ],
             [
              1,
              "#f0f921"
             ]
            ],
            "type": "histogram2d"
           }
          ],
          "histogram2dcontour": [
           {
            "colorbar": {
             "outlinewidth": 0,
             "ticks": ""
            },
            "colorscale": [
             [
              0,
              "#0d0887"
             ],
             [
              0.1111111111111111,
              "#46039f"
             ],
             [
              0.2222222222222222,
              "#7201a8"
             ],
             [
              0.3333333333333333,
              "#9c179e"
             ],
             [
              0.4444444444444444,
              "#bd3786"
             ],
             [
              0.5555555555555556,
              "#d8576b"
             ],
             [
              0.6666666666666666,
              "#ed7953"
             ],
             [
              0.7777777777777778,
              "#fb9f3a"
             ],
             [
              0.8888888888888888,
              "#fdca26"
             ],
             [
              1,
              "#f0f921"
             ]
            ],
            "type": "histogram2dcontour"
           }
          ],
          "mesh3d": [
           {
            "colorbar": {
             "outlinewidth": 0,
             "ticks": ""
            },
            "type": "mesh3d"
           }
          ],
          "parcoords": [
           {
            "line": {
             "colorbar": {
              "outlinewidth": 0,
              "ticks": ""
             }
            },
            "type": "parcoords"
           }
          ],
          "pie": [
           {
            "automargin": true,
            "type": "pie"
           }
          ],
          "scatter": [
           {
            "fillpattern": {
             "fillmode": "overlay",
             "size": 10,
             "solidity": 0.2
            },
            "type": "scatter"
           }
          ],
          "scatter3d": [
           {
            "line": {
             "colorbar": {
              "outlinewidth": 0,
              "ticks": ""
             }
            },
            "marker": {
             "colorbar": {
              "outlinewidth": 0,
              "ticks": ""
             }
            },
            "type": "scatter3d"
           }
          ],
          "scattercarpet": [
           {
            "marker": {
             "colorbar": {
              "outlinewidth": 0,
              "ticks": ""
             }
            },
            "type": "scattercarpet"
           }
          ],
          "scattergeo": [
           {
            "marker": {
             "colorbar": {
              "outlinewidth": 0,
              "ticks": ""
             }
            },
            "type": "scattergeo"
           }
          ],
          "scattergl": [
           {
            "marker": {
             "colorbar": {
              "outlinewidth": 0,
              "ticks": ""
             }
            },
            "type": "scattergl"
           }
          ],
          "scattermapbox": [
           {
            "marker": {
             "colorbar": {
              "outlinewidth": 0,
              "ticks": ""
             }
            },
            "type": "scattermapbox"
           }
          ],
          "scatterpolar": [
           {
            "marker": {
             "colorbar": {
              "outlinewidth": 0,
              "ticks": ""
             }
            },
            "type": "scatterpolar"
           }
          ],
          "scatterpolargl": [
           {
            "marker": {
             "colorbar": {
              "outlinewidth": 0,
              "ticks": ""
             }
            },
            "type": "scatterpolargl"
           }
          ],
          "scatterternary": [
           {
            "marker": {
             "colorbar": {
              "outlinewidth": 0,
              "ticks": ""
             }
            },
            "type": "scatterternary"
           }
          ],
          "surface": [
           {
            "colorbar": {
             "outlinewidth": 0,
             "ticks": ""
            },
            "colorscale": [
             [
              0,
              "#0d0887"
             ],
             [
              0.1111111111111111,
              "#46039f"
             ],
             [
              0.2222222222222222,
              "#7201a8"
             ],
             [
              0.3333333333333333,
              "#9c179e"
             ],
             [
              0.4444444444444444,
              "#bd3786"
             ],
             [
              0.5555555555555556,
              "#d8576b"
             ],
             [
              0.6666666666666666,
              "#ed7953"
             ],
             [
              0.7777777777777778,
              "#fb9f3a"
             ],
             [
              0.8888888888888888,
              "#fdca26"
             ],
             [
              1,
              "#f0f921"
             ]
            ],
            "type": "surface"
           }
          ],
          "table": [
           {
            "cells": {
             "fill": {
              "color": "#EBF0F8"
             },
             "line": {
              "color": "white"
             }
            },
            "header": {
             "fill": {
              "color": "#C8D4E3"
             },
             "line": {
              "color": "white"
             }
            },
            "type": "table"
           }
          ]
         },
         "layout": {
          "annotationdefaults": {
           "arrowcolor": "#2a3f5f",
           "arrowhead": 0,
           "arrowwidth": 1
          },
          "autotypenumbers": "strict",
          "coloraxis": {
           "colorbar": {
            "outlinewidth": 0,
            "ticks": ""
           }
          },
          "colorscale": {
           "diverging": [
            [
             0,
             "#8e0152"
            ],
            [
             0.1,
             "#c51b7d"
            ],
            [
             0.2,
             "#de77ae"
            ],
            [
             0.3,
             "#f1b6da"
            ],
            [
             0.4,
             "#fde0ef"
            ],
            [
             0.5,
             "#f7f7f7"
            ],
            [
             0.6,
             "#e6f5d0"
            ],
            [
             0.7,
             "#b8e186"
            ],
            [
             0.8,
             "#7fbc41"
            ],
            [
             0.9,
             "#4d9221"
            ],
            [
             1,
             "#276419"
            ]
           ],
           "sequential": [
            [
             0,
             "#0d0887"
            ],
            [
             0.1111111111111111,
             "#46039f"
            ],
            [
             0.2222222222222222,
             "#7201a8"
            ],
            [
             0.3333333333333333,
             "#9c179e"
            ],
            [
             0.4444444444444444,
             "#bd3786"
            ],
            [
             0.5555555555555556,
             "#d8576b"
            ],
            [
             0.6666666666666666,
             "#ed7953"
            ],
            [
             0.7777777777777778,
             "#fb9f3a"
            ],
            [
             0.8888888888888888,
             "#fdca26"
            ],
            [
             1,
             "#f0f921"
            ]
           ],
           "sequentialminus": [
            [
             0,
             "#0d0887"
            ],
            [
             0.1111111111111111,
             "#46039f"
            ],
            [
             0.2222222222222222,
             "#7201a8"
            ],
            [
             0.3333333333333333,
             "#9c179e"
            ],
            [
             0.4444444444444444,
             "#bd3786"
            ],
            [
             0.5555555555555556,
             "#d8576b"
            ],
            [
             0.6666666666666666,
             "#ed7953"
            ],
            [
             0.7777777777777778,
             "#fb9f3a"
            ],
            [
             0.8888888888888888,
             "#fdca26"
            ],
            [
             1,
             "#f0f921"
            ]
           ]
          },
          "colorway": [
           "#636efa",
           "#EF553B",
           "#00cc96",
           "#ab63fa",
           "#FFA15A",
           "#19d3f3",
           "#FF6692",
           "#B6E880",
           "#FF97FF",
           "#FECB52"
          ],
          "font": {
           "color": "#2a3f5f"
          },
          "geo": {
           "bgcolor": "white",
           "lakecolor": "white",
           "landcolor": "#E5ECF6",
           "showlakes": true,
           "showland": true,
           "subunitcolor": "white"
          },
          "hoverlabel": {
           "align": "left"
          },
          "hovermode": "closest",
          "mapbox": {
           "style": "light"
          },
          "paper_bgcolor": "white",
          "plot_bgcolor": "#E5ECF6",
          "polar": {
           "angularaxis": {
            "gridcolor": "white",
            "linecolor": "white",
            "ticks": ""
           },
           "bgcolor": "#E5ECF6",
           "radialaxis": {
            "gridcolor": "white",
            "linecolor": "white",
            "ticks": ""
           }
          },
          "scene": {
           "xaxis": {
            "backgroundcolor": "#E5ECF6",
            "gridcolor": "white",
            "gridwidth": 2,
            "linecolor": "white",
            "showbackground": true,
            "ticks": "",
            "zerolinecolor": "white"
           },
           "yaxis": {
            "backgroundcolor": "#E5ECF6",
            "gridcolor": "white",
            "gridwidth": 2,
            "linecolor": "white",
            "showbackground": true,
            "ticks": "",
            "zerolinecolor": "white"
           },
           "zaxis": {
            "backgroundcolor": "#E5ECF6",
            "gridcolor": "white",
            "gridwidth": 2,
            "linecolor": "white",
            "showbackground": true,
            "ticks": "",
            "zerolinecolor": "white"
           }
          },
          "shapedefaults": {
           "line": {
            "color": "#2a3f5f"
           }
          },
          "ternary": {
           "aaxis": {
            "gridcolor": "white",
            "linecolor": "white",
            "ticks": ""
           },
           "baxis": {
            "gridcolor": "white",
            "linecolor": "white",
            "ticks": ""
           },
           "bgcolor": "#E5ECF6",
           "caxis": {
            "gridcolor": "white",
            "linecolor": "white",
            "ticks": ""
           }
          },
          "title": {
           "x": 0.05
          },
          "xaxis": {
           "automargin": true,
           "gridcolor": "white",
           "linecolor": "white",
           "ticks": "",
           "title": {
            "standoff": 15
           },
           "zerolinecolor": "white",
           "zerolinewidth": 2
          },
          "yaxis": {
           "automargin": true,
           "gridcolor": "white",
           "linecolor": "white",
           "ticks": "",
           "title": {
            "standoff": 15
           },
           "zerolinecolor": "white",
           "zerolinewidth": 2
          }
         }
        },
        "xaxis": {
         "anchor": "y",
         "domain": [
          0,
          1
         ],
         "title": {
          "text": "Fare"
         }
        },
        "yaxis": {
         "anchor": "x",
         "domain": [
          0,
          1
         ],
         "title": {
          "text": "count"
         }
        }
       }
      }
     },
     "metadata": {},
     "output_type": "display_data"
    }
   ],
   "source": [
    "fig = px.histogram(data, x=\"Fare\")\n",
    "fig.show()"
   ]
  },
  {
   "attachments": {},
   "cell_type": "markdown",
   "metadata": {},
   "source": [
    "### Standard scalling everything >:D"
   ]
  },
  {
   "cell_type": "code",
   "execution_count": 90,
   "metadata": {},
   "outputs": [],
   "source": [
    "# data['Sex'] = standard_scale.fit_transform(data[['Sex']])\n",
    "# data['Pclass'] = standard_scale.fit_transform(data[['Pclass']])\n",
    "# data['Parents/Children Aboard'] = standard_scale.fit_transform(data[['Parents/Children Aboard']])\n",
    "# data['Siblings/Spouses Aboard'] = standard_scale.fit_transform(data[['Siblings/Spouses Aboard']])"
   ]
  },
  {
   "attachments": {},
   "cell_type": "markdown",
   "metadata": {},
   "source": [
    "## Split dataset"
   ]
  },
  {
   "cell_type": "code",
   "execution_count": 91,
   "metadata": {},
   "outputs": [
    {
     "data": {
      "text/html": [
       "<div>\n",
       "<style scoped>\n",
       "    .dataframe tbody tr th:only-of-type {\n",
       "        vertical-align: middle;\n",
       "    }\n",
       "\n",
       "    .dataframe tbody tr th {\n",
       "        vertical-align: top;\n",
       "    }\n",
       "\n",
       "    .dataframe thead th {\n",
       "        text-align: right;\n",
       "    }\n",
       "</style>\n",
       "<table border=\"1\" class=\"dataframe\">\n",
       "  <thead>\n",
       "    <tr style=\"text-align: right;\">\n",
       "      <th></th>\n",
       "      <th>Survived</th>\n",
       "      <th>Pclass</th>\n",
       "      <th>Sex</th>\n",
       "      <th>Age</th>\n",
       "      <th>Siblings/Spouses Aboard</th>\n",
       "      <th>Parents/Children Aboard</th>\n",
       "      <th>Fare</th>\n",
       "    </tr>\n",
       "  </thead>\n",
       "  <tbody>\n",
       "    <tr>\n",
       "      <th>count</th>\n",
       "      <td>882.000000</td>\n",
       "      <td>882.000000</td>\n",
       "      <td>882.000000</td>\n",
       "      <td>882.000000</td>\n",
       "      <td>882.000000</td>\n",
       "      <td>882.000000</td>\n",
       "      <td>8.820000e+02</td>\n",
       "    </tr>\n",
       "    <tr>\n",
       "      <th>mean</th>\n",
       "      <td>0.383220</td>\n",
       "      <td>2.310658</td>\n",
       "      <td>0.354875</td>\n",
       "      <td>-0.001456</td>\n",
       "      <td>0.528345</td>\n",
       "      <td>0.384354</td>\n",
       "      <td>-3.021015e-16</td>\n",
       "    </tr>\n",
       "    <tr>\n",
       "      <th>std</th>\n",
       "      <td>0.486447</td>\n",
       "      <td>0.834065</td>\n",
       "      <td>0.478747</td>\n",
       "      <td>1.001953</td>\n",
       "      <td>1.107088</td>\n",
       "      <td>0.809075</td>\n",
       "      <td>1.000567e+00</td>\n",
       "    </tr>\n",
       "    <tr>\n",
       "      <th>min</th>\n",
       "      <td>0.000000</td>\n",
       "      <td>1.000000</td>\n",
       "      <td>0.000000</td>\n",
       "      <td>-2.075298</td>\n",
       "      <td>0.000000</td>\n",
       "      <td>0.000000</td>\n",
       "      <td>-3.100566e+00</td>\n",
       "    </tr>\n",
       "    <tr>\n",
       "      <th>25%</th>\n",
       "      <td>0.000000</td>\n",
       "      <td>2.000000</td>\n",
       "      <td>0.000000</td>\n",
       "      <td>-0.671405</td>\n",
       "      <td>0.000000</td>\n",
       "      <td>0.000000</td>\n",
       "      <td>-8.033369e-01</td>\n",
       "    </tr>\n",
       "    <tr>\n",
       "      <th>50%</th>\n",
       "      <td>0.000000</td>\n",
       "      <td>3.000000</td>\n",
       "      <td>0.000000</td>\n",
       "      <td>-0.097802</td>\n",
       "      <td>0.000000</td>\n",
       "      <td>0.000000</td>\n",
       "      <td>-2.271297e-01</td>\n",
       "    </tr>\n",
       "    <tr>\n",
       "      <th>75%</th>\n",
       "      <td>1.000000</td>\n",
       "      <td>3.000000</td>\n",
       "      <td>1.000000</td>\n",
       "      <td>0.619202</td>\n",
       "      <td>1.000000</td>\n",
       "      <td>0.000000</td>\n",
       "      <td>5.367622e-01</td>\n",
       "    </tr>\n",
       "    <tr>\n",
       "      <th>max</th>\n",
       "      <td>1.000000</td>\n",
       "      <td>3.000000</td>\n",
       "      <td>1.000000</td>\n",
       "      <td>2.985315</td>\n",
       "      <td>8.000000</td>\n",
       "      <td>6.000000</td>\n",
       "      <td>2.751454e+00</td>\n",
       "    </tr>\n",
       "  </tbody>\n",
       "</table>\n",
       "</div>"
      ],
      "text/plain": [
       "         Survived      Pclass         Sex         Age  \\\n",
       "count  882.000000  882.000000  882.000000  882.000000   \n",
       "mean     0.383220    2.310658    0.354875   -0.001456   \n",
       "std      0.486447    0.834065    0.478747    1.001953   \n",
       "min      0.000000    1.000000    0.000000   -2.075298   \n",
       "25%      0.000000    2.000000    0.000000   -0.671405   \n",
       "50%      0.000000    3.000000    0.000000   -0.097802   \n",
       "75%      1.000000    3.000000    1.000000    0.619202   \n",
       "max      1.000000    3.000000    1.000000    2.985315   \n",
       "\n",
       "       Siblings/Spouses Aboard  Parents/Children Aboard          Fare  \n",
       "count               882.000000               882.000000  8.820000e+02  \n",
       "mean                  0.528345                 0.384354 -3.021015e-16  \n",
       "std                   1.107088                 0.809075  1.000567e+00  \n",
       "min                   0.000000                 0.000000 -3.100566e+00  \n",
       "25%                   0.000000                 0.000000 -8.033369e-01  \n",
       "50%                   0.000000                 0.000000 -2.271297e-01  \n",
       "75%                   1.000000                 0.000000  5.367622e-01  \n",
       "max                   8.000000                 6.000000  2.751454e+00  "
      ]
     },
     "execution_count": 91,
     "metadata": {},
     "output_type": "execute_result"
    }
   ],
   "source": [
    "data.describe()"
   ]
  },
  {
   "cell_type": "code",
   "execution_count": 92,
   "metadata": {},
   "outputs": [
    {
     "data": {
      "text/plain": [
       "Survived                     int64\n",
       "Pclass                       int64\n",
       "Sex                          int64\n",
       "Age                        float64\n",
       "Siblings/Spouses Aboard      int64\n",
       "Parents/Children Aboard      int64\n",
       "Fare                       float64\n",
       "dtype: object"
      ]
     },
     "execution_count": 92,
     "metadata": {},
     "output_type": "execute_result"
    }
   ],
   "source": [
    "data.dtypes"
   ]
  },
  {
   "cell_type": "code",
   "execution_count": 93,
   "metadata": {},
   "outputs": [],
   "source": [
    "from sklearn.model_selection import train_test_split"
   ]
  },
  {
   "attachments": {},
   "cell_type": "markdown",
   "metadata": {},
   "source": [
    "70% 30%"
   ]
  },
  {
   "cell_type": "code",
   "execution_count": 94,
   "metadata": {},
   "outputs": [],
   "source": [
    "y = data['Survived']\n",
    "x = data[['Pclass', 'Sex', 'Age', 'Siblings/Spouses Aboard', 'Parents/Children Aboard', 'Fare']]"
   ]
  },
  {
   "cell_type": "code",
   "execution_count": 95,
   "metadata": {},
   "outputs": [
    {
     "name": "stdout",
     "output_type": "stream",
     "text": [
      "(882,)\n",
      "(882, 6)\n"
     ]
    }
   ],
   "source": [
    "print(y.shape)\n",
    "print(x.shape)"
   ]
  },
  {
   "cell_type": "code",
   "execution_count": 96,
   "metadata": {},
   "outputs": [],
   "source": [
    "x_train, x_val, y_train, y_val = train_test_split(x, y, test_size=0.3, train_size=0.7, random_state=420)"
   ]
  },
  {
   "cell_type": "code",
   "execution_count": 97,
   "metadata": {},
   "outputs": [
    {
     "name": "stdout",
     "output_type": "stream",
     "text": [
      "617 617\n",
      "265 265\n"
     ]
    }
   ],
   "source": [
    "print(len(x_train), len(y_train))\n",
    "print(len(x_val), len(y_val))"
   ]
  },
  {
   "cell_type": "code",
   "execution_count": 98,
   "metadata": {},
   "outputs": [],
   "source": [
    "# x_val, x_test, y_val, y_test = train_test_split(x_temp, y_temp, test_size=0.5, train_size=0.5, random_state=420)"
   ]
  },
  {
   "cell_type": "code",
   "execution_count": 99,
   "metadata": {},
   "outputs": [],
   "source": [
    "# print(len(x_val), len(y_val))\n",
    "# print(len(x_test), len(y_test))"
   ]
  },
  {
   "cell_type": "code",
   "execution_count": 100,
   "metadata": {},
   "outputs": [],
   "source": [
    "x_train.to_csv('data/train/data.csv', index=False)\n",
    "y_train.to_csv('data/train/labels.csv', index=False)\n",
    "\n",
    "x_val.to_csv('data/val/data.csv', index=False)\n",
    "y_val.to_csv('data/val/labels.csv', index=False)\n",
    "\n",
    "# x_test.to_csv('data/test/data.csv', index=False)\n",
    "# y_test.to_csv('data/test/labels.csv', index=False)"
   ]
  },
  {
   "cell_type": "code",
   "execution_count": 101,
   "metadata": {},
   "outputs": [
    {
     "data": {
      "text/plain": [
       "<AxesSubplot: xlabel='Survived', ylabel='Count'>"
      ]
     },
     "execution_count": 101,
     "metadata": {},
     "output_type": "execute_result"
    },
    {
     "data": {
      "image/png": "[encoded data removed]",
      "text/plain": [
       "<Figure size 640x480 with 1 Axes>"
      ]
     },
     "metadata": {},
     "output_type": "display_data"
    }
   ],
   "source": [
    "sns.histplot(data, x=y_train)"
   ]
  },
  {
   "cell_type": "code",
   "execution_count": 102,
   "metadata": {},
   "outputs": [
    {
     "data": {
      "text/plain": [
       "<AxesSubplot: xlabel='Survived', ylabel='Count'>"
      ]
     },
     "execution_count": 102,
     "metadata": {},
     "output_type": "execute_result"
    },
    {
     "data": {
      "image/png": "[encoded data removed]",
      "text/plain": [
       "<Figure size 640x480 with 1 Axes>"
      ]
     },
     "metadata": {},
     "output_type": "display_data"
    }
   ],
   "source": [
    "sns.histplot(data, x=y_val)"
   ]
  },
  {
   "cell_type": "code",
   "execution_count": 103,
   "metadata": {},
   "outputs": [],
   "source": [
    "# sns.histplot(data, x=y_test)"
   ]
  },
  {
   "attachments": {},
   "cell_type": "markdown",
   "metadata": {},
   "source": [
    "# Playground"
   ]
  },
  {
   "cell_type": "code",
   "execution_count": 104,
   "metadata": {},
   "outputs": [
    {
     "name": "stdout",
     "output_type": "stream",
     "text": [
      "[0 1 2 3 4 5 6]\n",
      "[0 1 2 3 4 5 8]\n"
     ]
    }
   ],
   "source": [
    "print(data['Parents/Children Aboard'].sort_values().unique())\n",
    "print(data['Siblings/Spouses Aboard'].sort_values().unique())"
   ]
  },
  {
   "cell_type": "code",
   "execution_count": 105,
   "metadata": {},
   "outputs": [
    {
     "data": {
      "text/html": [
       "<div>\n",
       "<style scoped>\n",
       "    .dataframe tbody tr th:only-of-type {\n",
       "        vertical-align: middle;\n",
       "    }\n",
       "\n",
       "    .dataframe tbody tr th {\n",
       "        vertical-align: top;\n",
       "    }\n",
       "\n",
       "    .dataframe thead th {\n",
       "        text-align: right;\n",
       "    }\n",
       "</style>\n",
       "<table border=\"1\" class=\"dataframe\">\n",
       "  <thead>\n",
       "    <tr style=\"text-align: right;\">\n",
       "      <th></th>\n",
       "      <th>Survived</th>\n",
       "      <th>Pclass</th>\n",
       "      <th>Sex</th>\n",
       "      <th>Age</th>\n",
       "      <th>Siblings/Spouses Aboard</th>\n",
       "      <th>Parents/Children Aboard</th>\n",
       "      <th>Fare</th>\n",
       "    </tr>\n",
       "  </thead>\n",
       "  <tbody>\n",
       "    <tr>\n",
       "      <th>158</th>\n",
       "      <td>0</td>\n",
       "      <td>3</td>\n",
       "      <td>0</td>\n",
       "      <td>-1.746911</td>\n",
       "      <td>8</td>\n",
       "      <td>2</td>\n",
       "      <td>1.366491</td>\n",
       "    </tr>\n",
       "    <tr>\n",
       "      <th>179</th>\n",
       "      <td>0</td>\n",
       "      <td>3</td>\n",
       "      <td>1</td>\n",
       "      <td>-1.531809</td>\n",
       "      <td>8</td>\n",
       "      <td>2</td>\n",
       "      <td>1.366491</td>\n",
       "    </tr>\n",
       "    <tr>\n",
       "      <th>200</th>\n",
       "      <td>0</td>\n",
       "      <td>3</td>\n",
       "      <td>0</td>\n",
       "      <td>-0.886506</td>\n",
       "      <td>8</td>\n",
       "      <td>2</td>\n",
       "      <td>1.366491</td>\n",
       "    </tr>\n",
       "    <tr>\n",
       "      <th>322</th>\n",
       "      <td>0</td>\n",
       "      <td>3</td>\n",
       "      <td>0</td>\n",
       "      <td>-0.671405</td>\n",
       "      <td>8</td>\n",
       "      <td>2</td>\n",
       "      <td>1.366491</td>\n",
       "    </tr>\n",
       "    <tr>\n",
       "      <th>788</th>\n",
       "      <td>0</td>\n",
       "      <td>3</td>\n",
       "      <td>1</td>\n",
       "      <td>-0.599704</td>\n",
       "      <td>8</td>\n",
       "      <td>2</td>\n",
       "      <td>1.366491</td>\n",
       "    </tr>\n",
       "    <tr>\n",
       "      <th>842</th>\n",
       "      <td>0</td>\n",
       "      <td>3</td>\n",
       "      <td>0</td>\n",
       "      <td>-0.814806</td>\n",
       "      <td>8</td>\n",
       "      <td>2</td>\n",
       "      <td>1.366491</td>\n",
       "    </tr>\n",
       "    <tr>\n",
       "      <th>859</th>\n",
       "      <td>0</td>\n",
       "      <td>3</td>\n",
       "      <td>1</td>\n",
       "      <td>-1.101607</td>\n",
       "      <td>8</td>\n",
       "      <td>2</td>\n",
       "      <td>1.366491</td>\n",
       "    </tr>\n",
       "  </tbody>\n",
       "</table>\n",
       "</div>"
      ],
      "text/plain": [
       "     Survived  Pclass  Sex       Age  Siblings/Spouses Aboard  \\\n",
       "158         0       3    0 -1.746911                        8   \n",
       "179         0       3    1 -1.531809                        8   \n",
       "200         0       3    0 -0.886506                        8   \n",
       "322         0       3    0 -0.671405                        8   \n",
       "788         0       3    1 -0.599704                        8   \n",
       "842         0       3    0 -0.814806                        8   \n",
       "859         0       3    1 -1.101607                        8   \n",
       "\n",
       "     Parents/Children Aboard      Fare  \n",
       "158                        2  1.366491  \n",
       "179                        2  1.366491  \n",
       "200                        2  1.366491  \n",
       "322                        2  1.366491  \n",
       "788                        2  1.366491  \n",
       "842                        2  1.366491  \n",
       "859                        2  1.366491  "
      ]
     },
     "execution_count": 105,
     "metadata": {},
     "output_type": "execute_result"
    }
   ],
   "source": [
    "data[data['Siblings/Spouses Aboard'] == 8]"
   ]
  },
  {
   "cell_type": "code",
   "execution_count": 106,
   "metadata": {},
   "outputs": [
    {
     "data": {
      "text/plain": [
       "<seaborn.axisgrid.FacetGrid at 0x175c5d300>"
      ]
     },
     "execution_count": 106,
     "metadata": {},
     "output_type": "execute_result"
    },
    {
     "data": {
      "image/png": "[encoded data removed]",
      "text/plain": [
       "<Figure size 558.875x500 with 1 Axes>"
      ]
     },
     "metadata": {},
     "output_type": "display_data"
    }
   ],
   "source": [
    "sns.displot(data, x='Fare', hue='Pclass', palette=sns.color_palette(n_colors=3))"
   ]
  },
  {
   "attachments": {},
   "cell_type": "markdown",
   "metadata": {},
   "source": [
    "#### Skalovanie hodnot stlpca 'Fare' do rozsahu (0, 1)"
   ]
  },
  {
   "cell_type": "code",
   "execution_count": 107,
   "metadata": {},
   "outputs": [
    {
     "data": {
      "text/plain": [
       "count    8.820000e+02\n",
       "mean    -3.021015e-16\n",
       "std      1.000567e+00\n",
       "min     -3.100566e+00\n",
       "25%     -8.033369e-01\n",
       "50%     -2.271297e-01\n",
       "75%      5.367622e-01\n",
       "max      2.751454e+00\n",
       "Name: Fare, dtype: float64"
      ]
     },
     "execution_count": 107,
     "metadata": {},
     "output_type": "execute_result"
    }
   ],
   "source": [
    "data['Fare'].describe()"
   ]
  },
  {
   "cell_type": "code",
   "execution_count": 108,
   "metadata": {},
   "outputs": [
    {
     "data": {
      "text/plain": [
       "<AxesSubplot: xlabel='Fare', ylabel='Density'>"
      ]
     },
     "execution_count": 108,
     "metadata": {},
     "output_type": "execute_result"
    },
    {
     "data": {
      "image/png": "[encoded data removed]",
      "text/plain": [
       "<Figure size 640x480 with 1 Axes>"
      ]
     },
     "metadata": {},
     "output_type": "display_data"
    }
   ],
   "source": [
    "sns.kdeplot(data['Fare'])"
   ]
  },
  {
   "cell_type": "code",
   "execution_count": 109,
   "metadata": {},
   "outputs": [
    {
     "data": {
      "text/plain": [
       "<seaborn.axisgrid.FacetGrid at 0x17518d8a0>"
      ]
     },
     "execution_count": 109,
     "metadata": {},
     "output_type": "execute_result"
    },
    {
     "data": {
      "image/png": "[encoded data removed]",
      "text/plain": [
       "<Figure size 558.875x500 with 1 Axes>"
      ]
     },
     "metadata": {},
     "output_type": "display_data"
    }
   ],
   "source": [
    "sns.displot(data, x='Fare', hue='Pclass', palette=sns.color_palette(n_colors=3))"
   ]
  },
  {
   "cell_type": "code",
   "execution_count": 110,
   "metadata": {},
   "outputs": [
    {
     "data": {
      "text/plain": [
       "697    2.600006\n",
       "554    2.600006\n",
       "297    2.688040\n",
       "117    2.688040\n",
       "738    2.748966\n",
       "309    2.748966\n",
       "339    2.751454\n",
       "87     2.751454\n",
       "27     2.751454\n",
       "435    2.751454\n",
       "Name: Fare, dtype: float64"
      ]
     },
     "execution_count": 110,
     "metadata": {},
     "output_type": "execute_result"
    }
   ],
   "source": [
    "data['Fare'].sort_values().tail(10)"
   ]
  },
  {
   "cell_type": "code",
   "execution_count": 111,
   "metadata": {},
   "outputs": [],
   "source": [
    "data = data[data['Fare'] < 500]"
   ]
  },
  {
   "cell_type": "code",
   "execution_count": 112,
   "metadata": {},
   "outputs": [
    {
     "data": {
      "text/plain": [
       "<seaborn.axisgrid.FacetGrid at 0x175e891b0>"
      ]
     },
     "execution_count": 112,
     "metadata": {},
     "output_type": "execute_result"
    },
    {
     "data": {
      "image/png": "[encoded data removed]",
      "text/plain": [
       "<Figure size 558.875x500 with 1 Axes>"
      ]
     },
     "metadata": {},
     "output_type": "display_data"
    }
   ],
   "source": [
    "sns.displot(data, x='Fare', hue='Pclass', palette=sns.color_palette(n_colors=3))"
   ]
  },
  {
   "cell_type": "code",
   "execution_count": 113,
   "metadata": {},
   "outputs": [],
   "source": [
    "scaler = MinMaxScaler()\n",
    "data['Fare'] = scaler.fit_transform(data['Fare'].values.reshape(-1,1))"
   ]
  },
  {
   "cell_type": "code",
   "execution_count": 114,
   "metadata": {},
   "outputs": [
    {
     "data": {
      "text/plain": [
       "count    882.000000\n",
       "mean       0.529828\n",
       "std        0.170978\n",
       "min        0.000000\n",
       "25%        0.392553\n",
       "50%        0.491016\n",
       "75%        0.621551\n",
       "max        1.000000\n",
       "Name: Fare, dtype: float64"
      ]
     },
     "execution_count": 114,
     "metadata": {},
     "output_type": "execute_result"
    }
   ],
   "source": [
    "data['Fare'].describe()"
   ]
  },
  {
   "cell_type": "code",
   "execution_count": 115,
   "metadata": {},
   "outputs": [
    {
     "data": {
      "text/plain": [
       "<seaborn.axisgrid.FacetGrid at 0x176060130>"
      ]
     },
     "execution_count": 115,
     "metadata": {},
     "output_type": "execute_result"
    },
    {
     "data": {
      "image/png": "[encoded data removed]",
      "text/plain": [
       "<Figure size 558.875x500 with 1 Axes>"
      ]
     },
     "metadata": {},
     "output_type": "display_data"
    }
   ],
   "source": [
    "sns.displot(data, x='Fare', hue='Pclass', palette=sns.color_palette(n_colors=3))"
   ]
  },
  {
   "attachments": {},
   "cell_type": "markdown",
   "metadata": {},
   "source": [
    "#### Normalizacia stlpca 'Fare' pomocou mean a variance "
   ]
  },
  {
   "cell_type": "code",
   "execution_count": 116,
   "metadata": {},
   "outputs": [
    {
     "name": "stdout",
     "output_type": "stream",
     "text": [
      "mean: 0.5298282975284467\n",
      "variance: 0.02923352117947708\n"
     ]
    }
   ],
   "source": [
    "fare_mean = data['Fare'].mean()\n",
    "fare_variance = data['Fare'].var()\n",
    "\n",
    "print(f\"mean: {fare_mean}\")\n",
    "print(f\"variance: {fare_variance}\")"
   ]
  },
  {
   "cell_type": "code",
   "execution_count": 117,
   "metadata": {},
   "outputs": [],
   "source": [
    "data['Fare'] = data['Fare'] - fare_mean\n",
    "data['Fare'] = data['Fare'] / fare_variance"
   ]
  },
  {
   "cell_type": "code",
   "execution_count": 118,
   "metadata": {},
   "outputs": [
    {
     "name": "stdout",
     "output_type": "stream",
     "text": [
      "mean: -1.627320097772565e-15\n",
      "variance: 34.20730584798761\n"
     ]
    }
   ],
   "source": [
    "fare_mean = data['Fare'].mean()\n",
    "fare_variance = data['Fare'].var()\n",
    "\n",
    "print(f\"mean: {fare_mean}\")\n",
    "print(f\"variance: {fare_variance}\")"
   ]
  },
  {
   "cell_type": "code",
   "execution_count": 119,
   "metadata": {},
   "outputs": [
    {
     "data": {
      "text/plain": [
       "<AxesSubplot: xlabel='Fare', ylabel='Density'>"
      ]
     },
     "execution_count": 119,
     "metadata": {},
     "output_type": "execute_result"
    },
    {
     "data": {
      "image/png": "[encoded data removed]",
      "text/plain": [
       "<Figure size 640x480 with 1 Axes>"
      ]
     },
     "metadata": {},
     "output_type": "display_data"
    }
   ],
   "source": [
    "sns.kdeplot(data['Fare'])"
   ]
  },
  {
   "attachments": {},
   "cell_type": "markdown",
   "metadata": {},
   "source": [
    "## Zobrazenie dat po ukonceni predspracovania"
   ]
  },
  {
   "cell_type": "code",
   "execution_count": 120,
   "metadata": {},
   "outputs": [
    {
     "data": {
      "text/html": [
       "<div>\n",
       "<style scoped>\n",
       "    .dataframe tbody tr th:only-of-type {\n",
       "        vertical-align: middle;\n",
       "    }\n",
       "\n",
       "    .dataframe tbody tr th {\n",
       "        vertical-align: top;\n",
       "    }\n",
       "\n",
       "    .dataframe thead th {\n",
       "        text-align: right;\n",
       "    }\n",
       "</style>\n",
       "<table border=\"1\" class=\"dataframe\">\n",
       "  <thead>\n",
       "    <tr style=\"text-align: right;\">\n",
       "      <th></th>\n",
       "      <th>Survived</th>\n",
       "      <th>Pclass</th>\n",
       "      <th>Sex</th>\n",
       "      <th>Age</th>\n",
       "      <th>Siblings/Spouses Aboard</th>\n",
       "      <th>Parents/Children Aboard</th>\n",
       "      <th>Fare</th>\n",
       "    </tr>\n",
       "  </thead>\n",
       "  <tbody>\n",
       "    <tr>\n",
       "      <th>0</th>\n",
       "      <td>0</td>\n",
       "      <td>3</td>\n",
       "      <td>0</td>\n",
       "      <td>-0.528004</td>\n",
       "      <td>1</td>\n",
       "      <td>0</td>\n",
       "      <td>-5.178273</td>\n",
       "    </tr>\n",
       "    <tr>\n",
       "      <th>1</th>\n",
       "      <td>1</td>\n",
       "      <td>1</td>\n",
       "      <td>1</td>\n",
       "      <td>0.619202</td>\n",
       "      <td>1</td>\n",
       "      <td>0</td>\n",
       "      <td>8.136564</td>\n",
       "    </tr>\n",
       "    <tr>\n",
       "      <th>2</th>\n",
       "      <td>1</td>\n",
       "      <td>3</td>\n",
       "      <td>1</td>\n",
       "      <td>-0.241203</td>\n",
       "      <td>0</td>\n",
       "      <td>0</td>\n",
       "      <td>-4.695813</td>\n",
       "    </tr>\n",
       "    <tr>\n",
       "      <th>3</th>\n",
       "      <td>1</td>\n",
       "      <td>1</td>\n",
       "      <td>1</td>\n",
       "      <td>0.404101</td>\n",
       "      <td>1</td>\n",
       "      <td>0</td>\n",
       "      <td>6.358952</td>\n",
       "    </tr>\n",
       "    <tr>\n",
       "      <th>4</th>\n",
       "      <td>0</td>\n",
       "      <td>3</td>\n",
       "      <td>0</td>\n",
       "      <td>0.404101</td>\n",
       "      <td>0</td>\n",
       "      <td>0</td>\n",
       "      <td>-4.610488</td>\n",
       "    </tr>\n",
       "    <tr>\n",
       "      <th>5</th>\n",
       "      <td>0</td>\n",
       "      <td>3</td>\n",
       "      <td>0</td>\n",
       "      <td>-0.169502</td>\n",
       "      <td>0</td>\n",
       "      <td>0</td>\n",
       "      <td>-4.339772</td>\n",
       "    </tr>\n",
       "    <tr>\n",
       "      <th>6</th>\n",
       "      <td>0</td>\n",
       "      <td>1</td>\n",
       "      <td>0</td>\n",
       "      <td>1.766408</td>\n",
       "      <td>0</td>\n",
       "      <td>0</td>\n",
       "      <td>6.216993</td>\n",
       "    </tr>\n",
       "    <tr>\n",
       "      <th>7</th>\n",
       "      <td>0</td>\n",
       "      <td>3</td>\n",
       "      <td>0</td>\n",
       "      <td>-1.962012</td>\n",
       "      <td>3</td>\n",
       "      <td>1</td>\n",
       "      <td>0.859792</td>\n",
       "    </tr>\n",
       "    <tr>\n",
       "      <th>8</th>\n",
       "      <td>1</td>\n",
       "      <td>3</td>\n",
       "      <td>1</td>\n",
       "      <td>-0.169502</td>\n",
       "      <td>0</td>\n",
       "      <td>2</td>\n",
       "      <td>-2.811834</td>\n",
       "    </tr>\n",
       "    <tr>\n",
       "      <th>9</th>\n",
       "      <td>1</td>\n",
       "      <td>2</td>\n",
       "      <td>1</td>\n",
       "      <td>-1.101607</td>\n",
       "      <td>1</td>\n",
       "      <td>0</td>\n",
       "      <td>2.956805</td>\n",
       "    </tr>\n",
       "  </tbody>\n",
       "</table>\n",
       "</div>"
      ],
      "text/plain": [
       "   Survived  Pclass  Sex       Age  Siblings/Spouses Aboard  \\\n",
       "0         0       3    0 -0.528004                        1   \n",
       "1         1       1    1  0.619202                        1   \n",
       "2         1       3    1 -0.241203                        0   \n",
       "3         1       1    1  0.404101                        1   \n",
       "4         0       3    0  0.404101                        0   \n",
       "5         0       3    0 -0.169502                        0   \n",
       "6         0       1    0  1.766408                        0   \n",
       "7         0       3    0 -1.962012                        3   \n",
       "8         1       3    1 -0.169502                        0   \n",
       "9         1       2    1 -1.101607                        1   \n",
       "\n",
       "   Parents/Children Aboard      Fare  \n",
       "0                        0 -5.178273  \n",
       "1                        0  8.136564  \n",
       "2                        0 -4.695813  \n",
       "3                        0  6.358952  \n",
       "4                        0 -4.610488  \n",
       "5                        0 -4.339772  \n",
       "6                        0  6.216993  \n",
       "7                        1  0.859792  \n",
       "8                        2 -2.811834  \n",
       "9                        0  2.956805  "
      ]
     },
     "execution_count": 120,
     "metadata": {},
     "output_type": "execute_result"
    }
   ],
   "source": [
    "data.head(10)"
   ]
  }
 ],
 "metadata": {
  "kernelspec": {
   "display_name": "ns-env",
   "language": "python",
   "name": "python3"
  },
  "language_info": {
   "codemirror_mode": {
    "name": "ipython",
    "version": 3
   },
   "file_extension": ".py",
   "mimetype": "text/x-python",
   "name": "python",
   "nbconvert_exporter": "python",
   "pygments_lexer": "ipython3",
   "version": "3.10.9"
  },
  "orig_nbformat": 4
 },
 "nbformat": 4,
 "nbformat_minor": 2
}
